{
 "cells": [
  {
   "cell_type": "markdown",
   "metadata": {},
   "source": [
    "# DATA 620 - Final Project\n",
    "\n",
    "Jeremy OBrien, Mael Illien, Vanita Thompson\n",
    "\n",
    "## Topic Networks"
   ]
  },
  {
   "cell_type": "markdown",
   "metadata": {},
   "source": [
    "### Introduction\n",
    "\n",
    "A powerful analytical application of NLP is topic modeling, which identifies the themes present in a corpus comprised of multiple documents based on the words in those documents. Because it can be used to uncover the thematic structure in documents, topic modeling has an array of applications in information retrieval and document mining.\n",
    "\n",
    "Topics are 'probability distributions over a fixed vocabulary'. An overview of topic modeling and its current applications in bioinformatics, and it's common to use probabilistic generative models derived from LDA (Latent Dirichlet Allocation) to model in an unsupervised fashion the latent semantic structure of documents. Topic models can be tuned and optimized in a variety of ways, including improving how topics are segregated from each other and calibrating for a useful number of topics.\n",
    "\n",
    "### Research Question\n",
    "We will combine techniques from topic modeling and network analysis to address this question.\n",
    "\n",
    "Given a text corpus comprised of multiple documents, what are the topics of those documents and how are the documents thematically related to one another?\n",
    "\n",
    "### Approach\n",
    "- Leverage the Reuters news corpus of nearly 11,000 articles (labeled with at least one category each; unfortunately, authorship is not labeled)\n",
    "- Using the NLTK, Spacy, and Gensim packages, implement and tune an unsupervised LDA-based topic model (i.e. without reference to the provided article topic labels)\n",
    "- Analyze model perplexity and coherence, overall topic prevalence, and topic distribution across articles\n",
    "- Generate a bipartite, weighted (likely on coherence) graph of articles and topics, and analyze its topology to identify relationships between topics"
   ]
  },
  {
   "cell_type": "markdown",
   "metadata": {},
   "source": [
    "## Setup"
   ]
  },
  {
   "cell_type": "code",
   "execution_count": 1,
   "metadata": {},
   "outputs": [],
   "source": [
    "import re\n",
    "import random\n",
    "import numpy as np\n",
    "import pandas as pd\n",
    "from pprint import pprint\n",
    "\n",
    "np.random.seed(12321)\n",
    "\n",
    "import nltk\n",
    "from nltk.corpus import stopwords\n",
    "from nltk.corpus import reuters\n",
    "\n",
    "import spacy  # need to install\n",
    "\n",
    "import gensim  # need to install\n",
    "import gensim.corpora as corpora\n",
    "from gensim.utils import simple_preprocess\n",
    "from gensim.models import CoherenceModel\n",
    "import logging\n",
    "logging.basicConfig(format='%(asctime)s : %(levelname)s : %(message)s', level=logging.ERROR)\n",
    "# warnings.filterwarnings('ignore', category=DeprecationWarning)\n",
    "\n",
    "import pyLDAvis\n",
    "import pyLDAvis.gensim\n",
    "import matplotlib.pyplot as plt\n",
    "%matplotlib inline"
   ]
  },
  {
   "cell_type": "markdown",
   "metadata": {},
   "source": [
    "## Data Import & Processing"
   ]
  },
  {
   "cell_type": "markdown",
   "metadata": {},
   "source": [
    "### Data import and preliminary EDA"
   ]
  },
  {
   "cell_type": "code",
   "execution_count": 2,
   "metadata": {},
   "outputs": [
    {
     "data": {
      "text/plain": [
       "['the', 'shipment', 'was', 'for', 'April', '8', 'to', '20', 'delivery', '.']"
      ]
     },
     "execution_count": 2,
     "metadata": {},
     "output_type": "execute_result"
    }
   ],
   "source": [
    "# NLTK Reuters corpus test\n",
    "from nltk.corpus import reuters\n",
    "reuters.fileids()\n",
    "reuters.words('test/14841')[-10:]"
   ]
  },
  {
   "cell_type": "markdown",
   "metadata": {},
   "source": [
    "Here are 25 sampled categoies from the Reuters corpus. These correspond to themes/topics assigned to documents in the corpus and are essentially labels for the articles."
   ]
  },
  {
   "cell_type": "code",
   "execution_count": 3,
   "metadata": {},
   "outputs": [
    {
     "data": {
      "text/plain": [
       "['oat',\n",
       " 'gas',\n",
       " 'palmkernel',\n",
       " 'palladium',\n",
       " 'rape-oil',\n",
       " 'orange',\n",
       " 'wheat',\n",
       " 'nat-gas',\n",
       " 'sorghum',\n",
       " 'cpu',\n",
       " 'groundnut-oil',\n",
       " 'housing',\n",
       " 'soybean',\n",
       " 'corn',\n",
       " 'ipi',\n",
       " 'fuel',\n",
       " 'rand',\n",
       " 'barley',\n",
       " 'jet',\n",
       " 'palmkernel',\n",
       " 'pet-chem',\n",
       " 'orange',\n",
       " 'soy-meal',\n",
       " 'coffee',\n",
       " 'money-fx']"
      ]
     },
     "execution_count": 3,
     "metadata": {},
     "output_type": "execute_result"
    }
   ],
   "source": [
    "# Remove\n",
    "random.choices(reuters.categories(),k=25)"
   ]
  },
  {
   "cell_type": "code",
   "execution_count": 4,
   "metadata": {},
   "outputs": [],
   "source": [
    "# Adjust to generate dataframe directly from nltk corpus\n",
    "# https://stackoverflow.com/questions/46109166/converting-categorizedplaintextcorpusreader-into-dataframe\n",
    "news = []\n",
    "for fileid in reuters.fileids():\n",
    "    tag, filename = fileid.split('/')\n",
    "    news.append((filename, tag, reuters.categories(fileid), reuters.raw(fileid)))\n",
    "\n",
    "df = pd.DataFrame(news, columns=['filename', 'tag', 'categories','text'])"
   ]
  },
  {
   "cell_type": "code",
   "execution_count": 5,
   "metadata": {},
   "outputs": [
    {
     "data": {
      "text/html": [
       "<div>\n",
       "<style scoped>\n",
       "    .dataframe tbody tr th:only-of-type {\n",
       "        vertical-align: middle;\n",
       "    }\n",
       "\n",
       "    .dataframe tbody tr th {\n",
       "        vertical-align: top;\n",
       "    }\n",
       "\n",
       "    .dataframe thead th {\n",
       "        text-align: right;\n",
       "    }\n",
       "</style>\n",
       "<table border=\"1\" class=\"dataframe\">\n",
       "  <thead>\n",
       "    <tr style=\"text-align: right;\">\n",
       "      <th></th>\n",
       "      <th>filename</th>\n",
       "      <th>tag</th>\n",
       "      <th>categories</th>\n",
       "      <th>text</th>\n",
       "    </tr>\n",
       "  </thead>\n",
       "  <tbody>\n",
       "    <tr>\n",
       "      <th>0</th>\n",
       "      <td>14826</td>\n",
       "      <td>test</td>\n",
       "      <td>[trade]</td>\n",
       "      <td>ASIAN EXPORTERS FEAR DAMAGE FROM U.S.-JAPAN RI...</td>\n",
       "    </tr>\n",
       "    <tr>\n",
       "      <th>1</th>\n",
       "      <td>14828</td>\n",
       "      <td>test</td>\n",
       "      <td>[grain]</td>\n",
       "      <td>CHINA DAILY SAYS VERMIN EAT 7-12 PCT GRAIN STO...</td>\n",
       "    </tr>\n",
       "    <tr>\n",
       "      <th>2</th>\n",
       "      <td>14829</td>\n",
       "      <td>test</td>\n",
       "      <td>[crude, nat-gas]</td>\n",
       "      <td>JAPAN TO REVISE LONG-TERM ENERGY DEMAND DOWNWA...</td>\n",
       "    </tr>\n",
       "    <tr>\n",
       "      <th>3</th>\n",
       "      <td>14832</td>\n",
       "      <td>test</td>\n",
       "      <td>[corn, grain, rice, rubber, sugar, tin, trade]</td>\n",
       "      <td>THAI TRADE DEFICIT WIDENS IN FIRST QUARTER\\n  ...</td>\n",
       "    </tr>\n",
       "    <tr>\n",
       "      <th>4</th>\n",
       "      <td>14833</td>\n",
       "      <td>test</td>\n",
       "      <td>[palm-oil, veg-oil]</td>\n",
       "      <td>INDONESIA SEES CPO PRICE RISING SHARPLY\\n  Ind...</td>\n",
       "    </tr>\n",
       "    <tr>\n",
       "      <th>...</th>\n",
       "      <td>...</td>\n",
       "      <td>...</td>\n",
       "      <td>...</td>\n",
       "      <td>...</td>\n",
       "    </tr>\n",
       "    <tr>\n",
       "      <th>10783</th>\n",
       "      <td>999</td>\n",
       "      <td>training</td>\n",
       "      <td>[interest, money-fx]</td>\n",
       "      <td>U.K. MONEY MARKET SHORTAGE FORECAST REVISED DO...</td>\n",
       "    </tr>\n",
       "    <tr>\n",
       "      <th>10784</th>\n",
       "      <td>9992</td>\n",
       "      <td>training</td>\n",
       "      <td>[earn]</td>\n",
       "      <td>KNIGHT-RIDDER INC &amp;lt;KRN&gt; SETS QUARTERLY\\n  Q...</td>\n",
       "    </tr>\n",
       "    <tr>\n",
       "      <th>10785</th>\n",
       "      <td>9993</td>\n",
       "      <td>training</td>\n",
       "      <td>[earn]</td>\n",
       "      <td>TECHNITROL INC &amp;lt;TNL&gt; SETS QUARTERLY\\n  Qtly...</td>\n",
       "    </tr>\n",
       "    <tr>\n",
       "      <th>10786</th>\n",
       "      <td>9994</td>\n",
       "      <td>training</td>\n",
       "      <td>[earn]</td>\n",
       "      <td>NATIONWIDE CELLULAR SERVICE INC &amp;lt;NCEL&gt; 4TH ...</td>\n",
       "    </tr>\n",
       "    <tr>\n",
       "      <th>10787</th>\n",
       "      <td>9995</td>\n",
       "      <td>training</td>\n",
       "      <td>[earn]</td>\n",
       "      <td>&amp;lt;A.H.A. AUTOMOTIVE TECHNOLOGIES CORP&gt; YEAR ...</td>\n",
       "    </tr>\n",
       "  </tbody>\n",
       "</table>\n",
       "<p>10788 rows × 4 columns</p>\n",
       "</div>"
      ],
      "text/plain": [
       "      filename       tag                                      categories  \\\n",
       "0        14826      test                                         [trade]   \n",
       "1        14828      test                                         [grain]   \n",
       "2        14829      test                                [crude, nat-gas]   \n",
       "3        14832      test  [corn, grain, rice, rubber, sugar, tin, trade]   \n",
       "4        14833      test                             [palm-oil, veg-oil]   \n",
       "...        ...       ...                                             ...   \n",
       "10783      999  training                            [interest, money-fx]   \n",
       "10784     9992  training                                          [earn]   \n",
       "10785     9993  training                                          [earn]   \n",
       "10786     9994  training                                          [earn]   \n",
       "10787     9995  training                                          [earn]   \n",
       "\n",
       "                                                    text  \n",
       "0      ASIAN EXPORTERS FEAR DAMAGE FROM U.S.-JAPAN RI...  \n",
       "1      CHINA DAILY SAYS VERMIN EAT 7-12 PCT GRAIN STO...  \n",
       "2      JAPAN TO REVISE LONG-TERM ENERGY DEMAND DOWNWA...  \n",
       "3      THAI TRADE DEFICIT WIDENS IN FIRST QUARTER\\n  ...  \n",
       "4      INDONESIA SEES CPO PRICE RISING SHARPLY\\n  Ind...  \n",
       "...                                                  ...  \n",
       "10783  U.K. MONEY MARKET SHORTAGE FORECAST REVISED DO...  \n",
       "10784  KNIGHT-RIDDER INC &lt;KRN> SETS QUARTERLY\\n  Q...  \n",
       "10785  TECHNITROL INC &lt;TNL> SETS QUARTERLY\\n  Qtly...  \n",
       "10786  NATIONWIDE CELLULAR SERVICE INC &lt;NCEL> 4TH ...  \n",
       "10787  &lt;A.H.A. AUTOMOTIVE TECHNOLOGIES CORP> YEAR ...  \n",
       "\n",
       "[10788 rows x 4 columns]"
      ]
     },
     "execution_count": 5,
     "metadata": {},
     "output_type": "execute_result"
    }
   ],
   "source": [
    "# hide tag column\n",
    "df"
   ]
  },
  {
   "cell_type": "code",
   "execution_count": 6,
   "metadata": {},
   "outputs": [],
   "source": [
    "# Output with print\n",
    "# Describe shape of data\n",
    "\n",
    "# 10,788 separate cases (news articles)\n",
    "# df.shape\n",
    "# len(df.filename.unique())\n",
    "\n",
    "# Each case is tagged as either train or test\n",
    "# df.tag.unique()\n",
    "\n",
    "# There are 10,657 articles with distinct text body - so 131 duplicates\n",
    "# len(df.text.unique())\n",
    "\n",
    "# Check the text body of duplicates (except for first instance)\n",
    "# print(df[df.text.duplicated('first')])\n",
    "\n",
    "# JO: Evaluate cause and consider case for removal\n",
    "# MI: I checked with some of the indexes and found no overlap. See below"
   ]
  },
  {
   "cell_type": "code",
   "execution_count": 7,
   "metadata": {},
   "outputs": [],
   "source": [
    "#print(df[df.text.duplicated('first')])"
   ]
  },
  {
   "cell_type": "markdown",
   "metadata": {},
   "source": [
    "### Data cleaning and deduplication"
   ]
  },
  {
   "cell_type": "code",
   "execution_count": 8,
   "metadata": {},
   "outputs": [
    {
     "name": "stdout",
     "output_type": "stream",
     "text": [
      "('G-7 ISSUES STATEMENT AFTER MEETING Following is the text of a statement by '\n",
      " 'the Group of Seven -- the U.S., Japan, West Germany, France, Britain, Italy '\n",
      " 'and Canada -- issued after a Washington meeting yesterday. 1. The finance '\n",
      " 'ministers and central bank governors of seven major industrial countries met '\n",
      " 'today. They continued the process of multilateral surveillance of their '\n",
      " 'economies pursuant to the arrangements for strengthened economic policy '\n",
      " 'coordination agreed at the 1986 Tokyo summit of their heads of state or '\n",
      " 'government. The managing director of the International Monetary Fund also '\n",
      " 'participated in the meeting. 2. The ministers and governors reaffirmed the '\n",
      " 'commitment to the cooperative approach agreed at the recent Paris meeting, '\n",
      " 'and noted the progress achieved in implementing the undertakings embodied in '\n",
      " 'the Louvre Agreement. They agreed, however, that further actions will be '\n",
      " 'essential to resist rising protectionist pressures, sustain global economic '\n",
      " 'expansion, and reduce trade imba')\n"
     ]
    }
   ],
   "source": [
    "# Convert to list\n",
    "data = df['text'].values.tolist()\n",
    "\n",
    "# Remove new line characters\n",
    "data = [re.sub(r'\\s+', ' ', sent) for sent in data]\n",
    "\n",
    "# Remove distracting single quotes\n",
    "data = [re.sub(r\"\\'\", \"\", sent) for sent in data]\n",
    "\n",
    "pprint(data[330][:1000])"
   ]
  },
  {
   "cell_type": "code",
   "execution_count": 9,
   "metadata": {},
   "outputs": [
    {
     "name": "stdout",
     "output_type": "stream",
     "text": [
      "('JAPAN BUSINESS LEADERS SAY G-7 ACCORD IS WORRYING The leaders of two of '\n",
      " 'Japans top business groups said in separate statements the Group of Seven '\n",
      " '(G-7) accord reached in Washington yesterday is of deep concern to Japan '\n",
      " 'because it shows the major industrial nations regard the yens current level '\n",
      " 'as appropriate. Eishiro Saito, chairman of the Federation of Economic '\n",
      " 'Organizations (Keidanren), said the yens present rate is well above adequate '\n",
      " 'levels. He did not elaborate. Takashi Ishihara, chairman of the Japan '\n",
      " 'Committee for Economic Development, said the accord will not prevent the yen '\n",
      " 'from rising further. \"We do not understand why the G-7 approved present '\n",
      " 'rates as the yen has risen excessively since the Paris accord,\" Ishihara '\n",
      " 'said. G-7 members Britain, Canada, France, Italy, Japan, the U.S. And West '\n",
      " 'Germany said in a statement they consider their currencies are now within '\n",
      " 'ranges broadly consistent with economic fundamentals. Saito called on each '\n",
      " 'G-7 member nation to prepare to intervene ')\n"
     ]
    }
   ],
   "source": [
    "# only one example\n",
    "pprint(data[333][:1000])"
   ]
  },
  {
   "cell_type": "markdown",
   "metadata": {},
   "source": [
    "### Text preparation and feature engineering"
   ]
  },
  {
   "cell_type": "code",
   "execution_count": 10,
   "metadata": {},
   "outputs": [
    {
     "name": "stdout",
     "output_type": "stream",
     "text": [
      "['asian', 'exporters', 'fear', 'damage', 'from', 'japan', 'rift', 'mounting', 'trade', 'friction', 'between', 'the', 'and', 'japan', 'has', 'raised', 'fears', 'among', 'many', 'of', 'asias', 'exporting', 'nations', 'that', 'the', 'row', 'could', 'inflict', 'far', 'reaching', 'economic', 'damage', 'businessmen', 'and', 'officials', 'said', 'they', 'told', 'reuter', 'correspondents', 'in', 'asian', 'capitals', 'move', 'against', 'japan', 'might', 'boost', 'protectionist', 'sentiment', 'in', 'the', 'and', 'lead', 'to', 'curbs', 'on', 'american', 'imports', 'of', 'their', 'products', 'but', 'some', 'exporters', 'said', 'that', 'while', 'the', 'conflict', 'would', 'hurt', 'them', 'in', 'the', 'long', 'run', 'in', 'the', 'short', 'term', 'tokyos', 'loss', 'might', 'be', 'their', 'gain', 'the', 'has', 'said', 'it', 'will', 'impose', 'mln', 'dlrs', 'of', 'tariffs', 'on', 'imports', 'of', 'japanese', 'electronics', 'goods', 'on', 'april', 'in', 'retaliation', 'for', 'japans', 'alleged', 'failure', 'to', 'stick', 'to', 'pact', 'not', 'to', 'sell', 'semiconductors', 'on', 'world', 'markets', 'at', 'below', 'cost', 'unofficial', 'japanese', 'estimates', 'put', 'the', 'impact', 'of', 'the', 'tariffs', 'at', 'billion', 'dlrs', 'and', 'spokesmen', 'for', 'major', 'electronics', 'firms', 'said', 'they', 'would', 'virtually', 'halt', 'exports', 'of', 'products', 'hit', 'by', 'the', 'new', 'taxes', 'we', 'wouldnt', 'be', 'able', 'to', 'do', 'business', 'said', 'spokesman', 'for', 'leading', 'japanese', 'electronics', 'firm', 'matsushita', 'electric', 'industrial', 'co', 'ltd', 'lt', 'mc', 'if', 'the', 'tariffs', 'remain', 'in', 'place', 'for', 'any', 'length', 'of', 'time', 'beyond', 'few', 'months', 'it', 'will', 'mean', 'the', 'complete', 'erosion', 'of', 'exports', 'of', 'goods', 'subject', 'to', 'tariffs', 'to', 'the', 'said', 'tom', 'murtha', 'stock', 'analyst', 'at', 'the', 'tokyo', 'office', 'of', 'broker', 'lt', 'james', 'capel', 'and', 'co', 'in', 'taiwan', 'businessmen', 'and', 'officials', 'are', 'also', 'worried', 'we', 'are', 'aware', 'of', 'the', 'seriousness', 'of', 'the', 'threat', 'against', 'japan', 'because', 'it', 'serves', 'as', 'warning', 'to', 'us', 'said', 'senior', 'taiwanese', 'trade', 'official', 'who', 'asked', 'not', 'to', 'be', 'named', 'taiwan', 'had', 'trade', 'trade', 'surplus', 'of', 'billion', 'dlrs', 'last', 'year', 'pct', 'of', 'it', 'with', 'the', 'the', 'surplus', 'helped', 'swell', 'taiwans', 'foreign', 'exchange', 'reserves', 'to', 'billion', 'dlrs', 'among', 'the', 'worlds', 'largest', 'we', 'must', 'quickly', 'open', 'our', 'markets', 'remove', 'trade', 'barriers', 'and', 'cut', 'import', 'tariffs', 'to', 'allow', 'imports', 'of', 'products', 'if', 'we', 'want', 'to', 'defuse', 'problems', 'from', 'possible', 'retaliation', 'said', 'paul', 'sheen', 'chairman', 'of', 'textile', 'exporters', 'lt', 'taiwan', 'safe', 'group', 'senior', 'official', 'of', 'south', 'koreas', 'trade', 'promotion', 'association', 'said', 'the', 'trade', 'dispute', 'between', 'the', 'and', 'japan', 'might', 'also', 'lead', 'to', 'pressure', 'on', 'south', 'korea', 'whose', 'chief', 'exports', 'are', 'similar', 'to', 'those', 'of', 'japan', 'last', 'year', 'south', 'korea', 'had', 'trade', 'surplus', 'of', 'billion', 'dlrs', 'with', 'the', 'up', 'from', 'billion', 'dlrs', 'in', 'in', 'malaysia', 'trade', 'officers', 'and', 'businessmen', 'said', 'tough', 'curbs', 'against', 'japan', 'might', 'allow', 'hard', 'hit', 'producers', 'of', 'semiconductors', 'in', 'third', 'countries', 'to', 'expand', 'their', 'sales', 'to', 'the', 'in', 'hong', 'kong', 'where', 'newspapers', 'have', 'alleged', 'japan', 'has', 'been', 'selling', 'below', 'cost', 'semiconductors', 'some', 'electronics', 'manufacturers', 'share', 'that', 'view', 'but', 'other', 'businessmen', 'said', 'such', 'short', 'term', 'commercial', 'advantage', 'would', 'be', 'outweighed', 'by', 'further', 'pressure', 'to', 'block', 'imports', 'that', 'is', 'very', 'short', 'term', 'view', 'said', 'lawrence', 'mills', 'director', 'general', 'of', 'the', 'federation', 'of', 'hong', 'kong', 'industry', 'if', 'the', 'whole', 'purpose', 'is', 'to', 'prevent', 'imports', 'one', 'day', 'it', 'will', 'be', 'extended', 'to', 'other', 'sources', 'much', 'more', 'serious', 'for', 'hong', 'kong', 'is', 'the', 'disadvantage', 'of', 'action', 'restraining', 'trade', 'he', 'said', 'the', 'last', 'year', 'was', 'hong', 'kongs', 'biggest', 'export', 'market', 'accounting', 'for', 'over', 'pct', 'of', 'domestically', 'produced', 'exports', 'the', 'australian', 'government', 'is', 'awaiting', 'the', 'outcome', 'of', 'trade', 'talks', 'between', 'the', 'and', 'japan', 'with', 'interest', 'and', 'concern', 'industry', 'minister', 'john', 'button', 'said', 'in', 'canberra', 'last', 'friday', 'this', 'kind', 'of', 'deterioration', 'in', 'trade', 'relations', 'between', 'two', 'countries', 'which', 'are', 'major', 'trading', 'partners', 'of', 'ours', 'is', 'very', 'serious', 'matter', 'button', 'said', 'he', 'said', 'australias', 'concerns', 'centred', 'on', 'coal', 'and', 'beef', 'australias', 'two', 'largest', 'exports', 'to', 'japan', 'and', 'also', 'significant', 'exports', 'to', 'that', 'country', 'meanwhile', 'japanese', 'diplomatic', 'manoeuvres', 'to', 'solve', 'the', 'trade', 'stand', 'off', 'continue', 'japans', 'ruling', 'liberal', 'democratic', 'party', 'yesterday', 'outlined', 'package', 'of', 'economic', 'measures', 'to', 'boost', 'the', 'japanese', 'economy', 'the', 'measures', 'proposed', 'include', 'large', 'supplementary', 'budget', 'and', 'record', 'public', 'works', 'spending', 'in', 'the', 'first', 'half', 'of', 'the', 'financial', 'year', 'they', 'also', 'call', 'for', 'stepped', 'up', 'spending', 'as', 'an', 'emergency', 'measure', 'to', 'stimulate', 'the', 'economy', 'despite', 'prime', 'minister', 'yasuhiro', 'nakasones', 'avowed', 'fiscal', 'reform', 'program', 'deputy', 'trade', 'representative', 'michael', 'smith', 'and', 'makoto', 'kuroda', 'japans', 'deputy', 'minister', 'of', 'international', 'trade', 'and', 'industry', 'miti', 'are', 'due', 'to', 'meet', 'in', 'washington', 'this', 'week', 'in', 'an', 'effort', 'to', 'end', 'the', 'dispute']\n"
     ]
    }
   ],
   "source": [
    "# Tokenize words and clean up text\n",
    "def sent_to_words(sentences):\n",
    "    for sentence in sentences:\n",
    "        yield(gensim.utils.simple_preprocess(str(sentence), deacc=True))  # deacc=True removes punctuations\n",
    "\n",
    "data_words = list(sent_to_words(data))\n",
    "\n",
    "#truncate\n",
    "print(data_words[0])"
   ]
  },
  {
   "cell_type": "code",
   "execution_count": 11,
   "metadata": {},
   "outputs": [
    {
     "name": "stdout",
     "output_type": "stream",
     "text": [
      "['asian', 'exporters', 'fear', 'damage', 'from', 'japan', 'rift', 'mounting', 'trade', 'friction', 'between', 'the', 'and', 'japan', 'has', 'raised', 'fears', 'among', 'many', 'of', 'asias', 'exporting', 'nations', 'that', 'the', 'row', 'could', 'inflict', 'far', 'reaching', 'economic', 'damage', 'businessmen', 'and', 'officials', 'said', 'they', 'told', 'reuter_correspondents', 'in', 'asian', 'capitals', 'move', 'against', 'japan', 'might', 'boost', 'protectionist_sentiment', 'in', 'the', 'and', 'lead', 'to', 'curbs', 'on', 'american', 'imports', 'of', 'their', 'products', 'but', 'some', 'exporters', 'said', 'that', 'while', 'the', 'conflict', 'would', 'hurt', 'them', 'in', 'the', 'long', 'run', 'in', 'the', 'short_term', 'tokyos', 'loss', 'might', 'be', 'their', 'gain', 'the', 'has', 'said', 'it', 'will', 'impose', 'mln', 'dlrs', 'of', 'tariffs', 'on', 'imports', 'of', 'japanese', 'electronics', 'goods', 'on', 'april', 'in', 'retaliation', 'for', 'japans', 'alleged_failure', 'to', 'stick', 'to', 'pact', 'not', 'to', 'sell', 'semiconductors', 'on', 'world', 'markets', 'at', 'below', 'cost', 'unofficial', 'japanese', 'estimates', 'put', 'the', 'impact', 'of', 'the', 'tariffs', 'at', 'billion', 'dlrs', 'and', 'spokesmen', 'for', 'major', 'electronics', 'firms', 'said', 'they', 'would', 'virtually', 'halt', 'exports', 'of', 'products', 'hit', 'by', 'the', 'new', 'taxes', 'we', 'wouldnt', 'be', 'able', 'to', 'do', 'business', 'said', 'spokesman', 'for', 'leading', 'japanese', 'electronics', 'firm', 'matsushita', 'electric', 'industrial', 'co', 'ltd', 'lt', 'mc', 'if', 'the', 'tariffs', 'remain', 'in', 'place', 'for', 'any', 'length', 'of', 'time', 'beyond', 'few', 'months', 'it', 'will', 'mean', 'the', 'complete', 'erosion', 'of', 'exports', 'of', 'goods', 'subject', 'to', 'tariffs', 'to', 'the', 'said', 'tom', 'murtha', 'stock', 'analyst', 'at', 'the', 'tokyo', 'office', 'of', 'broker', 'lt', 'james_capel', 'and', 'co', 'in', 'taiwan', 'businessmen', 'and', 'officials', 'are', 'also', 'worried', 'we', 'are', 'aware', 'of', 'the', 'seriousness', 'of', 'the', 'threat', 'against', 'japan', 'because', 'it', 'serves', 'as', 'warning', 'to', 'us', 'said', 'senior', 'taiwanese', 'trade', 'official', 'who', 'asked', 'not', 'to', 'be', 'named', 'taiwan', 'had', 'trade', 'trade', 'surplus', 'of', 'billion', 'dlrs', 'last', 'year', 'pct', 'of', 'it', 'with', 'the', 'the', 'surplus', 'helped', 'swell', 'taiwans', 'foreign', 'exchange', 'reserves', 'to', 'billion', 'dlrs', 'among', 'the', 'worlds_largest', 'we', 'must', 'quickly', 'open', 'our', 'markets', 'remove', 'trade', 'barriers', 'and', 'cut', 'import', 'tariffs', 'to', 'allow', 'imports', 'of', 'products', 'if', 'we', 'want', 'to', 'defuse', 'problems', 'from', 'possible', 'retaliation', 'said', 'paul', 'sheen', 'chairman', 'of', 'textile', 'exporters', 'lt', 'taiwan', 'safe', 'group', 'senior', 'official', 'of', 'south_koreas', 'trade', 'promotion', 'association', 'said', 'the', 'trade', 'dispute', 'between', 'the', 'and', 'japan', 'might', 'also', 'lead', 'to', 'pressure', 'on', 'south_korea', 'whose', 'chief', 'exports', 'are', 'similar', 'to', 'those', 'of', 'japan', 'last', 'year', 'south_korea', 'had', 'trade', 'surplus', 'of', 'billion', 'dlrs', 'with', 'the', 'up', 'from', 'billion', 'dlrs', 'in', 'in', 'malaysia', 'trade', 'officers', 'and', 'businessmen', 'said', 'tough', 'curbs', 'against', 'japan', 'might', 'allow', 'hard_hit', 'producers', 'of', 'semiconductors', 'in', 'third', 'countries', 'to', 'expand', 'their', 'sales', 'to', 'the', 'in', 'hong_kong', 'where', 'newspapers', 'have', 'alleged', 'japan', 'has', 'been', 'selling', 'below', 'cost', 'semiconductors', 'some', 'electronics', 'manufacturers', 'share', 'that', 'view', 'but', 'other', 'businessmen', 'said', 'such', 'short_term', 'commercial', 'advantage', 'would', 'be', 'outweighed', 'by', 'further', 'pressure', 'to', 'block', 'imports', 'that', 'is', 'very', 'short_term', 'view', 'said', 'lawrence', 'mills', 'director', 'general', 'of', 'the', 'federation', 'of', 'hong_kong', 'industry', 'if', 'the', 'whole', 'purpose', 'is', 'to', 'prevent', 'imports', 'one', 'day', 'it', 'will', 'be', 'extended', 'to', 'other', 'sources', 'much', 'more', 'serious', 'for', 'hong_kong', 'is', 'the', 'disadvantage', 'of', 'action', 'restraining', 'trade', 'he', 'said', 'the', 'last', 'year', 'was', 'hong_kongs', 'biggest', 'export', 'market', 'accounting', 'for', 'over', 'pct', 'of', 'domestically_produced', 'exports', 'the', 'australian', 'government', 'is', 'awaiting', 'the', 'outcome', 'of', 'trade', 'talks', 'between', 'the', 'and', 'japan', 'with', 'interest', 'and', 'concern', 'industry', 'minister', 'john', 'button', 'said', 'in', 'canberra', 'last', 'friday', 'this', 'kind', 'of', 'deterioration', 'in', 'trade', 'relations', 'between', 'two', 'countries', 'which', 'are', 'major', 'trading_partners', 'of', 'ours', 'is', 'very', 'serious', 'matter', 'button', 'said', 'he', 'said', 'australias', 'concerns', 'centred', 'on', 'coal', 'and', 'beef', 'australias', 'two', 'largest', 'exports', 'to', 'japan', 'and', 'also', 'significant', 'exports', 'to', 'that', 'country', 'meanwhile', 'japanese', 'diplomatic', 'manoeuvres', 'to', 'solve', 'the', 'trade', 'stand', 'off', 'continue', 'japans', 'ruling_liberal_democratic_party', 'yesterday', 'outlined', 'package', 'of', 'economic', 'measures', 'to', 'boost', 'the', 'japanese', 'economy', 'the', 'measures', 'proposed', 'include', 'large', 'supplementary', 'budget', 'and', 'record', 'public_works', 'spending', 'in', 'the', 'first', 'half', 'of', 'the', 'financial', 'year', 'they', 'also', 'call', 'for', 'stepped', 'up', 'spending', 'as', 'an', 'emergency', 'measure', 'to', 'stimulate', 'the', 'economy', 'despite', 'prime_minister_yasuhiro_nakasones', 'avowed', 'fiscal', 'reform', 'program', 'deputy', 'trade', 'representative_michael', 'smith', 'and', 'makoto_kuroda', 'japans', 'deputy', 'minister', 'of', 'international', 'trade', 'and', 'industry', 'miti', 'are', 'due', 'to', 'meet', 'in', 'washington', 'this', 'week', 'in', 'an', 'effort', 'to', 'end', 'the', 'dispute']\n"
     ]
    }
   ],
   "source": [
    "# Build the bigram and trigram models\n",
    "bigram = gensim.models.Phrases(data_words, min_count=5, threshold=100) # higher threshold fewer phrases.\n",
    "trigram = gensim.models.Phrases(bigram[data_words], threshold=100)  \n",
    "\n",
    "# Faster way to get a sentence clubbed as a trigram/bigram\n",
    "bigram_mod = gensim.models.phrases.Phraser(bigram)\n",
    "trigram_mod = gensim.models.phrases.Phraser(trigram)\n",
    "\n",
    "# See trigram example\n",
    "print(trigram_mod[bigram_mod[data_words[0]]])"
   ]
  },
  {
   "cell_type": "markdown",
   "metadata": {},
   "source": [
    "### Pre-processing"
   ]
  },
  {
   "cell_type": "code",
   "execution_count": 12,
   "metadata": {},
   "outputs": [],
   "source": [
    "# Set up stopwords\n",
    "stop_words = stopwords.words('english')\n",
    "\n",
    "# JO: Confirm if these / other stopwords should be added\n",
    "stop_words.extend(['from', 'subject', 're', 'edu', 'use'])"
   ]
  },
  {
   "cell_type": "code",
   "execution_count": 13,
   "metadata": {},
   "outputs": [],
   "source": [
    "# Define functions for stopwords, bigrams, trigrams and lemmatization\n",
    "def remove_stopwords(texts):\n",
    "    return [[word for word in simple_preprocess(str(doc)) if word not in stop_words] for doc in texts]\n",
    "\n",
    "def make_bigrams(texts):\n",
    "    return [bigram_mod[doc] for doc in texts]\n",
    "\n",
    "def make_trigrams(texts):\n",
    "    return [trigram_mod[bigram_mod[doc]] for doc in texts]\n",
    "\n",
    "def lemmatization(texts, allowed_postags=['NOUN', 'ADJ', 'VERB', 'ADV']):\n",
    "    \"\"\"https://spacy.io/api/annotation\"\"\"\n",
    "    texts_out = []\n",
    "    for sent in texts:\n",
    "        doc = nlp(\" \".join(sent)) \n",
    "        texts_out.append([token.lemma_ for token in doc if token.pos_ in allowed_postags])\n",
    "    return texts_out"
   ]
  },
  {
   "cell_type": "code",
   "execution_count": 14,
   "metadata": {},
   "outputs": [],
   "source": [
    "# Remove stop words\n",
    "data_words_nostops = remove_stopwords(data_words)\n",
    "\n",
    "# Form bigrams\n",
    "data_words_bigrams = make_bigrams(data_words_nostops)\n",
    "\n",
    "# Initialize spacy 'en' model, keeping only tagger component (for efficiency)\n",
    "# python3 -m spacy download en\n",
    "nlp = spacy.load('en_core_web_sm', disable=['parser', 'ner'])\n",
    "\n",
    "# Do lemmatization keeping only noun, adj, vb, adv\n",
    "data_lemmatized = lemmatization(data_words_bigrams, allowed_postags=['NOUN', 'ADJ', 'VERB', 'ADV'])"
   ]
  },
  {
   "cell_type": "code",
   "execution_count": 15,
   "metadata": {},
   "outputs": [
    {
     "name": "stdout",
     "output_type": "stream",
     "text": [
      "['asian', 'exporter', 'fear', 'damage', 'mount', 'trade', 'friction', 'raise', 'fear', 'many', 'asia', 'export', 'nation', 'row', 'could', 'inflict', 'far', 'reach', 'economic', 'damage', 'businessman', 'official', 'say', 'tell', 'asian', 'capital', 'move', 'may', 'boost', 'protectionist_sentiment', 'lead', 'curb', 'american', 'import', 'product', 'exporter', 'say', 'conflict', 'would', 'hurt', 'long', 'run', 'tokyos', 'loss', 'may', 'gain', 'say', 'impose', 'dlrs', 'import', 'japanese', 'electronic', 'good', 'retaliation', 'stick', 'pact', 'sell', 'semiconductor', 'world', 'market', 'cost', 'unofficial', 'japanese', 'estimate', 'put', 'impact', 'tariff', 'dlrs', 'spokesman', 'major', 'electronic', 'firm', 'say', 'would', 'virtually', 'halt', 'export', 'product', 'hit', 'new', 'taxis', 'would', 'able', 'business', 'say', 'spokesman', 'lead', 'japanese', 'electronic', 'firm', 'tariff', 'remain', 'place', 'length', 'time', 'month', 'mean', 'complete', 'erosion', 'export', 'good', 'tariff', 'say', 'official', 'also', 'worry', 'aware', 'seriousness', 'threat', 'serve', 'warn', 'say', 'senior', 'taiwanese', 'trade', 'official', 'ask', 'name', 'trade', 'surplus', 'dlrs', 'last', 'year', 'surplus', 'help', 'swell', 'foreign', 'exchange', 'reserve', 'dlrs', 'must', 'quickly', 'open', 'market', 'remove', 'trade', 'barrier', 'cut', 'import', 'tariff', 'allow', 'import', 'product', 'want', 'defuse', 'problem', 'possible', 'retaliation', 'say', 'senior', 'official', 'say', 'dispute', 'may', 'also', 'lead', 'pressure', 'chief', 'export', 'similar', 'last', 'year', 'trade', 'surplus', 'officer', 'businessman', 'say', 'tough', 'may', 'allow', 'producer', 'semiconductor', 'third', 'country', 'expand', 'sale', 'newspaper', 'allege', 'sell', 'cost', 'semiconductor', 'electronic', 'manufacturer', 'share', 'view', 'businessman', 'say', 'commercial', 'advantage', 'would', 'outweighed', 'pressure', 'block', 'import', 'say', 'industry', 'whole', 'purpose', 'prevent', 'import', 'day', 'extended', 'source', 'much', 'serious', 'disadvantage', 'action', 'restrain', 'trade', 'say', 'last', 'year', 'big', 'export', 'market', 'accounting', 'domestically_produced', 'export', 'australian', 'government', 'await', 'talk', 'interest', 'concern', 'say', 'last', 'kind', 'deterioration', 'trade', 'relation', 'country', 'major', 'trading', 'partner', 'serious', 'matter', 'say', 'say', 'concern', 'centre', 'coal', 'beef', 'australia', 'large', 'export', 'also', 'significant', 'export', 'country', 'meanwhile', 'japanese', 'diplomatic', 'manoeuvre', 'solve', 'trade', 'stand', 'continue', 'yesterday', 'outline', 'package', 'economic', 'measure', 'boost', 'japanese', 'economy', 'measure', 'propose', 'include', 'large', 'supplementary', 'budget', 'record', 'public_work', 'spend', 'first', 'financial', 'year', 'also', 'call', 'step', 'spend', 'emergency', 'measure', 'stimulate', 'economy', 'yasuhiro_nakasone', 'avow', 'fiscal', 'reform', 'program', 'deputy', 'trade', 'representative', 'industry', 'due', 'week', 'effort', 'end', 'dispute']\n"
     ]
    }
   ],
   "source": [
    "print(data_lemmatized[0])"
   ]
  },
  {
   "cell_type": "code",
   "execution_count": 16,
   "metadata": {},
   "outputs": [
    {
     "name": "stdout",
     "output_type": "stream",
     "text": [
      "[(0, 1), (1, 1), (2, 1), (3, 1), (4, 1), (5, 2), (6, 4), (7, 1), (8, 1), (9, 2), (10, 1), (11, 1), (12, 1), (13, 1), (14, 1), (15, 1), (16, 1), (17, 1), (18, 1), (19, 1), (20, 2), (21, 1), (22, 1), (23, 3), (24, 1), (25, 1), (26, 1), (27, 1), (28, 1), (29, 1), (30, 1), (31, 2), (32, 1), (33, 1), (34, 2), (35, 1), (36, 3), (37, 1), (38, 1), (39, 2), (40, 1), (41, 1), (42, 1), (43, 1), (44, 1), (45, 1), (46, 2), (47, 4), (48, 1), (49, 1), (50, 2), (51, 2), (52, 1), (53, 4), (54, 1), (55, 1), (56, 1), (57, 1), (58, 1), (59, 1), (60, 8), (61, 2), (62, 1), (63, 1), (64, 2), (65, 1), (66, 2), (67, 1), (68, 1), (69, 1), (70, 1), (71, 1), (72, 2), (73, 1), (74, 1), (75, 1), (76, 1), (77, 1), (78, 1), (79, 6), (80, 1), (81, 1), (82, 2), (83, 1), (84, 1), (85, 5), (86, 1), (87, 2), (88, 4), (89, 3), (90, 1), (91, 1), (92, 1), (93, 2), (94, 1), (95, 1), (96, 1), (97, 3), (98, 1), (99, 4), (100, 1), (101, 1), (102, 3), (103, 1), (104, 1), (105, 1), (106, 1), (107, 1), (108, 1), (109, 1), (110, 1), (111, 1), (112, 1), (113, 4), (114, 1), (115, 1), (116, 1), (117, 1), (118, 1), (119, 1), (120, 1), (121, 1), (122, 2), (123, 1), (124, 1), (125, 1), (126, 3), (127, 1), (128, 1), (129, 1), (130, 1), (131, 1), (132, 1), (133, 1), (134, 1), (135, 1), (136, 1), (137, 1), (138, 1), (139, 1), (140, 1), (141, 1), (142, 1), (143, 1), (144, 2), (145, 1), (146, 1), (147, 1), (148, 16), (149, 2), (150, 3), (151, 2), (152, 2), (153, 1), (154, 1), (155, 1), (156, 1), (157, 1), (158, 1), (159, 1), (160, 2), (161, 2), (162, 1), (163, 1), (164, 1), (165, 1), (166, 1), (167, 3), (168, 1), (169, 1), (170, 1), (171, 4), (172, 1), (173, 1), (174, 1), (175, 1), (176, 1), (177, 1), (178, 1), (179, 9), (180, 1), (181, 1), (182, 1), (183, 1), (184, 1), (185, 1), (186, 1), (187, 1), (188, 1), (189, 1), (190, 4), (191, 1), (192, 4), (193, 1)]\n"
     ]
    }
   ],
   "source": [
    "# Create dictionary and corpus for topic modeling\n",
    "\n",
    "# Create Dictionary\n",
    "id2word = corpora.Dictionary(data_lemmatized)\n",
    "\n",
    "# Create Corpus\n",
    "texts = data_lemmatized\n",
    "\n",
    "# Term Document Frequency\n",
    "corpus = [id2word.doc2bow(text) for text in texts]\n",
    "\n",
    "# View\n",
    "print(corpus[0])"
   ]
  },
  {
   "cell_type": "markdown",
   "metadata": {},
   "source": [
    "Note that bigram such as 'domestically_produced' and 'protectionist_sentiment' are included in the dictionary."
   ]
  },
  {
   "cell_type": "code",
   "execution_count": 17,
   "metadata": {},
   "outputs": [
    {
     "data": {
      "text/plain": [
       "[[('able', 1),\n",
       "  ('accounting', 1),\n",
       "  ('action', 1),\n",
       "  ('advantage', 1),\n",
       "  ('allege', 1),\n",
       "  ('allow', 2),\n",
       "  ('also', 4),\n",
       "  ('american', 1),\n",
       "  ('asia', 1),\n",
       "  ('asian', 2),\n",
       "  ('ask', 1),\n",
       "  ('australia', 1),\n",
       "  ('australian', 1),\n",
       "  ('avow', 1),\n",
       "  ('await', 1),\n",
       "  ('aware', 1),\n",
       "  ('barrier', 1),\n",
       "  ('beef', 1),\n",
       "  ('big', 1),\n",
       "  ('block', 1),\n",
       "  ('boost', 2),\n",
       "  ('budget', 1),\n",
       "  ('business', 1),\n",
       "  ('businessman', 3),\n",
       "  ('call', 1),\n",
       "  ('capital', 1),\n",
       "  ('centre', 1),\n",
       "  ('chief', 1),\n",
       "  ('coal', 1),\n",
       "  ('commercial', 1),\n",
       "  ('complete', 1),\n",
       "  ('concern', 2),\n",
       "  ('conflict', 1),\n",
       "  ('continue', 1),\n",
       "  ('cost', 2),\n",
       "  ('could', 1),\n",
       "  ('country', 3),\n",
       "  ('curb', 1),\n",
       "  ('cut', 1),\n",
       "  ('damage', 2),\n",
       "  ('day', 1),\n",
       "  ('defuse', 1),\n",
       "  ('deputy', 1),\n",
       "  ('deterioration', 1),\n",
       "  ('diplomatic', 1),\n",
       "  ('disadvantage', 1),\n",
       "  ('dispute', 2),\n",
       "  ('dlrs', 4),\n",
       "  ('domestically_produced', 1),\n",
       "  ('due', 1),\n",
       "  ('economic', 2),\n",
       "  ('economy', 2),\n",
       "  ('effort', 1),\n",
       "  ('electronic', 4),\n",
       "  ('emergency', 1),\n",
       "  ('end', 1),\n",
       "  ('erosion', 1),\n",
       "  ('estimate', 1),\n",
       "  ('exchange', 1),\n",
       "  ('expand', 1),\n",
       "  ('export', 8),\n",
       "  ('exporter', 2),\n",
       "  ('extended', 1),\n",
       "  ('far', 1),\n",
       "  ('fear', 2),\n",
       "  ('financial', 1),\n",
       "  ('firm', 2),\n",
       "  ('first', 1),\n",
       "  ('fiscal', 1),\n",
       "  ('foreign', 1),\n",
       "  ('friction', 1),\n",
       "  ('gain', 1),\n",
       "  ('good', 2),\n",
       "  ('government', 1),\n",
       "  ('halt', 1),\n",
       "  ('help', 1),\n",
       "  ('hit', 1),\n",
       "  ('hurt', 1),\n",
       "  ('impact', 1),\n",
       "  ('import', 6),\n",
       "  ('impose', 1),\n",
       "  ('include', 1),\n",
       "  ('industry', 2),\n",
       "  ('inflict', 1),\n",
       "  ('interest', 1),\n",
       "  ('japanese', 5),\n",
       "  ('kind', 1),\n",
       "  ('large', 2),\n",
       "  ('last', 4),\n",
       "  ('lead', 3),\n",
       "  ('length', 1),\n",
       "  ('long', 1),\n",
       "  ('loss', 1),\n",
       "  ('major', 2),\n",
       "  ('manoeuvre', 1),\n",
       "  ('manufacturer', 1),\n",
       "  ('many', 1),\n",
       "  ('market', 3),\n",
       "  ('matter', 1),\n",
       "  ('may', 4),\n",
       "  ('mean', 1),\n",
       "  ('meanwhile', 1),\n",
       "  ('measure', 3),\n",
       "  ('month', 1),\n",
       "  ('mount', 1),\n",
       "  ('move', 1),\n",
       "  ('much', 1),\n",
       "  ('must', 1),\n",
       "  ('name', 1),\n",
       "  ('nation', 1),\n",
       "  ('new', 1),\n",
       "  ('newspaper', 1),\n",
       "  ('officer', 1),\n",
       "  ('official', 4),\n",
       "  ('open', 1),\n",
       "  ('outline', 1),\n",
       "  ('outweighed', 1),\n",
       "  ('package', 1),\n",
       "  ('pact', 1),\n",
       "  ('partner', 1),\n",
       "  ('place', 1),\n",
       "  ('possible', 1),\n",
       "  ('pressure', 2),\n",
       "  ('prevent', 1),\n",
       "  ('problem', 1),\n",
       "  ('producer', 1),\n",
       "  ('product', 3),\n",
       "  ('program', 1),\n",
       "  ('propose', 1),\n",
       "  ('protectionist_sentiment', 1),\n",
       "  ('public_work', 1),\n",
       "  ('purpose', 1),\n",
       "  ('put', 1),\n",
       "  ('quickly', 1),\n",
       "  ('raise', 1),\n",
       "  ('reach', 1),\n",
       "  ('record', 1),\n",
       "  ('reform', 1),\n",
       "  ('relation', 1),\n",
       "  ('remain', 1),\n",
       "  ('remove', 1),\n",
       "  ('representative', 1),\n",
       "  ('reserve', 1),\n",
       "  ('restrain', 1),\n",
       "  ('retaliation', 2),\n",
       "  ('row', 1),\n",
       "  ('run', 1),\n",
       "  ('sale', 1),\n",
       "  ('say', 16),\n",
       "  ('sell', 2),\n",
       "  ('semiconductor', 3),\n",
       "  ('senior', 2),\n",
       "  ('serious', 2),\n",
       "  ('seriousness', 1),\n",
       "  ('serve', 1),\n",
       "  ('share', 1),\n",
       "  ('significant', 1),\n",
       "  ('similar', 1),\n",
       "  ('solve', 1),\n",
       "  ('source', 1),\n",
       "  ('spend', 2),\n",
       "  ('spokesman', 2),\n",
       "  ('stand', 1),\n",
       "  ('step', 1),\n",
       "  ('stick', 1),\n",
       "  ('stimulate', 1),\n",
       "  ('supplementary', 1),\n",
       "  ('surplus', 3),\n",
       "  ('swell', 1),\n",
       "  ('taiwanese', 1),\n",
       "  ('talk', 1),\n",
       "  ('tariff', 4),\n",
       "  ('taxis', 1),\n",
       "  ('tell', 1),\n",
       "  ('third', 1),\n",
       "  ('threat', 1),\n",
       "  ('time', 1),\n",
       "  ('tokyos', 1),\n",
       "  ('tough', 1),\n",
       "  ('trade', 9),\n",
       "  ('trading', 1),\n",
       "  ('unofficial', 1),\n",
       "  ('view', 1),\n",
       "  ('virtually', 1),\n",
       "  ('want', 1),\n",
       "  ('warn', 1),\n",
       "  ('week', 1),\n",
       "  ('whole', 1),\n",
       "  ('world', 1),\n",
       "  ('worry', 1),\n",
       "  ('would', 4),\n",
       "  ('yasuhiro_nakasone', 1),\n",
       "  ('year', 4),\n",
       "  ('yesterday', 1)]]"
      ]
     },
     "execution_count": 17,
     "metadata": {},
     "output_type": "execute_result"
    }
   ],
   "source": [
    "[[(id2word[id], freq) for id, freq in cp] for cp in corpus[:1]]"
   ]
  },
  {
   "cell_type": "markdown",
   "metadata": {},
   "source": [
    "## Topic Modeling & Distribution using Gensim"
   ]
  },
  {
   "cell_type": "markdown",
   "metadata": {},
   "source": [
    "### Preliminary Topic Model"
   ]
  },
  {
   "cell_type": "markdown",
   "metadata": {},
   "source": [
    "JO: May eliminate in favor of iterative approach to select optimal number of topics below."
   ]
  },
  {
   "cell_type": "markdown",
   "metadata": {},
   "source": [
    "### Optimize k"
   ]
  },
  {
   "cell_type": "code",
   "execution_count": 18,
   "metadata": {},
   "outputs": [],
   "source": [
    "# Build topic model\n",
    "lda_model = gensim.models.ldamodel.LdaModel(corpus=corpus,  # TDF corpus\n",
    "                                           id2word=id2word,  # dictionary\n",
    "                                           num_topics=20,  # provisionally set to 20, to be optimized\n",
    "                                           random_state=100,  # [CONFIRM]\n",
    "                                           update_every=1,  # how often paramater should be updated\n",
    "                                           chunksize=100,\n",
    "                                           passes=10,  # total number of training passes\n",
    "                                           alpha='auto',  # learn assymetric alpha from training data\n",
    "                                           per_word_topics=True)"
   ]
  },
  {
   "cell_type": "code",
   "execution_count": 19,
   "metadata": {},
   "outputs": [
    {
     "name": "stdout",
     "output_type": "stream",
     "text": [
      "[(0,\n",
      "  '0.101*\"year\" + 0.073*\"say\" + 0.052*\"rise\" + 0.032*\"expect\" + 0.029*\"end\" + '\n",
      "  '0.028*\"dlrs\" + 0.027*\"report\" + 0.027*\"fall\" + 0.025*\"increase\" + '\n",
      "  '0.025*\"first\"'),\n",
      " (1,\n",
      "  '0.387*\"oil\" + 0.073*\"reserve\" + 0.072*\"crude\" + 0.068*\"barrel\" + '\n",
      "  '0.054*\"revise\" + 0.051*\"morning\" + 0.035*\"day\" + 0.021*\"estimate\" + '\n",
      "  '0.018*\"assistance\" + 0.018*\"today\"'),\n",
      " (2,\n",
      "  '0.287*\"stock\" + 0.178*\"share\" + 0.128*\"common\" + 0.081*\"dividend\" + '\n",
      "  '0.020*\"march\" + 0.020*\"grower\" + 0.017*\"corporate\" + 0.015*\"together\" + '\n",
      "  '0.015*\"increase\" + 0.014*\"trust\"'),\n",
      " (3,\n",
      "  '0.133*\"say\" + 0.066*\"company\" + 0.048*\"share\" + 0.029*\"offer\" + 0.022*\"buy\" '\n",
      "  '+ 0.022*\"dlrs\" + 0.019*\"unit\" + 0.016*\"sell\" + 0.015*\"group\" + '\n",
      "  '0.014*\"shareholder\"'),\n",
      " (4,\n",
      "  '0.150*\"dollar\" + 0.090*\"currency\" + 0.086*\"exchange\" + 0.086*\"mark\" + '\n",
      "  '0.074*\"dealer\" + 0.074*\"yen\" + 0.054*\"bank\" + 0.030*\"central\" + '\n",
      "  '0.021*\"fall\" + 0.021*\"intervene\"'),\n",
      " (5,\n",
      "  '0.172*\"price\" + 0.038*\"raise\" + 0.024*\"consumer\" + 0.021*\"stake\" + '\n",
      "  '0.020*\"franc\" + 0.020*\"half\" + 0.019*\"increase\" + 0.019*\"order\" + '\n",
      "  '0.019*\"range\" + 0.018*\"contract\"'),\n",
      " (6,\n",
      "  '0.135*\"say\" + 0.041*\"would\" + 0.024*\"market\" + 0.017*\"official\" + '\n",
      "  '0.016*\"could\" + 0.013*\"last\" + 0.012*\"add\" + 0.012*\"may\" + 0.012*\"take\" + '\n",
      "  '0.012*\"also\"'),\n",
      " (7,\n",
      "  '0.292*\"set\" + 0.218*\"split\" + 0.081*\"adjust\" + 0.033*\"matter\" + '\n",
      "  '0.032*\"serve\" + 0.029*\"purpose\" + 0.028*\"party\" + 0.023*\"date\" + '\n",
      "  '0.012*\"previously_announce\" + 0.012*\"dilute\"'),\n",
      " (8,\n",
      "  '0.069*\"export\" + 0.049*\"production\" + 0.047*\"import\" + 0.023*\"figure\" + '\n",
      "  '0.023*\"program\" + 0.020*\"gold\" + 0.019*\"output\" + 0.018*\"wheat\" + '\n",
      "  '0.017*\"produce\" + 0.016*\"mln\"'),\n",
      " (9,\n",
      "  '0.424*\"sale\" + 0.093*\"asset\" + 0.041*\"turnover\" + 0.037*\"operate\" + '\n",
      "  '0.032*\"division\" + 0.032*\"product\" + 0.031*\"special\" + 0.031*\"property\" + '\n",
      "  '0.027*\"equipment\" + 0.024*\"regular\"'),\n",
      " (10,\n",
      "  '0.206*\"rate\" + 0.076*\"market\" + 0.071*\"money\" + 0.069*\"bank\" + '\n",
      "  '0.036*\"economist\" + 0.033*\"fund\" + 0.033*\"cut\" + 0.032*\"interest\" + '\n",
      "  '0.026*\"inflation\" + 0.025*\"forecast\"'),\n",
      " (11,\n",
      "  '0.090*\"trade\" + 0.045*\"foreign\" + 0.032*\"deficit\" + 0.029*\"government\" + '\n",
      "  '0.029*\"surplus\" + 0.028*\"economic\" + 0.027*\"tax\" + 0.027*\"economy\" + '\n",
      "  '0.021*\"country\" + 0.020*\"growth\"'),\n",
      " (12,\n",
      "  '0.208*\"record\" + 0.091*\"may\" + 0.086*\"proposal\" + 0.073*\"pay\" + '\n",
      "  '0.064*\"prior\" + 0.059*\"dividend\" + 0.050*\"final\" + 0.045*\"vote\" + '\n",
      "  '0.041*\"strike\" + 0.033*\"worker\"'),\n",
      " (13,\n",
      "  '0.121*\"system\" + 0.067*\"number\" + 0.041*\"develop\" + 0.039*\"department\" + '\n",
      "  '0.039*\"national\" + 0.034*\"review\" + 0.030*\"launch\" + 0.028*\"discussion\" + '\n",
      "  '0.026*\"employee\" + 0.024*\"note\"'),\n",
      " (14,\n",
      "  '0.164*\"tonne\" + 0.068*\"sugar\" + 0.060*\"grain\" + 0.049*\"crop\" + 0.046*\"week\" '\n",
      "  '+ 0.031*\"estimate\" + 0.029*\"season\" + 0.028*\"farmer\" + 0.026*\"area\" + '\n",
      "  '0.024*\"soviet\"'),\n",
      " (15,\n",
      "  '0.158*\"cent\" + 0.067*\"datum\" + 0.065*\"initial\" + 0.059*\"commodity\" + '\n",
      "  '0.059*\"declare\" + 0.054*\"overseas\" + 0.042*\"rubber\" + 0.035*\"bonus\" + '\n",
      "  '0.034*\"ratio\" + 0.033*\"profitable\"'),\n",
      " (16,\n",
      "  '0.049*\"agreement\" + 0.042*\"talk\" + 0.041*\"meeting\" + 0.034*\"member\" + '\n",
      "  '0.031*\"meet\" + 0.027*\"negotiation\" + 0.024*\"issue\" + 0.023*\"bill\" + '\n",
      "  '0.022*\"spokesman\" + 0.021*\"rule\"'),\n",
      " (17,\n",
      "  '0.140*\"debt\" + 0.131*\"bank\" + 0.119*\"loan\" + 0.119*\"payment\" + '\n",
      "  '0.063*\"credit\" + 0.044*\"post\" + 0.036*\"commercial\" + 0.032*\"settlement\" + '\n",
      "  '0.024*\"interest\" + 0.020*\"dlrs\"'),\n",
      " (18,\n",
      "  '0.170*\"ct\" + 0.166*\"loss\" + 0.129*\"net\" + 0.125*\"profit\" + 0.048*\"dlrs\" + '\n",
      "  '0.043*\"note\" + 0.038*\"year\" + 0.035*\"mln\" + 0.033*\"include\" + 0.022*\"gain\"'),\n",
      " (19,\n",
      "  '0.120*\"standard\" + 0.117*\"canadian\" + 0.097*\"agriculture\" + '\n",
      "  '0.097*\"agricultural\" + 0.093*\"farm\" + 0.047*\"insurance\" + '\n",
      "  '0.038*\"fluctuation\" + 0.029*\"active\" + 0.026*\"intention\" + 0.025*\"rice\"')]\n"
     ]
    }
   ],
   "source": [
    "# View topics in LDA model\n",
    "pprint(lda_model.print_topics())"
   ]
  },
  {
   "cell_type": "markdown",
   "metadata": {},
   "source": [
    "### Analyzing Perplexity and Coherence"
   ]
  },
  {
   "cell_type": "markdown",
   "metadata": {},
   "source": [
    "[Perplexity](https://en.wikipedia.org/wiki/Perplexity) is a measure of 'surprise', or how well the model predicts.  The lower the score, the better the prediction.\n",
    "\n",
    "(JO: add to references: https://cfss.uchicago.edu/notes/topic-modeling/, provides examples on optimizing perplexity)\n",
    "\n",
    "Coherence is the degree of 'semantic similarity between high scoring keywords in the topic' [Learn to Find Topics in a Text Corpus](https://towardsdatascience.com/evaluate-topic-model-in-python-latent-dirichlet-allocation-lda-7d57484bb5d0).  It is computed as a the sum of pairwise scores of the top n words by frequency.  The higher the coherence, the more coherent and interpretable the topic. \n",
    "\n",
    "(JO: add to references:  http://qpleple.com/topic-coherence-to-evaluate-topic-models/, provide intrinsic and extrinsic measures)"
   ]
  },
  {
   "cell_type": "code",
   "execution_count": 20,
   "metadata": {},
   "outputs": [
    {
     "name": "stdout",
     "output_type": "stream",
     "text": [
      "\n",
      "Perplexity:  -10.914410328420848\n",
      "\n",
      "Coherence Score 0.4120619539894778\n"
     ]
    }
   ],
   "source": [
    "# Compute model perplexity and coherence score\n",
    "\n",
    "# Compute perplexity\n",
    "print('\\nPerplexity: ', lda_model.log_perplexity(corpus))\n",
    "\n",
    "# Compute coherence score\n",
    "coherence_model_lda = CoherenceModel(model=lda_model, \n",
    "                                     texts=data_lemmatized, \n",
    "                                     dictionary=id2word, \n",
    "                                     coherence='c_v')\n",
    "coherence_lda = coherence_model_lda.get_coherence()\n",
    "\n",
    "print('\\nCoherence Score', coherence_lda )"
   ]
  },
  {
   "cell_type": "code",
   "execution_count": 21,
   "metadata": {},
   "outputs": [
    {
     "data": {
      "text/html": [
       "\n",
       "<link rel=\"stylesheet\" type=\"text/css\" href=\"https://cdn.rawgit.com/bmabey/pyLDAvis/files/ldavis.v1.0.0.css\">\n",
       "\n",
       "\n",
       "<div id=\"ldavis_el5559152948260645212503035\"></div>\n",
       "<script type=\"text/javascript\">\n",
       "\n",
       "var ldavis_el5559152948260645212503035_data = {\"mdsDat\": {\"x\": [-0.27722518477043534, -0.2509260949202795, -0.2578505837153301, -0.16447320438446952, -0.14597878128983868, -0.07302910490585532, -0.07953275763147051, -0.08141894834647695, -0.03708938822332555, 0.015009419987396966, 0.05882170012769376, 0.10362862046717525, 0.1317879571304014, 0.08653418781930222, 0.13189773572250502, 0.13523513664956494, 0.10678799811350147, 0.1987162500994082, 0.19731758477104425, 0.20178745729948808], \"y\": [-0.041882932729643774, 0.08672038902599559, 0.07082482885259514, -0.0005904522031752619, -0.030924886588687087, 0.24177096454693967, -0.007393541659442089, -0.0372672301004514, -0.2697585703548719, -0.21549366431241931, -0.024720262829323648, 0.18530246428102753, 0.0494610949113498, -0.04762333513959971, 0.06685051784751264, 0.10833462605101833, -0.1520288916993219, 0.00887392018748512, 0.001146298611800088, 0.008398663301212441], \"topics\": [1, 2, 3, 4, 5, 6, 7, 8, 9, 10, 11, 12, 13, 14, 15, 16, 17, 18, 19, 20], \"cluster\": [1, 1, 1, 1, 1, 1, 1, 1, 1, 1, 1, 1, 1, 1, 1, 1, 1, 1, 1, 1], \"Freq\": [23.107608795166016, 15.62012767791748, 13.98049545288086, 7.483548641204834, 6.23728084564209, 5.395874500274658, 5.123474597930908, 4.4096479415893555, 3.188544988632202, 2.2475903034210205, 2.013871908187866, 1.7805300951004028, 1.6729509830474854, 1.6472282409667969, 1.523171305656433, 1.5220612287521362, 1.2202073335647583, 0.6520285606384277, 0.6000056862831116, 0.5737602710723877]}, \"tinfo\": {\"Term\": [\"share\", \"say\", \"sale\", \"ct\", \"oil\", \"price\", \"loss\", \"year\", \"rate\", \"stock\", \"net\", \"profit\", \"company\", \"market\", \"trade\", \"may\", \"bank\", \"dlrs\", \"export\", \"rise\", \"record\", \"tonne\", \"dollar\", \"would\", \"production\", \"set\", \"common\", \"import\", \"agreement\", \"debt\", \"official\", \"could\", \"japanese\", \"still\", \"intervention\", \"go\", \"trader\", \"future\", \"much\", \"want\", \"effect\", \"look\", \"coffee\", \"decision\", \"effort\", \"french\", \"believe\", \"back\", \"steel\", \"quote\", \"even\", \"european\", \"schedule\", \"hit\", \"hope\", \"find\", \"face\", \"aim\", \"study\", \"reform\", \"many\", \"long\", \"likely\", \"analyst\", \"open\", \"would\", \"limit\", \"take\", \"add\", \"source\", \"industry\", \"ask\", \"move\", \"say\", \"market\", \"time\", \"come\", \"may\", \"make\", \"need\", \"change\", \"also\", \"last\", \"today\", \"government\", \"week\", \"new\", \"major\", \"plan\", \"large\", \"offer\", \"unit\", \"shareholder\", \"acquire\", \"acquisition\", \"complete\", \"subsidiary\", \"merger\", \"outstanding\", \"approve\", \"own\", \"bid\", \"transaction\", \"takeover\", \"director\", \"intend\", \"approval\", \"right\", \"equity\", \"merge\", \"principle\", \"disclose\", \"parent\", \"shr\", \"company\", \"file\", \"expire\", \"financing\", \"withdraw\", \"tender\", \"enter\", \"co\", \"buy\", \"companys\", \"purchase\", \"board\", \"cash\", \"group\", \"sell\", \"share\", \"say\", \"receive\", \"hold\", \"investment\", \"term\", \"dlrs\", \"plan\", \"firm\", \"make\", \"also\", \"interest\", \"agreement\", \"agree\", \"would\", \"first\", \"revenue\", \"fiscal\", \"full\", \"improve\", \"period\", \"provision\", \"previously\", \"activity\", \"earn\", \"improvement\", \"sharply\", \"normal\", \"contribute\", \"exceed\", \"potential\", \"recovery\", \"spending\", \"interested\", \"expectation\", \"offset\", \"taxis\", \"pipeline\", \"expenditure\", \"research\", \"manufacture\", \"paper\", \"margin\", \"significantly\", \"entire\", \"rise\", \"earning\", \"end\", \"reflect\", \"show\", \"report\", \"compare\", \"fall\", \"year\", \"result\", \"ago\", \"quarter\", \"expect\", \"increase\", \"second\", \"month\", \"industrial\", \"early\", \"due\", \"last\", \"decline\", \"cost\", \"dlrs\", \"see\", \"say\", \"high\", \"total\", \"annual\", \"low\", \"export\", \"production\", \"import\", \"program\", \"gold\", \"output\", \"wheat\", \"produce\", \"corn\", \"plant\", \"soybean\", \"supply\", \"project\", \"marketing\", \"quota\", \"energy\", \"unchanged\", \"field\", \"expense\", \"ounce\", \"balance\", \"capacity\", \"beef\", \"mine\", \"office\", \"australian\", \"establish\", \"block\", \"yet\", \"break\", \"figure\", \"previous\", \"state\", \"average\", \"mln\", \"non\", \"domestic\", \"demand\", \"world\", \"cost\", \"year\", \"say\", \"foreign\", \"deficit\", \"surplus\", \"economic\", \"economy\", \"way\", \"think\", \"unemployment\", \"german\", \"minister\", \"political\", \"fast\", \"stabilize\", \"western\", \"prior_pay\", \"can\", \"broker\", \"fully\", \"stable\", \"cooperative\", \"dutch\", \"stimulate\", \"movement\", \"shift\", \"occur\", \"permit\", \"stress\", \"strengthen\", \"extremely\", \"weakness\", \"trade\", \"budget\", \"measure\", \"tax\", \"nation\", \"policy\", \"great\", \"growth\", \"country\", \"government\", \"keep\", \"grow\", \"comment\", \"world\", \"domestic\", \"support\", \"must\", \"international\", \"current\", \"good\", \"tell\", \"ct\", \"loss\", \"net\", \"profit\", \"rev\", \"oper\", \"pretax\", \"th_qtr\", \"accounting\", \"transportation\", \"site\", \"gear\", \"suitable\", \"exclude\", \"charge\", \"note\", \"gain\", \"mln\", \"include\", \"primary\", \"restructuring\", \"operating\", \"tax\", \"turnover\", \"dlrs\", \"income\", \"credit\", \"quarter\", \"current\", \"investment\", \"year\", \"share\", \"figure\", \"operation\", \"price\", \"stake\", \"franc\", \"half\", \"range\", \"contract\", \"cover\", \"subsidy\", \"heavy\", \"reduction\", \"index\", \"performance\", \"effective\", \"inventory\", \"draw\", \"write\", \"recover\", \"buying\", \"instead\", \"ahead\", \"employer\", \"quality\", \"independent\", \"related\", \"temporary\", \"practice\", \"hurt\", \"metal\", \"depreciation\", \"deliver\", \"raise\", \"consumer\", \"depend\", \"customer\", \"sharp\", \"order\", \"drop\", \"mainly\", \"follow\", \"return\", \"increase\", \"low\", \"producer\", \"current\", \"pct\", \"base\", \"level\", \"new\", \"group\", \"talk\", \"meeting\", \"member\", \"meet\", \"negotiation\", \"rule\", \"pact\", \"shipment\", \"ship\", \"discuss\", \"claim\", \"difficult\", \"resolve\", \"dispute\", \"port\", \"carry\", \"legislation\", \"stop\", \"approach\", \"correct\", \"shipping\", \"power\", \"session\", \"various\", \"act\", \"speak\", \"failure\", \"pass\", \"settle\", \"live\", \"bill\", \"agreement\", \"work\", \"international\", \"issue\", \"spokesman\", \"producer\", \"begin\", \"support\", \"day\", \"agree\", \"require\", \"country\", \"attempt\", \"law\", \"close\", \"rate\", \"money\", \"economist\", \"inflation\", \"bond\", \"banker\", \"recession\", \"doubt\", \"instrument\", \"attract\", \"roughly\", \"acknowledge\", \"play\", \"inflow\", \"heavily\", \"percentage_point\", \"pull\", \"outflow\", \"volatile\", \"real\", \"fund\", \"steady\", \"pct\", \"forecast\", \"point\", \"bank\", \"cut\", \"daily\", \"abroad\", \"interest\", \"average\", \"market\", \"reserve\", \"week\", \"yield\", \"today\", \"day\", \"credit\", \"trend\", \"government\", \"low\", \"month\", \"early\", \"rise\", \"capital\", \"dollar\", \"mark\", \"dealer\", \"yen\", \"central\", \"intervene\", \"banking\", \"sterling\", \"liquidity\", \"speculative\", \"volatility\", \"electrical\", \"allocation\", \"currency\", \"appreciate\", \"exchange\", \"repurchase\", \"authority\", \"fix\", \"house\", \"clear\", \"trading\", \"bank\", \"security\", \"pressure\", \"level\", \"amount\", \"close\", \"fall\", \"buy\", \"low\", \"market\", \"major\", \"support\", \"yesterday\", \"month\", \"tonne\", \"sugar\", \"grain\", \"crop\", \"season\", \"farmer\", \"soviet\", \"region\", \"harvest\", \"technology\", \"attribute\", \"rain\", \"vegetable\", \"storage\", \"mill\", \"complaint\", \"planting\", \"protest\", \"cereal\", \"normally\", \"hectare\", \"rainfall\", \"province\", \"city\", \"programme\", \"elsewhere\", \"distributor\", \"finish\", \"waste\", \"processor\", \"area\", \"week\", \"estimate\", \"delivery\", \"total\", \"indicate\", \"report\", \"exporter\", \"last\", \"receive\", \"purchase\", \"stock\", \"common\", \"march\", \"grower\", \"corporate\", \"together\", \"trust\", \"portion\", \"link\", \"formal\", \"creditor\", \"stockholder\", \"equal\", \"peso\", \"philippine\", \"surprise\", \"president\", \"insure\", \"hostile\", \"preference\", \"hike\", \"defensive\", \"mail\", \"lawsuit\", \"scandal\", \"dividend\", \"share\", \"fraud\", \"chief\", \"amount\", \"increase\", \"raise\", \"sale\", \"asset\", \"division\", \"special\", \"property\", \"equipment\", \"regular\", \"information\", \"relate\", \"computer\", \"communication\", \"chemical\", \"nominal\", \"assumption\", \"immediately_available\", \"successfully\", \"machine\", \"disposition\", \"dispose\", \"brand\", \"display\", \"turnover\", \"operate\", \"product\", \"indicate\", \"home\", \"account\", \"business\", \"store\", \"retail\", \"oil\", \"crude\", \"barrel\", \"revise\", \"morning\", \"assistance\", \"comprise\", \"bpd\", \"refining\", \"outright\", \"reserve\", \"shortage\", \"day\", \"estimate\", \"provide\", \"today\", \"compare\", \"bill\", \"total\", \"give\", \"exploration\", \"petroleum\", \"refinery\", \"foot\", \"attack\", \"band\", \"condensate\", \"trillion_cubic\", \"alaskan\", \"eia\", \"prove\", \"early\", \"ton\", \"dlrs\", \"incentive\", \"facility\", \"system\", \"number\", \"develop\", \"department\", \"national\", \"review\", \"launch\", \"discussion\", \"employee\", \"progress\", \"chairman\", \"overall\", \"european_community\", \"method\", \"drain\", \"refer\", \"recommend\", \"employ\", \"employment\", \"mostly\", \"usda\", \"housing\", \"tin\", \"healthy\", \"diversify\", \"circulation\", \"downturn\", \"stance\", \"inadequate\", \"willingness\", \"officer\", \"people\", \"bad\", \"food\", \"hand\", \"primary\", \"note\", \"take\", \"record\", \"proposal\", \"prior\", \"final\", \"vote\", \"strike\", \"worker\", \"union\", \"court\", \"legal\", \"send\", \"duty\", \"cargo\", \"procedure\", \"workforce\", \"judgment\", \"ruling\", \"exceptional\", \"loading\", \"pay\", \"indicate\", \"dividend\", \"may\", \"represent\", \"authority\", \"payable\", \"qtly\", \"div\", \"payout_qtly\", \"wage\", \"propose\", \"loan\", \"payment\", \"post\", \"settlement\", \"medium\", \"suspend\", \"resume\", \"status\", \"lender\", \"mature\", \"owe\", \"suspension\", \"optimism\", \"dinar\", \"commercial\", \"debt\", \"credit\", \"bank\", \"account\", \"cash\", \"interest\", \"income\", \"budget\", \"facility\", \"brazilian\", \"certificate\", \"nonperforme\", \"line\", \"pinola\", \"default\", \"reduce\", \"dlrs\", \"place\", \"day\", \"receive\", \"cent\", \"datum\", \"initial\", \"declare\", \"overseas\", \"rubber\", \"bonus\", \"ratio\", \"profitable\", \"reverse\", \"offshore\", \"dlr\", \"have\", \"type\", \"element\", \"tobacco\", \"man\", \"authorise\", \"comparable\", \"absorb\", \"revaluation\", \"commodity\", \"enlarge\", \"payable\", \"head\", \"extraordinary\", \"distribution\", \"cattle\", \"holder\", \"gazetted\", \"additional\", \"exploration\", \"split\", \"adjust\", \"matter\", \"serve\", \"purpose\", \"party\", \"previously_announce\", \"dilute\", \"flexibility\", \"set\", \"else\", \"date\", \"payable\", \"authorize\", \"payout\", \"holder\", \"prefer\", \"qtly\", \"distribute\", \"omit\", \"distribution\", \"presplit\", \"class\", \"board_declare\", \"spokeswoman\", \"uniforce\", \"diluted\", \"up\", \"payout_qtly\", \"pier\", \"certificate\", \"discontinued_operation\", \"completion\", \"delegate\", \"management\", \"present\", \"standard\", \"canadian\", \"agriculture\", \"agricultural\", \"farm\", \"insurance\", \"fluctuation\", \"active\", \"intention\", \"rice\", \"register\", \"allocate\", \"depressed\", \"reuter\", \"select\", \"priority\", \"track\", \"global\", \"monitor\", \"urgent\", \"bilateral\", \"consensus\", \"walli\", \"acre\", \"course\", \"discount\", \"conclusion\", \"do\", \"adviser\", \"identify\", \"delegate\", \"committee\", \"facility\", \"management\", \"present\"], \"Freq\": [6206.0, 33902.0, 3768.0, 4867.0, 3388.0, 4685.0, 4750.0, 9125.0, 3497.0, 2717.0, 3699.0, 3580.0, 5547.0, 4490.0, 3485.0, 2420.0, 2661.0, 5413.0, 2756.0, 4016.0, 1683.0, 1753.0, 1790.0, 5817.0, 1933.0, 971.0, 1215.0, 1886.0, 1949.0, 1141.0, 2083.6298828125, 1922.562255859375, 1066.44384765625, 913.2304077148438, 724.519775390625, 703.082275390625, 683.5535888671875, 636.18017578125, 629.08154296875, 616.3272094726562, 589.5177612304688, 482.44952392578125, 462.5384521484375, 456.324462890625, 455.50506591796875, 413.6646728515625, 412.9015808105469, 392.08734130859375, 385.7619323730469, 369.08697509765625, 353.3276672363281, 341.7828369140625, 341.3170471191406, 341.1704406738281, 331.1978454589844, 318.4928283691406, 314.5968322753906, 298.2643737792969, 296.6287841796875, 290.9674377441406, 475.917724609375, 546.1160278320312, 705.0209350585938, 1461.1063232421875, 721.246826171875, 5075.6806640625, 435.36688232421875, 1471.78759765625, 1489.0306396484375, 952.5916137695312, 1425.234130859375, 722.8070068359375, 657.409423828125, 16646.658203125, 2990.833984375, 1017.0092163085938, 628.8768920898438, 1482.0513916015625, 1424.2730712890625, 691.4351196289062, 746.8677978515625, 1468.8240966796875, 1598.690673828125, 971.1607666015625, 1073.123046875, 975.4348754882812, 965.0626220703125, 782.162109375, 762.5353393554688, 704.2826538085938, 2439.663818359375, 1553.943359375, 1147.4437255859375, 1004.0576782226562, 977.0346069335938, 787.1033935546875, 752.2969970703125, 744.4243774414062, 743.6557006835938, 742.2897338867188, 741.060791015625, 613.5346069335938, 499.39959716796875, 417.26080322265625, 399.5775146484375, 394.9344787597656, 382.88067626953125, 363.0332336425781, 329.3162536621094, 277.311767578125, 228.08566284179688, 226.63502502441406, 221.78067016601562, 219.86631774902344, 5519.50390625, 212.05125427246094, 208.75961303710938, 189.59542846679688, 189.1604461669922, 780.4822387695312, 241.9631805419922, 876.86474609375, 1804.3031005859375, 452.7785339355469, 843.5748291015625, 478.8324279785156, 891.7149658203125, 1256.3975830078125, 1310.3355712890625, 3970.4228515625, 11070.259765625, 581.537841796875, 874.189697265625, 708.2406005859375, 629.8328857421875, 1785.906494140625, 882.97412109375, 773.98046875, 1043.7677001953125, 1143.9130859375, 768.8080444335938, 789.268310546875, 720.548095703125, 727.6354370117188, 1840.5433349609375, 714.0806274414062, 626.1177368164062, 554.723388671875, 516.1774291992188, 796.2423706054688, 374.0134582519531, 337.2275085449219, 318.7137756347656, 316.3853759765625, 258.565185546875, 237.82064819335938, 220.7729949951172, 196.9334259033203, 193.68348693847656, 179.1790008544922, 168.77468872070312, 159.4810028076172, 146.2109375, 139.9442596435547, 137.96267700195312, 135.182373046875, 134.01597595214844, 132.37094116210938, 130.5965576171875, 121.8863296508789, 112.56782531738281, 106.79924774169922, 105.65161895751953, 104.52852630615234, 3895.971923828125, 1367.168212890625, 2156.126708984375, 525.0658569335938, 784.923583984375, 1995.0599365234375, 1020.5172729492188, 1971.667236328125, 7523.197265625, 1376.8709716796875, 607.1905517578125, 1318.162841796875, 2347.614013671875, 1864.751953125, 379.72625732421875, 1712.3912353515625, 337.8326110839844, 1272.3173828125, 649.6688842773438, 1803.0382080078125, 778.2088623046875, 873.5422973632812, 2076.12890625, 901.4351196289062, 5445.71728515625, 928.6983642578125, 737.5420532226562, 606.601318359375, 689.9096069335938, 2755.306396484375, 1932.5206298828125, 1885.62646484375, 905.3294677734375, 804.9322509765625, 767.7855224609375, 720.1571044921875, 695.6917114257812, 599.8765869140625, 579.8580932617188, 530.9943237304688, 464.48663330078125, 451.4265441894531, 410.93218994140625, 388.1288146972656, 369.8868408203125, 331.8971252441406, 317.1212158203125, 301.9915466308594, 291.31536865234375, 446.699462890625, 274.38446044921875, 259.8413391113281, 243.18565368652344, 240.10540771484375, 228.4897918701172, 227.91497802734375, 208.9597930908203, 165.36180114746094, 154.09335327148438, 907.2373657226562, 409.00311279296875, 490.7290954589844, 458.6211242675781, 634.4730224609375, 344.8239440917969, 368.3798522949219, 368.4518737792969, 391.7566833496094, 399.2523193359375, 514.6317138671875, 577.3590087890625, 1482.6375732421875, 1056.45458984375, 947.1654663085938, 934.3342895507812, 890.8063354492188, 556.6214599609375, 384.3526611328125, 330.8630676269531, 320.8229675292969, 302.17230224609375, 230.10174560546875, 213.5796661376953, 205.93319702148438, 203.9738311767578, 192.93426513671875, 178.2833251953125, 170.468994140625, 153.5777130126953, 146.36195373535156, 145.0932159423828, 144.28768920898438, 140.91140747070312, 133.04190063476562, 128.81088256835938, 124.04727935791016, 112.74273681640625, 112.201416015625, 99.94090270996094, 98.59862518310547, 98.50446319580078, 2978.557861328125, 431.2538757324219, 412.2355651855469, 893.058349609375, 484.30267333984375, 455.3355712890625, 235.48985290527344, 655.9191284179688, 708.3060302734375, 963.0916748046875, 285.13409423828125, 411.38922119140625, 386.4764099121094, 361.1816101074219, 307.2862548828125, 320.08416748046875, 262.8067321777344, 282.8184509277344, 314.7778625488281, 283.0651550292969, 253.4417724609375, 4866.076171875, 4749.47412109375, 3698.337890625, 3578.925048828125, 286.2995910644531, 271.28070068359375, 243.2677459716797, 137.59474182128906, 83.7838134765625, 66.42733001708984, 65.06217956542969, 17.831722259521484, 8.360541343688965, 446.7248840332031, 358.4367980957031, 1242.4593505859375, 627.7061767578125, 1014.4124145507812, 955.9786987304688, 59.96255874633789, 68.82513427734375, 116.00308990478516, 404.192626953125, 143.84873962402344, 1374.6199951171875, 182.18907165527344, 160.6625518798828, 290.859130859375, 246.07666015625, 135.9138946533203, 1086.5684814453125, 553.8003540039062, 87.75874328613281, 75.11832427978516, 4684.08056640625, 578.6514282226562, 553.2697143554688, 546.3871459960938, 505.66650390625, 501.3784484863281, 329.5772705078125, 319.6797790527344, 306.7320556640625, 303.0226745605469, 300.5370178222656, 270.4372863769531, 267.8884582519531, 189.41014099121094, 178.6055145263672, 169.76611328125, 169.588134765625, 167.93331909179688, 155.8015899658203, 152.06472778320312, 148.38124084472656, 145.98818969726562, 144.94053649902344, 137.93336486816406, 137.56326293945312, 134.65618896484375, 134.49989318847656, 132.19149780273438, 131.83612060546875, 130.87469482421875, 1031.5120849609375, 640.4097290039062, 206.26011657714844, 235.5666961669922, 318.1116943359375, 513.30810546875, 445.4093017578125, 247.8992462158203, 351.9851989746094, 253.84213256835938, 521.8533935546875, 403.1661071777344, 326.34564208984375, 344.60797119140625, 265.5711669921875, 279.0758361816406, 275.4666748046875, 289.5783386230469, 237.59201049804688, 982.6875, 958.0795288085938, 797.3419189453125, 734.3685913085938, 632.3705444335938, 502.5067138671875, 478.4990234375, 452.9206237792969, 302.9486389160156, 292.1330871582031, 276.24810791015625, 228.84425354003906, 225.0970916748047, 220.7330780029297, 190.52696228027344, 187.5677947998047, 184.31906127929688, 178.52455139160156, 171.2599639892578, 169.21180725097656, 168.29196166992188, 167.7989501953125, 167.00643920898438, 166.1021728515625, 164.2194366455078, 146.7643280029297, 132.19039916992188, 124.0706787109375, 115.85863494873047, 113.7396011352539, 529.9755859375, 1159.344482421875, 391.75897216796875, 464.5519714355469, 562.898681640625, 526.7825927734375, 437.29864501953125, 380.5484313964844, 381.0273742675781, 418.3524475097656, 458.17913818359375, 260.98822021484375, 402.06744384765625, 219.2372283935547, 224.02273559570312, 229.22328186035156, 3496.065185546875, 1195.784423828125, 618.6704711914062, 439.7029113769531, 281.81182861328125, 204.74525451660156, 131.03436279296875, 97.71064758300781, 72.22222900390625, 67.24665832519531, 52.201629638671875, 47.278160095214844, 45.42878723144531, 41.781898498535156, 40.27615737915039, 33.93543243408203, 26.81535530090332, 21.432401657104492, 16.14711570739746, 202.78497314453125, 560.7213745117188, 84.41084289550781, 399.0284118652344, 428.7263488769531, 269.26336669921875, 1166.2099609375, 559.5524291992188, 54.833580017089844, 53.49161911010742, 535.42236328125, 273.9862976074219, 1286.395751953125, 274.2072448730469, 341.3222961425781, 105.15261840820312, 255.49990844726562, 166.5960693359375, 130.0143280029297, 87.62504577636719, 155.5053253173828, 138.1679229736328, 151.08731079101562, 113.01293182373047, 119.31346893310547, 92.13993835449219, 1789.80810546875, 1023.5931396484375, 884.3363037109375, 882.8033447265625, 361.0517272949219, 246.20751953125, 229.9618682861328, 171.16079711914062, 161.10043334960938, 52.547420501708984, 44.50279235839844, 39.735321044921875, 33.74323654174805, 1071.2994384765625, 12.190559387207031, 1025.0218505859375, 87.69023895263672, 119.62029266357422, 110.51448822021484, 89.7447738647461, 68.5961685180664, 213.5135040283203, 647.2599487304688, 126.42375183105469, 70.95458221435547, 242.3665008544922, 98.75005340576172, 107.9675521850586, 249.11766052246094, 226.08352661132812, 167.81613159179688, 212.54519653320312, 83.4128646850586, 73.73789978027344, 65.88427734375, 65.99186706542969, 1752.3564453125, 729.6790771484375, 647.4903564453125, 522.3491821289062, 307.5522766113281, 295.7410583496094, 259.3456115722656, 236.8614959716797, 202.3981170654297, 192.66085815429688, 182.29127502441406, 170.7498016357422, 139.6524658203125, 134.31568908691406, 106.22759246826172, 104.32567596435547, 96.81591796875, 96.27880859375, 92.87284088134766, 81.6163330078125, 75.5047836303711, 70.7739028930664, 69.14103698730469, 66.83531951904297, 55.10479736328125, 53.90170669555664, 48.80119323730469, 42.91306686401367, 29.08847999572754, 26.990543365478516, 282.3728332519531, 491.9083251953125, 328.0027770996094, 103.6099624633789, 237.4230194091797, 96.0946044921875, 222.66616821289062, 112.34636688232422, 160.57119750976562, 113.6737289428711, 84.5157241821289, 2716.267333984375, 1214.921142578125, 191.94610595703125, 185.79299926757812, 163.49205017089844, 146.50698852539062, 133.01480102539062, 121.13585662841797, 116.53947448730469, 114.94808959960938, 112.03443908691406, 107.04950714111328, 106.39342498779297, 92.48783111572266, 91.99281311035156, 63.61448287963867, 48.2111701965332, 42.40161895751953, 41.32735061645508, 30.70119857788086, 26.933683395385742, 24.700918197631836, 21.25067710876465, 17.894832611083984, 7.621488094329834, 763.0037841796875, 1681.168701171875, 0.24592985212802887, 16.30225944519043, 82.43830108642578, 144.41909790039062, 25.825956344604492, 3767.4306640625, 829.240966796875, 283.9632263183594, 277.4105224609375, 276.9516906738281, 241.00067138671875, 216.0391845703125, 191.12173461914062, 176.43600463867188, 153.64218139648438, 124.15686798095703, 84.8281021118164, 63.667877197265625, 47.87464904785156, 41.6699333190918, 27.93865966796875, 24.76625633239746, 17.414501190185547, 17.139307022094727, 14.443958282470703, 9.699721336364746, 366.2190856933594, 332.9170227050781, 280.2509765625, 49.91871643066406, 11.641677856445312, 52.87074661254883, 68.59391784667969, 0.05891170725226402, 0.058900199830532074, 3387.292724609375, 626.6781616210938, 599.6717529296875, 471.7353820800781, 445.34014892578125, 161.1725311279297, 153.41445922851562, 123.054443359375, 70.04788970947266, 20.03900909423828, 639.2131958007812, 106.2520523071289, 308.9132385253906, 185.24935913085938, 99.07965087890625, 154.4255828857422, 87.45065307617188, 43.14970016479492, 116.30876159667969, 65.78087615966797, 0.054824601858854294, 0.05479850992560387, 0.05479566007852554, 0.05479370802640915, 0.054793067276477814, 0.05479022487998009, 0.05478931590914726, 0.05478912219405174, 0.05478937551379204, 0.05478907376527786, 0.05479114502668381, 59.3568115234375, 0.054794393479824066, 47.50946807861328, 0.054790958762168884, 0.05479160696268082, 979.8750610351562, 541.3265991210938, 335.9680480957031, 319.3092041015625, 316.61883544921875, 274.909423828125, 246.56179809570312, 229.9427032470703, 210.31495666503906, 188.46908569335938, 182.12240600585938, 181.3524932861328, 161.10186767578125, 140.84152221679688, 139.826416015625, 128.8494110107422, 121.22645568847656, 113.6520004272461, 89.68795013427734, 79.70792388916016, 78.24918365478516, 73.54335021972656, 72.75078582763672, 65.9815673828125, 52.1667594909668, 49.60616683959961, 48.624908447265625, 46.49764633178711, 43.91504669189453, 43.10802459716797, 164.19049072265625, 175.164306640625, 162.32952880859375, 166.6023406982422, 88.0182113647461, 85.27339172363281, 197.18592834472656, 84.28880310058594, 1682.6038818359375, 697.9413452148438, 519.5806884765625, 402.21630859375, 367.9032287597656, 332.3947448730469, 271.05535888671875, 231.50103759765625, 227.48609924316406, 135.0012664794922, 130.86207580566406, 125.81941223144531, 114.11394500732422, 42.77170181274414, 38.59135437011719, 36.288875579833984, 34.80205535888672, 25.958227157592773, 8.088621139526367, 594.4718627929688, 93.8585433959961, 478.538330078125, 732.77197265625, 25.177045822143555, 9.617951393127441, 0.050888266414403915, 0.05086144804954529, 0.05085853859782219, 0.05084971338510513, 0.05084696039557457, 3.146987199783325, 774.9159545898438, 769.69091796875, 284.04559326171875, 206.38795471191406, 109.46224975585938, 106.5235366821289, 84.7483139038086, 75.31668853759766, 45.89360809326172, 40.71220779418945, 39.44839859008789, 32.97013473510742, 23.890174865722656, 8.512951850891113, 230.37872314453125, 906.6154174804688, 411.6746520996094, 847.0003662109375, 118.79853057861328, 119.04389190673828, 157.34837341308594, 67.40612030029297, 34.60758590698242, 0.05430217459797859, 0.05429719015955925, 0.05429607257246971, 0.05429010093212128, 0.054295655339956284, 0.054288651794195175, 0.0542883537709713, 46.25978469848633, 128.9745330810547, 7.673469066619873, 19.437772750854492, 10.28438663482666, 549.153076171875, 231.37232971191406, 224.13262939453125, 203.88653564453125, 187.4969024658203, 146.74343872070312, 122.1410903930664, 116.25135040283203, 114.18451690673828, 101.50748443603516, 94.97024536132812, 58.01615905761719, 52.349586486816406, 51.17476272583008, 42.0465087890625, 40.7155876159668, 40.34370422363281, 34.94453430175781, 32.49992752075195, 23.270551681518555, 20.603349685668945, 204.67567443847656, 0.9337518215179443, 0.053825993090867996, 0.053815990686416626, 0.05381548032164574, 0.05381723493337631, 0.05381008982658386, 0.053812820464372635, 0.05380826070904732, 0.05381304770708084, 0.053810302168130875, 694.7406005859375, 259.80914306640625, 105.42572784423828, 100.80098724365234, 91.19469451904297, 89.7441635131836, 39.40460205078125, 38.61632537841797, 31.030799865722656, 932.712890625, 18.881776809692383, 72.02283477783203, 0.04982106015086174, 0.04978286847472191, 0.04977976903319359, 0.049777835607528687, 0.049777355045080185, 0.049771085381507874, 0.04977051541209221, 0.04976768419146538, 0.04977019876241684, 0.04976508021354675, 0.04976798593997955, 0.04976412653923035, 0.04976554214954376, 0.049762699753046036, 0.049762699753046036, 0.04976211488246918, 0.04976295679807663, 0.049762338399887085, 0.04976575821638107, 0.04976434260606766, 0.049763429909944534, 0.049764569848775864, 0.049763958901166916, 0.049764156341552734, 365.3265075683594, 356.6887512207031, 296.8550720214844, 295.1877746582031, 282.9490051269531, 143.76425170898438, 116.9530029296875, 89.90055084228516, 78.79025268554688, 75.95590209960938, 66.20299530029297, 50.398475646972656, 46.44872283935547, 38.21588897705078, 27.037403106689453, 0.05006988346576691, 0.050069231539964676, 0.05006813630461693, 0.05006701126694679, 0.05006525292992592, 0.05006708204746246, 0.050064098089933395, 0.05006340891122818, 0.05006669461727142, 0.050064146518707275, 0.050065018236637115, 0.05006374046206474, 0.050064846873283386, 0.05006294324994087, 0.05006321892142296, 0.050066594034433365, 0.05006391927599907, 0.05006542429327965, 0.05006486177444458, 0.0500650517642498], \"Total\": [6206.0, 33902.0, 3768.0, 4867.0, 3388.0, 4685.0, 4750.0, 9125.0, 3497.0, 2717.0, 3699.0, 3580.0, 5547.0, 4490.0, 3485.0, 2420.0, 2661.0, 5413.0, 2756.0, 4016.0, 1683.0, 1753.0, 1790.0, 5817.0, 1933.0, 971.0, 1215.0, 1886.0, 1949.0, 1141.0, 2084.694580078125, 1923.6275634765625, 1067.5091552734375, 914.2954711914062, 725.5848388671875, 704.1473388671875, 684.61865234375, 637.2452392578125, 630.1466064453125, 617.3922729492188, 590.5828247070312, 483.5146789550781, 463.6036071777344, 457.3896179199219, 456.5702209472656, 414.7298278808594, 413.96673583984375, 393.1524963378906, 386.82708740234375, 370.1521301269531, 354.39630126953125, 342.8479919433594, 342.3822021484375, 342.235595703125, 332.26300048828125, 319.5579833984375, 315.6619873046875, 299.32952880859375, 297.6939392089844, 292.0325927734375, 479.1143798828125, 553.0322265625, 723.4519653320312, 1546.3631591796875, 743.0083618164062, 5817.06103515625, 443.2831726074219, 1666.6455078125, 1699.6337890625, 1059.5150146484375, 1671.7313232421875, 783.3515014648438, 714.691162109375, 33902.90625, 4490.734375, 1228.3765869140625, 707.6779174804688, 2420.806884765625, 2469.2607421875, 857.3682250976562, 988.9075317382812, 3143.1025390625, 3665.376220703125, 1666.784912109375, 2294.71240234375, 1941.9302978515625, 2167.504638671875, 1268.240234375, 1646.516357421875, 986.5975341796875, 2440.73095703125, 1555.010986328125, 1148.5113525390625, 1005.1251831054688, 978.1021118164062, 788.1708984375, 753.364501953125, 745.4918823242188, 744.7232055664062, 743.3572387695312, 742.1282958984375, 614.6021118164062, 500.4671630859375, 418.328369140625, 400.64508056640625, 396.0020446777344, 383.9482421875, 364.1007995605469, 330.3838195800781, 278.37933349609375, 229.15321350097656, 227.70257568359375, 222.8482208251953, 220.93386840820312, 5547.27978515625, 213.11880493164062, 209.82716369628906, 190.66297912597656, 190.22799682617188, 785.6339721679688, 243.85606384277344, 915.1990966796875, 2031.41064453125, 476.2380065917969, 929.0887451171875, 511.31939697265625, 1011.7720947265625, 1504.721435546875, 1629.9486083984375, 6206.35595703125, 33902.90625, 706.4398193359375, 1343.58984375, 1045.0155029296875, 876.10986328125, 5413.9951171875, 1646.516357421875, 1310.740234375, 2469.2607421875, 3143.1025390625, 1509.38330078125, 1949.6192626953125, 1289.13720703125, 5817.06103515625, 1841.614013671875, 715.151123046875, 627.188232421875, 555.7938842773438, 517.2479248046875, 798.3057861328125, 375.083984375, 338.29803466796875, 319.7843017578125, 317.4559020996094, 259.6357116699219, 238.89117431640625, 221.84352111816406, 198.0039520263672, 194.75401306152344, 180.24952697753906, 169.84521484375, 160.55152893066406, 147.28146362304688, 141.01478576660156, 139.033203125, 136.25289916992188, 135.0865020751953, 133.44146728515625, 131.66708374023438, 122.95687103271484, 113.63836669921875, 107.86978912353516, 106.72216033935547, 105.59906768798828, 4016.293212890625, 1410.33837890625, 2328.004150390625, 551.388916015625, 837.3309936523438, 2218.72705078125, 1108.9837646484375, 2223.169189453125, 9125.359375, 1533.1806640625, 662.2979736328125, 1610.0457763671875, 3099.41748046875, 2531.974853515625, 434.8163146972656, 2625.084716796875, 386.9706726074219, 2052.316162109375, 911.3602294921875, 3665.376220703125, 1236.701171875, 1485.6590576171875, 5413.9951171875, 1576.7564697265625, 33902.90625, 1843.2657470703125, 1686.708984375, 887.8170776367188, 1675.166015625, 2756.3701171875, 1933.584716796875, 1886.6905517578125, 906.3934936523438, 805.9962768554688, 768.8495483398438, 721.2211303710938, 696.7557373046875, 600.9406127929688, 580.922119140625, 532.058349609375, 465.5506591796875, 452.4905700683594, 411.9962158203125, 389.1928405761719, 370.95086669921875, 332.9611511230469, 318.18524169921875, 303.0555725097656, 292.37939453125, 448.3392028808594, 275.448486328125, 260.9053649902344, 244.24966430664062, 241.16941833496094, 229.55380249023438, 228.97898864746094, 210.0238037109375, 166.42581176757812, 155.15736389160156, 1156.1485595703125, 605.0225830078125, 838.4989013671875, 842.818359375, 1747.1744384765625, 553.8778686523438, 676.675537109375, 785.9588623046875, 972.7513427734375, 1485.6590576171875, 9125.359375, 33902.90625, 1483.7091064453125, 1057.526123046875, 948.2368774414062, 935.4057006835938, 891.8777465820312, 557.69287109375, 385.4241027832031, 331.93450927734375, 321.8944091796875, 303.2437438964844, 231.17315673828125, 214.6510772705078, 207.00460815429688, 205.0452423095703, 194.00567626953125, 179.354736328125, 171.5404052734375, 154.6491241455078, 147.43336486816406, 146.1646270751953, 145.35910034179688, 141.98281860351562, 134.11331176757812, 129.88229370117188, 125.11871337890625, 113.81417083740234, 113.2728500366211, 101.01233673095703, 99.67005920410156, 99.57589721679688, 3485.323974609375, 466.87860107421875, 546.9490356445312, 1400.5989990234375, 688.823486328125, 699.1041259765625, 295.29443359375, 1234.0196533203125, 1453.1444091796875, 2294.71240234375, 393.963623046875, 693.1961059570312, 652.0257568359375, 972.7513427734375, 676.675537109375, 775.8161010742188, 539.6651000976562, 748.3809814453125, 1443.3629150390625, 1004.534912109375, 1082.5714111328125, 4867.15478515625, 4750.552734375, 3699.416748046875, 3580.00390625, 287.3786315917969, 272.3597412109375, 244.34677124023438, 138.67376708984375, 84.86286163330078, 67.50637817382812, 66.14122772216797, 18.91077423095703, 9.439590454101562, 504.7157897949219, 453.13238525390625, 1665.5028076171875, 950.7710571289062, 1747.1744384765625, 2254.330322265625, 146.25621032714844, 177.58963012695312, 362.2309265136719, 1400.5989990234375, 511.08795166015625, 5413.9951171875, 733.7532958984375, 703.3137817382812, 1610.0457763671875, 1443.3629150390625, 1045.0155029296875, 9125.359375, 6206.35595703125, 1156.1485595703125, 991.6909790039062, 4685.14306640625, 579.7140502929688, 554.3323364257812, 547.4497680664062, 506.7291259765625, 502.4410705566406, 330.639892578125, 320.7424011230469, 307.794677734375, 304.0852966308594, 301.5996398925781, 271.4999084472656, 268.9510803222656, 190.47274780273438, 179.673828125, 170.82872009277344, 170.65074157714844, 168.9959259033203, 156.86419677734375, 153.12733459472656, 149.44384765625, 147.05079650878906, 146.00314331054688, 138.9959716796875, 138.62586975097656, 135.7187957763672, 135.5625, 133.2541046142578, 132.8987274169922, 131.9373016357422, 1058.343994140625, 721.0610961914062, 216.4730224609375, 267.7231750488281, 462.3869934082031, 916.4213256835938, 760.1293334960938, 370.7604675292969, 733.1664428710938, 417.49176025390625, 2531.974853515625, 1675.166015625, 990.0145874023438, 1443.3629150390625, 785.842529296875, 1113.380126953125, 1373.5233154296875, 2167.504638671875, 1504.721435546875, 983.7522583007812, 959.144287109375, 798.4066772460938, 735.433349609375, 633.435302734375, 503.5715026855469, 479.5638122558594, 453.98541259765625, 304.013427734375, 293.1978759765625, 277.3128967285156, 229.9090118408203, 226.16184997558594, 221.79783630371094, 191.5917205810547, 188.63255310058594, 185.38381958007812, 179.5893096923828, 172.32472229003906, 170.2765655517578, 169.35671997070312, 168.86370849609375, 168.07119750976562, 167.16693115234375, 165.28419494628906, 147.82908630371094, 133.25515747070312, 125.13546752929688, 116.92342376708984, 114.80438995361328, 574.13525390625, 1949.6192626953125, 587.7646484375, 748.3809814453125, 1175.5167236328125, 1139.081298828125, 990.0145874023438, 766.3834228515625, 775.8161010742188, 1049.337646484375, 1289.13720703125, 446.02978515625, 1453.1444091796875, 307.2049560546875, 338.79180908203125, 724.780517578125, 3497.128173828125, 1196.84814453125, 619.73388671875, 440.76641845703125, 282.8753356933594, 205.80874633789062, 132.0978546142578, 98.77416229248047, 73.2857437133789, 68.31017303466797, 53.265140533447266, 48.341670989990234, 46.4922981262207, 42.84540939331055, 41.33966827392578, 34.99894332885742, 27.878870010375977, 22.49591636657715, 17.210630416870117, 225.38623046875, 687.537109375, 127.33477020263672, 785.842529296875, 905.5921630859375, 583.3421020507812, 2661.435791015625, 1411.0965576171875, 142.57321166992188, 148.0097198486328, 1509.38330078125, 842.818359375, 4490.734375, 942.2920532226562, 1941.9302978515625, 327.6651916503906, 1666.784912109375, 1049.337646484375, 703.3137817382812, 297.7667541503906, 2294.71240234375, 1675.166015625, 2625.084716796875, 2052.316162109375, 4016.293212890625, 781.0874633789062, 1790.890625, 1024.6756591796875, 885.418701171875, 883.8857421875, 362.13421630859375, 247.2899627685547, 231.0443115234375, 172.2432403564453, 162.18287658691406, 53.629878997802734, 45.58525085449219, 40.817779541015625, 34.8256950378418, 1141.3466796875, 13.273018836975098, 1246.42724609375, 108.74910736083984, 178.44642639160156, 229.62149047851562, 197.05543518066406, 205.0155029296875, 761.7813110351562, 2661.435791015625, 556.5418701171875, 394.1679992675781, 1373.5233154296875, 569.5538940429688, 724.780517578125, 2223.169189453125, 2031.41064453125, 1675.166015625, 4490.734375, 1268.240234375, 775.8161010742188, 909.5291137695312, 2625.084716796875, 1753.4132080078125, 730.7356567382812, 648.5469360351562, 523.40576171875, 308.6089172363281, 296.7976989746094, 260.4022521972656, 237.91810607910156, 203.45472717285156, 193.71746826171875, 183.34788513183594, 171.80641174316406, 140.70907592773438, 135.37229919433594, 107.28421783447266, 105.3823013305664, 97.87254333496094, 97.33543395996094, 93.9294662475586, 82.67295837402344, 76.56140899658203, 71.83052825927734, 70.19766235351562, 67.8919448852539, 56.16142272949219, 54.95832824707031, 49.857818603515625, 43.969688415527344, 30.145109176635742, 28.04717254638672, 664.7303466796875, 1941.9302978515625, 1150.4716796875, 254.50584411621094, 1686.708984375, 240.8187713623047, 2218.72705078125, 440.0067138671875, 3665.376220703125, 706.4398193359375, 929.0887451171875, 2717.33642578125, 1215.990478515625, 193.01536560058594, 186.8622589111328, 164.56130981445312, 147.5762481689453, 134.0840606689453, 122.20511627197266, 117.60873413085938, 116.01734924316406, 113.10369873046875, 108.11876678466797, 107.46268463134766, 93.55709075927734, 93.06207275390625, 64.6837387084961, 49.280426025390625, 43.47087478637695, 42.3966064453125, 31.77046012878418, 28.002944946289062, 25.770179748535156, 22.31993865966797, 18.964094161987305, 8.690747261047363, 1242.5606689453125, 6206.35595703125, 1.3151906728744507, 110.50676727294922, 569.5538940429688, 2531.974853515625, 1058.343994140625, 3768.49755859375, 830.3080444335938, 285.0303039550781, 278.47760009765625, 278.0187683105469, 242.06776428222656, 217.1062774658203, 192.18882751464844, 177.5030975341797, 154.7092742919922, 125.22396087646484, 85.89519500732422, 64.73497009277344, 48.94174575805664, 42.737030029296875, 29.005760192871094, 25.833356857299805, 18.48160171508789, 18.20640754699707, 15.511056900024414, 10.766819953918457, 511.08795166015625, 581.1107788085938, 1149.1060791015625, 240.8187713623047, 103.70008087158203, 505.2089538574219, 1138.1060791015625, 1.1260943412780762, 1.1260895729064941, 3388.36376953125, 627.749267578125, 600.7428588867188, 472.80657958984375, 446.4113464355469, 162.2437286376953, 154.48565673828125, 124.12564849853516, 71.11909484863281, 21.110212326049805, 942.2920532226562, 166.70370483398438, 1049.337646484375, 1150.4716796875, 690.0065307617188, 1666.784912109375, 1108.9837646484375, 574.13525390625, 1686.708984375, 1082.3560791015625, 1.1261308193206787, 1.1260449886322021, 1.126047134399414, 1.126044750213623, 1.1260364055633545, 1.1260143518447876, 1.1260007619857788, 1.125999927520752, 1.1260077953338623, 1.1260017156600952, 1.1260443925857544, 2052.316162109375, 1.1261265277862549, 5413.9951171875, 1.1260621547698975, 1.1261311769485474, 980.9421997070312, 542.3937377929688, 337.0352478027344, 320.37640380859375, 317.68603515625, 275.97662353515625, 247.6289825439453, 231.0098876953125, 211.38214111328125, 189.53627014160156, 183.18959045410156, 182.419677734375, 162.16905212402344, 141.90870666503906, 140.8936004638672, 129.91659545898438, 122.29365539550781, 114.71920013427734, 90.7551498413086, 80.7751235961914, 79.3163833618164, 74.61054992675781, 73.81798553466797, 67.04876708984375, 53.233951568603516, 50.67335891723633, 49.692100524902344, 47.56483840942383, 44.98223876953125, 44.17521667480469, 203.5353546142578, 225.4438934326172, 224.5790252685547, 319.51373291015625, 140.2838134765625, 146.25621032714844, 1665.5028076171875, 1666.6455078125, 1683.67919921875, 699.0164184570312, 520.65576171875, 403.29144287109375, 368.9783630371094, 333.4698791503906, 272.1304931640625, 232.57618713378906, 228.56124877929688, 136.076416015625, 131.93722534179688, 126.89456176757812, 115.18909454345703, 43.84685134887695, 39.66650390625, 37.3640251159668, 35.87720489501953, 27.03338050842285, 9.163771629333496, 1073.1676025390625, 240.8187713623047, 1242.5606689453125, 2420.806884765625, 252.80081176757812, 178.44642639160156, 1.126238465309143, 1.126044511795044, 1.1260361671447754, 1.1260197162628174, 1.126082420349121, 964.6546630859375, 775.9876098632812, 770.7625732421875, 285.1172790527344, 207.4596710205078, 110.53395080566406, 107.5952377319336, 85.82001495361328, 76.38838958740234, 46.965309143066406, 41.78390884399414, 40.52009963989258, 34.04183578491211, 24.96187973022461, 9.584653854370117, 266.73077392578125, 1141.7918701171875, 703.3137817382812, 2661.435791015625, 505.2089538574219, 1011.7720947265625, 1509.38330078125, 733.7532958984375, 466.87860107421875, 1.1261311769485474, 1.126043438911438, 1.1260942220687866, 1.125998854637146, 1.126144528388977, 1.1260056495666504, 1.1260143518447876, 1038.514404296875, 5413.9951171875, 304.9951477050781, 1049.337646484375, 706.4398193359375, 550.2252197265625, 232.44451904296875, 225.20481872558594, 204.95872497558594, 188.569091796875, 147.8156280517578, 123.21327209472656, 117.32353210449219, 115.25669860839844, 102.57966613769531, 96.04242706298828, 59.088340759277344, 53.42176818847656, 52.246944427490234, 43.118690490722656, 41.78776931762695, 41.41588592529297, 36.01671600341797, 33.57210922241211, 24.34273338317871, 21.6755313873291, 310.3752136230469, 2.0059332847595215, 1.126238465309143, 1.1260448694229126, 1.1260679960250854, 1.126110315322876, 1.12601637840271, 1.1260881423950195, 1.1259961128234863, 1.1261097192764282, 1.1261308193206787, 695.8168334960938, 260.8853454589844, 106.501953125, 101.87721252441406, 92.27091979980469, 90.82038879394531, 40.48082733154297, 39.69255065917969, 32.107025146484375, 971.6831665039062, 19.9580020904541, 371.0930480957031, 1.126238465309143, 1.1260937452316284, 1.1260573863983154, 1.1260881423950195, 1.1261194944381714, 1.126044511795044, 1.126053810119629, 1.1260108947753906, 1.126110315322876, 1.1259973049163818, 1.126072645187378, 1.1259924173355103, 1.1260275840759277, 1.1259915828704834, 1.1259952783584595, 1.125990629196167, 1.1260197162628174, 1.1260071992874146, 1.1260942220687866, 1.1260666847229004, 1.126054286956787, 1.1261729001998901, 1.1261255741119385, 1.126155972480774, 366.4024353027344, 357.7646789550781, 297.9309997558594, 296.2637023925781, 284.0249328613281, 144.84017944335938, 118.0289306640625, 90.97647857666016, 79.86618041992188, 77.03182983398438, 67.27892303466797, 51.47439956665039, 47.5246467590332, 39.291812896728516, 28.11332893371582, 1.1260247230529785, 1.1260136365890503, 1.1260342597961426, 1.126031517982483, 1.1260017156600952, 1.1260476112365723, 1.1260038614273071, 1.125995397567749, 1.1260731220245361, 1.1260221004486084, 1.1260496377944946, 1.126021146774292, 1.126049518585205, 1.1260086297988892, 1.126022219657898, 1.1261729001998901, 1.1260539293289185, 1.1261311769485474, 1.1261255741119385, 1.126155972480774], \"Category\": [\"Default\", \"Default\", \"Default\", \"Default\", \"Default\", \"Default\", \"Default\", \"Default\", \"Default\", \"Default\", \"Default\", \"Default\", \"Default\", \"Default\", \"Default\", \"Default\", \"Default\", \"Default\", \"Default\", \"Default\", \"Default\", \"Default\", \"Default\", \"Default\", \"Default\", \"Default\", \"Default\", \"Default\", \"Default\", \"Default\", \"Topic1\", \"Topic1\", \"Topic1\", \"Topic1\", \"Topic1\", \"Topic1\", \"Topic1\", \"Topic1\", \"Topic1\", \"Topic1\", \"Topic1\", \"Topic1\", \"Topic1\", \"Topic1\", \"Topic1\", \"Topic1\", \"Topic1\", \"Topic1\", \"Topic1\", \"Topic1\", \"Topic1\", \"Topic1\", \"Topic1\", \"Topic1\", \"Topic1\", \"Topic1\", \"Topic1\", \"Topic1\", \"Topic1\", \"Topic1\", \"Topic1\", \"Topic1\", \"Topic1\", \"Topic1\", \"Topic1\", \"Topic1\", \"Topic1\", \"Topic1\", \"Topic1\", \"Topic1\", \"Topic1\", \"Topic1\", \"Topic1\", \"Topic1\", \"Topic1\", \"Topic1\", \"Topic1\", \"Topic1\", \"Topic1\", \"Topic1\", \"Topic1\", \"Topic1\", \"Topic1\", \"Topic1\", \"Topic1\", \"Topic1\", \"Topic1\", \"Topic1\", \"Topic1\", \"Topic1\", \"Topic2\", \"Topic2\", \"Topic2\", \"Topic2\", \"Topic2\", \"Topic2\", \"Topic2\", \"Topic2\", \"Topic2\", \"Topic2\", \"Topic2\", \"Topic2\", \"Topic2\", \"Topic2\", \"Topic2\", \"Topic2\", \"Topic2\", \"Topic2\", \"Topic2\", \"Topic2\", \"Topic2\", \"Topic2\", \"Topic2\", \"Topic2\", \"Topic2\", \"Topic2\", \"Topic2\", \"Topic2\", \"Topic2\", \"Topic2\", \"Topic2\", \"Topic2\", \"Topic2\", \"Topic2\", \"Topic2\", \"Topic2\", \"Topic2\", \"Topic2\", \"Topic2\", \"Topic2\", \"Topic2\", \"Topic2\", \"Topic2\", \"Topic2\", \"Topic2\", \"Topic2\", \"Topic2\", \"Topic2\", \"Topic2\", \"Topic2\", \"Topic2\", \"Topic2\", \"Topic2\", \"Topic2\", \"Topic3\", \"Topic3\", \"Topic3\", \"Topic3\", \"Topic3\", \"Topic3\", \"Topic3\", \"Topic3\", \"Topic3\", \"Topic3\", \"Topic3\", \"Topic3\", \"Topic3\", \"Topic3\", \"Topic3\", \"Topic3\", \"Topic3\", \"Topic3\", \"Topic3\", \"Topic3\", \"Topic3\", \"Topic3\", \"Topic3\", \"Topic3\", \"Topic3\", \"Topic3\", \"Topic3\", \"Topic3\", \"Topic3\", \"Topic3\", \"Topic3\", \"Topic3\", \"Topic3\", \"Topic3\", \"Topic3\", \"Topic3\", \"Topic3\", \"Topic3\", \"Topic3\", \"Topic3\", \"Topic3\", \"Topic3\", \"Topic3\", \"Topic3\", \"Topic3\", \"Topic3\", \"Topic3\", \"Topic3\", \"Topic3\", \"Topic3\", \"Topic3\", \"Topic3\", \"Topic3\", \"Topic3\", \"Topic3\", \"Topic3\", \"Topic3\", \"Topic3\", \"Topic3\", \"Topic4\", \"Topic4\", \"Topic4\", \"Topic4\", \"Topic4\", \"Topic4\", \"Topic4\", \"Topic4\", \"Topic4\", \"Topic4\", \"Topic4\", \"Topic4\", \"Topic4\", \"Topic4\", \"Topic4\", \"Topic4\", \"Topic4\", \"Topic4\", \"Topic4\", \"Topic4\", \"Topic4\", \"Topic4\", \"Topic4\", \"Topic4\", \"Topic4\", \"Topic4\", \"Topic4\", \"Topic4\", \"Topic4\", \"Topic4\", \"Topic4\", \"Topic4\", \"Topic4\", \"Topic4\", \"Topic4\", \"Topic4\", \"Topic4\", \"Topic4\", \"Topic4\", \"Topic4\", \"Topic4\", \"Topic4\", \"Topic5\", \"Topic5\", \"Topic5\", \"Topic5\", \"Topic5\", \"Topic5\", \"Topic5\", \"Topic5\", \"Topic5\", \"Topic5\", \"Topic5\", \"Topic5\", \"Topic5\", \"Topic5\", \"Topic5\", \"Topic5\", \"Topic5\", \"Topic5\", \"Topic5\", \"Topic5\", \"Topic5\", \"Topic5\", \"Topic5\", \"Topic5\", \"Topic5\", \"Topic5\", \"Topic5\", \"Topic5\", \"Topic5\", \"Topic5\", \"Topic5\", \"Topic5\", \"Topic5\", \"Topic5\", \"Topic5\", \"Topic5\", \"Topic5\", \"Topic5\", \"Topic5\", \"Topic5\", \"Topic5\", \"Topic5\", \"Topic5\", \"Topic5\", \"Topic5\", \"Topic5\", \"Topic5\", \"Topic5\", \"Topic5\", \"Topic5\", \"Topic5\", \"Topic6\", \"Topic6\", \"Topic6\", \"Topic6\", \"Topic6\", \"Topic6\", \"Topic6\", \"Topic6\", \"Topic6\", \"Topic6\", \"Topic6\", \"Topic6\", \"Topic6\", \"Topic6\", \"Topic6\", \"Topic6\", \"Topic6\", \"Topic6\", \"Topic6\", \"Topic6\", \"Topic6\", \"Topic6\", \"Topic6\", \"Topic6\", \"Topic6\", \"Topic6\", \"Topic6\", \"Topic6\", \"Topic6\", \"Topic6\", \"Topic6\", \"Topic6\", \"Topic6\", \"Topic6\", \"Topic7\", \"Topic7\", \"Topic7\", \"Topic7\", \"Topic7\", \"Topic7\", \"Topic7\", \"Topic7\", \"Topic7\", \"Topic7\", \"Topic7\", \"Topic7\", \"Topic7\", \"Topic7\", \"Topic7\", \"Topic7\", \"Topic7\", \"Topic7\", \"Topic7\", \"Topic7\", \"Topic7\", \"Topic7\", \"Topic7\", \"Topic7\", \"Topic7\", \"Topic7\", \"Topic7\", \"Topic7\", \"Topic7\", \"Topic7\", \"Topic7\", \"Topic7\", \"Topic7\", \"Topic7\", \"Topic7\", \"Topic7\", \"Topic7\", \"Topic7\", \"Topic7\", \"Topic7\", \"Topic7\", \"Topic7\", \"Topic7\", \"Topic7\", \"Topic7\", \"Topic7\", \"Topic7\", \"Topic7\", \"Topic7\", \"Topic8\", \"Topic8\", \"Topic8\", \"Topic8\", \"Topic8\", \"Topic8\", \"Topic8\", \"Topic8\", \"Topic8\", \"Topic8\", \"Topic8\", \"Topic8\", \"Topic8\", \"Topic8\", \"Topic8\", \"Topic8\", \"Topic8\", \"Topic8\", \"Topic8\", \"Topic8\", \"Topic8\", \"Topic8\", \"Topic8\", \"Topic8\", \"Topic8\", \"Topic8\", \"Topic8\", \"Topic8\", \"Topic8\", \"Topic8\", \"Topic8\", \"Topic8\", \"Topic8\", \"Topic8\", \"Topic8\", \"Topic8\", \"Topic8\", \"Topic8\", \"Topic8\", \"Topic8\", \"Topic8\", \"Topic8\", \"Topic8\", \"Topic8\", \"Topic8\", \"Topic8\", \"Topic9\", \"Topic9\", \"Topic9\", \"Topic9\", \"Topic9\", \"Topic9\", \"Topic9\", \"Topic9\", \"Topic9\", \"Topic9\", \"Topic9\", \"Topic9\", \"Topic9\", \"Topic9\", \"Topic9\", \"Topic9\", \"Topic9\", \"Topic9\", \"Topic9\", \"Topic9\", \"Topic9\", \"Topic9\", \"Topic9\", \"Topic9\", \"Topic9\", \"Topic9\", \"Topic9\", \"Topic9\", \"Topic9\", \"Topic9\", \"Topic9\", \"Topic9\", \"Topic9\", \"Topic9\", \"Topic9\", \"Topic9\", \"Topic9\", \"Topic9\", \"Topic9\", \"Topic9\", \"Topic9\", \"Topic9\", \"Topic9\", \"Topic9\", \"Topic9\", \"Topic10\", \"Topic10\", \"Topic10\", \"Topic10\", \"Topic10\", \"Topic10\", \"Topic10\", \"Topic10\", \"Topic10\", \"Topic10\", \"Topic10\", \"Topic10\", \"Topic10\", \"Topic10\", \"Topic10\", \"Topic10\", \"Topic10\", \"Topic10\", \"Topic10\", \"Topic10\", \"Topic10\", \"Topic10\", \"Topic10\", \"Topic10\", \"Topic10\", \"Topic10\", \"Topic10\", \"Topic10\", \"Topic10\", \"Topic10\", \"Topic10\", \"Topic10\", \"Topic10\", \"Topic10\", \"Topic10\", \"Topic10\", \"Topic11\", \"Topic11\", \"Topic11\", \"Topic11\", \"Topic11\", \"Topic11\", \"Topic11\", \"Topic11\", \"Topic11\", \"Topic11\", \"Topic11\", \"Topic11\", \"Topic11\", \"Topic11\", \"Topic11\", \"Topic11\", \"Topic11\", \"Topic11\", \"Topic11\", \"Topic11\", \"Topic11\", \"Topic11\", \"Topic11\", \"Topic11\", \"Topic11\", \"Topic11\", \"Topic11\", \"Topic11\", \"Topic11\", \"Topic11\", \"Topic11\", \"Topic11\", \"Topic11\", \"Topic11\", \"Topic11\", \"Topic11\", \"Topic11\", \"Topic11\", \"Topic11\", \"Topic11\", \"Topic11\", \"Topic12\", \"Topic12\", \"Topic12\", \"Topic12\", \"Topic12\", \"Topic12\", \"Topic12\", \"Topic12\", \"Topic12\", \"Topic12\", \"Topic12\", \"Topic12\", \"Topic12\", \"Topic12\", \"Topic12\", \"Topic12\", \"Topic12\", \"Topic12\", \"Topic12\", \"Topic12\", \"Topic12\", \"Topic12\", \"Topic12\", \"Topic12\", \"Topic12\", \"Topic12\", \"Topic12\", \"Topic12\", \"Topic12\", \"Topic12\", \"Topic12\", \"Topic12\", \"Topic13\", \"Topic13\", \"Topic13\", \"Topic13\", \"Topic13\", \"Topic13\", \"Topic13\", \"Topic13\", \"Topic13\", \"Topic13\", \"Topic13\", \"Topic13\", \"Topic13\", \"Topic13\", \"Topic13\", \"Topic13\", \"Topic13\", \"Topic13\", \"Topic13\", \"Topic13\", \"Topic13\", \"Topic13\", \"Topic13\", \"Topic13\", \"Topic13\", \"Topic13\", \"Topic13\", \"Topic13\", \"Topic13\", \"Topic13\", \"Topic14\", \"Topic14\", \"Topic14\", \"Topic14\", \"Topic14\", \"Topic14\", \"Topic14\", \"Topic14\", \"Topic14\", \"Topic14\", \"Topic14\", \"Topic14\", \"Topic14\", \"Topic14\", \"Topic14\", \"Topic14\", \"Topic14\", \"Topic14\", \"Topic14\", \"Topic14\", \"Topic14\", \"Topic14\", \"Topic14\", \"Topic14\", \"Topic14\", \"Topic14\", \"Topic14\", \"Topic14\", \"Topic14\", \"Topic14\", \"Topic14\", \"Topic14\", \"Topic14\", \"Topic14\", \"Topic14\", \"Topic14\", \"Topic15\", \"Topic15\", \"Topic15\", \"Topic15\", \"Topic15\", \"Topic15\", \"Topic15\", \"Topic15\", \"Topic15\", \"Topic15\", \"Topic15\", \"Topic15\", \"Topic15\", \"Topic15\", \"Topic15\", \"Topic15\", \"Topic15\", \"Topic15\", \"Topic15\", \"Topic15\", \"Topic15\", \"Topic15\", \"Topic15\", \"Topic15\", \"Topic15\", \"Topic15\", \"Topic15\", \"Topic15\", \"Topic15\", \"Topic15\", \"Topic15\", \"Topic15\", \"Topic15\", \"Topic15\", \"Topic15\", \"Topic15\", \"Topic15\", \"Topic15\", \"Topic16\", \"Topic16\", \"Topic16\", \"Topic16\", \"Topic16\", \"Topic16\", \"Topic16\", \"Topic16\", \"Topic16\", \"Topic16\", \"Topic16\", \"Topic16\", \"Topic16\", \"Topic16\", \"Topic16\", \"Topic16\", \"Topic16\", \"Topic16\", \"Topic16\", \"Topic16\", \"Topic16\", \"Topic16\", \"Topic16\", \"Topic16\", \"Topic16\", \"Topic16\", \"Topic16\", \"Topic16\", \"Topic16\", \"Topic16\", \"Topic16\", \"Topic17\", \"Topic17\", \"Topic17\", \"Topic17\", \"Topic17\", \"Topic17\", \"Topic17\", \"Topic17\", \"Topic17\", \"Topic17\", \"Topic17\", \"Topic17\", \"Topic17\", \"Topic17\", \"Topic17\", \"Topic17\", \"Topic17\", \"Topic17\", \"Topic17\", \"Topic17\", \"Topic17\", \"Topic17\", \"Topic17\", \"Topic17\", \"Topic17\", \"Topic17\", \"Topic17\", \"Topic17\", \"Topic17\", \"Topic17\", \"Topic17\", \"Topic17\", \"Topic17\", \"Topic17\", \"Topic17\", \"Topic18\", \"Topic18\", \"Topic18\", \"Topic18\", \"Topic18\", \"Topic18\", \"Topic18\", \"Topic18\", \"Topic18\", \"Topic18\", \"Topic18\", \"Topic18\", \"Topic18\", \"Topic18\", \"Topic18\", \"Topic18\", \"Topic18\", \"Topic18\", \"Topic18\", \"Topic18\", \"Topic18\", \"Topic18\", \"Topic18\", \"Topic18\", \"Topic18\", \"Topic18\", \"Topic18\", \"Topic18\", \"Topic18\", \"Topic18\", \"Topic18\", \"Topic18\", \"Topic19\", \"Topic19\", \"Topic19\", \"Topic19\", \"Topic19\", \"Topic19\", \"Topic19\", \"Topic19\", \"Topic19\", \"Topic19\", \"Topic19\", \"Topic19\", \"Topic19\", \"Topic19\", \"Topic19\", \"Topic19\", \"Topic19\", \"Topic19\", \"Topic19\", \"Topic19\", \"Topic19\", \"Topic19\", \"Topic19\", \"Topic19\", \"Topic19\", \"Topic19\", \"Topic19\", \"Topic19\", \"Topic19\", \"Topic19\", \"Topic19\", \"Topic19\", \"Topic19\", \"Topic19\", \"Topic19\", \"Topic19\", \"Topic20\", \"Topic20\", \"Topic20\", \"Topic20\", \"Topic20\", \"Topic20\", \"Topic20\", \"Topic20\", \"Topic20\", \"Topic20\", \"Topic20\", \"Topic20\", \"Topic20\", \"Topic20\", \"Topic20\", \"Topic20\", \"Topic20\", \"Topic20\", \"Topic20\", \"Topic20\", \"Topic20\", \"Topic20\", \"Topic20\", \"Topic20\", \"Topic20\", \"Topic20\", \"Topic20\", \"Topic20\", \"Topic20\", \"Topic20\", \"Topic20\", \"Topic20\", \"Topic20\", \"Topic20\", \"Topic20\"], \"logprob\": [30.0, 29.0, 28.0, 27.0, 26.0, 25.0, 24.0, 23.0, 22.0, 21.0, 20.0, 19.0, 18.0, 17.0, 16.0, 15.0, 14.0, 13.0, 12.0, 11.0, 10.0, 9.0, 8.0, 7.0, 6.0, 5.0, 4.0, 3.0, 2.0, 1.0, -4.077000141143799, -4.15749979019165, -4.746799945831299, -4.901899814605713, -5.133399963378906, -5.163400173187256, -5.1915998458862305, -5.263400077819824, -5.274600028991699, -5.295100212097168, -5.339600086212158, -5.539999961853027, -5.582200050354004, -5.595699787139893, -5.597499847412109, -5.69379997253418, -5.695700168609619, -5.747399806976318, -5.763700008392334, -5.8078999519348145, -5.851500034332275, -5.884699821472168, -5.886099815368652, -5.886499881744385, -5.916200160980225, -5.9552998542785645, -5.967599868774414, -6.020899772644043, -6.026400089263916, -6.0457000732421875, -5.553699970245361, -5.416100025177002, -5.160699844360352, -4.4319000244140625, -5.137899875640869, -3.1867001056671143, -5.6427001953125, -4.424699783325195, -4.413000106811523, -4.8597002029418945, -4.4567999839782715, -5.135799884796143, -5.230599880218506, -1.998900055885315, -3.71560001373291, -4.794300079345703, -5.275000095367432, -4.417699813842773, -4.457499980926514, -5.180099964141846, -5.103000164031982, -4.426700115203857, -4.3420000076293945, -4.840400218963623, -4.740600109100342, -4.835999965667725, -4.846700191497803, -5.05679988861084, -5.082200050354004, -5.1616997718811035, -3.5276999473571777, -3.9786999225616455, -4.2820000648498535, -4.415500164031982, -4.442800045013428, -4.658899784088135, -4.70419979095459, -4.714700222015381, -4.715700149536133, -4.717599868774414, -4.719200134277344, -4.908100128173828, -5.113900184631348, -5.293600082397461, -5.336900234222412, -5.348599910736084, -5.3796000480651855, -5.432799816131592, -5.530300140380859, -5.702199935913086, -5.897600173950195, -5.9039998054504395, -5.925600051879883, -5.934299945831299, -2.7112998962402344, -5.9704999923706055, -5.986100196838379, -6.082399845123291, -6.084700107574463, -4.667399883270264, -5.838500022888184, -4.550899982452393, -3.829400062561035, -5.211900234222412, -4.589600086212158, -5.155900001525879, -4.534200191497803, -4.191299915313721, -4.1493000984191895, -3.0406999588012695, -2.0153000354766846, -4.961599826812744, -4.553999900817871, -4.764500141143799, -4.881800174713135, -3.839600086212158, -4.544000148773193, -4.67579984664917, -4.376699924468994, -4.285099983215332, -4.682499885559082, -4.656199932098389, -4.747300148010254, -4.737500190734863, -3.6986000537872314, -4.645400047302246, -4.776899814605713, -4.897900104522705, -4.969900131225586, -4.536499977111816, -5.292099952697754, -5.395599842071533, -5.452099800109863, -5.459400177001953, -5.661300182342529, -5.744900226593018, -5.819300174713135, -5.933499813079834, -5.950200080871582, -6.0279998779296875, -6.087800025939941, -6.144499778747559, -6.231400012969971, -6.275199890136719, -6.289400100708008, -6.309800148010254, -6.318399906158447, -6.3308000564575195, -6.344299793243408, -6.413300037384033, -6.492800235748291, -6.545400142669678, -6.556300163269043, -6.56689977645874, -2.948699951171875, -3.9958999156951904, -3.540299892425537, -4.952899932861328, -4.55079984664917, -3.618000030517578, -4.288300037384033, -3.6298000812530518, -2.2906999588012695, -3.988800048828125, -4.807600021362305, -4.032400131225586, -3.455199956893921, -3.685499906539917, -5.276899814605713, -3.7708001136779785, -5.393799781799316, -4.067800045013428, -4.7399001121521, -3.7191998958587646, -4.5594000816345215, -4.44379997253418, -3.5780999660491943, -4.412399768829346, -2.613800048828125, -4.382599830627441, -4.613100051879883, -4.808499813079834, -4.679800033569336, -2.6702001094818115, -3.024899959564209, -3.0494000911712646, -3.783099889755249, -3.900700092315674, -3.9479000568389893, -4.01200008392334, -4.046500205993652, -4.194699764251709, -4.228700160980225, -4.316699981689453, -4.450500011444092, -4.479000091552734, -4.572999954223633, -4.630099773406982, -4.678199768066406, -4.786600112915039, -4.832200050354004, -4.88100004196167, -4.916999816894531, -4.48960018157959, -4.976900100708008, -5.031400203704834, -5.097599983215332, -5.110400199890137, -5.159999847412109, -5.162499904632568, -5.249300003051758, -5.48330020904541, -5.553899765014648, -3.7809998989105225, -4.577700138092041, -4.395599842071533, -4.463200092315674, -4.138599872589111, -4.7484002113342285, -4.682300090789795, -4.68209981918335, -4.620800018310547, -4.601900100708008, -4.3480000495910645, -4.232999801635742, -3.1077001094818115, -3.4465999603271484, -3.555799961090088, -3.5694000720977783, -3.6171998977661133, -4.087399959564209, -4.457699775695801, -4.607600212097168, -4.638400077819824, -4.698299884796143, -4.970799922943115, -5.045300006866455, -5.081699848175049, -5.091300010681152, -5.146900177001953, -5.225900173187256, -5.270699977874756, -5.375100135803223, -5.4232001304626465, -5.4319000244140625, -5.4375, -5.461100101470947, -5.518599987030029, -5.550899982452393, -5.588600158691406, -5.684199810028076, -5.689000129699707, -5.804699897766113, -5.81820011138916, -5.819200038909912, -2.410099983215332, -4.342599868774414, -4.387700080871582, -3.6145999431610107, -4.226600170135498, -4.2881999015808105, -4.9475998878479, -3.9231998920440674, -3.846400022506714, -3.539099931716919, -4.75629997253418, -4.389699935913086, -4.452199935913086, -4.519899845123291, -4.68149995803833, -4.640699863433838, -4.837900161743164, -4.764500141143799, -4.657400131225586, -4.763599872589111, -4.874100208282471, -1.7742999792099, -1.7985999584197998, -2.0487000942230225, -2.0815999507904053, -4.6072998046875, -4.661200046539307, -4.770199775695801, -5.340099811553955, -5.836100101470947, -6.068299770355225, -6.089000225067139, -7.383399963378906, -8.140800476074219, -4.162399768829346, -4.382599830627441, -3.1394999027252197, -3.8222999572753906, -3.3422999382019043, -3.401599884033203, -6.1707000732421875, -6.032800197601318, -5.510799884796143, -4.262499809265137, -5.295599937438965, -3.0383999347686768, -5.059299945831299, -5.185100078582764, -4.5914998054504395, -4.758699893951416, -5.352399826049805, -3.2736001014709473, -3.9475998878479004, -5.78980016708374, -5.945300102233887, -1.760599970817566, -3.851900100708008, -3.896699905395508, -3.9091999530792236, -3.9867000579833984, -3.9951999187469482, -4.41480016708374, -4.445199966430664, -4.486599922180176, -4.498799800872803, -4.506999969482422, -4.612500190734863, -4.622000217437744, -4.968699932098389, -5.027400016784668, -5.078100204467773, -5.07919979095459, -5.089000225067139, -5.164000034332275, -5.188300132751465, -5.212800025939941, -5.229000091552734, -5.236199855804443, -5.285799980163574, -5.28849983215332, -5.309800148010254, -5.310999870300293, -5.3282999992370605, -5.330999851226807, -5.3383002281188965, -3.2737998962402344, -3.750499963760376, -4.883399963378906, -4.7505998611450195, -4.450200080871582, -3.9716999530792236, -4.11359977722168, -4.69950008392334, -4.348999977111816, -4.675899982452393, -3.955199956893921, -4.213200092315674, -4.424600124359131, -4.370200157165527, -4.63070011138916, -4.581099987030029, -4.594099998474121, -4.544099807739258, -4.742000102996826, -3.1721999645233154, -3.1975998878479004, -3.381200075149536, -3.4635000228881836, -3.613100051879883, -3.842900037765503, -3.891900062561035, -3.9467999935150146, -4.348999977111816, -4.385300159454346, -4.441199779510498, -4.629499912261963, -4.645999908447266, -4.665599822998047, -4.812699794769287, -4.828400135040283, -4.845900058746338, -4.877799987792969, -4.919300079345703, -4.931399822235107, -4.936800003051758, -4.939799785614014, -4.944499969482422, -4.949900150299072, -4.961299896240234, -5.073699951171875, -5.178299903869629, -5.241700172424316, -5.310200214385986, -5.32859992980957, -3.7897000312805176, -3.0069000720977783, -4.091899871826172, -3.9214999675750732, -3.7293999195098877, -3.7957000732421875, -3.9818999767303467, -4.1209001541137695, -4.119699954986572, -4.026199817657471, -3.93530011177063, -4.4980998039245605, -4.065899848937988, -4.672399997711182, -4.6508002281188965, -4.627799987792969, -1.5788999795913696, -2.651700019836426, -3.310699939727783, -3.6521999835968018, -4.097099781036377, -4.416500091552734, -4.862800121307373, -5.156300067901611, -5.458600044250488, -5.529900074005127, -5.783199787139893, -5.882299900054932, -5.9222002029418945, -6.005799770355225, -6.042500019073486, -6.213799953460693, -6.4492998123168945, -6.673399925231934, -6.956600189208984, -4.426199913024902, -3.40910005569458, -5.302599906921387, -3.749300003051758, -3.677500009536743, -4.142600059509277, -2.676800012588501, -3.4112000465393066, -5.734000205993652, -5.758800029754639, -3.455199956893921, -4.125199794769287, -2.578700065612793, -4.1244001388549805, -3.9054999351501465, -5.082900047302246, -4.195099830627441, -4.622700214385986, -4.870699882507324, -5.265200138092041, -4.6915998458862305, -4.809800148010254, -4.720399856567383, -5.010799884796143, -4.956500053405762, -5.215000152587891, -1.8986999988555908, -2.4574999809265137, -2.603800058364868, -2.6054999828338623, -3.4995999336242676, -3.8824000358581543, -3.950700044631958, -4.245999813079834, -4.306600093841553, -5.4268999099731445, -5.5929999351501465, -5.706399917602539, -5.869800090789795, -2.4119999408721924, -6.887899875640869, -2.4560999870300293, -4.91480016708374, -4.604300022125244, -4.6834001541137695, -4.891600131988525, -5.160399913787842, -4.024899959564209, -2.915800094604492, -4.548999786376953, -5.1265997886657715, -3.898099899291992, -4.796000003814697, -4.7067999839782715, -3.870699882507324, -3.9677000045776367, -4.265699863433838, -4.029399871826172, -4.964799880981445, -5.088099956512451, -5.200699806213379, -5.199100017547607, -1.8100999593734741, -2.686199903488159, -2.8057000637054443, -3.0204999446868896, -3.5501999855041504, -3.5892999172210693, -3.720599889755249, -3.811300039291382, -3.968600034713745, -4.017899990081787, -4.073200225830078, -4.138599872589111, -4.339600086212158, -4.378600120544434, -4.6132001876831055, -4.63129997253418, -4.705999851226807, -4.71150016784668, -4.747600078582764, -4.876800060272217, -4.954599857330322, -5.0192999839782715, -5.042600154876709, -5.076600074768066, -5.269599914550781, -5.291600227355957, -5.390999794006348, -5.519599914550781, -5.9085001945495605, -5.98330020904541, -3.6356000900268555, -3.0804998874664307, -3.48580002784729, -4.638199806213379, -3.809000015258789, -4.713500022888184, -3.8731000423431396, -4.557199954986572, -4.200099945068359, -4.545499801635742, -4.841899871826172, -1.2486000061035156, -2.0532000064849854, -3.898400068283081, -3.930999994277954, -4.058899879455566, -4.168600082397461, -4.265200138092041, -4.358699798583984, -4.39739990234375, -4.411200046539307, -4.436800003051758, -4.482399940490723, -4.488500118255615, -4.628600120544434, -4.633900165557861, -5.002799987792969, -5.280099868774414, -5.4085001945495605, -5.434100151062012, -5.731299877166748, -5.862299919128418, -5.948800086975098, -6.099299907684326, -6.271100044250488, -7.12470006942749, -2.518399953842163, -1.7283999919891357, -10.55840015411377, -6.364299774169922, -4.743599891662598, -4.1828999519348145, -5.904300212860107, -0.8592000007629395, -2.37280011177063, -3.444499969482422, -3.4677999019622803, -3.4695000648498535, -3.6085000038146973, -3.717900037765503, -3.840399980545044, -3.9203999042510986, -4.058700084686279, -4.2718000411987305, -4.652699947357178, -4.939599990844727, -5.224699974060059, -5.363500118255615, -5.763299942016602, -5.883800029754639, -6.236000061035156, -6.251999855041504, -6.422999858856201, -6.821199893951416, -3.1900999546051025, -3.285399913787842, -3.4576001167297363, -5.1828999519348145, -6.638700008392334, -5.125500202178955, -4.865099906921387, -11.925000190734863, -11.925200462341309, -0.949999988079071, -2.637399911880493, -2.6814000606536865, -2.9214000701904297, -2.9790000915527344, -3.9953999519348145, -4.0447001457214355, -4.265200138092041, -4.828700065612793, -6.0802001953125, -2.6175999641418457, -4.4120001792907715, -3.3447999954223633, -3.856100082397461, -4.481900215148926, -4.038099765777588, -4.606800079345703, -5.313199996948242, -4.321599960327148, -4.891499996185303, -11.981399536132812, -11.981900215148926, -11.982000350952148, -11.982000350952148, -11.982000350952148, -11.982099533081055, -11.982099533081055, -11.982099533081055, -11.982099533081055, -11.982099533081055, -11.982099533081055, -4.99429988861084, -11.982000350952148, -5.216899871826172, -11.982099533081055, -11.982000350952148, -2.1120998859405518, -2.7054998874664307, -3.182499885559082, -3.2334001064300537, -3.24180006980896, -3.3831000328063965, -3.4918999671936035, -3.5617001056671143, -3.650899887084961, -3.7606000900268555, -3.7948999404907227, -3.799099922180176, -3.9175000190734863, -4.0518999099731445, -4.059100151062012, -4.140900135040283, -4.201900005340576, -4.26639986038208, -4.503200054168701, -4.621200084686279, -4.639599800109863, -4.701700210571289, -4.712500095367432, -4.810200214385986, -5.045100212097168, -5.095399856567383, -5.1153998374938965, -5.160099983215332, -5.217299938201904, -5.235799789428711, -3.8984999656677246, -3.8338000774383545, -3.909899950027466, -3.8838999271392822, -4.521999835968018, -4.553699970245361, -3.715399980545044, -4.565299987792969, -1.5707000494003296, -2.450700044631958, -2.745800018310547, -3.001800060272217, -3.0910000801086426, -3.192500114440918, -3.3965001106262207, -3.5541999340057373, -3.571700096130371, -4.093500137329102, -4.12470006942749, -4.164000034332275, -4.261600017547607, -5.2428998947143555, -5.345799922943115, -5.407299995422363, -5.449100017547607, -5.742300033569336, -6.908299922943115, -2.6110999584198, -4.456999778747559, -2.8280999660491943, -2.4019999504089355, -5.772900104522705, -6.735199928283691, -11.976900100708008, -11.977499961853027, -11.977499961853027, -11.977700233459473, -11.977700233459473, -7.852399826049805, -2.125, -2.1317999362945557, -3.1285998821258545, -3.447999954223633, -4.082200050354004, -4.109399795532227, -4.338099956512451, -4.456099987030029, -4.951399803161621, -5.071199893951416, -5.102799892425537, -5.282199859619141, -5.604300022125244, -6.636199951171875, -3.3380000591278076, -1.968000054359436, -2.757499933242798, -2.036099910736084, -4.00029993057251, -3.998300075531006, -3.7193000316619873, -4.566999912261963, -5.233699798583984, -11.690899848937988, -11.690999984741211, -11.691100120544434, -11.691200256347656, -11.691100120544434, -11.691200256347656, -11.691200256347656, -4.94350004196167, -3.918100118637085, -6.739999771118164, -5.810500144958496, -6.4471001625061035, -1.8427000045776367, -2.7070000171661377, -2.738800048828125, -2.8334999084472656, -2.91729998588562, -3.162400007247925, -3.345900058746338, -3.3952999114990234, -3.413300037384033, -3.530900001525879, -3.5975000858306885, -4.0903000831604, -4.1930999755859375, -4.215799808502197, -4.412300109863281, -4.444499969482422, -4.45359992980957, -4.597300052642822, -4.6697998046875, -5.003900051116943, -5.1255998611450195, -2.8296000957489014, -8.219599723815918, -11.073100090026855, -11.0733003616333, -11.0733003616333, -11.073200225830078, -11.073399543762207, -11.0733003616333, -11.073399543762207, -11.0733003616333, -11.073399543762207, -1.524399995803833, -2.507999897003174, -3.409899950027466, -3.4547998905181885, -3.5548999309539795, -3.571000099182129, -4.394000053405762, -4.4141998291015625, -4.632900238037109, -1.2297999858856201, -5.129700183868408, -3.7908999919891357, -11.06719970703125, -11.067999839782715, -11.068099975585938, -11.068099975585938, -11.068099975585938, -11.06820011138916, -11.068300247192383, -11.068300247192383, -11.068300247192383, -11.068400382995605, -11.068300247192383, -11.068400382995605, -11.068400382995605, -11.068400382995605, -11.068400382995605, -11.068400382995605, -11.068400382995605, -11.068400382995605, -11.068300247192383, -11.068400382995605, -11.068400382995605, -11.068400382995605, -11.068400382995605, -11.068400382995605, -2.1224000453948975, -2.1463000774383545, -2.329900026321411, -2.335599899291992, -2.3778998851776123, -3.055000066757202, -3.261399984359741, -3.5244998931884766, -3.656399965286255, -3.693000078201294, -3.8304998874664307, -4.1031999588012695, -4.184800148010254, -4.379899978637695, -4.72599983215332, -11.017499923706055, -11.017499923706055, -11.017600059509277, -11.017600059509277, -11.017600059509277, -11.017600059509277, -11.017600059509277, -11.0177001953125, -11.017600059509277, -11.017600059509277, -11.017600059509277, -11.0177001953125, -11.017600059509277, -11.0177001953125, -11.0177001953125, -11.017600059509277, -11.017600059509277, -11.017600059509277, -11.017600059509277, -11.017600059509277], \"loglift\": [30.0, 29.0, 28.0, 27.0, 26.0, 25.0, 24.0, 23.0, 22.0, 21.0, 20.0, 19.0, 18.0, 17.0, 16.0, 15.0, 14.0, 13.0, 12.0, 11.0, 10.0, 9.0, 8.0, 7.0, 6.0, 5.0, 4.0, 3.0, 2.0, 1.0, 1.4644999504089355, 1.4644999504089355, 1.4639999866485596, 1.4637999534606934, 1.4635000228881836, 1.4635000228881836, 1.4635000228881836, 1.4632999897003174, 1.4632999897003174, 1.4632999897003174, 1.4631999731063843, 1.4628000259399414, 1.4627000093460083, 1.4627000093460083, 1.4627000093460083, 1.462399959564209, 1.462399959564209, 1.4622999429702759, 1.4622999429702759, 1.4621000289916992, 1.4620000123977661, 1.461899995803833, 1.461899995803833, 1.461899995803833, 1.4617999792099, 1.4616999626159668, 1.4615999460220337, 1.461400032043457, 1.461400032043457, 1.461400032043457, 1.458299994468689, 1.4523999691009521, 1.4392000436782837, 1.4083000421524048, 1.4352999925613403, 1.3286999464035034, 1.4470000267028809, 1.3407000303268433, 1.3327000141143799, 1.3586000204086304, 1.3055000305175781, 1.384600043296814, 1.381500005722046, 0.7537000179290771, 1.058500051498413, 1.2762000560760498, 1.347000002861023, 0.9743000268936157, 0.9147999882698059, 1.249899983406067, 1.1842999458312988, 0.7042999863624573, 0.6352999806404114, 0.9247999787330627, 0.7049999833106995, 0.7764999866485596, 0.6559000015258789, 0.9817000031471252, 0.6952000260353088, 1.1279000043869019, 1.8561999797821045, 1.8559000492095947, 1.8557000160217285, 1.8554999828338623, 1.8554999828338623, 1.855299949645996, 1.8552000522613525, 1.8552000522613525, 1.8552000522613525, 1.8552000522613525, 1.8552000522613525, 1.8549000024795532, 1.8545000553131104, 1.854099988937378, 1.8538999557495117, 1.8538999557495117, 1.8538000583648682, 1.853700041770935, 1.8533999919891357, 1.8528000116348267, 1.8518999814987183, 1.8518999814987183, 1.8517999649047852, 1.8517999649047852, 1.8516000509262085, 1.8516000509262085, 1.8515000343322754, 1.8509999513626099, 1.8509999513626099, 1.850000023841858, 1.8487999439239502, 1.8137999773025513, 1.7381000518798828, 1.8061000108718872, 1.76010000705719, 1.7910000085830688, 1.730299949645996, 1.676300048828125, 1.6382999420166016, 1.4098999500274658, 0.7373999953269958, 1.6619999408721924, 1.426800012588501, 1.4675999879837036, 1.5266000032424927, 0.7475000023841858, 1.2335000038146973, 1.329800009727478, 0.9955000281333923, 0.8458999991416931, 1.1820000410079956, 0.9523000121116638, 1.274899959564209, -0.22210000455379486, 1.9668999910354614, 1.965999960899353, 1.9658000469207764, 1.9656000137329102, 1.965399980545044, 1.964900016784668, 1.9645999670028687, 1.9643000364303589, 1.9642000198364258, 1.9641000032424927, 1.9634000062942505, 1.9630000591278076, 1.9627000093460083, 1.9621000289916992, 1.9620000123977661, 1.9615999460220337, 1.9611999988555908, 1.960800051689148, 1.9601999521255493, 1.9599000215530396, 1.9598000049591064, 1.9595999717712402, 1.9595999717712402, 1.9594999551773071, 1.9593000411987305, 1.958799958229065, 1.9579999446868896, 1.9574999809265137, 1.9573999643325806, 1.9572999477386475, 1.9371000528335571, 1.936400055885315, 1.8907999992370605, 1.9185999631881714, 1.902899980545044, 1.861199975013733, 1.8844000101089478, 1.847499966621399, 1.774399995803833, 1.8600000143051147, 1.8805999755859375, 1.7675000429153442, 1.6897000074386597, 1.6615999937057495, 1.8320000171661377, 1.5403000116348267, 1.8316999673843384, 1.489400029182434, 1.628999948501587, 1.2580000162124634, 1.5042999982833862, 1.436400055885315, 1.0089999437332153, 1.408400058746338, 0.1387999951839447, 1.281999945640564, 1.1403000354766846, 1.5865999460220337, 1.080399990081787, 2.592099905014038, 2.591900110244751, 2.591900110244751, 2.5913000106811523, 2.591099977493286, 2.591099977493286, 2.5910000801086426, 2.59089994430542, 2.5906999111175537, 2.59060001373291, 2.5905001163482666, 2.5901999473571777, 2.590100049972534, 2.589900016784668, 2.5896999835968018, 2.589600086212158, 2.5892999172210693, 2.589099884033203, 2.588900089263916, 2.5887999534606934, 2.5887999534606934, 2.588599920272827, 2.588399887084961, 2.588099956512451, 2.5880000591278076, 2.5878000259399414, 2.5878000259399414, 2.587399959564209, 2.5859999656677246, 2.585599899291992, 2.3499999046325684, 2.200900077819824, 2.0566999912261963, 1.9838999509811401, 1.5794999599456787, 2.1185998916625977, 1.9844000339508057, 1.8349000215530396, 1.6829999685287476, 1.27839994430542, -0.28290000557899475, -1.480299949645996, 2.773900032043457, 2.7736001014709473, 2.7734999656677246, 2.7734999656677246, 2.773400068283081, 2.772700071334839, 2.7718000411987305, 2.771399974822998, 2.7713000774383545, 2.7711000442504883, 2.7699999809265137, 2.7695999145507812, 2.769399881362915, 2.769399881362915, 2.7690999507904053, 2.7685999870300293, 2.768399953842163, 2.767699956893921, 2.7672998905181885, 2.7672998905181885, 2.767199993133545, 2.7671000957489014, 2.7665998935699463, 2.7662999629974365, 2.7660000324249268, 2.765199899673462, 2.7651000022888184, 2.7639999389648438, 2.7637999057769775, 2.7637999057769775, 2.617500066757202, 2.6953001022338867, 2.4918999671936035, 2.3245999813079834, 2.4223999977111816, 2.345900058746338, 2.54830002784729, 2.1426000595092773, 2.055999994277954, 1.9063999652862549, 2.4512999057769775, 2.2528998851776123, 2.2516000270843506, 1.7839000225067139, 1.985200047492981, 1.889299988746643, 2.0550999641418457, 1.8014999628067017, 1.2517999410629272, 1.5080000162124634, 1.322700023651123, 2.919300079345703, 2.919300079345703, 2.9191999435424805, 2.9191999435424805, 2.915800094604492, 2.915600061416626, 2.91510009765625, 2.9117000102996826, 2.9066998958587646, 2.90339994430542, 2.90310001373291, 2.86080002784729, 2.798099994659424, 2.797499895095825, 2.6851000785827637, 2.626499891281128, 2.504300117492676, 2.3757998943328857, 2.0617001056671143, 2.027899980545044, 1.97160005569458, 1.780900001525879, 1.676800012588501, 1.6518000364303589, 1.548699975013733, 1.5263999700546265, 1.4429999589920044, 1.208400011062622, 1.1504000425338745, 0.879800021648407, 0.7914999723434448, 0.503000020980835, 0.34130001068115234, 0.3391999900341034, 2.971100091934204, 2.9695000648498535, 2.969399929046631, 2.969399929046631, 2.9691998958587646, 2.9691998958587646, 2.968100070953369, 2.9679999351501465, 2.967900037765503, 2.9677999019622803, 2.9677999019622803, 2.967400074005127, 2.967400074005127, 2.9656999111175537, 2.965399980545044, 2.965100049972534, 2.965100049972534, 2.9649999141693115, 2.9644999504089355, 2.964400053024292, 2.964200019836426, 2.964099884033203, 2.9639999866485596, 2.96370005607605, 2.963599920272827, 2.9635000228881836, 2.9635000228881836, 2.9632999897003174, 2.9632999897003174, 2.9632999897003174, 2.94569993019104, 2.8526999950408936, 2.9230000972747803, 2.843400001525879, 2.5973000526428223, 2.391700029373169, 2.436800003051758, 2.5687999725341797, 2.237600088119507, 2.47379994392395, 1.3919999599456787, 1.5470000505447388, 1.8616000413894653, 1.5390000343322754, 1.8865000009536743, 1.5877000093460083, 1.3646999597549438, 0.9584000110626221, 1.125499963760376, 3.120300054550171, 3.120300054550171, 3.119999885559082, 3.1198999881744385, 3.1196999549865723, 3.11929988861084, 3.1191999912261963, 3.11899995803833, 3.1178998947143555, 3.1177000999450684, 3.117500066757202, 3.1166999340057373, 3.1166999340057373, 3.1166000366210938, 3.115799903869629, 3.1157000064849854, 3.115600109100342, 3.1154000759124756, 3.1152000427246094, 3.1150999069213867, 3.1150999069213867, 3.115000009536743, 3.115000009536743, 3.115000009536743, 3.1149001121520996, 3.1140999794006348, 3.1133999824523926, 3.112799882888794, 3.1122000217437744, 3.1120998859405518, 3.041300058364868, 2.601599931716919, 2.7156999111175537, 2.6445000171661377, 2.384999990463257, 2.3501999378204346, 2.30430006980896, 2.421299934387207, 2.4103000164031982, 2.2018001079559326, 2.086899995803833, 2.5855000019073486, 1.8365000486373901, 2.7839999198913574, 2.70770001411438, 1.9701999425888062, 3.4453001022338867, 3.444700002670288, 3.4439001083374023, 3.44320011138916, 3.441800117492676, 3.4403998851776123, 3.4375, 3.434799909591675, 3.430999994277954, 3.4298999309539795, 3.4254000186920166, 3.4233999252319336, 3.422499895095825, 3.4205000400543213, 3.4195001125335693, 3.4147000312805176, 3.4066998958587646, 3.397200107574463, 3.3817999362945557, 3.339900016784668, 3.2416999340057373, 3.0344998836517334, 2.767899990081787, 2.6977999210357666, 2.672499895095825, 2.620500087738037, 2.5206000804901123, 2.4900999069213867, 2.4279000759124756, 2.4091999530792236, 2.321899890899658, 2.1953999996185303, 2.211199998855591, 1.7070000171661377, 2.309000015258789, 1.570199966430664, 1.605299949645996, 1.7574000358581543, 2.222399950027466, 0.7538999915122986, 0.9503999948501587, 0.5906000137329102, 0.5464000105857849, -0.07079999893903732, 1.3082000017166138, 3.7946999073028564, 3.794300079345703, 3.794100046157837, 3.794100046157837, 3.79229998588562, 3.7908999919891357, 3.790600061416626, 3.7890000343322754, 3.788599967956543, 3.774899959564209, 3.7713000774383545, 3.768399953842163, 3.763700008392334, 3.7320001125335693, 3.710200071334839, 3.5996999740600586, 3.5801000595092773, 3.3952999114990234, 3.063999891281128, 3.0088000297546387, 2.700500011444092, 2.523400068283081, 2.3814001083374023, 2.313199996948242, 2.0806000232696533, 2.0606000423431396, 2.043100118637085, 1.8912999629974365, 1.6065000295639038, 1.5996999740600586, 1.4945000410079956, 0.744700014591217, 1.073699951171875, 1.4419000148773193, 1.170300006866455, 0.1120000034570694, 3.9045000076293945, 3.903700113296509, 3.9035000801086426, 3.90310001373291, 3.901700019836426, 3.9014999866485596, 3.9010000228881836, 3.900700092315674, 3.899899959564209, 3.899600028991699, 3.8993000984191895, 3.898900032043457, 3.897599935531616, 3.8973000049591064, 3.89520001411438, 3.8949999809265137, 3.8942999839782715, 3.894200086593628, 3.8938000202178955, 3.892199993133545, 3.891200065612793, 3.8903000354766846, 3.889899969100952, 3.889400005340576, 3.8861000537872314, 3.885699987411499, 3.883699893951416, 3.8808000087738037, 3.8694000244140625, 3.8666999340057373, 3.0490000247955322, 2.5320000648498535, 2.6501998901367188, 3.0064001083374023, 1.9443999528884888, 2.9863998889923096, 1.6060999631881714, 2.539900064468384, 0.7771999835968018, 2.078200101852417, 1.5077999830245972, 4.027900218963623, 4.027400016784668, 4.02269983291626, 4.022500038146973, 4.021699905395508, 4.020999908447266, 4.020299911499023, 4.019499778747559, 4.019100189208984, 4.019000053405762, 4.018799781799316, 4.0183000564575195, 4.0183000564575195, 4.0167999267578125, 4.01669979095459, 4.011600017547607, 4.00629997253418, 4.003399848937988, 4.002699851989746, 3.99399995803833, 3.989300012588501, 3.9858999252319336, 3.9791998863220215, 3.9702000617980957, 3.8970000743865967, 3.540600061416626, 2.7221999168395996, 2.351599931716919, 2.114500045776367, 2.0954999923706055, 1.164199948310852, 0.31520000100135803, 4.0903000831604, 4.089300155639648, 4.0868000984191895, 4.086699962615967, 4.086699962615967, 4.08620023727417, 4.085700035095215, 4.085000038146973, 4.08459997177124, 4.083700180053711, 4.081999778747559, 4.078100204467773, 4.073999881744385, 4.06850004196167, 4.065299987792969, 4.053100109100342, 4.048399925231934, 4.031099796295166, 4.030200004577637, 4.0192999839782715, 3.9862000942230225, 3.7572999000549316, 3.5334999561309814, 2.679500102996826, 2.516900062561035, 1.9036999940872192, 1.8335000276565552, 1.2817000150680542, 1.1401000022888184, 1.1398999691009521, 4.105800151824951, 4.104400157928467, 4.104300022125244, 4.103799819946289, 4.103700160980225, 4.0995001792907715, 4.099100112915039, 4.097400188446045, 4.09089994430542, 4.053999900817871, 3.7179999351501465, 3.6556999683380127, 2.88319993019104, 2.279900074005127, 2.165299892425537, 1.7271000146865845, 1.565999984741211, 1.517899990081787, 1.4318000078201294, 1.3055000305175781, 1.0836999416351318, 1.083299994468689, 1.0831999778747559, 1.0831999778747559, 1.0831999778747559, 1.0830999612808228, 1.0830999612808228, 1.0830999612808228, 1.0830999612808228, 1.0830999612808228, 1.0830999612808228, 0.5629000067710876, 1.0830999612808228, -0.6297000050544739, 1.0830999612808228, 1.0830999612808228, 4.183300018310547, 4.182400226593018, 4.18120002746582, 4.181000232696533, 4.181000232696533, 4.180500030517578, 4.180099964141846, 4.179699897766113, 4.179299831390381, 4.178699970245361, 4.178500175476074, 4.178500175476074, 4.177800178527832, 4.176799774169922, 4.176799774169922, 4.17609977722168, 4.175600051879883, 4.175000190734863, 4.172500133514404, 4.17110013961792, 4.17080020904541, 4.170000076293945, 4.1697998046875, 4.168300151824951, 4.164100170135498, 4.163099765777588, 4.162700176239014, 4.1616997718811035, 4.160399913787842, 4.159900188446045, 3.969599962234497, 3.931999921798706, 3.859800100326538, 3.5332000255584717, 3.7183001041412354, 3.64490008354187, 2.050600051879883, 1.2000999450683594, 4.184500217437744, 4.183599948883057, 4.183000087738037, 4.182400226593018, 4.182199954986572, 4.1819000244140625, 4.181099891662598, 4.180500030517578, 4.1803998947143555, 4.177199840545654, 4.1768999099731445, 4.176599979400635, 4.1757001876831055, 4.160299777984619, 4.157599925994873, 4.155900001525879, 4.154699802398682, 4.144499778747559, 4.060299873352051, 3.594399929046631, 3.242799997329712, 3.2309000492095947, 2.9900999069213867, 1.8783999681472778, 1.2644000053405762, 1.0880999565124512, 1.0877000093460083, 1.0877000093460083, 1.087499976158142, 1.087399959564209, -1.5401999950408936, 4.404799938201904, 4.404799938201904, 4.402400016784668, 4.401000022888184, 4.396399974822998, 4.396100044250488, 4.393599987030029, 4.392000198364258, 4.3831000328063965, 4.380199909210205, 4.379300117492676, 4.374199867248535, 4.362299919128418, 4.287600040435791, 4.2596001625061035, 4.17549991607666, 3.8705999851226807, 3.261199951171875, 2.9586000442504883, 2.266200065612793, 2.14520001411438, 2.018699884414673, 1.8042000532150269, 1.3741999864578247, 1.3741999864578247, 1.3740999698638916, 1.3740999698638916, 1.3739999532699585, 1.3739999532699585, 1.3739999532699585, 1.2948999404907227, 0.6690000295639038, 0.7235999703407288, 0.41749998927116394, 0.17649999260902405, 5.030900001525879, 5.028200149536133, 5.02810001373291, 5.027599811553955, 5.027100086212158, 5.025599956512451, 5.024099826812744, 5.02370023727417, 5.023499965667725, 5.022299766540527, 5.021599769592285, 5.014500141143799, 5.012599945068359, 5.0121002197265625, 5.007699966430664, 5.006800174713135, 5.0065999031066895, 5.002600193023682, 5.000400066375732, 4.987800121307373, 4.982100009918213, 4.616499900817871, 4.268199920654297, 1.9919999837875366, 1.9918999671936035, 1.9918999671936035, 1.9918999671936035, 1.9918999671936035, 1.9917999505996704, 1.9917999505996704, 1.9917999505996704, 1.9917999505996704, 5.1143999099731445, 5.1118998527526855, 5.105800151824951, 5.105400085449219, 5.104300022125244, 5.104100227355957, 5.089000225067139, 5.088500022888184, 5.081900119781494, 5.075099945068359, 5.0605998039245605, 3.4765000343322754, 1.9977999925613403, 1.9970999956130981, 1.9970999956130981, 1.9970999956130981, 1.996999979019165, 1.996999979019165, 1.996899962425232, 1.996899962425232, 1.996899962425232, 1.996899962425232, 1.996899962425232, 1.996899962425232, 1.996899962425232, 1.9967999458312988, 1.9967999458312988, 1.9967999458312988, 1.9967999458312988, 1.9967999458312988, 1.9967999458312988, 1.9967999458312988, 1.9967999458312988, 1.9967000484466553, 1.9967000484466553, 1.9967000484466553, 5.157800197601318, 5.157700061798096, 5.157100200653076, 5.157100200653076, 5.156899929046631, 5.153299808502197, 5.151599884033203, 5.148799896240234, 5.147200107574463, 5.146599769592285, 5.144599914550781, 5.139599800109863, 5.137800216674805, 5.132900238037109, 5.121699810028076, 2.0476999282836914, 2.0476999282836914, 2.047600030899048, 2.047600030899048, 2.047600030899048, 2.047600030899048, 2.047600030899048, 2.047600030899048, 2.047600030899048, 2.047600030899048, 2.047600030899048, 2.047600030899048, 2.047600030899048, 2.047600030899048, 2.047600030899048, 2.047499895095825, 2.047499895095825, 2.047499895095825, 2.047499895095825, 2.047499895095825]}, \"token.table\": {\"Topic\": [4, 9, 18, 4, 7, 9, 13, 17, 6, 9, 2, 2, 8, 20, 3, 1, 2, 3, 4, 15, 19, 3, 6, 11, 2, 5, 8, 2, 8, 20, 20, 7, 1, 20, 10, 1, 2, 3, 5, 7, 1, 4, 10, 12, 1, 3, 2, 3, 10, 8, 2, 2, 1, 4, 11, 1, 8, 13, 14, 13, 2, 8, 9, 11, 4, 18, 4, 10, 16, 4, 7, 9, 1, 4, 15, 4, 8, 9, 10, 17, 9, 10, 14, 1, 2, 3, 7, 4, 1, 3, 4, 8, 1, 2, 8, 14, 4, 2, 5, 8, 9, 18, 14, 13, 4, 5, 5, 17, 2, 3, 13, 2, 10, 7, 5, 20, 4, 2, 3, 5, 9, 16, 8, 2, 17, 18, 10, 11, 15, 1, 3, 5, 6, 7, 6, 7, 13, 3, 5, 12, 15, 11, 8, 4, 10, 2, 8, 10, 2, 6, 1, 1, 3, 3, 5, 4, 17, 1, 18, 12, 13, 2, 3, 2, 3, 18, 3, 14, 11, 2, 14, 13, 7, 8, 7, 3, 5, 4, 12, 8, 3, 4, 7, 1, 1, 4, 5, 8, 16, 7, 6, 9, 17, 12, 11, 14, 6, 5, 10, 2, 3, 4, 5, 6, 7, 9, 2, 7, 1, 5, 7, 9, 7, 9, 1, 2, 11, 19, 18, 2, 8, 9, 14, 17, 10, 2, 5, 17, 1, 18, 1, 3, 5, 12, 5, 7, 7, 11, 1, 3, 4, 15, 4, 7, 7, 20, 15, 8, 19, 17, 2, 2, 8, 15, 13, 13, 13, 8, 11, 15, 12, 16, 13, 18, 2, 3, 6, 14, 17, 10, 4, 5, 9, 15, 15, 7, 4, 5, 7, 1, 3, 4, 5, 16, 1, 2, 3, 9, 11, 14, 3, 3, 6, 5, 9, 5, 1, 7, 1, 10, 18, 19, 11, 15, 15, 7, 15, 3, 6, 8, 11, 4, 18, 2, 7, 3, 12, 13, 2, 4, 3, 4, 11, 14, 1, 15, 1, 3, 16, 5, 10, 4, 6, 1, 2, 3, 4, 9, 3, 3, 4, 2, 4, 1, 4, 11, 5, 1, 8, 3, 9, 10, 20, 11, 5, 4, 4, 5, 6, 2, 16, 2, 1, 11, 1, 2, 3, 3, 4, 9, 10, 19, 20, 2, 4, 7, 8, 3, 4, 15, 4, 5, 9, 11, 5, 12, 7, 1, 3, 5, 2, 9, 1, 3, 6, 6, 5, 1, 2, 4, 6, 9, 14, 1, 4, 1, 3, 5, 11, 1, 4, 5, 9, 11, 3, 4, 5, 2, 5, 7, 3, 5, 11, 12, 3, 5, 7, 1, 15, 11, 18, 15, 9, 7, 11, 1, 3, 4, 7, 9, 12, 1, 1, 2, 1, 3, 13, 1, 12, 8, 10, 15, 7, 13, 4, 3, 3, 15, 1, 2, 4, 6, 8, 3, 6, 17, 3, 7, 12, 7, 7, 11, 13, 16, 3, 5, 1, 3, 4, 9, 9, 13, 18, 7, 9, 20, 12, 2, 20, 2, 5, 9, 17, 3, 5, 8, 10, 1, 7, 2, 3, 5, 6, 2, 5, 8, 1, 16, 5, 7, 1, 3, 4, 1, 3, 4, 11, 15, 1, 8, 12, 16, 8, 17, 1, 3, 4, 5, 7, 10, 1, 4, 1, 8, 12, 10, 8, 16, 17, 1, 7, 1, 6, 3, 4, 7, 9, 10, 11, 13, 12, 4, 5, 7, 1, 3, 4, 5, 10, 1, 2, 18, 3, 1, 5, 12, 3, 10, 1, 9, 10, 4, 19, 17, 1, 2, 16, 1, 5, 17, 8, 8, 8, 2, 2, 7, 15, 11, 4, 5, 2, 4, 6, 9, 1, 3, 4, 6, 8, 9, 10, 14, 15, 1, 9, 5, 1, 4, 5, 8, 1, 5, 15, 1, 5, 8, 6, 1, 2, 3, 4, 7, 8, 13, 4, 7, 8, 3, 11, 5, 6, 15, 15, 5, 2, 4, 3, 15, 1, 3, 18, 14, 1, 10, 6, 3, 4, 13, 3, 6, 2, 3, 6, 17, 3, 7, 4, 9, 4, 14, 2, 15, 18, 17, 2, 8, 3, 2, 19, 8, 2, 7, 16, 17, 4, 7, 9, 5, 15, 9, 7, 3, 9, 5, 12, 12, 3, 1, 2, 17, 1, 2, 4, 11, 9, 1, 9, 1, 5, 9, 5, 8, 12, 17, 3, 8, 7, 12, 12, 1, 10, 6, 4, 7, 3, 19, 7, 6, 15, 2, 16, 5, 16, 11, 4, 4, 7, 8, 1, 3, 4, 13, 4, 6, 18, 4, 11, 15, 4, 13, 16, 1, 2, 16, 11, 2, 4, 8, 14, 11, 3, 9, 2, 11, 19, 7, 3, 6, 4, 1, 11, 11, 7, 12, 7, 9, 18, 8, 9, 2, 11, 17, 9, 15, 16, 7, 3, 1, 2, 3, 4, 5, 7, 17, 7, 15, 14, 3, 9, 1, 11, 20, 13, 13, 7, 3, 11, 2, 4, 16, 10, 15, 2, 8, 3, 4, 9, 14, 8, 6, 7, 2, 3, 6, 17, 7, 8, 20, 6, 18, 3, 18, 15, 14, 20, 2, 3, 9, 9, 18, 8, 16, 13, 1, 2, 3, 4, 5, 7, 8, 9, 12, 1, 11, 1, 3, 2, 10, 1, 3, 5, 20, 1, 2, 10, 16, 19, 8, 10, 19, 8, 17, 2, 6, 12, 2, 5, 7, 3, 5, 8, 8, 8, 14, 15, 3, 4, 10, 2, 3, 6, 1, 8, 11, 11, 4, 8, 13, 10, 3, 19, 1, 2, 8, 5, 5, 7, 15, 20, 2, 4, 5, 8, 17, 4, 7, 9, 1, 10, 1, 5, 12, 12, 8, 11, 5, 5, 16, 1, 2, 7, 13, 11, 6, 4, 5, 8, 10, 5, 12, 17, 17, 15, 1, 2, 15, 2, 8, 3, 5, 6, 3, 11, 1, 2, 5, 7, 2, 9, 2, 5, 6, 5, 1, 2, 3, 15, 18, 1, 2, 7, 8, 9, 14, 12, 11, 2, 3, 4, 11, 14, 1, 5, 1, 1, 10, 2, 6, 4, 5, 9, 12, 6, 13, 18, 4, 5, 16, 2, 15, 8, 11, 9, 10, 16, 1, 11, 5, 5, 1, 8, 9, 11, 5, 4, 15, 2, 2, 4, 5, 8, 16, 16, 1, 4, 5, 7, 1, 2, 5, 7, 3, 4, 6, 10, 1, 2, 8, 10, 4, 4, 9], \"Freq\": [0.6350934505462646, 0.3580845892429352, 0.9448404908180237, 0.2098141759634018, 0.31670063734054565, 0.13063901662826538, 0.1049070879817009, 0.23554609715938568, 0.9898322820663452, 0.9722460508346558, 0.9988805651664734, 0.998873233795166, 0.9922303557395935, 0.9892666935920715, 0.9975473880767822, 0.8760710954666138, 0.000588362046983093, 0.10414008051156998, 0.005295258481055498, 0.013532326556742191, 0.9966064095497131, 0.9165058732032776, 0.016608837991952896, 0.06492546200752258, 0.5592887997627258, 0.08455267548561096, 0.3552763760089874, 0.40469440817832947, 0.5944750308990479, 0.9957345128059387, 0.9968751072883606, 0.9926379323005676, 0.9955583214759827, 0.9713566303253174, 0.9762906432151794, 0.4673725962638855, 0.3639715909957886, 0.12662647664546967, 0.039451465010643005, 0.0025452557019889355, 0.28618890047073364, 0.39504602551460266, 0.17382024228572845, 0.14397232234477997, 0.9447974562644958, 0.05432100594043732, 0.3153802752494812, 0.683699369430542, 0.9040897488594055, 0.9923126101493835, 0.9975302815437317, 0.9981741905212402, 0.4558239281177521, 0.1173408105969429, 0.4242321848869324, 0.9229573011398315, 0.07659396529197693, 0.9984246492385864, 0.9923341870307922, 0.9807578325271606, 0.2831985652446747, 0.7128791213035583, 0.9808202385902405, 0.9926484823226929, 0.9932311773300171, 0.9717710018157959, 0.2689882814884186, 0.67247074842453, 0.0560392290353775, 0.544601321220398, 0.12932798266410828, 0.3250997066497803, 0.9970685839653015, 0.2716193199157715, 0.7213496565818787, 0.9970129728317261, 0.0022304540034383535, 0.4381093978881836, 0.24310186505317688, 0.31824928522109985, 0.996070384979248, 0.9954800605773926, 0.9987634420394897, 0.11406706273555756, 0.5290196537971497, 0.10598357021808624, 0.2505882680416107, 0.9965299367904663, 0.2531369924545288, 0.07828979194164276, 0.17093271017074585, 0.49714019894599915, 0.9976646900177002, 0.9990203380584717, 0.9231274127960205, 0.07489524781703949, 0.9951252937316895, 0.9367921352386475, 0.021512972190976143, 0.04107021912932396, 0.9969055652618408, 0.9901530742645264, 0.9909313917160034, 0.9025819301605225, 0.992540717124939, 0.991020143032074, 0.9231522083282471, 0.0749659538269043, 0.6001198291778564, 0.33915993571281433, 0.0606270357966423, 0.8880528211593628, 0.11125274002552032, 0.9941068291664124, 0.9924466013908386, 0.9978626370429993, 0.9947413802146912, 0.4352905750274658, 0.34055083990097046, 0.10498183965682983, 0.11778450757265091, 0.9896770119667053, 0.9966466426849365, 0.8816214799880981, 0.11761541664600372, 0.9977732300758362, 0.9968679547309875, 0.990104615688324, 0.9935062527656555, 0.7553790211677551, 0.07685248553752899, 0.0637066662311554, 0.032358940690755844, 0.07078517973423004, 0.7900561094284058, 0.20744489133358002, 0.9895780682563782, 0.4253133237361908, 0.4162640869617462, 0.1447875201702118, 0.9867118000984192, 0.986862301826477, 0.9952656626701355, 0.6584867835044861, 0.336559921503067, 0.5339547395706177, 0.3159577250480652, 0.14901062846183777, 0.9582614302635193, 0.04042836278676987, 0.9986979961395264, 0.8888224363327026, 0.11021963506937027, 0.4064256548881531, 0.5920011401176453, 0.13121844828128815, 0.8622927069664001, 0.3383001983165741, 0.660490870475769, 0.9991854429244995, 0.9902258515357971, 0.9950823187828064, 0.004867250565439463, 0.9512050747871399, 0.046195387840270996, 0.9531721472740173, 0.9206627011299133, 0.07845020294189453, 0.9868829846382141, 0.9985144138336182, 0.9903832077980042, 0.995415449142456, 0.8875808119773865, 0.11094760149717331, 0.997131884098053, 0.9949296116828918, 0.9920321106910706, 0.9984347820281982, 0.9905123114585876, 0.9925029873847961, 0.5882911086082458, 0.26856768131256104, 0.14269761741161346, 0.9996737837791443, 0.0337199792265892, 0.20163170993328094, 0.48721930384635925, 0.27664145827293396, 0.9931692481040955, 0.9980646967887878, 0.22891631722450256, 0.18483926355838776, 0.5857982635498047, 0.9902417063713074, 0.9973142147064209, 0.9988064169883728, 0.9997627139091492, 0.060454901307821274, 0.9383652210235596, 0.061661552637815475, 0.10323113948106766, 0.17251378297805786, 0.21824033558368683, 0.17043530941009521, 0.23902513086795807, 0.03533414751291275, 0.11579124629497528, 0.8815075755119324, 0.38409844040870667, 0.0892922580242157, 0.1296863704919815, 0.3968544900417328, 0.6102128028869629, 0.3857667148113251, 0.3826533555984497, 0.40151655673980713, 0.018863193690776825, 0.19402141869068146, 0.993785560131073, 0.12865258753299713, 0.39834651350975037, 0.15914800763130188, 0.29447147250175476, 0.01810665987432003, 0.998397707939148, 0.06043132767081261, 0.1445097029209137, 0.7943654656410217, 0.9969618320465088, 0.9953223466873169, 0.33557015657424927, 0.6290929317474365, 0.03396131470799446, 0.9701135158538818, 0.998556911945343, 0.9928958415985107, 0.5893774032592773, 0.4086350202560425, 0.2595555782318115, 0.2697342336177826, 0.4682178795337677, 0.9957038164138794, 0.04157561808824539, 0.9516197443008423, 0.9932374954223633, 0.9679188132286072, 0.9969283938407898, 0.9960461854934692, 0.9825521111488342, 0.9390010237693787, 0.9983898997306824, 0.9969145059585571, 0.9959144592285156, 0.9956283569335938, 0.9287793636322021, 0.9337372183799744, 0.9198337197303772, 0.9964028596878052, 0.9827947020530701, 0.9768202304840088, 0.6140545010566711, 0.38549426198005676, 0.9963852763175964, 0.9815811514854431, 0.3298857808113098, 0.3834506571292877, 0.2539714276790619, 0.00886591151356697, 0.02382713556289673, 0.9995027184486389, 0.5438352227210999, 0.4536886215209961, 0.99216228723526, 0.9860722422599792, 0.993657648563385, 0.9962497353553772, 0.19865040481090546, 0.21443718671798706, 0.5854266881942749, 0.1931179314851761, 0.7132196426391602, 0.09326718002557755, 0.9906500577926636, 0.9929503798484802, 0.2397291511297226, 0.0487254373729229, 0.6197875738143921, 0.05505974218249321, 0.007308815605938435, 0.028748007491230965, 0.9954138398170471, 0.9692709445953369, 0.029780087992548943, 0.9984972476959229, 0.9988157749176025, 0.9990158677101135, 0.9990131258964539, 0.9964637160301208, 0.9987511038780212, 0.979965090751648, 0.9740555286407471, 0.9519991278648376, 0.9825626611709595, 0.9937307834625244, 0.9934614300727844, 0.9903385043144226, 0.9916792511940002, 0.9261152148246765, 0.02448449283838272, 0.048109881579875946, 0.0008591049700044096, 0.9974367022514343, 0.4985210597515106, 0.9923886656761169, 0.004100779537111521, 0.9943269491195679, 0.9863889217376709, 0.9955889582633972, 0.9958114624023438, 0.9957245588302612, 0.3485527038574219, 0.20426404476165771, 0.28510046005249023, 0.16080361604690552, 0.9975266456604004, 0.9927911758422852, 0.9960600733757019, 0.9961283802986145, 0.9617739319801331, 0.1765044927597046, 0.8223504424095154, 0.11293484270572662, 0.8856469392776489, 0.13163763284683228, 0.08259616792201996, 0.7575616836547852, 0.006775466725230217, 0.021294323727488518, 0.992803692817688, 0.9891977310180664, 0.9965168833732605, 0.9960578680038452, 0.9995028972625732, 0.40226659178733826, 0.3409038782119751, 0.2545415759086609, 0.9932772517204285, 0.9979028701782227, 0.9905807971954346, 0.8870220184326172, 0.0004498083144426346, 0.11200226843357086, 0.9963914155960083, 0.9973123073577881, 0.9969668388366699, 0.996275007724762, 0.7845012545585632, 0.13839052617549896, 0.07611478865146637, 0.9947503209114075, 0.9967977404594421, 0.9965227842330933, 0.9951245784759521, 0.9779464602470398, 0.4089292287826538, 0.5905060172080994, 0.9996665716171265, 0.9981054663658142, 0.42243432998657227, 0.09145485609769821, 0.4834042191505432, 0.9655207991600037, 0.9912824034690857, 0.18958860635757446, 0.2114117443561554, 0.4801092743873596, 0.11729942262172699, 0.3192351162433624, 0.15648779273033142, 0.52266925573349, 0.21201597154140472, 0.22416271269321442, 0.4737231731414795, 0.08833998441696167, 0.9995220899581909, 0.9912310838699341, 0.9975965023040771, 0.9982402324676514, 0.9985716342926025, 0.9958025813102722, 0.18326283991336823, 0.8159559369087219, 0.9980459213256836, 0.3386724889278412, 0.6605165600776672, 0.9518383145332336, 0.9972214102745056, 0.5765200853347778, 0.2993469536304474, 0.01570647582411766, 0.01755429618060589, 0.029565131291747093, 0.060978084802627563, 0.9983705878257751, 0.998763918876648, 0.29864567518234253, 0.39122581481933594, 0.28172242641448975, 0.02787359617650509, 0.46759670972824097, 0.04445001482963562, 0.41966041922569275, 0.06798237562179565, 0.9976147413253784, 0.13545802235603333, 0.06434255838394165, 0.7958158850669861, 0.8347060084342957, 0.006645748391747475, 0.15816880762577057, 0.3721890449523926, 0.5929058194160461, 0.033179644495248795, 0.9953855872154236, 0.46757763624191284, 0.5315960645675659, 0.9973517656326294, 0.36354872584342957, 0.6272997260093689, 0.9928498864173889, 0.9733859896659851, 0.9843581318855286, 0.9675936102867126, 0.9974181652069092, 0.9926671981811523, 0.37704819440841675, 0.5039967894554138, 0.01573294587433338, 0.06238926947116852, 0.0406886525452137, 0.9641842842102051, 0.996389627456665, 0.3483205735683441, 0.6504961252212524, 0.5785916447639465, 0.2989390194416046, 0.11571832746267319, 0.9961987733840942, 0.967058539390564, 0.5379197001457214, 0.45672425627708435, 0.9918168187141418, 0.9884739518165588, 0.9827542901039124, 0.9996339678764343, 0.9975873827934265, 0.9975515007972717, 0.9781638383865356, 0.10335663706064224, 0.26393648982048035, 0.14638493955135345, 0.4240727126598358, 0.062102701514959335, 0.658259391784668, 0.24803976714611053, 0.09131134301424026, 0.736579179763794, 0.2061631828546524, 0.05687260255217552, 0.993129312992096, 0.9980118274688721, 0.3986400067806244, 0.20762501657009125, 0.3903350234031677, 0.8734512329101562, 0.12404040992259979, 0.8524097204208374, 0.11485099047422409, 0.031703658401966095, 0.9982611536979675, 0.9802683591842651, 0.9938142895698547, 0.99465012550354, 0.9944908022880554, 0.9824557304382324, 0.994199275970459, 0.9661641120910645, 0.9974696040153503, 0.989154577255249, 0.5094795823097229, 0.031138544902205467, 0.35444939136505127, 0.10401599109172821, 0.9912992119789124, 0.3781496286392212, 0.6213412880897522, 0.9947835803031921, 0.9991939663887024, 0.992267906665802, 0.677501916885376, 0.04784617945551872, 0.14353853464126587, 0.13014161586761475, 0.4619245231151581, 0.058697592467069626, 0.4789383113384247, 0.9985862970352173, 0.9634936451911926, 0.7234170436859131, 0.2741369903087616, 0.7135635018348694, 0.21487991511821747, 0.07095091789960861, 0.4362444281578064, 0.49190038442611694, 0.027827976271510124, 0.04392455145716667, 0.9974600076675415, 0.33648982644081116, 0.6611729860305786, 0.9491621255874634, 0.9920896291732788, 0.9925353527069092, 0.9794463515281677, 0.21550416946411133, 0.27083632349967957, 0.09828737378120422, 0.03785884007811546, 0.20021502673625946, 0.17618921399116516, 0.9744945764541626, 0.023498449474573135, 0.9813140630722046, 0.015791259706020355, 0.9948240518569946, 0.9927065372467041, 0.9929934144020081, 0.8730030059814453, 0.9987272620201111, 0.987284243106842, 0.01084927748888731, 0.9968673586845398, 0.9996731281280518, 0.41189947724342346, 0.13312113285064697, 0.24057316780090332, 0.08237989246845245, 0.10028856992721558, 0.03163865581154823, 0.967741072177887, 0.940862774848938, 0.20498409867286682, 0.12406932562589645, 0.6688954830169678, 0.6166024208068848, 0.14271743595600128, 0.003942470531910658, 0.1703147292137146, 0.06544501334428787, 0.5766907930374146, 0.42279860377311707, 0.9658129811286926, 0.9922178387641907, 0.9934996962547302, 0.00417436845600605, 0.9947394728660583, 0.9919366836547852, 0.9993405938148499, 0.6660380363464355, 0.28636741638183594, 0.04743099585175514, 0.997581958770752, 0.985897421836853, 0.9812389612197876, 0.6121925711631775, 0.08468250930309296, 0.3027915954589844, 0.24499540030956268, 0.7532694339752197, 0.9861223697662354, 0.9980509877204895, 0.9988069534301758, 0.9982381463050842, 0.9950451254844666, 0.9979987740516663, 0.9905886054039001, 0.9935965538024902, 0.9880297780036926, 0.99488365650177, 0.9958985447883606, 0.05551820993423462, 0.36287161707878113, 0.5803656578063965, 0.9992913603782654, 0.11161544173955917, 0.652169406414032, 0.12342458963394165, 0.011047262698411942, 0.018666064366698265, 0.05752195417881012, 0.025142045691609383, 0.9968384504318237, 0.990403950214386, 0.9192782044410706, 0.07835552096366882, 0.9916987419128418, 0.9981803894042969, 0.2390371412038803, 0.4873392879962921, 0.272391140460968, 0.2961571514606476, 0.70264732837677, 0.9978405237197876, 0.8059547543525696, 0.1924494057893753, 0.9977340698242188, 0.9996170401573181, 0.4452124238014221, 0.225143700838089, 0.05213368311524391, 0.049826882779598236, 0.1337944120168686, 0.09365608543157578, 0.9886464476585388, 0.6228809952735901, 0.24373604357242584, 0.13179801404476166, 0.9961977005004883, 0.9918599724769592, 0.13509434461593628, 0.7457207441329956, 0.11828260123729706, 0.9974303841590881, 0.9910587668418884, 0.9997005462646484, 0.9951510429382324, 0.1866997480392456, 0.8057568073272705, 0.9996668100357056, 0.9925686717033386, 0.9891461730003357, 0.9995974898338318, 0.9703794121742249, 0.028263477608561516, 0.9950075745582581, 0.34588930010795593, 0.07915874570608139, 0.5730404853820801, 0.6763641238212585, 0.3202376961708069, 0.5687255263328552, 0.35494929552078247, 0.07562839984893799, 0.9614660739898682, 0.4386628568172455, 0.5597862005233765, 0.9952821731567383, 0.933502733707428, 0.9988950490951538, 0.9474087357521057, 0.9990289211273193, 0.9922175407409668, 0.9916789531707764, 0.9624853134155273, 0.9984796643257141, 0.9967390894889832, 0.9943825006484985, 0.9961937069892883, 0.9909669160842896, 0.9909260869026184, 0.3904329538345337, 0.054977431893348694, 0.5535016059875488, 0.9990106225013733, 0.15270234644412994, 0.33849021792411804, 0.5077353119850159, 0.21734897792339325, 0.7762463688850403, 0.9714578986167908, 0.9944754838943481, 0.9971116781234741, 0.001252652844414115, 0.9928464889526367, 0.983356773853302, 0.988587498664856, 0.9919570088386536, 0.7803402543067932, 0.19016696512699127, 0.026229925453662872, 0.4634026288986206, 0.5362837910652161, 0.9984126687049866, 0.9910848736763, 0.9679022431373596, 0.5365633368492126, 0.4611359238624573, 0.2774980068206787, 0.6508329510688782, 0.07008970528841019, 0.9949252009391785, 0.9969115257263184, 0.990138590335846, 0.9960813522338867, 0.9930678009986877, 0.9948851466178894, 0.9947037696838379, 0.9757491946220398, 0.9740175604820251, 0.8169105648994446, 0.18012623488903046, 0.9944882988929749, 0.6760078072547913, 0.3223020136356354, 0.9961630702018738, 0.9634190201759338, 0.9997560381889343, 0.41023898124694824, 0.5811719298362732, 0.994967520236969, 0.9987404942512512, 0.994816243648529, 0.9806861281394958, 0.9626638889312744, 0.9989153742790222, 0.22726938128471375, 0.3292880654335022, 0.4414076507091522, 0.3655014932155609, 0.38464683294296265, 0.005221450235694647, 0.24366766214370728, 0.9996976256370544, 0.9997195601463318, 0.9890965223312378, 0.9984626173973083, 0.9793199300765991, 0.9918946027755737, 0.9967058300971985, 0.9963356256484985, 0.9985459446907043, 0.40636304020881653, 0.5898483991622925, 0.003109921235591173, 0.986280083656311, 0.5985450744628906, 0.15796951949596405, 0.09710053354501724, 0.14347690343856812, 0.9829387068748474, 0.9971100091934204, 0.9684754014015198, 0.9084169864654541, 0.09148748964071274, 0.9862262010574341, 0.9928541779518127, 0.8186102509498596, 0.18074020743370056, 0.9969350695610046, 0.9968873858451843, 0.9953062534332275, 0.9884376525878906, 0.97510826587677, 0.024566682055592537, 0.9985610842704773, 0.9996774196624756, 0.9887189269065857, 0.0976102203130722, 0.9006761312484741, 0.8238493800163269, 0.16137255728244781, 0.014155487529933453, 0.9916890859603882, 0.9894217252731323, 0.9995965957641602, 0.9961867332458496, 0.9950236082077026, 0.35724106431007385, 0.02792450413107872, 0.2002861052751541, 0.1559920608997345, 0.1531033217906952, 0.05970066413283348, 0.04429404065012932, 0.9964309334754944, 0.9929447174072266, 0.9842644929885864, 0.9521409869194031, 0.04534004628658295, 0.9964641332626343, 0.9961410760879517, 0.9809907078742981, 0.9949044585227966, 0.9915319681167603, 0.9928345084190369, 0.8991642594337463, 0.10050807893276215, 0.5656627416610718, 0.3283217251300812, 0.09889208525419235, 0.8092020153999329, 0.1839095503091812, 0.41252851486206055, 0.5851626992225647, 0.994933545589447, 0.029714778065681458, 0.29078033566474915, 0.6781337261199951, 0.9948627352714539, 0.3885361850261688, 0.6081436276435852, 0.06587612628936768, 0.8981329202651978, 0.03522089868783951, 0.9904449582099915, 0.6083952188491821, 0.3904268741607666, 0.9671226143836975, 0.9952027201652527, 0.968834400177002, 0.9983903765678406, 0.9943491220474243, 0.9964612126350403, 0.9982940554618835, 0.986605167388916, 0.9969766736030579, 0.970048725605011, 0.029629310593008995, 0.9762482643127441, 0.9944821000099182, 0.9988651275634766, 0.9755498170852661, 0.9996026158332825, 0.4910198450088501, 0.3265206813812256, 0.16063520312309265, 0.01701918989419937, 0.0012683278182521462, 0.0027136316057294607, 0.00023596796381752938, 0.0005604239413514733, 0.920519232749939, 0.9959629774093628, 0.9980269074440002, 0.12419037520885468, 0.8739322423934937, 0.7708314657211304, 0.2263980656862259, 0.35706210136413574, 0.5714262127876282, 0.07039768248796463, 0.9603985548019409, 0.16933049261569977, 0.8037063479423523, 0.026381200179457664, 0.9928964376449585, 0.9913895130157471, 0.9936265349388123, 0.03910739719867706, 0.9601895213127136, 0.992102324962616, 0.9929640889167786, 0.6396667957305908, 0.08926332741975784, 0.27085137367248535, 0.9986840486526489, 0.30926474928855896, 0.6877356171607971, 0.9962695240974426, 0.9932069778442383, 0.9966664910316467, 0.9978294372558594, 0.9919889569282532, 0.6358587145805359, 0.3539213538169861, 0.9375026226043701, 0.013136979192495346, 0.04777083545923233, 0.9957730770111084, 0.9932332634925842, 0.9827455878257751, 0.8994681239128113, 0.03209015354514122, 0.0679556205868721, 0.9946150779724121, 0.9980108141899109, 0.9943915605545044, 0.9946939945220947, 0.9882550835609436, 0.9903362393379211, 0.9988260865211487, 0.29234084486961365, 0.2440563291311264, 0.4626535475254059, 0.9951469302177429, 0.990277886390686, 0.9987682700157166, 0.9671009182929993, 0.9961724281311035, 0.1216459572315216, 0.585570216178894, 0.1383424550294876, 0.1538463532924652, 0.9818245768547058, 0.21203948557376862, 0.11779971420764923, 0.6596783995628357, 0.9978618621826172, 0.9927820563316345, 0.9985830783843994, 0.9930779337882996, 0.9995082020759583, 0.9896524548530579, 0.9967185854911804, 0.9898627996444702, 0.9899780750274658, 0.9887629747390747, 0.9955921769142151, 0.9976689219474792, 0.9981887936592102, 0.9976853728294373, 0.9653254747390747, 0.9989932775497437, 0.8474944233894348, 0.9966691732406616, 0.41246888041496277, 0.49109575152397156, 0.0953834280371666, 0.9986956119537354, 0.9894295334815979, 0.9944677948951721, 0.9693953990936279, 0.9990394711494446, 0.8832111954689026, 0.06600084155797958, 0.050400640815496445, 0.9968245625495911, 0.9992353320121765, 0.07282598316669464, 0.6375843286514282, 0.2884480059146881, 0.9908046126365662, 0.9962962865829468, 0.6142781972885132, 0.150567427277565, 0.23370282351970673, 0.9954851865768433, 0.9928287863731384, 0.005091429688036442, 0.7190878987312317, 0.27964529395103455, 0.995141327381134, 0.9963051080703735, 0.827921986579895, 0.08059417456388474, 0.09036316722631454, 0.9889189004898071, 0.9811483025550842, 0.5825586915016174, 0.06659527868032455, 0.0017998722614720464, 0.10259272158145905, 0.15298914909362793, 0.09239344298839569, 0.9960952401161194, 0.9991940259933472, 0.2329981029033661, 0.43753841519355774, 0.11975984275341034, 0.14051030576229095, 0.06877297908067703, 0.14518019556999207, 0.8547268509864807, 0.9990963339805603, 0.7180538177490234, 0.28092050552368164, 0.9970684051513672, 0.9776853919029236, 0.4668083190917969, 0.23508332669734955, 0.29553332924842834, 0.9919150471687317, 0.2817519009113312, 0.7161194086074829, 0.9761336445808411, 0.9971133470535278, 0.9971846342086792, 0.9975225925445557, 0.99934983253479, 0.9834033846855164, 0.9930193424224854, 0.9949606657028198, 0.9296579957008362, 0.98716139793396, 0.997348427772522, 0.9977449178695679, 0.9620134234428406, 0.9987576007843018, 0.9942165017127991, 0.5020777583122253, 0.06797360628843307, 0.17559847235679626, 0.2533561587333679, 0.9949023723602295, 0.9983068704605103, 0.9733964800834656, 0.9935445785522461, 0.035728584975004196, 0.22457969188690186, 0.07145716995000839, 0.6669335961341858, 0.9958457946777344, 0.9831973314285278, 0.16859395802021027, 0.4029806852340698, 0.37111231684684753, 0.056540656834840775, 0.8726056218147278, 0.12514910101890564, 0.0022348056081682444, 0.9951488375663757, 0.8244059085845947, 0.05643613263964653, 0.1191185936331749, 0.9989979267120361, 0.7509380578994751, 0.1154443547129631, 0.06047085300087929, 0.07256501913070679, 0.9914327263832092, 0.6775208711624146, 0.3204490542411804], \"Term\": [\"abroad\", \"abroad\", \"absorb\", \"account\", \"account\", \"account\", \"account\", \"account\", \"accounting\", \"acknowledge\", \"acquire\", \"acquisition\", \"act\", \"active\", \"activity\", \"add\", \"add\", \"add\", \"add\", \"add\", \"adjust\", \"ago\", \"ago\", \"ago\", \"agree\", \"agree\", \"agree\", \"agreement\", \"agreement\", \"agricultural\", \"agriculture\", \"ahead\", \"aim\", \"allocate\", \"allocation\", \"also\", \"also\", \"also\", \"also\", \"also\", \"amount\", \"amount\", \"amount\", \"amount\", \"analyst\", \"analyst\", \"annual\", \"annual\", \"appreciate\", \"approach\", \"approval\", \"approve\", \"area\", \"area\", \"area\", \"ask\", \"ask\", \"asset\", \"assistance\", \"assumption\", \"attempt\", \"attempt\", \"attract\", \"attribute\", \"australian\", \"authorise\", \"authority\", \"authority\", \"authority\", \"average\", \"average\", \"average\", \"back\", \"bad\", \"bad\", \"balance\", \"balance\", \"bank\", \"bank\", \"bank\", \"banker\", \"banking\", \"barrel\", \"base\", \"base\", \"base\", \"base\", \"beef\", \"begin\", \"begin\", \"begin\", \"begin\", \"believe\", \"bid\", \"bill\", \"bill\", \"block\", \"board\", \"board\", \"board\", \"bond\", \"bonus\", \"bpd\", \"brand\", \"break\", \"broker\", \"budget\", \"budget\", \"business\", \"business\", \"business\", \"buy\", \"buy\", \"buying\", \"can\", \"canadian\", \"capacity\", \"capital\", \"capital\", \"capital\", \"capital\", \"cargo\", \"carry\", \"cash\", \"cash\", \"cent\", \"central\", \"cereal\", \"chairman\", \"change\", \"change\", \"change\", \"change\", \"change\", \"charge\", \"charge\", \"chemical\", \"chief\", \"chief\", \"chief\", \"circulation\", \"city\", \"claim\", \"clear\", \"clear\", \"close\", \"close\", \"close\", \"co\", \"co\", \"coffee\", \"come\", \"come\", \"comment\", \"comment\", \"commercial\", \"commercial\", \"commodity\", \"commodity\", \"common\", \"communication\", \"company\", \"company\", \"companys\", \"companys\", \"comparable\", \"compare\", \"compare\", \"complaint\", \"complete\", \"comprise\", \"computer\", \"consumer\", \"consumer\", \"contract\", \"contribute\", \"cooperative\", \"corn\", \"corporate\", \"correct\", \"cost\", \"cost\", \"cost\", \"could\", \"country\", \"country\", \"country\", \"country\", \"court\", \"cover\", \"credit\", \"credit\", \"credit\", \"creditor\", \"crop\", \"crude\", \"ct\", \"currency\", \"currency\", \"current\", \"current\", \"current\", \"current\", \"current\", \"current\", \"current\", \"customer\", \"customer\", \"cut\", \"cut\", \"cut\", \"cut\", \"daily\", \"daily\", \"date\", \"date\", \"date\", \"date\", \"datum\", \"day\", \"day\", \"day\", \"day\", \"day\", \"dealer\", \"debt\", \"debt\", \"debt\", \"decision\", \"declare\", \"decline\", \"decline\", \"decline\", \"defensive\", \"deficit\", \"deliver\", \"delivery\", \"delivery\", \"demand\", \"demand\", \"demand\", \"department\", \"depend\", \"depend\", \"depreciation\", \"depressed\", \"develop\", \"difficult\", \"dilute\", \"dinar\", \"director\", \"disclose\", \"discuss\", \"discussion\", \"display\", \"dispose\", \"disposition\", \"dispute\", \"distributor\", \"diversify\", \"dividend\", \"dividend\", \"division\", \"dlr\", \"dlrs\", \"dlrs\", \"dlrs\", \"dlrs\", \"dlrs\", \"dollar\", \"domestic\", \"domestic\", \"doubt\", \"downturn\", \"drain\", \"draw\", \"drop\", \"drop\", \"drop\", \"due\", \"due\", \"due\", \"dutch\", \"duty\", \"early\", \"early\", \"early\", \"early\", \"early\", \"early\", \"earn\", \"earning\", \"earning\", \"economic\", \"economist\", \"economy\", \"effect\", \"effective\", \"effort\", \"electrical\", \"element\", \"else\", \"elsewhere\", \"employ\", \"employee\", \"employer\", \"employment\", \"end\", \"end\", \"end\", \"end\", \"energy\", \"enlarge\", \"enter\", \"enter\", \"entire\", \"equal\", \"equipment\", \"equity\", \"establish\", \"estimate\", \"estimate\", \"estimate\", \"estimate\", \"european\", \"european_community\", \"even\", \"exceed\", \"exceptional\", \"exchange\", \"exchange\", \"exclude\", \"exclude\", \"expect\", \"expect\", \"expect\", \"expect\", \"expect\", \"expectation\", \"expenditure\", \"expense\", \"expire\", \"export\", \"exporter\", \"exporter\", \"exporter\", \"extremely\", \"face\", \"failure\", \"fall\", \"fall\", \"fall\", \"farm\", \"farmer\", \"fast\", \"field\", \"figure\", \"figure\", \"figure\", \"file\", \"final\", \"financing\", \"find\", \"finish\", \"firm\", \"firm\", \"first\", \"fiscal\", \"fix\", \"fix\", \"fix\", \"flexibility\", \"fluctuation\", \"follow\", \"follow\", \"follow\", \"follow\", \"food\", \"food\", \"food\", \"forecast\", \"forecast\", \"forecast\", \"forecast\", \"foreign\", \"formal\", \"franc\", \"french\", \"full\", \"fully\", \"fund\", \"fund\", \"future\", \"gain\", \"gain\", \"gear\", \"german\", \"give\", \"give\", \"give\", \"give\", \"give\", \"give\", \"go\", \"gold\", \"good\", \"good\", \"good\", \"good\", \"government\", \"government\", \"government\", \"government\", \"grain\", \"great\", \"great\", \"great\", \"group\", \"group\", \"group\", \"grow\", \"grow\", \"grow\", \"grower\", \"growth\", \"growth\", \"half\", \"hand\", \"hand\", \"harvest\", \"have\", \"healthy\", \"heavily\", \"heavy\", \"hectare\", \"high\", \"high\", \"high\", \"high\", \"high\", \"hike\", \"hit\", \"hold\", \"hold\", \"home\", \"home\", \"home\", \"hope\", \"hostile\", \"house\", \"house\", \"housing\", \"hurt\", \"immediately_available\", \"import\", \"improve\", \"improvement\", \"inadequate\", \"include\", \"include\", \"include\", \"include\", \"include\", \"income\", \"income\", \"income\", \"increase\", \"increase\", \"increase\", \"independent\", \"index\", \"indicate\", \"indicate\", \"indicate\", \"industrial\", \"industrial\", \"industry\", \"industry\", \"industry\", \"inflation\", \"inflow\", \"information\", \"initial\", \"instead\", \"instrument\", \"insurance\", \"insure\", \"intend\", \"intention\", \"interest\", \"interest\", \"interest\", \"interest\", \"interested\", \"international\", \"international\", \"intervene\", \"intervention\", \"inventory\", \"investment\", \"investment\", \"investment\", \"investment\", \"issue\", \"issue\", \"issue\", \"japanese\", \"judgment\", \"keep\", \"keep\", \"large\", \"large\", \"large\", \"last\", \"last\", \"last\", \"last\", \"launch\", \"law\", \"law\", \"lawsuit\", \"legal\", \"legislation\", \"lender\", \"level\", \"level\", \"level\", \"level\", \"level\", \"level\", \"likely\", \"likely\", \"limit\", \"limit\", \"link\", \"liquidity\", \"live\", \"loading\", \"loan\", \"long\", \"long\", \"look\", \"loss\", \"low\", \"low\", \"low\", \"low\", \"low\", \"low\", \"machine\", \"mail\", \"mainly\", \"mainly\", \"mainly\", \"major\", \"major\", \"major\", \"major\", \"major\", \"make\", \"make\", \"man\", \"manufacture\", \"many\", \"many\", \"march\", \"margin\", \"mark\", \"market\", \"market\", \"market\", \"marketing\", \"matter\", \"mature\", \"may\", \"may\", \"may\", \"measure\", \"measure\", \"medium\", \"meet\", \"meeting\", \"member\", \"merge\", \"merger\", \"metal\", \"method\", \"mill\", \"mine\", \"minister\", \"mln\", \"mln\", \"mln\", \"money\", \"month\", \"month\", \"month\", \"month\", \"month\", \"month\", \"month\", \"morning\", \"mostly\", \"move\", \"move\", \"movement\", \"much\", \"must\", \"must\", \"must\", \"nation\", \"nation\", \"national\", \"need\", \"need\", \"negotiation\", \"net\", \"new\", \"new\", \"new\", \"new\", \"new\", \"new\", \"nominal\", \"non\", \"non\", \"non\", \"normal\", \"normally\", \"note\", \"note\", \"note\", \"number\", \"occur\", \"offer\", \"office\", \"officer\", \"officer\", \"official\", \"offset\", \"offshore\", \"oil\", \"open\", \"open\", \"oper\", \"operate\", \"operate\", \"operate\", \"operating\", \"operating\", \"operation\", \"operation\", \"operation\", \"optimism\", \"order\", \"order\", \"ounce\", \"outflow\", \"output\", \"outright\", \"outstanding\", \"overall\", \"overseas\", \"owe\", \"own\", \"pact\", \"paper\", \"parent\", \"party\", \"pass\", \"pay\", \"pay\", \"pay\", \"payment\", \"pct\", \"pct\", \"pct\", \"people\", \"people\", \"percentage_point\", \"performance\", \"period\", \"period\", \"permit\", \"peso\", \"philippine\", \"pipeline\", \"place\", \"place\", \"place\", \"plan\", \"plan\", \"plant\", \"planting\", \"play\", \"point\", \"point\", \"policy\", \"policy\", \"policy\", \"political\", \"port\", \"portion\", \"post\", \"potential\", \"power\", \"practice\", \"preference\", \"president\", \"pressure\", \"pressure\", \"pretax\", \"previous\", \"previous\", \"previously\", \"previously_announce\", \"price\", \"primary\", \"primary\", \"principle\", \"prior\", \"prior_pay\", \"procedure\", \"processor\", \"produce\", \"producer\", \"producer\", \"producer\", \"product\", \"product\", \"product\", \"product\", \"production\", \"profit\", \"profitable\", \"program\", \"programme\", \"progress\", \"project\", \"property\", \"proposal\", \"propose\", \"propose\", \"propose\", \"protest\", \"provide\", \"provide\", \"provide\", \"provide\", \"province\", \"provision\", \"pull\", \"purchase\", \"purchase\", \"purpose\", \"quality\", \"quarter\", \"quarter\", \"quota\", \"quote\", \"rain\", \"rainfall\", \"raise\", \"raise\", \"range\", \"rate\", \"ratio\", \"real\", \"real\", \"receive\", \"receive\", \"receive\", \"recession\", \"recommend\", \"record\", \"recover\", \"recovery\", \"reduce\", \"reduce\", \"reduce\", \"reduce\", \"reduce\", \"reduce\", \"reduce\", \"reduction\", \"refer\", \"refining\", \"reflect\", \"reflect\", \"reform\", \"region\", \"register\", \"regular\", \"relate\", \"related\", \"report\", \"report\", \"represent\", \"represent\", \"represent\", \"repurchase\", \"repurchase\", \"require\", \"require\", \"research\", \"reserve\", \"reserve\", \"reserve\", \"resolve\", \"restructuring\", \"restructuring\", \"result\", \"result\", \"result\", \"resume\", \"return\", \"return\", \"reuter\", \"rev\", \"revaluation\", \"revenue\", \"reverse\", \"review\", \"revise\", \"rice\", \"right\", \"rise\", \"rise\", \"roughly\", \"rubber\", \"rule\", \"ruling\", \"sale\", \"say\", \"say\", \"say\", \"say\", \"say\", \"say\", \"say\", \"say\", \"scandal\", \"schedule\", \"season\", \"second\", \"second\", \"security\", \"security\", \"see\", \"see\", \"see\", \"select\", \"sell\", \"sell\", \"sell\", \"send\", \"serve\", \"session\", \"set\", \"set\", \"settle\", \"settlement\", \"share\", \"share\", \"share\", \"shareholder\", \"sharp\", \"sharp\", \"sharply\", \"shift\", \"ship\", \"shipment\", \"shipping\", \"shortage\", \"shortage\", \"show\", \"show\", \"show\", \"shr\", \"significantly\", \"site\", \"source\", \"source\", \"source\", \"soviet\", \"soybean\", \"speak\", \"special\", \"speculative\", \"spending\", \"split\", \"spokesman\", \"spokesman\", \"spokesman\", \"stabilize\", \"stable\", \"stake\", \"stance\", \"standard\", \"state\", \"state\", \"state\", \"state\", \"status\", \"steady\", \"steady\", \"steady\", \"steel\", \"sterling\", \"still\", \"stimulate\", \"stock\", \"stockholder\", \"stop\", \"storage\", \"strengthen\", \"stress\", \"strike\", \"study\", \"subsidiary\", \"subsidy\", \"successfully\", \"sugar\", \"suitable\", \"supply\", \"support\", \"support\", \"support\", \"surplus\", \"surprise\", \"suspend\", \"suspension\", \"system\", \"take\", \"take\", \"take\", \"takeover\", \"talk\", \"tax\", \"tax\", \"tax\", \"taxis\", \"technology\", \"tell\", \"tell\", \"tell\", \"temporary\", \"tender\", \"tender\", \"term\", \"term\", \"th_qtr\", \"think\", \"time\", \"time\", \"time\", \"tin\", \"tobacco\", \"today\", \"today\", \"today\", \"today\", \"today\", \"today\", \"together\", \"tonne\", \"total\", \"total\", \"total\", \"total\", \"total\", \"trade\", \"trade\", \"trader\", \"trading\", \"trading\", \"transaction\", \"transportation\", \"trend\", \"trend\", \"trend\", \"trust\", \"turnover\", \"turnover\", \"type\", \"unchanged\", \"unemployment\", \"union\", \"unit\", \"usda\", \"various\", \"vegetable\", \"volatile\", \"volatility\", \"vote\", \"want\", \"waste\", \"way\", \"weakness\", \"week\", \"week\", \"week\", \"week\", \"western\", \"wheat\", \"willingness\", \"withdraw\", \"work\", \"work\", \"work\", \"work\", \"worker\", \"workforce\", \"world\", \"world\", \"world\", \"world\", \"would\", \"would\", \"would\", \"write\", \"year\", \"year\", \"year\", \"yen\", \"yesterday\", \"yesterday\", \"yesterday\", \"yesterday\", \"yet\", \"yield\", \"yield\"]}, \"R\": 30, \"lambda.step\": 0.01, \"plot.opts\": {\"xlab\": \"PC1\", \"ylab\": \"PC2\"}, \"topic.order\": [7, 4, 1, 9, 12, 19, 6, 17, 11, 5, 15, 3, 10, 2, 14, 13, 18, 16, 8, 20]};\n",
       "\n",
       "function LDAvis_load_lib(url, callback){\n",
       "  var s = document.createElement('script');\n",
       "  s.src = url;\n",
       "  s.async = true;\n",
       "  s.onreadystatechange = s.onload = callback;\n",
       "  s.onerror = function(){console.warn(\"failed to load library \" + url);};\n",
       "  document.getElementsByTagName(\"head\")[0].appendChild(s);\n",
       "}\n",
       "\n",
       "if(typeof(LDAvis) !== \"undefined\"){\n",
       "   // already loaded: just create the visualization\n",
       "   !function(LDAvis){\n",
       "       new LDAvis(\"#\" + \"ldavis_el5559152948260645212503035\", ldavis_el5559152948260645212503035_data);\n",
       "   }(LDAvis);\n",
       "}else if(typeof define === \"function\" && define.amd){\n",
       "   // require.js is available: use it to load d3/LDAvis\n",
       "   require.config({paths: {d3: \"https://cdnjs.cloudflare.com/ajax/libs/d3/3.5.5/d3.min\"}});\n",
       "   require([\"d3\"], function(d3){\n",
       "      window.d3 = d3;\n",
       "      LDAvis_load_lib(\"https://cdn.rawgit.com/bmabey/pyLDAvis/files/ldavis.v1.0.0.js\", function(){\n",
       "        new LDAvis(\"#\" + \"ldavis_el5559152948260645212503035\", ldavis_el5559152948260645212503035_data);\n",
       "      });\n",
       "    });\n",
       "}else{\n",
       "    // require.js not available: dynamically load d3 & LDAvis\n",
       "    LDAvis_load_lib(\"https://cdnjs.cloudflare.com/ajax/libs/d3/3.5.5/d3.min.js\", function(){\n",
       "         LDAvis_load_lib(\"https://cdn.rawgit.com/bmabey/pyLDAvis/files/ldavis.v1.0.0.js\", function(){\n",
       "                 new LDAvis(\"#\" + \"ldavis_el5559152948260645212503035\", ldavis_el5559152948260645212503035_data);\n",
       "            })\n",
       "         });\n",
       "}\n",
       "</script>"
      ],
      "text/plain": [
       "PreparedData(topic_coordinates=              x         y  topics  cluster       Freq\n",
       "topic                                                \n",
       "6     -0.277225 -0.041883       1        1  23.107609\n",
       "3     -0.250926  0.086720       2        1  15.620128\n",
       "0     -0.257851  0.070825       3        1  13.980495\n",
       "8     -0.164473 -0.000590       4        1   7.483549\n",
       "11    -0.145979 -0.030925       5        1   6.237281\n",
       "18    -0.073029  0.241771       6        1   5.395875\n",
       "5     -0.079533 -0.007394       7        1   5.123475\n",
       "16    -0.081419 -0.037267       8        1   4.409648\n",
       "10    -0.037089 -0.269759       9        1   3.188545\n",
       "4      0.015009 -0.215494      10        1   2.247590\n",
       "14     0.058822 -0.024720      11        1   2.013872\n",
       "2      0.103629  0.185302      12        1   1.780530\n",
       "9      0.131788  0.049461      13        1   1.672951\n",
       "1      0.086534 -0.047623      14        1   1.647228\n",
       "13     0.131898  0.066851      15        1   1.523171\n",
       "12     0.135235  0.108335      16        1   1.522061\n",
       "17     0.106788 -0.152029      17        1   1.220207\n",
       "15     0.198716  0.008874      18        1   0.652029\n",
       "7      0.197318  0.001146      19        1   0.600006\n",
       "19     0.201787  0.008399      20        1   0.573760, topic_info=            Term          Freq         Total Category  logprob  loglift\n",
       "155        share   6206.000000   6206.000000  Default  30.0000  30.0000\n",
       "148          say  33902.000000  33902.000000  Default  29.0000  29.0000\n",
       "147         sale   3768.000000   3768.000000  Default  28.0000  28.0000\n",
       "1451          ct   4867.000000   4867.000000  Default  27.0000  27.0000\n",
       "246          oil   3388.000000   3388.000000  Default  26.0000  26.0000\n",
       "...          ...           ...           ...      ...      ...      ...\n",
       "1885    delegate      0.050067      1.126173  Topic20 -11.0176   2.0475\n",
       "2660   committee      0.050064      1.126054  Topic20 -11.0176   2.0475\n",
       "1664    facility      0.050065      1.126131  Topic20 -11.0176   2.0475\n",
       "1781  management      0.050065      1.126126  Topic20 -11.0176   2.0475\n",
       "1890     present      0.050065      1.126156  Topic20 -11.0176   2.0475\n",
       "\n",
       "[852 rows x 6 columns], token_table=      Topic      Freq       Term\n",
       "term                            \n",
       "1069      4  0.635093     abroad\n",
       "1069      9  0.358085     abroad\n",
       "466      18  0.944840     absorb\n",
       "1070      4  0.209814    account\n",
       "1070      7  0.316701    account\n",
       "...     ...       ...        ...\n",
       "193       8  0.060471  yesterday\n",
       "193      10  0.072565  yesterday\n",
       "1648      4  0.991433        yet\n",
       "1067      4  0.677521      yield\n",
       "1067      9  0.320449      yield\n",
       "\n",
       "[1032 rows x 3 columns], R=30, lambda_step=0.01, plot_opts={'xlab': 'PC1', 'ylab': 'PC2'}, topic_order=[7, 4, 1, 9, 12, 19, 6, 17, 11, 5, 15, 3, 10, 2, 14, 13, 18, 16, 8, 20])"
      ]
     },
     "execution_count": 21,
     "metadata": {},
     "output_type": "execute_result"
    }
   ],
   "source": [
    "# Visualize the topics\n",
    "pyLDAvis.enable_notebook()\n",
    "vis = pyLDAvis.gensim.prepare(lda_model, corpus, id2word)\n",
    "vis"
   ]
  },
  {
   "cell_type": "markdown",
   "metadata": {},
   "source": [
    "### Optimizing Number of Topics Parameter"
   ]
  },
  {
   "cell_type": "code",
   "execution_count": 22,
   "metadata": {},
   "outputs": [],
   "source": [
    "# Consider splitting the model function and the optimization\n",
    "\n",
    "# Find optimal number of topics\n",
    "def compute_coherence_values(dictionary, corpus, texts, limit, start=2, step=3):\n",
    "    \"\"\"\n",
    "    Compute c_v coherence for various number of topics\n",
    "\n",
    "    Parameters:\n",
    "    ----------\n",
    "    dictionary : Gensim dictionary\n",
    "    corpus : Gensim corpus\n",
    "    texts : List of input texts\n",
    "    limit : Max num of topics\n",
    "\n",
    "    Returns:\n",
    "    -------\n",
    "    model_list : List of LDA topic models\n",
    "    coherence_values : Coherence values corresponding to the LDA model with respective number of topics\n",
    "    \"\"\"\n",
    "    coherence_values = []\n",
    "    model_list = []\n",
    "    for num_topics in range(start, limit, step):\n",
    "        # model = gensim.models.wrappers.LdaMallet(mallet_path, \n",
    "                                                 # corpus=corpus, \n",
    "                                                 # num_topics=num_topics, \n",
    "                                                 # id2word=id2word)\n",
    "        \n",
    "        model = gensim.models.ldamodel.LdaModel(corpus=corpus,  # TDF corpus\n",
    "                                           id2word=id2word,  # dictionary\n",
    "                                           num_topics=num_topics,  # to be optimized\n",
    "                                           random_state=100,  # [CONFIRM]\n",
    "                                           # update_every=1,  # how often paramater should be updated\n",
    "                                           # chunksize=100,\n",
    "                                           # passes=10,  # total number of training passes\n",
    "                                           # alpha='auto',  # learn assymetric alpha from training data\n",
    "                                           per_word_topics=True)\n",
    "        \n",
    "        model_list.append(model)\n",
    "        coherencemodel = CoherenceModel(model=model, texts=texts, dictionary=dictionary, coherence='c_v')\n",
    "        coherence_values.append(coherencemodel.get_coherence())\n",
    "\n",
    "    return model_list, coherence_values\n",
    "\n",
    "# Iterate to find optimal model\n",
    "model_list, coherence_values = compute_coherence_values(dictionary=id2word, \n",
    "                                                        corpus=corpus, \n",
    "                                                        texts=data_lemmatized, \n",
    "                                                        start=2, \n",
    "                                                        limit=40, \n",
    "                                                        step=6)"
   ]
  },
  {
   "cell_type": "code",
   "execution_count": 23,
   "metadata": {},
   "outputs": [
    {
     "data": {
      "image/png": "[encoded data removed]",
      "text/plain": [
       "<Figure size 432x288 with 1 Axes>"
      ]
     },
     "metadata": {
      "needs_background": "light"
     },
     "output_type": "display_data"
    },
    {
     "name": "stdout",
     "output_type": "stream",
     "text": [
      "Num topics= 2  has coherence value of 0.3156\n",
      "Num topics= 8  has coherence value of 0.4213\n",
      "Num topics= 14  has coherence value of 0.396\n",
      "Num topics= 20  has coherence value of 0.4217\n",
      "Num topics= 26  has coherence value of 0.4207\n",
      "Num topics= 32  has coherence value of 0.4025\n",
      "Num topics= 38  has coherence value of 0.3965\n"
     ]
    }
   ],
   "source": [
    "# JO: define function to output chart and df / table\n",
    "\n",
    "# Graph iterations\n",
    "limit=40; start=2; step=6\n",
    "x = range(start, limit, step)\n",
    "plt.plot(x, coherence_values)\n",
    "plt.xlabel('Num Topics')\n",
    "plt.ylabel('Coherence score')\n",
    "plt.legend(('coherence_values'), loc='best')\n",
    "plt.show()\n",
    "\n",
    "# JO: convert to df / table (n2h)\n",
    "for m, cv in zip(x, coherence_values):\n",
    "    print('Num topics=', m, ' has coherence value of', round(cv, 4))"
   ]
  },
  {
   "cell_type": "code",
   "execution_count": 24,
   "metadata": {},
   "outputs": [
    {
     "name": "stdout",
     "output_type": "stream",
     "text": [
      "0: say rate growth economy would economic dollar year first exchange\n",
      "1: oil price corn say raise crude today qtly tender barrel\n",
      "2: say soybean acre program regular acreage set crop initial aluminium\n",
      "3: say company share offer would stock buy group also dlrs\n",
      "4: dollar market bank dealer yen money say currency today buy\n",
      "5: say oil company year gas dlrs sale expect exploration report\n",
      "6: say trade would export official country japanese import deficit surplus\n",
      "7: share say issue dlrs sell stock offer company unit warrant\n",
      "8: say year oil market would price last production industry export\n",
      "9: sale dlrs year share net mln include company quarter income\n",
      "10: steel say study store office resign company retail gilt sell\n",
      "11: say price would analyst future market contract trader make also\n",
      "12: franc french say cable official new employer issue redundancy sector\n",
      "13: say offer licence bonus wheat export tonne today take market\n",
      "14: say tonne gold year production estimate wheat crop ton last\n",
      "15: say reserve foreign exchange market cocoa fund delegate expect sterling\n",
      "16: say tax would price government oil strike consumer export worker\n",
      "17: rate bank say cut interest debt loan point certificate month\n",
      "18: loss ct net profit dlrs year note include sale mln\n",
      "19: say unit company complete cyclop dixon sell acquire subsidiary share\n",
      "20: ct record dividend stock split share may say payable pay\n",
      "21: coffee quota producer sugar cargo shipment say cattle trader coal\n",
      "22: say expect earning year company quarter revenue business end first\n",
      "23: rise year say fall dlrs profit increase compare last month\n",
      "24: buy tonne maize say source may div intervention shipment trader\n",
      "25: price say year production increase import output rise stock end\n"
     ]
    }
   ],
   "source": [
    "# Set n to optimal model\n",
    "n = 4  # fifth model has highest coherence value\n",
    "# JO: extract from df / table\n",
    "\n",
    "# We coud reurn in rang 8 to 20 in 1 point increments to smooth and ensure global optimum\n",
    "optimal_model= model_list[n]\n",
    "# model_topics = optimal_model.show_topics(formatted=False)\n",
    "# pprint(optimal_model.print_topics(num_words=10))\n",
    "\n",
    "# Reduce to top 3 words per topic\n",
    "\n",
    "for topic_id in range(optimal_model.num_topics):\n",
    "    topk = optimal_model.show_topic(topic_id, 10)\n",
    "    topk_words = [ w for w, _ in topk ]\n",
    "    \n",
    "    print('{}: {}'.format(topic_id, ' '.join(topk_words)))"
   ]
  },
  {
   "cell_type": "code",
   "execution_count": 25,
   "metadata": {},
   "outputs": [],
   "source": [
    "# include visualization tool"
   ]
  },
  {
   "cell_type": "markdown",
   "metadata": {},
   "source": [
    "### Topic Prevalence"
   ]
  },
  {
   "cell_type": "code",
   "execution_count": 26,
   "metadata": {},
   "outputs": [],
   "source": [
    "# JO: troubleshoot TypeError:  https://cs50.stackexchange.com/questions/30671/typeerror-not-supported-between-instances-of-int-and-tuple\n",
    "\n",
    "\n",
    "# MI: this is now included in the best model functions.\n",
    "\n",
    "# Find dominant topic by sentence\n",
    "# def format_topics_sentences(ldamodel=lda_model, corpus=corpus, texts=data):\n",
    "#     # Init output\n",
    "#     sent_topics_df = pd.DataFrame()\n",
    "\n",
    "#     # Loop through articles to get each article's main topic\n",
    "#     for i, article in enumerate(ldamodel[corpus]):\n",
    "#         for article in enumerate(article):  # JO: removed the sort operation here - think we'll need to figure out another way to resort the article value, but leaving for now\n",
    "#             if article[0] == 0:\n",
    "                \n",
    "#                 print(article)\n",
    "                \n",
    "#                 wp = optimal_model.show_topic(article[1][0][0])\n",
    "#                 topic_keywords = ', '.join([word for word, prop in wp])\n",
    "#                 sent_topics_df = sent_topics_df.append(pd.Series([int(article[1][0][0]), \n",
    "#                                                                   round(article[1][0][1],4), \n",
    "#                                                                   topic_keywords]), \n",
    "#                                                        ignore_index=True)\n",
    "#             else:\n",
    "#                 break\n",
    "\n",
    "#     sent_topics_df.columns = ['Dominant_Topic', 'Perc_Contribution', 'Topic_Keywords']\n",
    "\n",
    "#     return(sent_topics_df)\n"
   ]
  },
  {
   "cell_type": "code",
   "execution_count": 28,
   "metadata": {},
   "outputs": [],
   "source": [
    "# df_topic_sents_keywords = format_topics_sentences(ldamodel=optimal_model, corpus=corpus, texts=data)\n",
    "\n",
    "# Format\n",
    "# df_dominant_topic = df_topic_sents_keywords.reset_index()\n",
    "# df_dominant_topic.columns = ['Document_No', 'Dominant_Topic', 'Topic_Perc_Contrib', 'Keywords']\n",
    "\n",
    "# Show\n",
    "#df_dominant_topic.head(10)"
   ]
  },
  {
   "cell_type": "markdown",
   "metadata": {},
   "source": [
    "### Topic Distribution"
   ]
  },
  {
   "cell_type": "code",
   "execution_count": null,
   "metadata": {},
   "outputs": [],
   "source": [
    "# Will need to be adjusted for Gensim rather than MALLET\n",
    "\n",
    "# Find most representative document by topic\n",
    "# Group top 5 sentences under each topic\n",
    "# sent_topics_sorted_df = pd.DataFrame()\n",
    "\n",
    "# sent_topics_outdf_grpd = df_topic_sents_keywords.groupby('Dominant_Topic')\n",
    "\n",
    "# for i, grp in sent_topics_outdf_grpd:\n",
    "#     sent_topics_sorted_df = pd.concat([sent_topics_sorted_df, \n",
    "#                                              grp.sort_values(['Perc_Contribution'], \n",
    "#                                                              ascending=[0]).head(1)], \n",
    "#                                             axis=0)\n",
    "\n",
    "# # Reset Index    \n",
    "# sent_topics_sorted_df.reset_index(drop=True, inplace=True)\n",
    "\n",
    "# # Format\n",
    "# sent_topics_sorted_df.columns = ['Topic_Num', \"Topic_Perc_Contrib\", \"Keywords\"]\n",
    "\n",
    "# # Show\n",
    "# sent_topics_sorted_df.head(n=10)"
   ]
  },
  {
   "cell_type": "code",
   "execution_count": null,
   "metadata": {},
   "outputs": [],
   "source": [
    "#sent_topics_sorted_df"
   ]
  },
  {
   "cell_type": "code",
   "execution_count": null,
   "metadata": {},
   "outputs": [],
   "source": [
    "# Depends on preceding code which needs troubleshooting\n",
    "# Will need to be adjusted for Gensim rather than MALLET\n",
    "\n",
    "# Evaluate topic distribution across documents\n",
    "\n",
    "# # Number of documents by topic\n",
    "# topic_counts = df_topic_sents_keywords['Dominant_Topic'].value_counts()\n",
    "\n",
    "# # Percentage of documents by topic\n",
    "# topic_contribution = round(topic_counts/topic_counts.sum(), 4)\n",
    "\n",
    "# # Topic number and keywords\n",
    "# topic_num_keywords = df_topic_sents_keywords[['Dominant_Topic', 'Topic_Keywords']]\n",
    "\n",
    "# # Concatenate columns\n",
    "# df_dominant_topics = pd.concat([topic_num_keywords, topic_counts, topic_contribution], axis=1)\n",
    "\n",
    "# # Set column names\n",
    "# df_dominant_topics.columns = ['Dominant_Topic', 'Topic_Keywords', 'Num_Documents', 'Perc_Documents']\n",
    "\n",
    "# df_dominant_topics"
   ]
  },
  {
   "cell_type": "markdown",
   "metadata": {},
   "source": [
    "## Topic Modeling using MALLET"
   ]
  },
  {
   "cell_type": "code",
   "execution_count": null,
   "metadata": {},
   "outputs": [],
   "source": []
  },
  {
   "cell_type": "markdown",
   "metadata": {},
   "source": [
    "### TODO: Build Mallet optimal model directly"
   ]
  },
  {
   "cell_type": "code",
   "execution_count": 30,
   "metadata": {},
   "outputs": [
    {
     "name": "stdout",
     "output_type": "stream",
     "text": [
      "[(7,\n",
      "  [('company', 0.09249665029030818),\n",
      "   ('sell', 0.05600714604734256),\n",
      "   ('unit', 0.05462259937472086),\n",
      "   ('buy', 0.04917373827601608),\n",
      "   ('group', 0.041715051362215275),\n",
      "   ('business', 0.03729343456900402),\n",
      "   ('firm', 0.028584189370254576),\n",
      "   ('investment', 0.027020991514068782),\n",
      "   ('product', 0.018088432335864227),\n",
      "   ('acquire', 0.0150960250111657)]),\n",
      " (19,\n",
      "  [('spokesman', 0.041512960503664355),\n",
      "   ('today', 0.021887757611529193),\n",
      "   ('pay', 0.01844473956027741),\n",
      "   ('ship', 0.017559392061384092),\n",
      "   ('strike', 0.015247651369829324),\n",
      "   ('begin', 0.013968816093650091),\n",
      "   ('state', 0.01391963012148935),\n",
      "   ('close', 0.013821258177167872),\n",
      "   ('work', 0.013772072205007133),\n",
      "   ('port', 0.011017657764005706)]),\n",
      " (18,\n",
      "  [('rate', 0.14285069710779227),\n",
      "   ('interest', 0.05937824301764202),\n",
      "   ('cut', 0.03794612642692776),\n",
      "   ('week', 0.03343410188151424),\n",
      "   ('day', 0.022289401254342825),\n",
      "   ('credit', 0.020755312908902226),\n",
      "   ('bank', 0.01822857916347065),\n",
      "   ('point', 0.017957857690745836),\n",
      "   ('note', 0.016198168118034564),\n",
      "   ('month', 0.01583720615440148)]),\n",
      " (10,\n",
      "  [('official', 0.08950563746747615),\n",
      "   ('japanese', 0.036773633998265394),\n",
      "   ('government', 0.028404163052905464),\n",
      "   ('source', 0.026366001734605377),\n",
      "   ('industry', 0.021335646140503036),\n",
      "   ('plan', 0.01725932350390286),\n",
      "   ('market', 0.013746747614917607),\n",
      "   ('foreign', 0.013356461405030355),\n",
      "   ('firm', 0.011795316565481353),\n",
      "   ('open', 0.010407632263660017)]),\n",
      " (6,\n",
      "  [('company', 0.06348475076015848),\n",
      "   ('loan', 0.03685616880125311),\n",
      "   ('asset', 0.03432230719616696),\n",
      "   ('acquisition', 0.031419883903068276),\n",
      "   ('merger', 0.02870174145397586),\n",
      "   ('complete', 0.026213950059891276),\n",
      "   ('debt', 0.025154335206855248),\n",
      "   ('agreement', 0.02473970330784115),\n",
      "   ('term', 0.02308117571178476),\n",
      "   ('acquire', 0.022205841702754997)]),\n",
      " (12,\n",
      "  [('growth', 0.042661230541141584),\n",
      "   ('government', 0.03458117123795404),\n",
      "   ('economic', 0.027575982209043736),\n",
      "   ('year', 0.026945885841363974),\n",
      "   ('economy', 0.02468495181616012),\n",
      "   ('deficit', 0.01793921423276501),\n",
      "   ('grow', 0.01608598962194218),\n",
      "   ('budget', 0.015011119347664937),\n",
      "   ('inflation', 0.014195700518902891),\n",
      "   ('increase', 0.013232023721275018)]),\n",
      " (1,\n",
      "  [('rise', 0.1408339544876573),\n",
      "   ('fall', 0.078002367694129),\n",
      "   ('year', 0.05007234620949708),\n",
      "   ('increase', 0.049853115271627134),\n",
      "   ('compare', 0.026877712982856142),\n",
      "   ('month', 0.023282325601788924),\n",
      "   ('show', 0.022536940413031087),\n",
      "   ('drop', 0.02183540141184724),\n",
      "   ('decline', 0.02174770903669926),\n",
      "   ('figure', 0.0206515543473495)]),\n",
      " (3,\n",
      "  [('dollar', 0.06696882081737908),\n",
      "   ('bank', 0.06649996092834258),\n",
      "   ('market', 0.06427287645541924),\n",
      "   ('exchange', 0.043603969680393845),\n",
      "   ('currency', 0.03707900289130265),\n",
      "   ('foreign', 0.029460029694459638),\n",
      "   ('yen', 0.02750644682347425),\n",
      "   ('mark', 0.026021723841525356),\n",
      "   ('dealer', 0.02567007892474799),\n",
      "   ('money', 0.02492771743377354)]),\n",
      " (5,\n",
      "  [('offer', 0.10245882297418472),\n",
      "   ('make', 0.0378970220397376),\n",
      "   ('bid', 0.027467081976497238),\n",
      "   ('tender', 0.026428807400066073),\n",
      "   ('hold', 0.023833120958988156),\n",
      "   ('takeover', 0.01698994761432819),\n",
      "   ('buy', 0.016470810326112605),\n",
      "   ('purchase', 0.015762895842182264),\n",
      "   ('give', 0.01538534145075275),\n",
      "   ('seek', 0.014677426966822407)]),\n",
      " (8,\n",
      "  [('price', 0.06822837801727977),\n",
      "   ('producer', 0.03415872450342923),\n",
      "   ('agreement', 0.024717199608087645),\n",
      "   ('coffee', 0.023692883227932664),\n",
      "   ('meeting', 0.022045069920726818),\n",
      "   ('member', 0.02124343101451857),\n",
      "   ('quota', 0.02093168255099314),\n",
      "   ('talk', 0.018838514295893827),\n",
      "   ('consumer', 0.017368842967845372),\n",
      "   ('market', 0.017012559009530595)])]\n"
     ]
    }
   ],
   "source": [
    "# Build LDA Mallet model\n",
    "mallet_path = './mallet-2.0.8/bin/mallet' \n",
    "ldamallet = gensim.models.wrappers.LdaMallet(mallet_path, corpus=corpus, num_topics=20, id2word=id2word)\n",
    "\n",
    "# Show topics\n",
    "pprint(ldamallet.show_topics(formatted=False))"
   ]
  },
  {
   "cell_type": "code",
   "execution_count": 31,
   "metadata": {},
   "outputs": [
    {
     "name": "stdout",
     "output_type": "stream",
     "text": [
      "\n",
      "Coherence score:  0.5022628060961075\n"
     ]
    }
   ],
   "source": [
    "# Compute coherence score\n",
    "coherence_model_ldamallet = CoherenceModel(model=ldamallet, \n",
    "                                            texts=data_lemmatized,\n",
    "                                            dictionary=id2word, \n",
    "                                            coherence='c_v')\n",
    "\n",
    "coherence_ldamallet = coherence_model_ldamallet.get_coherence()\n",
    "print('\\nCoherence score: ', coherence_ldamallet)"
   ]
  },
  {
   "cell_type": "markdown",
   "metadata": {},
   "source": [
    "### Visualize Optimal Mallet"
   ]
  },
  {
   "cell_type": "code",
   "execution_count": 32,
   "metadata": {},
   "outputs": [],
   "source": [
    "# Visualize the topics\n",
    "\n",
    "# MI\n",
    "\n",
    "# pyLDAvis.enable_notebook()\n",
    "# vis = pyLDAvis.gensim.prepare(ldamallet, corpus, id2word)\n",
    "# vis"
   ]
  },
  {
   "cell_type": "markdown",
   "metadata": {},
   "source": [
    "### Dataframes"
   ]
  },
  {
   "cell_type": "code",
   "execution_count": null,
   "metadata": {},
   "outputs": [],
   "source": [
    "# Extract best topic for each article along with associate keywords. \n",
    "\n",
    "# MI: Turned this into two functions, one for mallet, one for gensim. This can be removed\n",
    "\n",
    "# art_topic_keywords = pd.DataFrame(columns = ['article','best_topic','likelyhood','keywords'])\n",
    "\n",
    "# for i in range(len(lda_mallet_corpus)):\n",
    "#     article = lda_mallet_corpus[i]\n",
    "    \n",
    "#     #print(\"Article \" + str(i))\n",
    "    \n",
    "#     # Find the max likelyhood index and select the corresponding topic\n",
    "#     likelyhood = [likelyhood for topic,likelyhood in article]\n",
    "#     max_likelyhood = max(likelyhood)\n",
    "#     best_topic = likelyhood.index(max_likelyhood)\n",
    "    \n",
    "#     #print('most likely topic: {}, likelyhood: {}'.format(best_topic, max_likelyhood))\n",
    "    \n",
    "#     wp = ldamallet.show_topic(best_topic)\n",
    "#     #pprint(wp)\n",
    "#     topic_keywords = ', '.join([word for word, prop in wp])\n",
    "#     #print(topic_keywords)\n",
    "#     d = {'article': i, 'best_topic': best_topic,'likelyhood': max_likelyhood,'keywords': topic_keywords}\n",
    "#     art_topic_keywords = art_topic_keywords.append(d, ignore_index=True)"
   ]
  },
  {
   "cell_type": "markdown",
   "metadata": {},
   "source": [
    "### Best Gensim Topics"
   ]
  },
  {
   "cell_type": "code",
   "execution_count": 34,
   "metadata": {},
   "outputs": [],
   "source": [
    "# Extract best topic for each article along with associate keywords and likelyhood\n",
    "def get_best_gensim_topics(lda_model, corpus):\n",
    "    \n",
    "    lda_model_corpus = lda_model[corpus]\n",
    "    art_topic_keywords = pd.DataFrame(columns = ['article','best_topic','likelyhood','keywords'])\n",
    "    \n",
    "    # Loop through articles to get each article's main topic\n",
    "    for i, article in enumerate(lda_model[corpus]):\n",
    "        for article in enumerate(article): \n",
    "            if article[0] == 0:\n",
    "                #print(article)\n",
    "                wp = optimal_model.show_topic(article[1][0][0])\n",
    "                topic_keywords = ', '.join([word for word, prop in wp])\n",
    "                \n",
    "                best_topic = int(article[1][0][0])\n",
    "                max_likelyhood = round(article[1][0][1],4)\n",
    "                \n",
    "                d = {'article': i, 'best_topic': best_topic,'likelyhood': max_likelyhood,'keywords': topic_keywords}\n",
    "                art_topic_keywords = art_topic_keywords.append(d, ignore_index=True)\n",
    "\n",
    "    return art_topic_keywords"
   ]
  },
  {
   "cell_type": "code",
   "execution_count": 35,
   "metadata": {},
   "outputs": [],
   "source": [
    "lda_gensim_opt_model = optimal_model\n",
    "gensim_topic_df = get_best_gensim_topics(lda_gensim_opt_model, corpus)"
   ]
  },
  {
   "cell_type": "code",
   "execution_count": 36,
   "metadata": {},
   "outputs": [
    {
     "data": {
      "text/html": [
       "<div>\n",
       "<style scoped>\n",
       "    .dataframe tbody tr th:only-of-type {\n",
       "        vertical-align: middle;\n",
       "    }\n",
       "\n",
       "    .dataframe tbody tr th {\n",
       "        vertical-align: top;\n",
       "    }\n",
       "\n",
       "    .dataframe thead th {\n",
       "        text-align: right;\n",
       "    }\n",
       "</style>\n",
       "<table border=\"1\" class=\"dataframe\">\n",
       "  <thead>\n",
       "    <tr style=\"text-align: right;\">\n",
       "      <th></th>\n",
       "      <th>article</th>\n",
       "      <th>best_topic</th>\n",
       "      <th>likelyhood</th>\n",
       "      <th>keywords</th>\n",
       "    </tr>\n",
       "  </thead>\n",
       "  <tbody>\n",
       "    <tr>\n",
       "      <th>0</th>\n",
       "      <td>0</td>\n",
       "      <td>6</td>\n",
       "      <td>0.7154</td>\n",
       "      <td>say, trade, would, export, official, country, ...</td>\n",
       "    </tr>\n",
       "    <tr>\n",
       "      <th>1</th>\n",
       "      <td>1</td>\n",
       "      <td>3</td>\n",
       "      <td>0.1170</td>\n",
       "      <td>say, company, share, offer, would, stock, buy,...</td>\n",
       "    </tr>\n",
       "    <tr>\n",
       "      <th>2</th>\n",
       "      <td>2</td>\n",
       "      <td>2</td>\n",
       "      <td>0.0152</td>\n",
       "      <td>say, soybean, acre, program, regular, acreage,...</td>\n",
       "    </tr>\n",
       "    <tr>\n",
       "      <th>3</th>\n",
       "      <td>3</td>\n",
       "      <td>0</td>\n",
       "      <td>0.1791</td>\n",
       "      <td>say, rate, growth, economy, would, economic, d...</td>\n",
       "    </tr>\n",
       "    <tr>\n",
       "      <th>4</th>\n",
       "      <td>4</td>\n",
       "      <td>4</td>\n",
       "      <td>0.0337</td>\n",
       "      <td>dollar, market, bank, dealer, yen, money, say,...</td>\n",
       "    </tr>\n",
       "    <tr>\n",
       "      <th>...</th>\n",
       "      <td>...</td>\n",
       "      <td>...</td>\n",
       "      <td>...</td>\n",
       "      <td>...</td>\n",
       "    </tr>\n",
       "    <tr>\n",
       "      <th>10783</th>\n",
       "      <td>10783</td>\n",
       "      <td>4</td>\n",
       "      <td>0.9260</td>\n",
       "      <td>dollar, market, bank, dealer, yen, money, say,...</td>\n",
       "    </tr>\n",
       "    <tr>\n",
       "      <th>10784</th>\n",
       "      <td>10784</td>\n",
       "      <td>20</td>\n",
       "      <td>0.7596</td>\n",
       "      <td>ct, record, dividend, stock, split, share, may...</td>\n",
       "    </tr>\n",
       "    <tr>\n",
       "      <th>10785</th>\n",
       "      <td>10785</td>\n",
       "      <td>20</td>\n",
       "      <td>0.7596</td>\n",
       "      <td>ct, record, dividend, stock, split, share, may...</td>\n",
       "    </tr>\n",
       "    <tr>\n",
       "      <th>10786</th>\n",
       "      <td>10786</td>\n",
       "      <td>18</td>\n",
       "      <td>0.8886</td>\n",
       "      <td>loss, ct, net, profit, dlrs, year, note, inclu...</td>\n",
       "    </tr>\n",
       "    <tr>\n",
       "      <th>10787</th>\n",
       "      <td>10787</td>\n",
       "      <td>0</td>\n",
       "      <td>0.0385</td>\n",
       "      <td>say, rate, growth, economy, would, economic, d...</td>\n",
       "    </tr>\n",
       "  </tbody>\n",
       "</table>\n",
       "<p>10788 rows × 4 columns</p>\n",
       "</div>"
      ],
      "text/plain": [
       "      article best_topic  likelyhood  \\\n",
       "0           0          6      0.7154   \n",
       "1           1          3      0.1170   \n",
       "2           2          2      0.0152   \n",
       "3           3          0      0.1791   \n",
       "4           4          4      0.0337   \n",
       "...       ...        ...         ...   \n",
       "10783   10783          4      0.9260   \n",
       "10784   10784         20      0.7596   \n",
       "10785   10785         20      0.7596   \n",
       "10786   10786         18      0.8886   \n",
       "10787   10787          0      0.0385   \n",
       "\n",
       "                                                keywords  \n",
       "0      say, trade, would, export, official, country, ...  \n",
       "1      say, company, share, offer, would, stock, buy,...  \n",
       "2      say, soybean, acre, program, regular, acreage,...  \n",
       "3      say, rate, growth, economy, would, economic, d...  \n",
       "4      dollar, market, bank, dealer, yen, money, say,...  \n",
       "...                                                  ...  \n",
       "10783  dollar, market, bank, dealer, yen, money, say,...  \n",
       "10784  ct, record, dividend, stock, split, share, may...  \n",
       "10785  ct, record, dividend, stock, split, share, may...  \n",
       "10786  loss, ct, net, profit, dlrs, year, note, inclu...  \n",
       "10787  say, rate, growth, economy, would, economic, d...  \n",
       "\n",
       "[10788 rows x 4 columns]"
      ]
     },
     "execution_count": 36,
     "metadata": {},
     "output_type": "execute_result"
    }
   ],
   "source": [
    "gensim_topic_df"
   ]
  },
  {
   "cell_type": "markdown",
   "metadata": {},
   "source": [
    "### Best Mallet Topics"
   ]
  },
  {
   "cell_type": "code",
   "execution_count": 37,
   "metadata": {},
   "outputs": [],
   "source": [
    "# Extract best topic for each article along with associate keywords and likelyhood\n",
    "def get_best_mallet_topics(lda_model, corpus):\n",
    "    lda_model_corpus = lda_model[corpus]\n",
    "    art_topic_keywords = pd.DataFrame(columns = ['article','best_topic','likelyhood','keywords'])\n",
    "    \n",
    "    for i in range(len(lda_model_corpus)):\n",
    "        # Get article topic model distribution\n",
    "        article = lda_model_corpus[i]\n",
    "\n",
    "        # Find the max likelyhood index and select the corresponding topic\n",
    "        likelyhood = [likelyhood for topic,likelyhood in article]\n",
    "        max_likelyhood = max(likelyhood)\n",
    "        best_topic = likelyhood.index(max_likelyhood)\n",
    "        \n",
    "        # Get keywords for best topcis\n",
    "        wp = lda_model.show_topic(best_topic)\n",
    "        topic_keywords = ', '.join([word for word, prop in wp])\n",
    "        \n",
    "        # Assemble and append information to dataframe\n",
    "        d = {'article': i, 'best_topic': best_topic,'likelyhood': max_likelyhood,'keywords': topic_keywords}\n",
    "        art_topic_keywords = art_topic_keywords.append(d, ignore_index=True)\n",
    "        \n",
    "    return art_topic_keywords\n",
    "    "
   ]
  },
  {
   "cell_type": "code",
   "execution_count": 38,
   "metadata": {},
   "outputs": [],
   "source": [
    "mallet_topic_df = get_best_mallet_topics(ldamallet, corpus)"
   ]
  },
  {
   "cell_type": "code",
   "execution_count": 39,
   "metadata": {},
   "outputs": [
    {
     "data": {
      "text/html": [
       "<div>\n",
       "<style scoped>\n",
       "    .dataframe tbody tr th:only-of-type {\n",
       "        vertical-align: middle;\n",
       "    }\n",
       "\n",
       "    .dataframe tbody tr th {\n",
       "        vertical-align: top;\n",
       "    }\n",
       "\n",
       "    .dataframe thead th {\n",
       "        text-align: right;\n",
       "    }\n",
       "</style>\n",
       "<table border=\"1\" class=\"dataframe\">\n",
       "  <thead>\n",
       "    <tr style=\"text-align: right;\">\n",
       "      <th></th>\n",
       "      <th>article</th>\n",
       "      <th>best_topic</th>\n",
       "      <th>likelyhood</th>\n",
       "      <th>keywords</th>\n",
       "    </tr>\n",
       "  </thead>\n",
       "  <tbody>\n",
       "    <tr>\n",
       "      <th>0</th>\n",
       "      <td>0</td>\n",
       "      <td>10</td>\n",
       "      <td>0.258945</td>\n",
       "      <td>official, japanese, government, source, indust...</td>\n",
       "    </tr>\n",
       "    <tr>\n",
       "      <th>1</th>\n",
       "      <td>1</td>\n",
       "      <td>12</td>\n",
       "      <td>0.121967</td>\n",
       "      <td>growth, government, economic, year, economy, d...</td>\n",
       "    </tr>\n",
       "    <tr>\n",
       "      <th>2</th>\n",
       "      <td>2</td>\n",
       "      <td>17</td>\n",
       "      <td>0.231944</td>\n",
       "      <td>oil, price, production, crude, barrel, increas...</td>\n",
       "    </tr>\n",
       "    <tr>\n",
       "      <th>3</th>\n",
       "      <td>3</td>\n",
       "      <td>15</td>\n",
       "      <td>0.199495</td>\n",
       "      <td>year, export, month, end, import, record, tota...</td>\n",
       "    </tr>\n",
       "    <tr>\n",
       "      <th>4</th>\n",
       "      <td>4</td>\n",
       "      <td>17</td>\n",
       "      <td>0.198211</td>\n",
       "      <td>oil, price, production, crude, barrel, increas...</td>\n",
       "    </tr>\n",
       "    <tr>\n",
       "      <th>...</th>\n",
       "      <td>...</td>\n",
       "      <td>...</td>\n",
       "      <td>...</td>\n",
       "      <td>...</td>\n",
       "    </tr>\n",
       "    <tr>\n",
       "      <th>10783</th>\n",
       "      <td>10783</td>\n",
       "      <td>3</td>\n",
       "      <td>0.128704</td>\n",
       "      <td>dollar, bank, market, exchange, currency, fore...</td>\n",
       "    </tr>\n",
       "    <tr>\n",
       "      <th>10784</th>\n",
       "      <td>10784</td>\n",
       "      <td>16</td>\n",
       "      <td>0.084906</td>\n",
       "      <td>ct, loss, net, profit, note, include, gain, dl...</td>\n",
       "    </tr>\n",
       "    <tr>\n",
       "      <th>10785</th>\n",
       "      <td>10785</td>\n",
       "      <td>16</td>\n",
       "      <td>0.084906</td>\n",
       "      <td>ct, loss, net, profit, note, include, gain, dl...</td>\n",
       "    </tr>\n",
       "    <tr>\n",
       "      <th>10786</th>\n",
       "      <td>10786</td>\n",
       "      <td>16</td>\n",
       "      <td>0.263889</td>\n",
       "      <td>ct, loss, net, profit, note, include, gain, dl...</td>\n",
       "    </tr>\n",
       "    <tr>\n",
       "      <th>10787</th>\n",
       "      <td>10787</td>\n",
       "      <td>0</td>\n",
       "      <td>0.050000</td>\n",
       "      <td>dlrs, year, include, gold, total, reserve, est...</td>\n",
       "    </tr>\n",
       "  </tbody>\n",
       "</table>\n",
       "<p>10788 rows × 4 columns</p>\n",
       "</div>"
      ],
      "text/plain": [
       "      article best_topic  likelyhood  \\\n",
       "0           0         10    0.258945   \n",
       "1           1         12    0.121967   \n",
       "2           2         17    0.231944   \n",
       "3           3         15    0.199495   \n",
       "4           4         17    0.198211   \n",
       "...       ...        ...         ...   \n",
       "10783   10783          3    0.128704   \n",
       "10784   10784         16    0.084906   \n",
       "10785   10785         16    0.084906   \n",
       "10786   10786         16    0.263889   \n",
       "10787   10787          0    0.050000   \n",
       "\n",
       "                                                keywords  \n",
       "0      official, japanese, government, source, indust...  \n",
       "1      growth, government, economic, year, economy, d...  \n",
       "2      oil, price, production, crude, barrel, increas...  \n",
       "3      year, export, month, end, import, record, tota...  \n",
       "4      oil, price, production, crude, barrel, increas...  \n",
       "...                                                  ...  \n",
       "10783  dollar, bank, market, exchange, currency, fore...  \n",
       "10784  ct, loss, net, profit, note, include, gain, dl...  \n",
       "10785  ct, loss, net, profit, note, include, gain, dl...  \n",
       "10786  ct, loss, net, profit, note, include, gain, dl...  \n",
       "10787  dlrs, year, include, gold, total, reserve, est...  \n",
       "\n",
       "[10788 rows x 4 columns]"
      ]
     },
     "execution_count": 39,
     "metadata": {},
     "output_type": "execute_result"
    }
   ],
   "source": [
    "mallet_topic_df"
   ]
  },
  {
   "cell_type": "markdown",
   "metadata": {},
   "source": [
    "## Topic Comparison"
   ]
  },
  {
   "cell_type": "markdown",
   "metadata": {},
   "source": [
    "Discuss overlap between columns. Maybe read an example article to validate. Talk about verification."
   ]
  },
  {
   "cell_type": "code",
   "execution_count": 40,
   "metadata": {},
   "outputs": [],
   "source": [
    "# Create summary dataframe with keywords from each model vs known categories\n",
    "summary_df = pd.concat([df['categories'], gensim_topic_df['keywords'], mallet_topic_df['keywords']], axis=1, sort=False)\n",
    "summary_df.columns = ['reuters_categories','gensim_keywords','mallet_keywords']"
   ]
  },
  {
   "cell_type": "code",
   "execution_count": 41,
   "metadata": {},
   "outputs": [
    {
     "data": {
      "text/html": [
       "<div>\n",
       "<style scoped>\n",
       "    .dataframe tbody tr th:only-of-type {\n",
       "        vertical-align: middle;\n",
       "    }\n",
       "\n",
       "    .dataframe tbody tr th {\n",
       "        vertical-align: top;\n",
       "    }\n",
       "\n",
       "    .dataframe thead th {\n",
       "        text-align: right;\n",
       "    }\n",
       "</style>\n",
       "<table border=\"1\" class=\"dataframe\">\n",
       "  <thead>\n",
       "    <tr style=\"text-align: right;\">\n",
       "      <th></th>\n",
       "      <th>reuters_categories</th>\n",
       "      <th>gensim_keywords</th>\n",
       "      <th>mallet_keywords</th>\n",
       "    </tr>\n",
       "  </thead>\n",
       "  <tbody>\n",
       "    <tr>\n",
       "      <th>0</th>\n",
       "      <td>[trade]</td>\n",
       "      <td>say, trade, would, export, official, country, ...</td>\n",
       "      <td>official, japanese, government, source, indust...</td>\n",
       "    </tr>\n",
       "    <tr>\n",
       "      <th>1</th>\n",
       "      <td>[grain]</td>\n",
       "      <td>say, company, share, offer, would, stock, buy,...</td>\n",
       "      <td>growth, government, economic, year, economy, d...</td>\n",
       "    </tr>\n",
       "    <tr>\n",
       "      <th>2</th>\n",
       "      <td>[crude, nat-gas]</td>\n",
       "      <td>say, soybean, acre, program, regular, acreage,...</td>\n",
       "      <td>oil, price, production, crude, barrel, increas...</td>\n",
       "    </tr>\n",
       "    <tr>\n",
       "      <th>3</th>\n",
       "      <td>[corn, grain, rice, rubber, sugar, tin, trade]</td>\n",
       "      <td>say, rate, growth, economy, would, economic, d...</td>\n",
       "      <td>year, export, month, end, import, record, tota...</td>\n",
       "    </tr>\n",
       "    <tr>\n",
       "      <th>4</th>\n",
       "      <td>[palm-oil, veg-oil]</td>\n",
       "      <td>dollar, market, bank, dealer, yen, money, say,...</td>\n",
       "      <td>oil, price, production, crude, barrel, increas...</td>\n",
       "    </tr>\n",
       "    <tr>\n",
       "      <th>...</th>\n",
       "      <td>...</td>\n",
       "      <td>...</td>\n",
       "      <td>...</td>\n",
       "    </tr>\n",
       "    <tr>\n",
       "      <th>10783</th>\n",
       "      <td>[interest, money-fx]</td>\n",
       "      <td>dollar, market, bank, dealer, yen, money, say,...</td>\n",
       "      <td>dollar, bank, market, exchange, currency, fore...</td>\n",
       "    </tr>\n",
       "    <tr>\n",
       "      <th>10784</th>\n",
       "      <td>[earn]</td>\n",
       "      <td>ct, record, dividend, stock, split, share, may...</td>\n",
       "      <td>ct, loss, net, profit, note, include, gain, dl...</td>\n",
       "    </tr>\n",
       "    <tr>\n",
       "      <th>10785</th>\n",
       "      <td>[earn]</td>\n",
       "      <td>ct, record, dividend, stock, split, share, may...</td>\n",
       "      <td>ct, loss, net, profit, note, include, gain, dl...</td>\n",
       "    </tr>\n",
       "    <tr>\n",
       "      <th>10786</th>\n",
       "      <td>[earn]</td>\n",
       "      <td>loss, ct, net, profit, dlrs, year, note, inclu...</td>\n",
       "      <td>ct, loss, net, profit, note, include, gain, dl...</td>\n",
       "    </tr>\n",
       "    <tr>\n",
       "      <th>10787</th>\n",
       "      <td>[earn]</td>\n",
       "      <td>say, rate, growth, economy, would, economic, d...</td>\n",
       "      <td>dlrs, year, include, gold, total, reserve, est...</td>\n",
       "    </tr>\n",
       "  </tbody>\n",
       "</table>\n",
       "<p>10788 rows × 3 columns</p>\n",
       "</div>"
      ],
      "text/plain": [
       "                                   reuters_categories  \\\n",
       "0                                             [trade]   \n",
       "1                                             [grain]   \n",
       "2                                    [crude, nat-gas]   \n",
       "3      [corn, grain, rice, rubber, sugar, tin, trade]   \n",
       "4                                 [palm-oil, veg-oil]   \n",
       "...                                               ...   \n",
       "10783                            [interest, money-fx]   \n",
       "10784                                          [earn]   \n",
       "10785                                          [earn]   \n",
       "10786                                          [earn]   \n",
       "10787                                          [earn]   \n",
       "\n",
       "                                         gensim_keywords  \\\n",
       "0      say, trade, would, export, official, country, ...   \n",
       "1      say, company, share, offer, would, stock, buy,...   \n",
       "2      say, soybean, acre, program, regular, acreage,...   \n",
       "3      say, rate, growth, economy, would, economic, d...   \n",
       "4      dollar, market, bank, dealer, yen, money, say,...   \n",
       "...                                                  ...   \n",
       "10783  dollar, market, bank, dealer, yen, money, say,...   \n",
       "10784  ct, record, dividend, stock, split, share, may...   \n",
       "10785  ct, record, dividend, stock, split, share, may...   \n",
       "10786  loss, ct, net, profit, dlrs, year, note, inclu...   \n",
       "10787  say, rate, growth, economy, would, economic, d...   \n",
       "\n",
       "                                         mallet_keywords  \n",
       "0      official, japanese, government, source, indust...  \n",
       "1      growth, government, economic, year, economy, d...  \n",
       "2      oil, price, production, crude, barrel, increas...  \n",
       "3      year, export, month, end, import, record, tota...  \n",
       "4      oil, price, production, crude, barrel, increas...  \n",
       "...                                                  ...  \n",
       "10783  dollar, bank, market, exchange, currency, fore...  \n",
       "10784  ct, loss, net, profit, note, include, gain, dl...  \n",
       "10785  ct, loss, net, profit, note, include, gain, dl...  \n",
       "10786  ct, loss, net, profit, note, include, gain, dl...  \n",
       "10787  dlrs, year, include, gold, total, reserve, est...  \n",
       "\n",
       "[10788 rows x 3 columns]"
      ]
     },
     "execution_count": 41,
     "metadata": {},
     "output_type": "execute_result"
    }
   ],
   "source": [
    "summary_df"
   ]
  },
  {
   "cell_type": "code",
   "execution_count": 42,
   "metadata": {},
   "outputs": [],
   "source": [
    "# Show example "
   ]
  },
  {
   "cell_type": "code",
   "execution_count": 43,
   "metadata": {},
   "outputs": [],
   "source": [
    "# Print chosen dataframe to csv file\n",
    "mallet_topic_df.to_csv('mallet_df.csv', index=False) "
   ]
  },
  {
   "cell_type": "markdown",
   "metadata": {},
   "source": [
    "## Network Analysis\n",
    "\n",
    "- Expecting a disconnected graph with num_topics central nodes with edges to articles. \n",
    "- Get the top 5 largest subgraphs which represent the most common topics (degree centrality)\n",
    "- From the most popular topics, suggest next 5 articles to read by looking at edge weight (likelyhood)."
   ]
  },
  {
   "cell_type": "code",
   "execution_count": 44,
   "metadata": {},
   "outputs": [],
   "source": [
    "# Read dataframe from csv file and build a graph from it."
   ]
  },
  {
   "cell_type": "code",
   "execution_count": 45,
   "metadata": {},
   "outputs": [],
   "source": [
    "import networkx as nx\n",
    "import networkx.algorithms.bipartite as bipartite\n",
    "import matplotlib.pyplot as plt\n",
    "import matplotlib.colors as colors"
   ]
  },
  {
   "cell_type": "code",
   "execution_count": 46,
   "metadata": {},
   "outputs": [
    {
     "ename": "NameError",
     "evalue": "name 'art_topic_keywords' is not defined",
     "output_type": "error",
     "traceback": [
      "\u001b[0;31m---------------------------------------------------------------------------\u001b[0m",
      "\u001b[0;31mNameError\u001b[0m                                 Traceback (most recent call last)",
      "\u001b[0;32m<ipython-input-46-8097af01ec47>\u001b[0m in \u001b[0;36m<module>\u001b[0;34m\u001b[0m\n\u001b[0;32m----> 1\u001b[0;31m \u001b[0mG_full\u001b[0m \u001b[0;34m=\u001b[0m \u001b[0mnx\u001b[0m\u001b[0;34m.\u001b[0m\u001b[0mfrom_pandas_edgelist\u001b[0m\u001b[0;34m(\u001b[0m\u001b[0mart_topic_keywords\u001b[0m\u001b[0;34m,\u001b[0m\u001b[0;34m'article'\u001b[0m\u001b[0;34m,\u001b[0m\u001b[0;34m'best_topic'\u001b[0m\u001b[0;34m)\u001b[0m\u001b[0;34m\u001b[0m\u001b[0;34m\u001b[0m\u001b[0m\n\u001b[0m\u001b[1;32m      2\u001b[0m \u001b[0mG_full\u001b[0m\u001b[0;34m.\u001b[0m\u001b[0mgraph\u001b[0m\u001b[0;34m[\u001b[0m\u001b[0;34m'name'\u001b[0m\u001b[0;34m]\u001b[0m \u001b[0;34m=\u001b[0m \u001b[0;34m'Full bipartite graph'\u001b[0m\u001b[0;34m\u001b[0m\u001b[0;34m\u001b[0m\u001b[0m\n\u001b[1;32m      3\u001b[0m \u001b[0mprint\u001b[0m\u001b[0;34m(\u001b[0m\u001b[0mnx\u001b[0m\u001b[0;34m.\u001b[0m\u001b[0minfo\u001b[0m\u001b[0;34m(\u001b[0m\u001b[0mG_full\u001b[0m\u001b[0;34m)\u001b[0m\u001b[0;34m)\u001b[0m\u001b[0;34m\u001b[0m\u001b[0;34m\u001b[0m\u001b[0m\n",
      "\u001b[0;31mNameError\u001b[0m: name 'art_topic_keywords' is not defined"
     ]
    }
   ],
   "source": [
    "G_full = nx.from_pandas_edgelist(art_topic_keywords,'article','best_topic')\n",
    "G_full.graph['name'] = 'Full bipartite graph'\n",
    "print(nx.info(G_full))"
   ]
  },
  {
   "cell_type": "code",
   "execution_count": null,
   "metadata": {},
   "outputs": [],
   "source": [
    "s = 'Graph is bipartite: {} \\nGraph is connected: {} \\nNumber of connected components {}'\n",
    "print(s.format(nx.is_bipartite(G_full), nx.is_connected(G_full), nx.number_connected_components(G_full)))"
   ]
  },
  {
   "cell_type": "code",
   "execution_count": null,
   "metadata": {},
   "outputs": [],
   "source": [
    "# Identify connected components with greater than five nodes\n",
    "sorted([len(c) for c in nx.connected_components(G_full) if len(c) > 5], reverse=True)"
   ]
  },
  {
   "cell_type": "code",
   "execution_count": null,
   "metadata": {},
   "outputs": [],
   "source": [
    "# Function to extract subgraphs\n",
    "def get_subgraphs(graph):\n",
    "    \n",
    "    subgraphs = [(graph.subgraph(c),len(c)) for c in nx.connected_components(graph) if len(c) > 5] # networkx 2.4\n",
    "    return sorted(subgraphs, key = lambda x: x[1], reverse=True)\n",
    "\n",
    "# Create connected subgraphs and confirm\n",
    "subgraphs = get_subgraphs(G_full)\n",
    "print(*subgraphs[:5], '\\n', sep='\\n')\n",
    "\n",
    "# Isolate the largest subgraph\n",
    "largest_subg = subgraphs[0][0]\n",
    "largest_subg.graph['name'] = 'Main bipartite subgraph'\n",
    "print(nx.info(largest_subg), \"\\n\")\n",
    "\n",
    "# Verify largest subgraph is bipartite\n",
    "G = largest_subg\n",
    "print('Graph is bipartite: {} \\nGraph is connected: {} \\n'.format(nx.is_bipartite(G), nx.is_connected(G)))"
   ]
  },
  {
   "cell_type": "code",
   "execution_count": null,
   "metadata": {},
   "outputs": [],
   "source": [
    "# Source node labels\n",
    "graph = G\n",
    "articles, topics = nx.bipartite.sets(graph)\n",
    "\n",
    "# Plot graph by node type\n",
    "# Apply plot settings\n",
    "plt.rcParams.update({'font.size': 18})\n",
    "plt.rcParams['figure.figsize'] = (24,12)\n",
    "plt.axis('off')\n",
    "pos = nx.spring_layout(graph)\n",
    "nx.draw_networkx_nodes(graph, pos, nodelist=articles, node_color='red', alpha = 0.4)\n",
    "nx.draw_networkx_nodes(graph, pos, nodelist=topics, node_color='blue', alpha = 0.4, node_size = 1000)\n",
    "nx.draw_networkx_edges(graph, pos, alpha = 0.4)\n",
    "nx.draw_networkx_labels(graph, pos);"
   ]
  },
  {
   "cell_type": "markdown",
   "metadata": {},
   "source": [
    "## Conclusion"
   ]
  },
  {
   "cell_type": "markdown",
   "metadata": {},
   "source": [
    "## YouTube"
   ]
  },
  {
   "cell_type": "code",
   "execution_count": null,
   "metadata": {},
   "outputs": [],
   "source": []
  },
  {
   "cell_type": "markdown",
   "metadata": {},
   "source": [
    "## References"
   ]
  },
  {
   "cell_type": "markdown",
   "metadata": {},
   "source": [
    "(JO: add remaining references)\n",
    "\n",
    "**Topic Modeling**\n",
    "\n",
    "https://en.wikipedia.org/wiki/Topic_model\n",
    "https://springerplus.springeropen.com/articles/10.1186/s40064-016-3252-8\n",
    "https://mimno.infosci.cornell.edu/papers/2017_fntir_tm_applications.pdf\n",
    "https://cfss.uchicago.edu/notes/topic-modeling/\n",
    "\n",
    "**LDA**\n",
    "https://en.wikipedia.org/wiki/Latent_Dirichlet_allocation\n",
    "https://en.wikipedia.org/wiki/Dirichlet_distribution https://towardsdatascience.com/light-on-math-machine-learning-intuitive-guide-to-latent-dirichlet-allocation-437c81220158\n",
    "\n",
    "**Perplexity and Coherence**\n",
    "https://en.wikipedia.org/wiki/Perplexity\n",
    "https://cfss.uchicago.edu/notes/topic-modeling/ (provides examples on optimizing perplexity\n",
    "https://mimno.infosci.cornell.edu/info6150/readings/N10-1012.pdf (automatic topic coherence evaluation)\n",
    "https://towardsdatascience.com/evaluate-topic-model-in-python-latent-dirichlet-allocation-lda-7d57484bb5d0\n",
    "http://qpleple.com/topic-coherence-to-evaluate-topic-models/ (intrinsic / extrinsic measures and associated math)\n",
    "\n",
    "**Gensim**\n",
    "https://radimrehurek.com/gensim/auto_examples/index.html\n",
    "https://www.thinkinfi.com/2019/08/LDA-Gensim-Python.html\n",
    "https://www.machinelearningplus.com/nlp/topic-modeling-gensim-python/\n",
    "https://www.machinelearningplus.com/nlp/topic-modeling-visualization-how-to-present-results-lda-models/\n",
    "https://towardsdatascience.com/building-a-topic-modeling-pipeline-with-spacy-and-gensim-c5dc03ffc619\n",
    "\n",
    "**Spacy**\n",
    "https://spacy.io/\n",
    "\n",
    "**MALLET**\n",
    "http://mallet.cs.umass.edu/topics.php\n",
    "https://www.thinkinfi.com/2019/08/LDA-Gensim-Python.html\n",
    "\n",
    "**Text Network Analysis**\n",
    "https://advances.sciencemag.org/content/4/7/eaaq1360\n",
    "https://noduslabs.com/wp-content/uploads/2019/06/InfraNodus-Paranyushkin-WWW19-Conference.pdf\n",
    "https://noduslabs.com/cases/tutorial-lda-text-mining-network-analysis/\n",
    "https://github.com/michal-pikusa/text-network-analysis\n",
    "https://github.com/martingerlach/hSBM_Topicmodel/blob/master/TopSBM-tutorial.ipynb"
   ]
  },
  {
   "cell_type": "code",
   "execution_count": null,
   "metadata": {},
   "outputs": [],
   "source": [
    "\n"
   ]
  }
 ],
 "metadata": {
  "kernelspec": {
   "display_name": "Python 3",
   "language": "python",
   "name": "python3"
  },
  "language_info": {
   "codemirror_mode": {
    "name": "ipython",
    "version": 3
   },
   "file_extension": ".py",
   "mimetype": "text/x-python",
   "name": "python",
   "nbconvert_exporter": "python",
   "pygments_lexer": "ipython3",
   "version": "3.7.7"
  }
 },
 "nbformat": 4,
 "nbformat_minor": 4
}
