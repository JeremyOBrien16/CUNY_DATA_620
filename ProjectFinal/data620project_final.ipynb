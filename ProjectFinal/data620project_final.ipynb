{
 "cells": [
  {
   "cell_type": "markdown",
   "metadata": {},
   "source": [
    "# DATA 620 - Final Project\n",
    "\n",
    "Jeremy OBrien, Mael Illien, Vanita Thompson\n",
    "\n",
    "## Topic Networks"
   ]
  },
  {
   "cell_type": "markdown",
   "metadata": {},
   "source": [
    "### Introduction\n",
    "\n",
    "A powerful analytical application of NLP is topic modeling, which identifies the themes present in a corpus comprised of multiple documents based on the words in those documents. Because it can be used to uncover the thematic structure in documents, topic modeling has an array of applications in information retrieval and document mining.\n",
    "\n",
    "Topics are 'probability distributions over a fixed vocabulary' 'An overview of topic modeling and its current applications in bioinformatics', and it's common to use probabilistic generative models derived from LDA (Latent Dirichlet Allocation) to model in an unsupervised fashion the latent semantic structure of documents. Topic models can be tuned and optimized in a variety of ways, including improving how topics are segregated from each other and calibrating for a useful number of topics.\n",
    "\n",
    "### Research Question\n",
    "We will combine techniques from topic modeling and network analysis to address this question.\n",
    "\n",
    "Given a text corpus comprised of multiple documents, what are the topics of those documents and how are the documents thematically related to one another?\n",
    "\n",
    "### Approach\n",
    "- Leverage the Reuters news corpus of nearly 11,000 articles (labeled with at least one category each; unfortunately, authorship is not labeled)\n",
    "- Using the NLTK, Spacy, and Gensim packages, implement and tune an unsupervised LDA-based topic model (i.e. without reference to the provided article topic labels)\n",
    "- Analyze model perplexity and coherence, overall topic prevalence, and topic distribution across articles\n",
    "- Generate a bipartite, weighted (likely on coherence) graph of articles and topics, and analyze its topology to identify relationships between topics"
   ]
  },
  {
   "cell_type": "markdown",
   "metadata": {},
   "source": [
    "## Setup"
   ]
  },
  {
   "cell_type": "code",
   "execution_count": 1,
   "metadata": {},
   "outputs": [],
   "source": [
    "import re\n",
    "import numpy as np\n",
    "import pandas as pd\n",
    "from pprint import pprint\n",
    "\n",
    "import nltk\n",
    "from nltk.corpus import stopwords\n",
    "from nltk.corpus import reuters\n",
    "\n",
    "import spacy  # need to install\n",
    "\n",
    "import gensim  # need to install\n",
    "import gensim.corpora as corpora\n",
    "from gensim.utils import simple_preprocess\n",
    "from gensim.models import CoherenceModel\n",
    "import logging\n",
    "logging.basicConfig(format='%(asctime)s : %(levelname)s : %(message)s', level=logging.ERROR)\n",
    "# warnings.filterwarnings('ignore', category=DeprecationWarning)\n",
    "\n",
    "import pyLDAvis\n",
    "import pyLDAvis.gensim\n",
    "import matplotlib as plt\n",
    "%matplotlib inline"
   ]
  },
  {
   "cell_type": "markdown",
   "metadata": {},
   "source": [
    "## Data Import & Processing"
   ]
  },
  {
   "cell_type": "markdown",
   "metadata": {},
   "source": [
    "### Data import and preliminary EDA"
   ]
  },
  {
   "cell_type": "code",
   "execution_count": 10,
   "metadata": {},
   "outputs": [
    {
     "data": {
      "text/plain": [
       "['the', 'shipment', 'was', 'for', 'April', '8', 'to', '20', 'delivery', '.']"
      ]
     },
     "execution_count": 10,
     "metadata": {},
     "output_type": "execute_result"
    }
   ],
   "source": [
    "# NLTK Reuters corpus test\n",
    "from nltk.corpus import reuters\n",
    "reuters.fileids()\n",
    "reuters.words('test/14841')[-10:]"
   ]
  },
  {
   "cell_type": "code",
   "execution_count": 4,
   "metadata": {},
   "outputs": [
    {
     "data": {
      "text/plain": [
       "['acq',\n",
       " 'alum',\n",
       " 'barley',\n",
       " 'bop',\n",
       " 'carcass',\n",
       " 'castor-oil',\n",
       " 'cocoa',\n",
       " 'coconut',\n",
       " 'coconut-oil',\n",
       " 'coffee',\n",
       " 'copper',\n",
       " 'copra-cake',\n",
       " 'corn',\n",
       " 'cotton',\n",
       " 'cotton-oil',\n",
       " 'cpi',\n",
       " 'cpu',\n",
       " 'crude',\n",
       " 'dfl',\n",
       " 'dlr',\n",
       " 'dmk',\n",
       " 'earn',\n",
       " 'fuel',\n",
       " 'gas',\n",
       " 'gnp',\n",
       " 'gold',\n",
       " 'grain',\n",
       " 'groundnut',\n",
       " 'groundnut-oil',\n",
       " 'heat',\n",
       " 'hog',\n",
       " 'housing',\n",
       " 'income',\n",
       " 'instal-debt',\n",
       " 'interest',\n",
       " 'ipi',\n",
       " 'iron-steel',\n",
       " 'jet',\n",
       " 'jobs',\n",
       " 'l-cattle',\n",
       " 'lead',\n",
       " 'lei',\n",
       " 'lin-oil',\n",
       " 'livestock',\n",
       " 'lumber',\n",
       " 'meal-feed',\n",
       " 'money-fx',\n",
       " 'money-supply',\n",
       " 'naphtha',\n",
       " 'nat-gas',\n",
       " 'nickel',\n",
       " 'nkr',\n",
       " 'nzdlr',\n",
       " 'oat',\n",
       " 'oilseed',\n",
       " 'orange',\n",
       " 'palladium',\n",
       " 'palm-oil',\n",
       " 'palmkernel',\n",
       " 'pet-chem',\n",
       " 'platinum',\n",
       " 'potato',\n",
       " 'propane',\n",
       " 'rand',\n",
       " 'rape-oil',\n",
       " 'rapeseed',\n",
       " 'reserves',\n",
       " 'retail',\n",
       " 'rice',\n",
       " 'rubber',\n",
       " 'rye',\n",
       " 'ship',\n",
       " 'silver',\n",
       " 'sorghum',\n",
       " 'soy-meal',\n",
       " 'soy-oil',\n",
       " 'soybean',\n",
       " 'strategic-metal',\n",
       " 'sugar',\n",
       " 'sun-meal',\n",
       " 'sun-oil',\n",
       " 'sunseed',\n",
       " 'tea',\n",
       " 'tin',\n",
       " 'trade',\n",
       " 'veg-oil',\n",
       " 'wheat',\n",
       " 'wpi',\n",
       " 'yen',\n",
       " 'zinc']"
      ]
     },
     "execution_count": 4,
     "metadata": {},
     "output_type": "execute_result"
    }
   ],
   "source": [
    "reuters.categories()"
   ]
  },
  {
   "cell_type": "code",
   "execution_count": 6,
   "metadata": {},
   "outputs": [],
   "source": [
    "# Adjust to generate dataframe directly from nltk corpus\n",
    "# https://stackoverflow.com/questions/46109166/converting-categorizedplaintextcorpusreader-into-dataframe\n",
    "news = []\n",
    "for fileid in reuters.fileids():\n",
    "    tag, filename = fileid.split('/')\n",
    "    news.append((filename, tag, reuters.raw(fileid)))\n",
    "\n",
    "df = pd.DataFrame(news, columns=['filename', 'tag', 'text'])"
   ]
  },
  {
   "cell_type": "code",
   "execution_count": 7,
   "metadata": {},
   "outputs": [
    {
     "data": {
      "text/html": [
       "<div>\n",
       "<style scoped>\n",
       "    .dataframe tbody tr th:only-of-type {\n",
       "        vertical-align: middle;\n",
       "    }\n",
       "\n",
       "    .dataframe tbody tr th {\n",
       "        vertical-align: top;\n",
       "    }\n",
       "\n",
       "    .dataframe thead th {\n",
       "        text-align: right;\n",
       "    }\n",
       "</style>\n",
       "<table border=\"1\" class=\"dataframe\">\n",
       "  <thead>\n",
       "    <tr style=\"text-align: right;\">\n",
       "      <th></th>\n",
       "      <th>filename</th>\n",
       "      <th>tag</th>\n",
       "      <th>text</th>\n",
       "    </tr>\n",
       "  </thead>\n",
       "  <tbody>\n",
       "    <tr>\n",
       "      <th>0</th>\n",
       "      <td>14826</td>\n",
       "      <td>test</td>\n",
       "      <td>ASIAN EXPORTERS FEAR DAMAGE FROM U.S.-JAPAN RI...</td>\n",
       "    </tr>\n",
       "    <tr>\n",
       "      <th>1</th>\n",
       "      <td>14828</td>\n",
       "      <td>test</td>\n",
       "      <td>CHINA DAILY SAYS VERMIN EAT 7-12 PCT GRAIN STO...</td>\n",
       "    </tr>\n",
       "    <tr>\n",
       "      <th>2</th>\n",
       "      <td>14829</td>\n",
       "      <td>test</td>\n",
       "      <td>JAPAN TO REVISE LONG-TERM ENERGY DEMAND DOWNWA...</td>\n",
       "    </tr>\n",
       "    <tr>\n",
       "      <th>3</th>\n",
       "      <td>14832</td>\n",
       "      <td>test</td>\n",
       "      <td>THAI TRADE DEFICIT WIDENS IN FIRST QUARTER\\n  ...</td>\n",
       "    </tr>\n",
       "    <tr>\n",
       "      <th>4</th>\n",
       "      <td>14833</td>\n",
       "      <td>test</td>\n",
       "      <td>INDONESIA SEES CPO PRICE RISING SHARPLY\\n  Ind...</td>\n",
       "    </tr>\n",
       "  </tbody>\n",
       "</table>\n",
       "</div>"
      ],
      "text/plain": [
       "  filename   tag                                               text\n",
       "0    14826  test  ASIAN EXPORTERS FEAR DAMAGE FROM U.S.-JAPAN RI...\n",
       "1    14828  test  CHINA DAILY SAYS VERMIN EAT 7-12 PCT GRAIN STO...\n",
       "2    14829  test  JAPAN TO REVISE LONG-TERM ENERGY DEMAND DOWNWA...\n",
       "3    14832  test  THAI TRADE DEFICIT WIDENS IN FIRST QUARTER\\n  ...\n",
       "4    14833  test  INDONESIA SEES CPO PRICE RISING SHARPLY\\n  Ind..."
      ]
     },
     "execution_count": 7,
     "metadata": {},
     "output_type": "execute_result"
    }
   ],
   "source": [
    "df.head(n=5)"
   ]
  },
  {
   "cell_type": "code",
   "execution_count": 37,
   "metadata": {},
   "outputs": [],
   "source": [
    "# Output with print\n",
    "\n",
    "# 10,788 separate cases (news articles)\n",
    "# df.shape\n",
    "# len(df.filename.unique())\n",
    "\n",
    "# Each case is tagged as either train or test\n",
    "# df.tag.unique()\n",
    "\n",
    "# There are 10,657 articles with distinct text body - so 131 duplicates\n",
    "# len(df.text.unique())\n",
    "\n",
    "# Check the text body of duplicates (except for first instance)\n",
    "# print(df[df.text.duplicated('first')])\n",
    "\n",
    "# JO: Evaluate cause and consider case for removal"
   ]
  },
  {
   "cell_type": "markdown",
   "metadata": {},
   "source": [
    "### Data cleaning and deduplication"
   ]
  },
  {
   "cell_type": "code",
   "execution_count": 37,
   "metadata": {},
   "outputs": [
    {
     "name": "stdout",
     "output_type": "stream",
     "text": [
      "('ASIAN EXPORTERS FEAR DAMAGE FROM U.S.-JAPAN RIFT Mounting trade friction '\n",
      " 'between the U.S. And Japan has raised fears among many of Asias exporting '\n",
      " 'nations that the row could inflict far-reaching economic damage, businessmen '\n",
      " 'and officials said. They told Reuter correspondents in Asian capitals a U.S. '\n",
      " 'Move against Japan might boost protectionist sentiment in the U.S. And lead '\n",
      " 'to curbs on American imports of their products. But some exporters said that '\n",
      " 'while the conflict would hurt them in the long-run, in the short-term Tokyos '\n",
      " 'loss might be their gain. The U.S. Has said it will impose 300 mln dlrs of '\n",
      " 'tariffs on imports of Japanese electronics goods on April 17, in retaliation '\n",
      " 'for Japans alleged failure to stick to a pact not to sell semiconductors on '\n",
      " 'world markets at below cost. Unofficial Japanese estimates put the impact of '\n",
      " 'the tariffs at 10 billion dlrs and spokesmen for major electronics firms '\n",
      " 'said they would virtually halt exports of products hit by the new taxes. \"We '\n",
      " 'wouldnt be abl')\n"
     ]
    }
   ],
   "source": [
    "# Convert to list\n",
    "data = df['text'].values.tolist()\n",
    "\n",
    "# Remove new line characters\n",
    "data = [re.sub(r'\\s+', ' ', sent) for sent in data]\n",
    "\n",
    "# Remove distracting single quotes\n",
    "data = [re.sub(r\"\\'\", \"\", sent) for sent in data]\n",
    "\n",
    "pprint(data[0][:1000])"
   ]
  },
  {
   "cell_type": "markdown",
   "metadata": {},
   "source": [
    "### Text preparation and feature engineering"
   ]
  },
  {
   "cell_type": "code",
   "execution_count": 33,
   "metadata": {},
   "outputs": [
    {
     "name": "stdout",
     "output_type": "stream",
     "text": [
      "['asian', 'exporters', 'fear', 'damage', 'from', 'japan', 'rift', 'mounting', 'trade', 'friction', 'between', 'the', 'and', 'japan', 'has', 'raised', 'fears', 'among', 'many', 'of', 'asias', 'exporting', 'nations', 'that', 'the', 'row', 'could', 'inflict', 'far', 'reaching', 'economic', 'damage', 'businessmen', 'and', 'officials', 'said', 'they', 'told', 'reuter', 'correspondents', 'in', 'asian', 'capitals', 'move', 'against', 'japan', 'might', 'boost', 'protectionist', 'sentiment', 'in', 'the', 'and', 'lead', 'to', 'curbs', 'on', 'american', 'imports', 'of', 'their', 'products', 'but', 'some', 'exporters', 'said', 'that', 'while', 'the', 'conflict', 'would', 'hurt', 'them', 'in', 'the', 'long', 'run', 'in', 'the', 'short', 'term', 'tokyos', 'loss', 'might', 'be', 'their', 'gain', 'the', 'has', 'said', 'it', 'will', 'impose', 'mln', 'dlrs', 'of', 'tariffs', 'on', 'imports', 'of', 'japanese', 'electronics', 'goods', 'on', 'april', 'in', 'retaliation', 'for', 'japans', 'alleged', 'failure', 'to', 'stick', 'to', 'pact', 'not', 'to', 'sell', 'semiconductors', 'on', 'world', 'markets', 'at', 'below', 'cost', 'unofficial', 'japanese', 'estimates', 'put', 'the', 'impact', 'of', 'the', 'tariffs', 'at', 'billion', 'dlrs', 'and', 'spokesmen', 'for', 'major', 'electronics', 'firms', 'said', 'they', 'would', 'virtually', 'halt', 'exports', 'of', 'products', 'hit', 'by', 'the', 'new', 'taxes', 'we', 'wouldnt', 'be', 'able', 'to', 'do', 'business', 'said', 'spokesman', 'for', 'leading', 'japanese', 'electronics', 'firm', 'matsushita', 'electric', 'industrial', 'co', 'ltd', 'lt', 'mc', 'if', 'the', 'tariffs', 'remain', 'in', 'place', 'for', 'any', 'length', 'of', 'time', 'beyond', 'few', 'months', 'it', 'will', 'mean', 'the', 'complete', 'erosion', 'of', 'exports', 'of', 'goods', 'subject', 'to', 'tariffs', 'to', 'the', 'said', 'tom', 'murtha', 'stock', 'analyst', 'at', 'the', 'tokyo', 'office', 'of', 'broker', 'lt', 'james', 'capel', 'and', 'co', 'in', 'taiwan', 'businessmen', 'and', 'officials', 'are', 'also', 'worried', 'we', 'are', 'aware', 'of', 'the', 'seriousness', 'of', 'the', 'threat', 'against', 'japan', 'because', 'it', 'serves', 'as', 'warning', 'to', 'us', 'said', 'senior', 'taiwanese', 'trade', 'official', 'who', 'asked', 'not', 'to', 'be', 'named', 'taiwan', 'had', 'trade', 'trade', 'surplus', 'of', 'billion', 'dlrs', 'last', 'year', 'pct', 'of', 'it', 'with', 'the', 'the', 'surplus', 'helped', 'swell', 'taiwans', 'foreign', 'exchange', 'reserves', 'to', 'billion', 'dlrs', 'among', 'the', 'worlds', 'largest', 'we', 'must', 'quickly', 'open', 'our', 'markets', 'remove', 'trade', 'barriers', 'and', 'cut', 'import', 'tariffs', 'to', 'allow', 'imports', 'of', 'products', 'if', 'we', 'want', 'to', 'defuse', 'problems', 'from', 'possible', 'retaliation', 'said', 'paul', 'sheen', 'chairman', 'of', 'textile', 'exporters', 'lt', 'taiwan', 'safe', 'group', 'senior', 'official', 'of', 'south', 'koreas', 'trade', 'promotion', 'association', 'said', 'the', 'trade', 'dispute', 'between', 'the', 'and', 'japan', 'might', 'also', 'lead', 'to', 'pressure', 'on', 'south', 'korea', 'whose', 'chief', 'exports', 'are', 'similar', 'to', 'those', 'of', 'japan', 'last', 'year', 'south', 'korea', 'had', 'trade', 'surplus', 'of', 'billion', 'dlrs', 'with', 'the', 'up', 'from', 'billion', 'dlrs', 'in', 'in', 'malaysia', 'trade', 'officers', 'and', 'businessmen', 'said', 'tough', 'curbs', 'against', 'japan', 'might', 'allow', 'hard', 'hit', 'producers', 'of', 'semiconductors', 'in', 'third', 'countries', 'to', 'expand', 'their', 'sales', 'to', 'the', 'in', 'hong', 'kong', 'where', 'newspapers', 'have', 'alleged', 'japan', 'has', 'been', 'selling', 'below', 'cost', 'semiconductors', 'some', 'electronics', 'manufacturers', 'share', 'that', 'view', 'but', 'other', 'businessmen', 'said', 'such', 'short', 'term', 'commercial', 'advantage', 'would', 'be', 'outweighed', 'by', 'further', 'pressure', 'to', 'block', 'imports', 'that', 'is', 'very', 'short', 'term', 'view', 'said', 'lawrence', 'mills', 'director', 'general', 'of', 'the', 'federation', 'of', 'hong', 'kong', 'industry', 'if', 'the', 'whole', 'purpose', 'is', 'to', 'prevent', 'imports', 'one', 'day', 'it', 'will', 'be', 'extended', 'to', 'other', 'sources', 'much', 'more', 'serious', 'for', 'hong', 'kong', 'is', 'the', 'disadvantage', 'of', 'action', 'restraining', 'trade', 'he', 'said', 'the', 'last', 'year', 'was', 'hong', 'kongs', 'biggest', 'export', 'market', 'accounting', 'for', 'over', 'pct', 'of', 'domestically', 'produced', 'exports', 'the', 'australian', 'government', 'is', 'awaiting', 'the', 'outcome', 'of', 'trade', 'talks', 'between', 'the', 'and', 'japan', 'with', 'interest', 'and', 'concern', 'industry', 'minister', 'john', 'button', 'said', 'in', 'canberra', 'last', 'friday', 'this', 'kind', 'of', 'deterioration', 'in', 'trade', 'relations', 'between', 'two', 'countries', 'which', 'are', 'major', 'trading', 'partners', 'of', 'ours', 'is', 'very', 'serious', 'matter', 'button', 'said', 'he', 'said', 'australias', 'concerns', 'centred', 'on', 'coal', 'and', 'beef', 'australias', 'two', 'largest', 'exports', 'to', 'japan', 'and', 'also', 'significant', 'exports', 'to', 'that', 'country', 'meanwhile', 'japanese', 'diplomatic', 'manoeuvres', 'to', 'solve', 'the', 'trade', 'stand', 'off', 'continue', 'japans', 'ruling', 'liberal', 'democratic', 'party', 'yesterday', 'outlined', 'package', 'of', 'economic', 'measures', 'to', 'boost', 'the', 'japanese', 'economy', 'the', 'measures', 'proposed', 'include', 'large', 'supplementary', 'budget', 'and', 'record', 'public', 'works', 'spending', 'in', 'the', 'first', 'half', 'of', 'the', 'financial', 'year', 'they', 'also', 'call', 'for', 'stepped', 'up', 'spending', 'as', 'an', 'emergency', 'measure', 'to', 'stimulate', 'the', 'economy', 'despite', 'prime', 'minister', 'yasuhiro', 'nakasones', 'avowed', 'fiscal', 'reform', 'program', 'deputy', 'trade', 'representative', 'michael', 'smith', 'and', 'makoto', 'kuroda', 'japans', 'deputy', 'minister', 'of', 'international', 'trade', 'and', 'industry', 'miti', 'are', 'due', 'to', 'meet', 'in', 'washington', 'this', 'week', 'in', 'an', 'effort', 'to', 'end', 'the', 'dispute']\n"
     ]
    }
   ],
   "source": [
    "# Tokenize words and clean up text\n",
    "def sent_to_words(sentences):\n",
    "    for sentence in sentences:\n",
    "        yield(gensim.utils.simple_preprocess(str(sentence), deacc=True))  # deacc=True removes punctuations\n",
    "\n",
    "data_words = list(sent_to_words(data))\n",
    "\n",
    "print(data_words[0])"
   ]
  },
  {
   "cell_type": "code",
   "execution_count": 38,
   "metadata": {},
   "outputs": [
    {
     "name": "stdout",
     "output_type": "stream",
     "text": [
      "['asian', 'exporters', 'fear', 'damage', 'from', 'japan', 'rift', 'mounting', 'trade', 'friction', 'between', 'the', 'and', 'japan', 'has', 'raised', 'fears', 'among', 'many', 'of', 'asias', 'exporting', 'nations', 'that', 'the', 'row', 'could', 'inflict', 'far', 'reaching', 'economic', 'damage', 'businessmen', 'and', 'officials', 'said', 'they', 'told', 'reuter_correspondents', 'in', 'asian', 'capitals', 'move', 'against', 'japan', 'might', 'boost', 'protectionist_sentiment', 'in', 'the', 'and', 'lead', 'to', 'curbs', 'on', 'american', 'imports', 'of', 'their', 'products', 'but', 'some', 'exporters', 'said', 'that', 'while', 'the', 'conflict', 'would', 'hurt', 'them', 'in', 'the', 'long', 'run', 'in', 'the', 'short_term', 'tokyos', 'loss', 'might', 'be', 'their', 'gain', 'the', 'has', 'said', 'it', 'will', 'impose', 'mln', 'dlrs', 'of', 'tariffs', 'on', 'imports', 'of', 'japanese', 'electronics', 'goods', 'on', 'april', 'in', 'retaliation', 'for', 'japans', 'alleged_failure', 'to', 'stick', 'to', 'pact', 'not', 'to', 'sell', 'semiconductors', 'on', 'world', 'markets', 'at', 'below', 'cost', 'unofficial', 'japanese', 'estimates', 'put', 'the', 'impact', 'of', 'the', 'tariffs', 'at', 'billion', 'dlrs', 'and', 'spokesmen', 'for', 'major', 'electronics', 'firms', 'said', 'they', 'would', 'virtually', 'halt', 'exports', 'of', 'products', 'hit', 'by', 'the', 'new', 'taxes', 'we', 'wouldnt', 'be', 'able', 'to', 'do', 'business', 'said', 'spokesman', 'for', 'leading', 'japanese', 'electronics', 'firm', 'matsushita', 'electric', 'industrial', 'co', 'ltd', 'lt', 'mc', 'if', 'the', 'tariffs', 'remain', 'in', 'place', 'for', 'any', 'length', 'of', 'time', 'beyond', 'few', 'months', 'it', 'will', 'mean', 'the', 'complete', 'erosion', 'of', 'exports', 'of', 'goods', 'subject', 'to', 'tariffs', 'to', 'the', 'said', 'tom', 'murtha', 'stock', 'analyst', 'at', 'the', 'tokyo', 'office', 'of', 'broker', 'lt', 'james_capel', 'and', 'co', 'in', 'taiwan', 'businessmen', 'and', 'officials', 'are', 'also', 'worried', 'we', 'are', 'aware', 'of', 'the', 'seriousness', 'of', 'the', 'threat', 'against', 'japan', 'because', 'it', 'serves', 'as', 'warning', 'to', 'us', 'said', 'senior', 'taiwanese', 'trade', 'official', 'who', 'asked', 'not', 'to', 'be', 'named', 'taiwan', 'had', 'trade', 'trade', 'surplus', 'of', 'billion', 'dlrs', 'last', 'year', 'pct', 'of', 'it', 'with', 'the', 'the', 'surplus', 'helped', 'swell', 'taiwans', 'foreign', 'exchange', 'reserves', 'to', 'billion', 'dlrs', 'among', 'the', 'worlds_largest', 'we', 'must', 'quickly', 'open', 'our', 'markets', 'remove', 'trade', 'barriers', 'and', 'cut', 'import', 'tariffs', 'to', 'allow', 'imports', 'of', 'products', 'if', 'we', 'want', 'to', 'defuse', 'problems', 'from', 'possible', 'retaliation', 'said', 'paul', 'sheen', 'chairman', 'of', 'textile', 'exporters', 'lt', 'taiwan', 'safe', 'group', 'senior', 'official', 'of', 'south_koreas', 'trade', 'promotion', 'association', 'said', 'the', 'trade', 'dispute', 'between', 'the', 'and', 'japan', 'might', 'also', 'lead', 'to', 'pressure', 'on', 'south_korea', 'whose', 'chief', 'exports', 'are', 'similar', 'to', 'those', 'of', 'japan', 'last', 'year', 'south_korea', 'had', 'trade', 'surplus', 'of', 'billion', 'dlrs', 'with', 'the', 'up', 'from', 'billion', 'dlrs', 'in', 'in', 'malaysia', 'trade', 'officers', 'and', 'businessmen', 'said', 'tough', 'curbs', 'against', 'japan', 'might', 'allow', 'hard_hit', 'producers', 'of', 'semiconductors', 'in', 'third', 'countries', 'to', 'expand', 'their', 'sales', 'to', 'the', 'in', 'hong_kong', 'where', 'newspapers', 'have', 'alleged', 'japan', 'has', 'been', 'selling', 'below', 'cost', 'semiconductors', 'some', 'electronics', 'manufacturers', 'share', 'that', 'view', 'but', 'other', 'businessmen', 'said', 'such', 'short_term', 'commercial', 'advantage', 'would', 'be', 'outweighed', 'by', 'further', 'pressure', 'to', 'block', 'imports', 'that', 'is', 'very', 'short_term', 'view', 'said', 'lawrence', 'mills', 'director', 'general', 'of', 'the', 'federation', 'of', 'hong_kong', 'industry', 'if', 'the', 'whole', 'purpose', 'is', 'to', 'prevent', 'imports', 'one', 'day', 'it', 'will', 'be', 'extended', 'to', 'other', 'sources', 'much', 'more', 'serious', 'for', 'hong_kong', 'is', 'the', 'disadvantage', 'of', 'action', 'restraining', 'trade', 'he', 'said', 'the', 'last', 'year', 'was', 'hong_kongs', 'biggest', 'export', 'market', 'accounting', 'for', 'over', 'pct', 'of', 'domestically_produced', 'exports', 'the', 'australian', 'government', 'is', 'awaiting', 'the', 'outcome', 'of', 'trade', 'talks', 'between', 'the', 'and', 'japan', 'with', 'interest', 'and', 'concern', 'industry', 'minister', 'john', 'button', 'said', 'in', 'canberra', 'last', 'friday', 'this', 'kind', 'of', 'deterioration', 'in', 'trade', 'relations', 'between', 'two', 'countries', 'which', 'are', 'major', 'trading_partners', 'of', 'ours', 'is', 'very', 'serious', 'matter', 'button', 'said', 'he', 'said', 'australias', 'concerns', 'centred', 'on', 'coal', 'and', 'beef', 'australias', 'two', 'largest', 'exports', 'to', 'japan', 'and', 'also', 'significant', 'exports', 'to', 'that', 'country', 'meanwhile', 'japanese', 'diplomatic', 'manoeuvres', 'to', 'solve', 'the', 'trade', 'stand', 'off', 'continue', 'japans', 'ruling_liberal_democratic_party', 'yesterday', 'outlined', 'package', 'of', 'economic', 'measures', 'to', 'boost', 'the', 'japanese', 'economy', 'the', 'measures', 'proposed', 'include', 'large', 'supplementary', 'budget', 'and', 'record', 'public_works', 'spending', 'in', 'the', 'first', 'half', 'of', 'the', 'financial', 'year', 'they', 'also', 'call', 'for', 'stepped', 'up', 'spending', 'as', 'an', 'emergency', 'measure', 'to', 'stimulate', 'the', 'economy', 'despite', 'prime_minister_yasuhiro_nakasones', 'avowed', 'fiscal', 'reform', 'program', 'deputy', 'trade', 'representative_michael', 'smith', 'and', 'makoto_kuroda', 'japans', 'deputy', 'minister', 'of', 'international', 'trade', 'and', 'industry', 'miti', 'are', 'due', 'to', 'meet', 'in', 'washington', 'this', 'week', 'in', 'an', 'effort', 'to', 'end', 'the', 'dispute']\n"
     ]
    }
   ],
   "source": [
    "# Build the bigram and trigram models\n",
    "bigram = gensim.models.Phrases(data_words, min_count=5, threshold=100) # higher threshold fewer phrases.\n",
    "trigram = gensim.models.Phrases(bigram[data_words], threshold=100)  \n",
    "\n",
    "# Faster way to get a sentence clubbed as a trigram/bigram\n",
    "bigram_mod = gensim.models.phrases.Phraser(bigram)\n",
    "trigram_mod = gensim.models.phrases.Phraser(trigram)\n",
    "\n",
    "# See trigram example\n",
    "print(trigram_mod[bigram_mod[data_words[0]]])"
   ]
  },
  {
   "cell_type": "markdown",
   "metadata": {},
   "source": [
    "### Pre-processing"
   ]
  },
  {
   "cell_type": "code",
   "execution_count": 39,
   "metadata": {},
   "outputs": [],
   "source": [
    "# Set up stopwords\n",
    "stop_words = stopwords.words('english')\n",
    "\n",
    "# JO: Confirm if these / other stopwords should be added\n",
    "stop_words.extend(['from', 'subject', 're', 'edu', 'use'])"
   ]
  },
  {
   "cell_type": "code",
   "execution_count": 40,
   "metadata": {},
   "outputs": [],
   "source": [
    "# Define functions for stopwords, bigrams, trigrams and lemmatization\n",
    "def remove_stopwords(texts):\n",
    "    return [[word for word in simple_preprocess(str(doc)) if word not in stop_words] for doc in texts]\n",
    "\n",
    "def make_bigrams(texts):\n",
    "    return [bigram_mod[doc] for doc in texts]\n",
    "\n",
    "def make_trigrams(texts):\n",
    "    return [trigram_mod[bigram_mod[doc]] for doc in texts]\n",
    "\n",
    "def lemmatization(texts, allowed_postags=['NOUN', 'ADJ', 'VERB', 'ADV']):\n",
    "    \"\"\"https://spacy.io/api/annotation\"\"\"\n",
    "    texts_out = []\n",
    "    for sent in texts:\n",
    "        doc = nlp(\" \".join(sent)) \n",
    "        texts_out.append([token.lemma_ for token in doc if token.pos_ in allowed_postags])\n",
    "    return texts_out"
   ]
  },
  {
   "cell_type": "code",
   "execution_count": 43,
   "metadata": {},
   "outputs": [],
   "source": [
    "# Remove stop words\n",
    "data_words_nostops = remove_stopwords(data_words)\n",
    "\n",
    "# Form bigrams\n",
    "data_words_bigrams = make_bigrams(data_words_nostops)\n",
    "\n",
    "# Initialize spacy 'en' model, keeping only tagger component (for efficiency)\n",
    "# python3 -m spacy download en\n",
    "nlp = spacy.load('en_core_web_sm', disable=['parser', 'ner'])\n",
    "\n",
    "# Do lemmatization keeping only noun, adj, vb, adv\n",
    "data_lemmatized = lemmatization(data_words_bigrams, allowed_postags=['NOUN', 'ADJ', 'VERB', 'ADV'])"
   ]
  },
  {
   "cell_type": "code",
   "execution_count": 44,
   "metadata": {},
   "outputs": [
    {
     "name": "stdout",
     "output_type": "stream",
     "text": [
      "['asian', 'exporter', 'fear', 'damage', 'mount', 'trade', 'friction', 'raise', 'fear', 'many', 'asia', 'export', 'nation', 'row', 'could', 'inflict', 'far', 'reach', 'economic', 'damage', 'businessman', 'official', 'say', 'tell', 'asian', 'capital', 'move', 'may', 'boost', 'protectionist_sentiment', 'lead', 'curb', 'american', 'import', 'product', 'exporter', 'say', 'conflict', 'would', 'hurt', 'long', 'run', 'tokyos', 'loss', 'may', 'gain', 'say', 'impose', 'dlrs', 'import', 'japanese', 'electronic', 'good', 'retaliation', 'stick', 'pact', 'sell', 'semiconductor', 'world', 'market', 'cost', 'unofficial', 'japanese', 'estimate', 'put', 'impact', 'tariff', 'dlrs', 'spokesman', 'major', 'electronic', 'firm', 'say', 'would', 'virtually', 'halt', 'export', 'product', 'hit', 'new', 'taxis', 'would', 'able', 'business', 'say', 'spokesman', 'lead', 'japanese', 'electronic', 'firm', 'tariff', 'remain', 'place', 'length', 'time', 'month', 'mean', 'complete', 'erosion', 'export', 'good', 'tariff', 'say', 'official', 'also', 'worry', 'aware', 'seriousness', 'threat', 'serve', 'warn', 'say', 'senior', 'taiwanese', 'trade', 'official', 'ask', 'name', 'trade', 'surplus', 'dlrs', 'last', 'year', 'surplus', 'help', 'swell', 'foreign', 'exchange', 'reserve', 'dlrs', 'must', 'quickly', 'open', 'market', 'remove', 'trade', 'barrier', 'cut', 'import', 'tariff', 'allow', 'import', 'product', 'want', 'defuse', 'problem', 'possible', 'retaliation', 'say', 'senior', 'official', 'say', 'dispute', 'may', 'also', 'lead', 'pressure', 'chief', 'export', 'similar', 'last', 'year', 'trade', 'surplus', 'officer', 'businessman', 'say', 'tough', 'may', 'allow', 'producer', 'semiconductor', 'third', 'country', 'expand', 'sale', 'newspaper', 'allege', 'sell', 'cost', 'semiconductor', 'electronic', 'manufacturer', 'share', 'view', 'businessman', 'say', 'commercial', 'advantage', 'would', 'outweighed', 'pressure', 'block', 'import', 'say', 'industry', 'whole', 'purpose', 'prevent', 'import', 'day', 'extended', 'source', 'much', 'serious', 'disadvantage', 'action', 'restrain', 'trade', 'say', 'last', 'year', 'big', 'export', 'market', 'accounting', 'domestically_produced', 'export', 'australian', 'government', 'await', 'talk', 'interest', 'concern', 'say', 'last', 'kind', 'deterioration', 'trade', 'relation', 'country', 'major', 'trading', 'partner', 'serious', 'matter', 'say', 'say', 'concern', 'centre', 'coal', 'beef', 'australia', 'large', 'export', 'also', 'significant', 'export', 'country', 'meanwhile', 'japanese', 'diplomatic', 'manoeuvre', 'solve', 'trade', 'stand', 'continue', 'yesterday', 'outline', 'package', 'economic', 'measure', 'boost', 'japanese', 'economy', 'measure', 'propose', 'include', 'large', 'supplementary', 'budget', 'record', 'public_work', 'spend', 'first', 'financial', 'year', 'also', 'call', 'step', 'spend', 'emergency', 'measure', 'stimulate', 'economy', 'yasuhiro_nakasone', 'avow', 'fiscal', 'reform', 'program', 'deputy', 'trade', 'representative', 'industry', 'due', 'week', 'effort', 'end', 'dispute']\n"
     ]
    }
   ],
   "source": [
    "print(data_lemmatized[0])"
   ]
  },
  {
   "cell_type": "code",
   "execution_count": 46,
   "metadata": {},
   "outputs": [
    {
     "name": "stdout",
     "output_type": "stream",
     "text": [
      "[[(0, 1), (1, 1), (2, 1), (3, 1), (4, 1), (5, 2), (6, 4), (7, 1), (8, 1), (9, 2), (10, 1), (11, 1), (12, 1), (13, 1), (14, 1), (15, 1), (16, 1), (17, 1), (18, 1), (19, 1), (20, 2), (21, 1), (22, 1), (23, 3), (24, 1), (25, 1), (26, 1), (27, 1), (28, 1), (29, 1), (30, 1), (31, 2), (32, 1), (33, 1), (34, 2), (35, 1), (36, 3), (37, 1), (38, 1), (39, 2), (40, 1), (41, 1), (42, 1), (43, 1), (44, 1), (45, 1), (46, 2), (47, 4), (48, 1), (49, 1), (50, 2), (51, 2), (52, 1), (53, 4), (54, 1), (55, 1), (56, 1), (57, 1), (58, 1), (59, 1), (60, 8), (61, 2), (62, 1), (63, 1), (64, 2), (65, 1), (66, 2), (67, 1), (68, 1), (69, 1), (70, 1), (71, 1), (72, 2), (73, 1), (74, 1), (75, 1), (76, 1), (77, 1), (78, 1), (79, 6), (80, 1), (81, 1), (82, 2), (83, 1), (84, 1), (85, 5), (86, 1), (87, 2), (88, 4), (89, 3), (90, 1), (91, 1), (92, 1), (93, 2), (94, 1), (95, 1), (96, 1), (97, 3), (98, 1), (99, 4), (100, 1), (101, 1), (102, 3), (103, 1), (104, 1), (105, 1), (106, 1), (107, 1), (108, 1), (109, 1), (110, 1), (111, 1), (112, 1), (113, 4), (114, 1), (115, 1), (116, 1), (117, 1), (118, 1), (119, 1), (120, 1), (121, 1), (122, 2), (123, 1), (124, 1), (125, 1), (126, 3), (127, 1), (128, 1), (129, 1), (130, 1), (131, 1), (132, 1), (133, 1), (134, 1), (135, 1), (136, 1), (137, 1), (138, 1), (139, 1), (140, 1), (141, 1), (142, 1), (143, 1), (144, 2), (145, 1), (146, 1), (147, 1), (148, 16), (149, 2), (150, 3), (151, 2), (152, 2), (153, 1), (154, 1), (155, 1), (156, 1), (157, 1), (158, 1), (159, 1), (160, 2), (161, 2), (162, 1), (163, 1), (164, 1), (165, 1), (166, 1), (167, 3), (168, 1), (169, 1), (170, 1), (171, 4), (172, 1), (173, 1), (174, 1), (175, 1), (176, 1), (177, 1), (178, 1), (179, 9), (180, 1), (181, 1), (182, 1), (183, 1), (184, 1), (185, 1), (186, 1), (187, 1), (188, 1), (189, 1), (190, 4), (191, 1), (192, 4), (193, 1)]]\n"
     ]
    }
   ],
   "source": [
    "# Create dictionary and corpus for topic modeling\n",
    "\n",
    "# Create Dictionary\n",
    "id2word = corpora.Dictionary(data_lemmatized)\n",
    "\n",
    "# Create Corpus\n",
    "texts = data_lemmatized\n",
    "\n",
    "# Term Document Frequency\n",
    "corpus = [id2word.doc2bow(text) for text in texts]\n",
    "\n",
    "# View\n",
    "print(corpus[:1])"
   ]
  },
  {
   "cell_type": "code",
   "execution_count": 47,
   "metadata": {},
   "outputs": [
    {
     "data": {
      "text/plain": [
       "[[('able', 1),\n",
       "  ('accounting', 1),\n",
       "  ('action', 1),\n",
       "  ('advantage', 1),\n",
       "  ('allege', 1),\n",
       "  ('allow', 2),\n",
       "  ('also', 4),\n",
       "  ('american', 1),\n",
       "  ('asia', 1),\n",
       "  ('asian', 2),\n",
       "  ('ask', 1),\n",
       "  ('australia', 1),\n",
       "  ('australian', 1),\n",
       "  ('avow', 1),\n",
       "  ('await', 1),\n",
       "  ('aware', 1),\n",
       "  ('barrier', 1),\n",
       "  ('beef', 1),\n",
       "  ('big', 1),\n",
       "  ('block', 1),\n",
       "  ('boost', 2),\n",
       "  ('budget', 1),\n",
       "  ('business', 1),\n",
       "  ('businessman', 3),\n",
       "  ('call', 1),\n",
       "  ('capital', 1),\n",
       "  ('centre', 1),\n",
       "  ('chief', 1),\n",
       "  ('coal', 1),\n",
       "  ('commercial', 1),\n",
       "  ('complete', 1),\n",
       "  ('concern', 2),\n",
       "  ('conflict', 1),\n",
       "  ('continue', 1),\n",
       "  ('cost', 2),\n",
       "  ('could', 1),\n",
       "  ('country', 3),\n",
       "  ('curb', 1),\n",
       "  ('cut', 1),\n",
       "  ('damage', 2),\n",
       "  ('day', 1),\n",
       "  ('defuse', 1),\n",
       "  ('deputy', 1),\n",
       "  ('deterioration', 1),\n",
       "  ('diplomatic', 1),\n",
       "  ('disadvantage', 1),\n",
       "  ('dispute', 2),\n",
       "  ('dlrs', 4),\n",
       "  ('domestically_produced', 1),\n",
       "  ('due', 1),\n",
       "  ('economic', 2),\n",
       "  ('economy', 2),\n",
       "  ('effort', 1),\n",
       "  ('electronic', 4),\n",
       "  ('emergency', 1),\n",
       "  ('end', 1),\n",
       "  ('erosion', 1),\n",
       "  ('estimate', 1),\n",
       "  ('exchange', 1),\n",
       "  ('expand', 1),\n",
       "  ('export', 8),\n",
       "  ('exporter', 2),\n",
       "  ('extended', 1),\n",
       "  ('far', 1),\n",
       "  ('fear', 2),\n",
       "  ('financial', 1),\n",
       "  ('firm', 2),\n",
       "  ('first', 1),\n",
       "  ('fiscal', 1),\n",
       "  ('foreign', 1),\n",
       "  ('friction', 1),\n",
       "  ('gain', 1),\n",
       "  ('good', 2),\n",
       "  ('government', 1),\n",
       "  ('halt', 1),\n",
       "  ('help', 1),\n",
       "  ('hit', 1),\n",
       "  ('hurt', 1),\n",
       "  ('impact', 1),\n",
       "  ('import', 6),\n",
       "  ('impose', 1),\n",
       "  ('include', 1),\n",
       "  ('industry', 2),\n",
       "  ('inflict', 1),\n",
       "  ('interest', 1),\n",
       "  ('japanese', 5),\n",
       "  ('kind', 1),\n",
       "  ('large', 2),\n",
       "  ('last', 4),\n",
       "  ('lead', 3),\n",
       "  ('length', 1),\n",
       "  ('long', 1),\n",
       "  ('loss', 1),\n",
       "  ('major', 2),\n",
       "  ('manoeuvre', 1),\n",
       "  ('manufacturer', 1),\n",
       "  ('many', 1),\n",
       "  ('market', 3),\n",
       "  ('matter', 1),\n",
       "  ('may', 4),\n",
       "  ('mean', 1),\n",
       "  ('meanwhile', 1),\n",
       "  ('measure', 3),\n",
       "  ('month', 1),\n",
       "  ('mount', 1),\n",
       "  ('move', 1),\n",
       "  ('much', 1),\n",
       "  ('must', 1),\n",
       "  ('name', 1),\n",
       "  ('nation', 1),\n",
       "  ('new', 1),\n",
       "  ('newspaper', 1),\n",
       "  ('officer', 1),\n",
       "  ('official', 4),\n",
       "  ('open', 1),\n",
       "  ('outline', 1),\n",
       "  ('outweighed', 1),\n",
       "  ('package', 1),\n",
       "  ('pact', 1),\n",
       "  ('partner', 1),\n",
       "  ('place', 1),\n",
       "  ('possible', 1),\n",
       "  ('pressure', 2),\n",
       "  ('prevent', 1),\n",
       "  ('problem', 1),\n",
       "  ('producer', 1),\n",
       "  ('product', 3),\n",
       "  ('program', 1),\n",
       "  ('propose', 1),\n",
       "  ('protectionist_sentiment', 1),\n",
       "  ('public_work', 1),\n",
       "  ('purpose', 1),\n",
       "  ('put', 1),\n",
       "  ('quickly', 1),\n",
       "  ('raise', 1),\n",
       "  ('reach', 1),\n",
       "  ('record', 1),\n",
       "  ('reform', 1),\n",
       "  ('relation', 1),\n",
       "  ('remain', 1),\n",
       "  ('remove', 1),\n",
       "  ('representative', 1),\n",
       "  ('reserve', 1),\n",
       "  ('restrain', 1),\n",
       "  ('retaliation', 2),\n",
       "  ('row', 1),\n",
       "  ('run', 1),\n",
       "  ('sale', 1),\n",
       "  ('say', 16),\n",
       "  ('sell', 2),\n",
       "  ('semiconductor', 3),\n",
       "  ('senior', 2),\n",
       "  ('serious', 2),\n",
       "  ('seriousness', 1),\n",
       "  ('serve', 1),\n",
       "  ('share', 1),\n",
       "  ('significant', 1),\n",
       "  ('similar', 1),\n",
       "  ('solve', 1),\n",
       "  ('source', 1),\n",
       "  ('spend', 2),\n",
       "  ('spokesman', 2),\n",
       "  ('stand', 1),\n",
       "  ('step', 1),\n",
       "  ('stick', 1),\n",
       "  ('stimulate', 1),\n",
       "  ('supplementary', 1),\n",
       "  ('surplus', 3),\n",
       "  ('swell', 1),\n",
       "  ('taiwanese', 1),\n",
       "  ('talk', 1),\n",
       "  ('tariff', 4),\n",
       "  ('taxis', 1),\n",
       "  ('tell', 1),\n",
       "  ('third', 1),\n",
       "  ('threat', 1),\n",
       "  ('time', 1),\n",
       "  ('tokyos', 1),\n",
       "  ('tough', 1),\n",
       "  ('trade', 9),\n",
       "  ('trading', 1),\n",
       "  ('unofficial', 1),\n",
       "  ('view', 1),\n",
       "  ('virtually', 1),\n",
       "  ('want', 1),\n",
       "  ('warn', 1),\n",
       "  ('week', 1),\n",
       "  ('whole', 1),\n",
       "  ('world', 1),\n",
       "  ('worry', 1),\n",
       "  ('would', 4),\n",
       "  ('yasuhiro_nakasone', 1),\n",
       "  ('year', 4),\n",
       "  ('yesterday', 1)]]"
      ]
     },
     "execution_count": 47,
     "metadata": {},
     "output_type": "execute_result"
    }
   ],
   "source": [
    "[[(id2word[id], freq) for id, freq in cp] for cp in corpus[:1]]"
   ]
  },
  {
   "cell_type": "markdown",
   "metadata": {},
   "source": [
    "## Topic Modeling & Distribution"
   ]
  },
  {
   "cell_type": "code",
   "execution_count": 48,
   "metadata": {},
   "outputs": [],
   "source": [
    "# Build topic model\n",
    "lda_model = gensim.models.ldamodel.LdaModel(corpus=corpus,  # TDF corpus\n",
    "                                           id2word=id2word,  # dictionary\n",
    "                                           num_topics=20,  # provisionally set to 20, to be optimized\n",
    "                                           random_state=100,  # [CONFIRM]\n",
    "                                           update_every=1,  # how often paramater should be updated\n",
    "                                           chunksize=100,\n",
    "                                           passes=10,  # total number of training passes\n",
    "                                           alpha='auto',\n",
    "                                           per_word_topics=True)"
   ]
  },
  {
   "cell_type": "code",
   "execution_count": 49,
   "metadata": {},
   "outputs": [
    {
     "name": "stdout",
     "output_type": "stream",
     "text": [
      "[(0,\n",
      "  '0.101*\"year\" + 0.073*\"say\" + 0.052*\"rise\" + 0.032*\"expect\" + 0.029*\"end\" + '\n",
      "  '0.028*\"dlrs\" + 0.027*\"report\" + 0.027*\"fall\" + 0.025*\"increase\" + '\n",
      "  '0.025*\"first\"'),\n",
      " (1,\n",
      "  '0.387*\"oil\" + 0.073*\"reserve\" + 0.072*\"crude\" + 0.068*\"barrel\" + '\n",
      "  '0.054*\"revise\" + 0.051*\"morning\" + 0.035*\"day\" + 0.021*\"estimate\" + '\n",
      "  '0.018*\"assistance\" + 0.018*\"today\"'),\n",
      " (2,\n",
      "  '0.287*\"stock\" + 0.178*\"share\" + 0.128*\"common\" + 0.081*\"dividend\" + '\n",
      "  '0.020*\"march\" + 0.020*\"grower\" + 0.017*\"corporate\" + 0.015*\"together\" + '\n",
      "  '0.015*\"increase\" + 0.014*\"trust\"'),\n",
      " (3,\n",
      "  '0.133*\"say\" + 0.066*\"company\" + 0.048*\"share\" + 0.029*\"offer\" + 0.022*\"buy\" '\n",
      "  '+ 0.022*\"dlrs\" + 0.019*\"unit\" + 0.016*\"sell\" + 0.015*\"group\" + '\n",
      "  '0.014*\"shareholder\"'),\n",
      " (4,\n",
      "  '0.150*\"dollar\" + 0.090*\"currency\" + 0.086*\"exchange\" + 0.086*\"mark\" + '\n",
      "  '0.074*\"dealer\" + 0.074*\"yen\" + 0.054*\"bank\" + 0.030*\"central\" + '\n",
      "  '0.021*\"fall\" + 0.021*\"intervene\"'),\n",
      " (5,\n",
      "  '0.172*\"price\" + 0.038*\"raise\" + 0.024*\"consumer\" + 0.021*\"stake\" + '\n",
      "  '0.020*\"franc\" + 0.020*\"half\" + 0.019*\"increase\" + 0.019*\"order\" + '\n",
      "  '0.019*\"range\" + 0.018*\"contract\"'),\n",
      " (6,\n",
      "  '0.135*\"say\" + 0.041*\"would\" + 0.024*\"market\" + 0.017*\"official\" + '\n",
      "  '0.016*\"could\" + 0.013*\"last\" + 0.012*\"add\" + 0.012*\"may\" + 0.012*\"take\" + '\n",
      "  '0.012*\"also\"'),\n",
      " (7,\n",
      "  '0.292*\"set\" + 0.218*\"split\" + 0.081*\"adjust\" + 0.033*\"matter\" + '\n",
      "  '0.032*\"serve\" + 0.029*\"purpose\" + 0.028*\"party\" + 0.023*\"date\" + '\n",
      "  '0.012*\"previously_announce\" + 0.012*\"dilute\"'),\n",
      " (8,\n",
      "  '0.069*\"export\" + 0.049*\"production\" + 0.047*\"import\" + 0.023*\"figure\" + '\n",
      "  '0.023*\"program\" + 0.020*\"gold\" + 0.019*\"output\" + 0.018*\"wheat\" + '\n",
      "  '0.017*\"produce\" + 0.016*\"mln\"'),\n",
      " (9,\n",
      "  '0.424*\"sale\" + 0.093*\"asset\" + 0.041*\"turnover\" + 0.037*\"operate\" + '\n",
      "  '0.032*\"division\" + 0.032*\"product\" + 0.031*\"special\" + 0.031*\"property\" + '\n",
      "  '0.027*\"equipment\" + 0.024*\"regular\"'),\n",
      " (10,\n",
      "  '0.206*\"rate\" + 0.076*\"market\" + 0.071*\"money\" + 0.069*\"bank\" + '\n",
      "  '0.036*\"economist\" + 0.033*\"fund\" + 0.033*\"cut\" + 0.032*\"interest\" + '\n",
      "  '0.026*\"inflation\" + 0.025*\"forecast\"'),\n",
      " (11,\n",
      "  '0.090*\"trade\" + 0.045*\"foreign\" + 0.032*\"deficit\" + 0.029*\"government\" + '\n",
      "  '0.029*\"surplus\" + 0.028*\"economic\" + 0.027*\"tax\" + 0.027*\"economy\" + '\n",
      "  '0.021*\"country\" + 0.020*\"growth\"'),\n",
      " (12,\n",
      "  '0.208*\"record\" + 0.091*\"may\" + 0.086*\"proposal\" + 0.073*\"pay\" + '\n",
      "  '0.064*\"prior\" + 0.059*\"dividend\" + 0.050*\"final\" + 0.045*\"vote\" + '\n",
      "  '0.041*\"strike\" + 0.033*\"worker\"'),\n",
      " (13,\n",
      "  '0.121*\"system\" + 0.067*\"number\" + 0.041*\"develop\" + 0.039*\"department\" + '\n",
      "  '0.039*\"national\" + 0.034*\"review\" + 0.030*\"launch\" + 0.028*\"discussion\" + '\n",
      "  '0.026*\"employee\" + 0.024*\"note\"'),\n",
      " (14,\n",
      "  '0.164*\"tonne\" + 0.068*\"sugar\" + 0.060*\"grain\" + 0.049*\"crop\" + 0.046*\"week\" '\n",
      "  '+ 0.031*\"estimate\" + 0.029*\"season\" + 0.028*\"farmer\" + 0.026*\"area\" + '\n",
      "  '0.024*\"soviet\"'),\n",
      " (15,\n",
      "  '0.158*\"cent\" + 0.067*\"datum\" + 0.065*\"initial\" + 0.059*\"commodity\" + '\n",
      "  '0.059*\"declare\" + 0.054*\"overseas\" + 0.042*\"rubber\" + 0.035*\"bonus\" + '\n",
      "  '0.034*\"ratio\" + 0.033*\"profitable\"'),\n",
      " (16,\n",
      "  '0.049*\"agreement\" + 0.042*\"talk\" + 0.041*\"meeting\" + 0.034*\"member\" + '\n",
      "  '0.031*\"meet\" + 0.027*\"negotiation\" + 0.024*\"issue\" + 0.023*\"bill\" + '\n",
      "  '0.022*\"spokesman\" + 0.021*\"rule\"'),\n",
      " (17,\n",
      "  '0.140*\"debt\" + 0.131*\"bank\" + 0.119*\"loan\" + 0.119*\"payment\" + '\n",
      "  '0.063*\"credit\" + 0.044*\"post\" + 0.036*\"commercial\" + 0.032*\"settlement\" + '\n",
      "  '0.024*\"interest\" + 0.020*\"dlrs\"'),\n",
      " (18,\n",
      "  '0.170*\"ct\" + 0.166*\"loss\" + 0.129*\"net\" + 0.125*\"profit\" + 0.048*\"dlrs\" + '\n",
      "  '0.043*\"note\" + 0.038*\"year\" + 0.035*\"mln\" + 0.033*\"include\" + 0.022*\"gain\"'),\n",
      " (19,\n",
      "  '0.120*\"standard\" + 0.117*\"canadian\" + 0.097*\"agriculture\" + '\n",
      "  '0.097*\"agricultural\" + 0.093*\"farm\" + 0.047*\"insurance\" + '\n",
      "  '0.038*\"fluctuation\" + 0.029*\"active\" + 0.026*\"intention\" + 0.025*\"rice\"')]\n"
     ]
    }
   ],
   "source": [
    "# View topics in LDA model\n",
    "pprint(lda_model.print_topics())"
   ]
  },
  {
   "cell_type": "markdown",
   "metadata": {},
   "source": [
    "## Network Analysis"
   ]
  },
  {
   "cell_type": "markdown",
   "metadata": {},
   "source": [
    "## Conclusion"
   ]
  },
  {
   "cell_type": "markdown",
   "metadata": {},
   "source": [
    "## YouTube"
   ]
  },
  {
   "cell_type": "code",
   "execution_count": null,
   "metadata": {},
   "outputs": [],
   "source": []
  }
 ],
 "metadata": {
  "kernelspec": {
   "display_name": "Python 3",
   "language": "python",
   "name": "python3"
  },
  "language_info": {
   "codemirror_mode": {
    "name": "ipython",
    "version": 3
   },
   "file_extension": ".py",
   "mimetype": "text/x-python",
   "name": "python",
   "nbconvert_exporter": "python",
   "pygments_lexer": "ipython3",
   "version": "3.7.7"
  }
 },
 "nbformat": 4,
 "nbformat_minor": 4
}
