{
 "cells": [
  {
   "cell_type": "markdown",
   "metadata": {},
   "source": [
    "# DATA 620 - Final Project\n",
    "\n",
    "Jeremy OBrien, Mael Illien, Vanita Thompson\n",
    "\n",
    "## Topic Modeling and Network Analysis"
   ]
  },
  {
   "cell_type": "markdown",
   "metadata": {},
   "source": [
    "### Introduction\n",
    "\n",
    "A powerful analytical application of NLP is topic modeling, which identifies the themes present in a corpus comprised of multiple documents based on the words in those documents. Because it can be used to uncover the thematic structure in documents, topic modeling has an array of applications in information retrieval and document mining.\n",
    "\n",
    "Topics are 'probability distributions over a fixed vocabulary'. It's common to use probabilistic generative models derived from LDA (Latent Dirichlet Allocation) to model in an unsupervised fashion the latent semantic structure of documents. Topic models can be tuned and optimized in a variety of ways, including improving how topics are segregated from each other and calibrating for a useful number of topics.\n",
    "\n",
    "Network analysis provides techniques to understand the relationships between entitites, rendered as edges connecting nodes. In the case of NLP, it can be used to discover what topics are present in documents, or to analyze and visualize how documents are thematically related to each other.\n",
    "\n",
    "### Research Question\n",
    "\n",
    "In this project we attempt to combine techniques from topic modeling and network analysis to address this question:\n",
    "\n",
    "*Given a text corpus comprised of multiple documents, what are the topics of those documents and how are the documents thematically related to one another?*\n",
    "\n",
    "### Approach\n",
    "\n",
    "- Leverage the Reuters news corpus of nearly 11,000 articles (labeled with at least one category each; unfortunately, authorship is not labeled)\n",
    "- Using the NLTK, Spacy, Gensim packages, and MALLET packages, implement and tune an unsupervised LDA-based topic model (i.e. without reference to the provided article topic labels)\n",
    "- Analyze topic model perplexity and coherence, overall topic prevalence, and topic distribution across articles\n",
    "- Generate a graph of articles and topics, and analyze its topology to identify relationships between topics "
   ]
  },
  {
   "cell_type": "markdown",
   "metadata": {},
   "source": [
    "## Setup"
   ]
  },
  {
   "cell_type": "code",
   "execution_count": 1,
   "metadata": {},
   "outputs": [],
   "source": [
    "import re\n",
    "import random\n",
    "import logging\n",
    "logging.basicConfig(format='%(asctime)s : %(levelname)s : %(message)s', level=logging.ERROR)\n",
    "import numpy as np\n",
    "np.random.seed(12321)\n",
    "import pandas as pd\n",
    "import matplotlib.pyplot as plt\n",
    "%matplotlib inline\n",
    "from pprint import pprint\n",
    "import nltk\n",
    "from nltk.corpus import stopwords\n",
    "from nltk.corpus import reuters\n",
    "import spacy\n",
    "import gensim\n",
    "import gensim.corpora as corpora\n",
    "from gensim.utils import simple_preprocess\n",
    "from gensim.models import CoherenceModel\n",
    "import pyLDAvis\n",
    "import pyLDAvis.gensim\n",
    "from nltk.corpus import reuters\n",
    "from IPython.display import YouTubeVideo"
   ]
  },
  {
   "cell_type": "markdown",
   "metadata": {},
   "source": [
    "## Data Import & Processing"
   ]
  },
  {
   "cell_type": "markdown",
   "metadata": {},
   "source": [
    "### Data import and preliminary EDA"
   ]
  },
  {
   "cell_type": "markdown",
   "metadata": {},
   "source": [
    "Per the NLTK Reuters README (accessible via `reuters.readme()`), this corpus include 10,788 article from the Reuters financial newswire service.  While it is partitioned into training and test sets, we will not be making use of these splits for this project."
   ]
  },
  {
   "cell_type": "code",
   "execution_count": 2,
   "metadata": {},
   "outputs": [
    {
     "data": {
      "text/html": [
       "<style  type=\"text/css\" >\n",
       "</style><table id=\"T_1f015f66_ca3e_11ea_8ff5_d0abd57ecbe1\" ><thead>    <tr>        <th class=\"col_heading level0 col0\" >Article</th>        <th class=\"col_heading level0 col2\" >Category</th>        <th class=\"col_heading level0 col3\" >Text</th>    </tr></thead><tbody>\n",
       "                <tr>\n",
       "                                <td id=\"T_1f015f66_ca3e_11ea_8ff5_d0abd57ecbe1row0_col0\" class=\"data row0 col0\" >14826</td>\n",
       "                                <td id=\"T_1f015f66_ca3e_11ea_8ff5_d0abd57ecbe1row0_col2\" class=\"data row0 col2\" >['trade']</td>\n",
       "                        <td id=\"T_1f015f66_ca3e_11ea_8ff5_d0abd57ecbe1row0_col3\" class=\"data row0 col3\" >ASIAN EXPORTERS FEAR DAMAGE FROM U.S.-JAPAN RIFT\n",
       "  Mounting trade friction between the\n",
       "  U.S. And Japan has raised fears amon</td>\n",
       "            </tr>\n",
       "            <tr>\n",
       "                                <td id=\"T_1f015f66_ca3e_11ea_8ff5_d0abd57ecbe1row1_col0\" class=\"data row1 col0\" >14828</td>\n",
       "                                <td id=\"T_1f015f66_ca3e_11ea_8ff5_d0abd57ecbe1row1_col2\" class=\"data row1 col2\" >['grain']</td>\n",
       "                        <td id=\"T_1f015f66_ca3e_11ea_8ff5_d0abd57ecbe1row1_col3\" class=\"data row1 col3\" >CHINA DAILY SAYS VERMIN EAT 7-12 PCT GRAIN STOCKS\n",
       "  A survey of 19 provinces and seven cities\n",
       "  showed vermin consume between</td>\n",
       "            </tr>\n",
       "            <tr>\n",
       "                                <td id=\"T_1f015f66_ca3e_11ea_8ff5_d0abd57ecbe1row2_col0\" class=\"data row2 col0\" >14829</td>\n",
       "                                <td id=\"T_1f015f66_ca3e_11ea_8ff5_d0abd57ecbe1row2_col2\" class=\"data row2 col2\" >['crude', 'nat-gas']</td>\n",
       "                        <td id=\"T_1f015f66_ca3e_11ea_8ff5_d0abd57ecbe1row2_col3\" class=\"data row2 col3\" >JAPAN TO REVISE LONG-TERM ENERGY DEMAND DOWNWARDS\n",
       "  The Ministry of International Trade and\n",
       "  Industry (MITI) will revise its</td>\n",
       "            </tr>\n",
       "            <tr>\n",
       "                                <td id=\"T_1f015f66_ca3e_11ea_8ff5_d0abd57ecbe1row3_col0\" class=\"data row3 col0\" >14832</td>\n",
       "                                <td id=\"T_1f015f66_ca3e_11ea_8ff5_d0abd57ecbe1row3_col2\" class=\"data row3 col2\" >['corn', 'grain', 'rice', 'rubber', 'sugar', 'tin', 'trade']</td>\n",
       "                        <td id=\"T_1f015f66_ca3e_11ea_8ff5_d0abd57ecbe1row3_col3\" class=\"data row3 col3\" >THAI TRADE DEFICIT WIDENS IN FIRST QUARTER\n",
       "  Thailand's trade deficit widened to 4.5\n",
       "  billion baht in the first quarter of 1</td>\n",
       "            </tr>\n",
       "            <tr>\n",
       "                                <td id=\"T_1f015f66_ca3e_11ea_8ff5_d0abd57ecbe1row4_col0\" class=\"data row4 col0\" >14833</td>\n",
       "                                <td id=\"T_1f015f66_ca3e_11ea_8ff5_d0abd57ecbe1row4_col2\" class=\"data row4 col2\" >['palm-oil', 'veg-oil']</td>\n",
       "                        <td id=\"T_1f015f66_ca3e_11ea_8ff5_d0abd57ecbe1row4_col3\" class=\"data row4 col3\" >INDONESIA SEES CPO PRICE RISING SHARPLY\n",
       "  Indonesia expects crude palm oil (CPO)\n",
       "  prices to rise sharply to between 450 and </td>\n",
       "            </tr>\n",
       "    </tbody></table>"
      ],
      "text/plain": [
       "<pandas.io.formats.style.Styler at 0x19a0f00ce08>"
      ]
     },
     "execution_count": 2,
     "metadata": {},
     "output_type": "execute_result"
    }
   ],
   "source": [
    "# Generate dataframe of Reuters\n",
    "news = []\n",
    "for fileid in reuters.fileids():\n",
    "    tag, filename = fileid.split('/')\n",
    "    news.append((filename, tag, reuters.categories(fileid), reuters.raw(fileid)))\n",
    "df = pd.DataFrame(news, columns=['Article', 'Tag', 'Category', 'Text'])\n",
    "\n",
    "# Peek at Reuters data frame\n",
    "df.head(5).apply(lambda x: x.str.slice(0, 125)).style.hide_index().hide_columns(['Tag'])"
   ]
  },
  {
   "cell_type": "code",
   "execution_count": 3,
   "metadata": {},
   "outputs": [
    {
     "data": {
      "text/html": [
       "<div>\n",
       "<style scoped>\n",
       "    .dataframe tbody tr th:only-of-type {\n",
       "        vertical-align: middle;\n",
       "    }\n",
       "\n",
       "    .dataframe tbody tr th {\n",
       "        vertical-align: top;\n",
       "    }\n",
       "\n",
       "    .dataframe thead th {\n",
       "        text-align: right;\n",
       "    }\n",
       "</style>\n",
       "<table border=\"1\" class=\"dataframe\">\n",
       "  <thead>\n",
       "    <tr style=\"text-align: right;\">\n",
       "      <th></th>\n",
       "      <th>Category</th>\n",
       "      <th>Article Count</th>\n",
       "      <th>Percentage</th>\n",
       "    </tr>\n",
       "  </thead>\n",
       "  <tbody>\n",
       "    <tr>\n",
       "      <th>0</th>\n",
       "      <td>earn</td>\n",
       "      <td>3964</td>\n",
       "      <td>0.297419</td>\n",
       "    </tr>\n",
       "    <tr>\n",
       "      <th>1</th>\n",
       "      <td>acq</td>\n",
       "      <td>2369</td>\n",
       "      <td>0.177746</td>\n",
       "    </tr>\n",
       "    <tr>\n",
       "      <th>2</th>\n",
       "      <td>money-fx</td>\n",
       "      <td>717</td>\n",
       "      <td>0.053797</td>\n",
       "    </tr>\n",
       "    <tr>\n",
       "      <th>3</th>\n",
       "      <td>grain</td>\n",
       "      <td>582</td>\n",
       "      <td>0.043667</td>\n",
       "    </tr>\n",
       "    <tr>\n",
       "      <th>4</th>\n",
       "      <td>crude</td>\n",
       "      <td>578</td>\n",
       "      <td>0.043367</td>\n",
       "    </tr>\n",
       "    <tr>\n",
       "      <th>5</th>\n",
       "      <td>trade</td>\n",
       "      <td>485</td>\n",
       "      <td>0.036390</td>\n",
       "    </tr>\n",
       "    <tr>\n",
       "      <th>6</th>\n",
       "      <td>interest</td>\n",
       "      <td>478</td>\n",
       "      <td>0.035864</td>\n",
       "    </tr>\n",
       "    <tr>\n",
       "      <th>7</th>\n",
       "      <td>ship</td>\n",
       "      <td>286</td>\n",
       "      <td>0.021459</td>\n",
       "    </tr>\n",
       "    <tr>\n",
       "      <th>8</th>\n",
       "      <td>wheat</td>\n",
       "      <td>283</td>\n",
       "      <td>0.021233</td>\n",
       "    </tr>\n",
       "    <tr>\n",
       "      <th>9</th>\n",
       "      <td>corn</td>\n",
       "      <td>237</td>\n",
       "      <td>0.017782</td>\n",
       "    </tr>\n",
       "  </tbody>\n",
       "</table>\n",
       "</div>"
      ],
      "text/plain": [
       "   Category  Article Count  Percentage\n",
       "0      earn           3964    0.297419\n",
       "1       acq           2369    0.177746\n",
       "2  money-fx            717    0.053797\n",
       "3     grain            582    0.043667\n",
       "4     crude            578    0.043367\n",
       "5     trade            485    0.036390\n",
       "6  interest            478    0.035864\n",
       "7      ship            286    0.021459\n",
       "8     wheat            283    0.021233\n",
       "9      corn            237    0.017782"
      ]
     },
     "metadata": {},
     "output_type": "display_data"
    },
    {
     "data": {
      "text/html": [
       "<div>\n",
       "<style scoped>\n",
       "    .dataframe tbody tr th:only-of-type {\n",
       "        vertical-align: middle;\n",
       "    }\n",
       "\n",
       "    .dataframe tbody tr th {\n",
       "        vertical-align: top;\n",
       "    }\n",
       "\n",
       "    .dataframe thead th {\n",
       "        text-align: right;\n",
       "    }\n",
       "</style>\n",
       "<table border=\"1\" class=\"dataframe\">\n",
       "  <thead>\n",
       "    <tr style=\"text-align: right;\">\n",
       "      <th></th>\n",
       "      <th>Category</th>\n",
       "      <th>Article Count</th>\n",
       "      <th>Percentage</th>\n",
       "    </tr>\n",
       "  </thead>\n",
       "  <tbody>\n",
       "    <tr>\n",
       "      <th>80</th>\n",
       "      <td>palladium</td>\n",
       "      <td>3</td>\n",
       "      <td>0.000225</td>\n",
       "    </tr>\n",
       "    <tr>\n",
       "      <th>81</th>\n",
       "      <td>palmkernel</td>\n",
       "      <td>3</td>\n",
       "      <td>0.000225</td>\n",
       "    </tr>\n",
       "    <tr>\n",
       "      <th>82</th>\n",
       "      <td>copra-cake</td>\n",
       "      <td>3</td>\n",
       "      <td>0.000225</td>\n",
       "    </tr>\n",
       "    <tr>\n",
       "      <th>83</th>\n",
       "      <td>dfl</td>\n",
       "      <td>3</td>\n",
       "      <td>0.000225</td>\n",
       "    </tr>\n",
       "    <tr>\n",
       "      <th>84</th>\n",
       "      <td>cotton-oil</td>\n",
       "      <td>3</td>\n",
       "      <td>0.000225</td>\n",
       "    </tr>\n",
       "    <tr>\n",
       "      <th>85</th>\n",
       "      <td>sun-meal</td>\n",
       "      <td>2</td>\n",
       "      <td>0.000150</td>\n",
       "    </tr>\n",
       "    <tr>\n",
       "      <th>86</th>\n",
       "      <td>groundnut-oil</td>\n",
       "      <td>2</td>\n",
       "      <td>0.000150</td>\n",
       "    </tr>\n",
       "    <tr>\n",
       "      <th>87</th>\n",
       "      <td>rye</td>\n",
       "      <td>2</td>\n",
       "      <td>0.000150</td>\n",
       "    </tr>\n",
       "    <tr>\n",
       "      <th>88</th>\n",
       "      <td>lin-oil</td>\n",
       "      <td>2</td>\n",
       "      <td>0.000150</td>\n",
       "    </tr>\n",
       "    <tr>\n",
       "      <th>89</th>\n",
       "      <td>castor-oil</td>\n",
       "      <td>2</td>\n",
       "      <td>0.000150</td>\n",
       "    </tr>\n",
       "  </tbody>\n",
       "</table>\n",
       "</div>"
      ],
      "text/plain": [
       "         Category  Article Count  Percentage\n",
       "80      palladium              3    0.000225\n",
       "81     palmkernel              3    0.000225\n",
       "82     copra-cake              3    0.000225\n",
       "83            dfl              3    0.000225\n",
       "84     cotton-oil              3    0.000225\n",
       "85       sun-meal              2    0.000150\n",
       "86  groundnut-oil              2    0.000150\n",
       "87            rye              2    0.000150\n",
       "88        lin-oil              2    0.000150\n",
       "89     castor-oil              2    0.000150"
      ]
     },
     "metadata": {},
     "output_type": "display_data"
    },
    {
     "name": "stdout",
     "output_type": "stream",
     "text": [
      "Categories with less than 1% of all articles:  74\n",
      "Categories with less than .1% of all articles:  28\n"
     ]
    }
   ],
   "source": [
    "# Function to calculate category makeup of corpus\n",
    "def category_count(df):\n",
    "    \n",
    "    cats = list(reuters.categories())\n",
    "    cat_count = []\n",
    "    \n",
    "    # Count an article with multiple categories in tuple\n",
    "    for cat in cats:\n",
    "        cat_count.append(len(df[[cat in x for x in df['Category']]]))\n",
    "    \n",
    "    count_df = pd.DataFrame(cat_count, cats).reset_index()\n",
    "    count_df.set_axis(['Category', 'Article Count'], axis=1, inplace=True)\n",
    "    count_df.sort_values(by=['Article Count'], ascending=False, inplace=True)\n",
    "    count_df.reset_index(drop=True, inplace=True)\n",
    "    count_df['Percentage'] = count_df['Article Count'] / count_df['Article Count'].sum()\n",
    "    \n",
    "    return count_df\n",
    "\n",
    "article_props = category_count(df)\n",
    "display(article_props.head(n=10))\n",
    "display(article_props.tail(n=10))\n",
    "print('Categories with less than 1% of all articles: ', len(article_props[article_props['Percentage'] < .01]))\n",
    "print('Categories with less than .1% of all articles: ', len(article_props[article_props['Percentage'] < .001]))"
   ]
  },
  {
   "cell_type": "markdown",
   "metadata": {},
   "source": [
    "The corpus is labeled with 90 different categories. Each article can be labelled with multiple categories (e.g. 'trade' and 'ship').\n",
    "\n",
    "There is considerable category skew and a pronounced long tail: 'earn' (29.7%) and 'acq' (17.7%) represent nearly half the articles in the corpus, while 74 categories have less than 1% of all articles, and 28 have less than .1%. \n",
    "\n",
    "However, given LDA is unsupervised and these labels aren't used, category skew does not impact the performance of topic modeling."
   ]
  },
  {
   "cell_type": "markdown",
   "metadata": {},
   "source": [
    "### Text preparation and tokenization"
   ]
  },
  {
   "cell_type": "markdown",
   "metadata": {},
   "source": [
    "LDA aims to describe document collections by assigning topics based on the those documents' word frequency.  To do this the words must be demarcated and standardized for lexical analysis.\n",
    "\n",
    "We remove characters, diacritics, and punctuation, and convert all text to lower case tokens."
   ]
  },
  {
   "cell_type": "code",
   "execution_count": 4,
   "metadata": {},
   "outputs": [
    {
     "name": "stdout",
     "output_type": "stream",
     "text": [
      "\n",
      "Original text: \n",
      " G-7 ISSUES STATEMENT AFTER MEETING\n",
      "  Following is the text of a statement\n",
      "  by the Group of Seven -- the U.S., Japan, West Germany, France,\n",
      "  Britain, Italy and Canada -- issued after a Washington meeting\n",
      "  yesterday.\n",
      "      1. The finance ministers and central bank governors of\n",
      "  seven major industr\n",
      "\n",
      "After cleaning: \n",
      " G-7 ISSUES STATEMENT AFTER MEETING Following is the text of a statement by the Group of Seven -- the U.S., Japan, West Germany, France, Britain, Italy and Canada -- issued after a Washington meeting yesterday. 1. The finance ministers and central bank governors of seven major industrial countries me\n",
      "\n",
      "After tokenization: \n",
      " ['issues', 'statement', 'after', 'meeting', 'following', 'is', 'the', 'text', 'of', 'statement', 'by', 'the', 'group', 'of', 'seven', 'the', 'japan', 'west', 'germany', 'france', 'britain', 'italy', 'and', 'canada', 'issued', 'after', 'washington', 'meeting', 'yesterday', 'the']\n"
     ]
    }
   ],
   "source": [
    "# Convert text to list\n",
    "data = df['Text'].values.tolist()\n",
    "\n",
    "# Remove new line characters and single quotes\n",
    "data = [re.sub(r'\\s+', ' ', sent) for sent in data]\n",
    "data = [re.sub(r\"\\'\", \"\", sent) for sent in data]\n",
    "\n",
    "# Function to tokenize words and remove punctuation\n",
    "def sentence_to_words(sentences):\n",
    "    for sentence in sentences:\n",
    "        yield(gensim.utils.simple_preprocess(str(sentence), deacc=True))  # deacc=True removes punctuation\n",
    "\n",
    "data_words = list(sentence_to_words(data))\n",
    "\n",
    "# Impact of text preparation\n",
    "print('\\nOriginal text: \\n', (df.iloc[330,3][:300]))\n",
    "print('\\nAfter cleaning: \\n', data[330][:300])\n",
    "print('\\nAfter tokenization: \\n', data_words[330][:30])"
   ]
  },
  {
   "cell_type": "markdown",
   "metadata": {},
   "source": [
    "### Pre-processing and feature engineering"
   ]
  },
  {
   "cell_type": "markdown",
   "metadata": {},
   "source": [
    "Stopwords are abundant in English. Their high frequency provides very little information to inform topic modeling, so we remove them from the tokens."
   ]
  },
  {
   "cell_type": "code",
   "execution_count": 5,
   "metadata": {},
   "outputs": [],
   "source": [
    "# Function to remove stopwords\n",
    "def remove_stopwords(texts):\n",
    "    \n",
    "    # Identify stopwords using NLTK and amend\n",
    "    stop_words = stopwords.words('english')\n",
    "    stop_words.extend(['from', 'subject', 're', 'edu', 'use'])\n",
    "    \n",
    "    return [[word for word in simple_preprocess(str(doc)) if word not in stop_words] for doc in texts]\n",
    "\n",
    "# Remove stop words\n",
    "data_words_nostops = remove_stopwords(data_words)"
   ]
  },
  {
   "cell_type": "markdown",
   "metadata": {},
   "source": [
    "Some adjacent words are known to convey different meaning.  We associate  these words in pairs called bigrams, and add them to the tokens."
   ]
  },
  {
   "cell_type": "code",
   "execution_count": 6,
   "metadata": {},
   "outputs": [],
   "source": [
    "# Function to make bigrams\n",
    "def make_bigrams(texts):\n",
    "    \n",
    "    # Generate bigram model\n",
    "    bigram = gensim.models.Phrases(data_words, \n",
    "                                   min_count=5, # must occur at least five times in corpus to be counted\n",
    "                                   threshold=100)  # higher threshold fewer phrases\n",
    "    bigram_mod = gensim.models.phrases.Phraser(bigram)\n",
    "    \n",
    "    return [bigram_mod[doc] for doc in texts]\n",
    "\n",
    "# Form bigrams\n",
    "data_words_bigrams = make_bigrams(data_words_nostops)"
   ]
  },
  {
   "cell_type": "markdown",
   "metadata": {},
   "source": [
    "Words are inflected when their use in speech changes due to 'tense, case, voice, aspect, person, number, gender, and mood'  ([Wikipedia](https://en.wikipedia.org/wiki/Inflection)).  These inflections in nouns (declension) and verbs (conjugation) can take the form of prefixes, suffixes, or infixes.  **Stemming** uses an algorithmic approach that is more approximate than **lemmatization**, which uses dictionaries to identify root forms.\n",
    "\n",
    "We lemmatize the tokens to normalize them for topic modeling."
   ]
  },
  {
   "cell_type": "code",
   "execution_count": 7,
   "metadata": {},
   "outputs": [
    {
     "name": "stdout",
     "output_type": "stream",
     "text": [
      "['asian', 'exporter', 'fear', 'damage', 'mount', 'trade', 'friction', 'raise', 'fear', 'many', 'asia', 'export', 'nation', 'row', 'could', 'inflict', 'far', 'reach', 'economic', 'damage', 'businessman', 'official', 'say', 'tell', 'asian', 'capital', 'move', 'may', 'boost', 'protectionist_sentiment']\n"
     ]
    }
   ],
   "source": [
    "def lemmatization(texts, allowed_postags=['NOUN', 'ADJ', 'VERB', 'ADV']):\n",
    "    \n",
    "    # https://spacy.io/api/annotation\n",
    "    \n",
    "    texts_out = []\n",
    "    \n",
    "    for sent in texts:\n",
    "        doc = nlp(\" \".join(sent)) \n",
    "        texts_out.append([token.lemma_ for token in doc if token.pos_ in allowed_postags])\n",
    "    \n",
    "    return texts_out\n",
    "\n",
    "# Initialize spacy 'en' model, keeping only tagger component (for efficiency)\n",
    "# python3 -m spacy download en\n",
    "\n",
    "# MI: do we use the nlp variable below anywhere?\n",
    "\n",
    "nlp = spacy.load('en_core_web_sm', disable=['parser', 'ner'])\n",
    "\n",
    "# Perform lemmatization keeping only noun, adj, vb, adv\n",
    "data_lemmatized = lemmatization(data_words_bigrams)\n",
    "\n",
    "print(data_lemmatized[0][:30])"
   ]
  },
  {
   "cell_type": "markdown",
   "metadata": {},
   "source": [
    "We create a dictionary representation of the tokens in the corpus, calculating the term document frequency for each token.  With this, we can proceed with topic modeling."
   ]
  },
  {
   "cell_type": "code",
   "execution_count": 8,
   "metadata": {},
   "outputs": [],
   "source": [
    "# Create dictionary representation of corpus\n",
    "id2word = corpora.Dictionary(data_lemmatized)\n",
    "\n",
    "# Create corpus with term document frequency\n",
    "texts = data_lemmatized\n",
    "corpus = [id2word.doc2bow(text) for text in texts]"
   ]
  },
  {
   "cell_type": "markdown",
   "metadata": {},
   "source": [
    "## Topic Model Training"
   ]
  },
  {
   "cell_type": "markdown",
   "metadata": {},
   "source": [
    "We generate a topic model for the corpus of article, employing two approaches:\n",
    "\n",
    "1. Gensim's built-in LDA topic modeling function, `ldamodel`.  Gensim implementations of LDA employ Variational Inference, which introduces bias and can provide less coherence in topics.\n",
    "2. MALLET (MAchine Learning for LanguagE Toolkit)'s LDA topic model with a Gensim wrapper, `ldamallet`.  This model employs Gibbs sampling (an MCMC method), which is unbiased at the cost of heavy computation (performed in Java).\n",
    "\n",
    "LDA models can be evaluated based on several different metrics:\n",
    "\n",
    "- **Perplexity** is a [measure](https://en.wikipedia.org/wiki/Perplexity) of 'surprise', or how well the model predicts.  The lower the score, the better the prediction.\n",
    "- **Coherence** is the degree of 'semantic similarity between high scoring keywords in the topic' (['Learn to Find Topics in a Text Corpus'](https://towardsdatascience.com/evaluate-topic-model-in-python-latent-dirichlet-allocation-lda-7d57484bb5d0)).  It is computed as a the sum of pairwise scores of the top n words by frequency.  The higher the coherence, the more coherent and interpretable the topic. \n",
    "\n",
    "Selecting the number of topics in an LDA model can be an arbitrary decision. We inform this decision through hyperparameter tuning based on an evaluation of the topic coherence yielded by different numbers of topics. We optimize the Gensim and MALLET LDA models accordingly."
   ]
  },
  {
   "cell_type": "code",
   "execution_count": 9,
   "metadata": {},
   "outputs": [],
   "source": [
    "# Function to generate Gensim LDA model\n",
    "def gensim_ldamodel(corpus, num_topics):\n",
    "    \n",
    "    model = gensim.models.ldamodel.LdaModel(corpus=corpus,  # TDF corpus\n",
    "                                               id2word=id2word,  # dictionary\n",
    "                                               num_topics=num_topics,  # to be optimized\n",
    "                                               random_state=100,  # [JO: CONFIRM]\n",
    "                                               # update_every=1,  # how often paramater should be updated\n",
    "                                               # chunksize=100,\n",
    "                                               # passes=10,  # total number of training passes\n",
    "                                               # alpha='auto',  # learn assymetric alpha from training data (JO: consider whether to evaluate symmetric approach for alpha with asymmetric for beta)\n",
    "                                               per_word_topics=True)\n",
    "    \n",
    "    return model\n",
    "\n",
    "# Function to generate MALLET LDA model\n",
    "def mallet_ldamodel(corpus, num_topics):\n",
    "    \n",
    "    mallet_path = './mallet-2.0.8/bin/mallet' \n",
    "    \n",
    "    model = gensim.models.wrappers.LdaMallet(mallet_path, \n",
    "                                        corpus=corpus, \n",
    "                                        num_topics=num_topics,\n",
    "                                        random_seed=100,\n",
    "                                        id2word=id2word)\n",
    "    \n",
    "    return model\n",
    "\n",
    "# Function to iterate over numbers of topics and calculates LDA model coherence\n",
    "def compute_coherence_values(model_type, dictionary, corpus, texts, limit, start=2, step=3):\n",
    "   \n",
    "    coherence_values = []\n",
    "    model_list = []\n",
    "    coherence='c_v'\n",
    "    \n",
    "    for num_topics in range(start, limit, step):\n",
    "        \n",
    "        if model_type == 'LdaModel':\n",
    "            model = gensim_ldamodel(corpus=corpus,\n",
    "                           num_topics=num_topics)\n",
    "            \n",
    "        elif model_type == 'LdaMallet':\n",
    "            model = mallet_ldamodel(corpus=corpus,\n",
    "                                    num_topics=num_topics)\n",
    "            \n",
    "        else:\n",
    "            print('model_type not supported')\n",
    "            break\n",
    "        \n",
    "        model_list.append(model)\n",
    "        coherencemodel = CoherenceModel(model=model, \n",
    "                                        texts=texts,\n",
    "                                        dictionary=id2word, \n",
    "                                        coherence=coherence)\n",
    "        coherence_values.append(coherencemodel.get_coherence())\n",
    "        \n",
    "    return model_list, coherence_values  # List of LDA topic models and coherence values for respective number of topics\n",
    "\n",
    "# Function to support decision on optimal number of topics\n",
    "def chart_model_coherence(coherence_values, limit, start=2, step=3):\n",
    "    \n",
    "    x = range(start, limit, step)\n",
    "    \n",
    "    coherence_table = pd.DataFrame(list(zip(x,coherence_values)), columns=['Num Topics','Coherence Score'])\n",
    "    \n",
    "    plt.plot(x, coherence_values)\n",
    "    plt.xlabel('Num Topics')\n",
    "    plt.ylabel('Coherence Score')\n",
    "    plt.legend(('coherence_values'), loc='best')\n",
    "    plt.show()\n",
    "    \n",
    "    return coherence_table"
   ]
  },
  {
   "cell_type": "markdown",
   "metadata": {},
   "source": [
    "### Gensim LDA model"
   ]
  },
  {
   "cell_type": "markdown",
   "metadata": {},
   "source": [
    "#### Tuning Number of Topics"
   ]
  },
  {
   "cell_type": "code",
   "execution_count": 10,
   "metadata": {},
   "outputs": [
    {
     "data": {
      "image/png": "[encoded data removed]",
      "text/plain": [
       "<Figure size 432x288 with 1 Axes>"
      ]
     },
     "metadata": {
      "needs_background": "light"
     },
     "output_type": "display_data"
    },
    {
     "data": {
      "text/html": [
       "<div>\n",
       "<style scoped>\n",
       "    .dataframe tbody tr th:only-of-type {\n",
       "        vertical-align: middle;\n",
       "    }\n",
       "\n",
       "    .dataframe tbody tr th {\n",
       "        vertical-align: top;\n",
       "    }\n",
       "\n",
       "    .dataframe thead th {\n",
       "        text-align: right;\n",
       "    }\n",
       "</style>\n",
       "<table border=\"1\" class=\"dataframe\">\n",
       "  <thead>\n",
       "    <tr style=\"text-align: right;\">\n",
       "      <th></th>\n",
       "      <th>Num Topics</th>\n",
       "      <th>Coherence Score</th>\n",
       "    </tr>\n",
       "  </thead>\n",
       "  <tbody>\n",
       "    <tr>\n",
       "      <th>0</th>\n",
       "      <td>2</td>\n",
       "      <td>0.315559</td>\n",
       "    </tr>\n",
       "    <tr>\n",
       "      <th>1</th>\n",
       "      <td>6</td>\n",
       "      <td>0.396004</td>\n",
       "    </tr>\n",
       "    <tr>\n",
       "      <th>2</th>\n",
       "      <td>10</td>\n",
       "      <td>0.424539</td>\n",
       "    </tr>\n",
       "    <tr>\n",
       "      <th>3</th>\n",
       "      <td>14</td>\n",
       "      <td>0.396019</td>\n",
       "    </tr>\n",
       "    <tr>\n",
       "      <th>4</th>\n",
       "      <td>18</td>\n",
       "      <td>0.407569</td>\n",
       "    </tr>\n",
       "    <tr>\n",
       "      <th>5</th>\n",
       "      <td>22</td>\n",
       "      <td>0.425183</td>\n",
       "    </tr>\n",
       "    <tr>\n",
       "      <th>6</th>\n",
       "      <td>26</td>\n",
       "      <td>0.420701</td>\n",
       "    </tr>\n",
       "    <tr>\n",
       "      <th>7</th>\n",
       "      <td>30</td>\n",
       "      <td>0.410306</td>\n",
       "    </tr>\n",
       "    <tr>\n",
       "      <th>8</th>\n",
       "      <td>34</td>\n",
       "      <td>0.403574</td>\n",
       "    </tr>\n",
       "    <tr>\n",
       "      <th>9</th>\n",
       "      <td>38</td>\n",
       "      <td>0.396359</td>\n",
       "    </tr>\n",
       "  </tbody>\n",
       "</table>\n",
       "</div>"
      ],
      "text/plain": [
       "   Num Topics  Coherence Score\n",
       "0           2         0.315559\n",
       "1           6         0.396004\n",
       "2          10         0.424539\n",
       "3          14         0.396019\n",
       "4          18         0.407569\n",
       "5          22         0.425183\n",
       "6          26         0.420701\n",
       "7          30         0.410306\n",
       "8          34         0.403574\n",
       "9          38         0.396359"
      ]
     },
     "execution_count": 10,
     "metadata": {},
     "output_type": "execute_result"
    }
   ],
   "source": [
    "# Cast broad net to find neighborhood of optimal number of topics in range of 2 to 40 in steps of 4\n",
    "gs_broad_model_list, gs_broad_coherence_values = compute_coherence_values(model_type='LdaModel',\n",
    "                                                                          dictionary=id2word, \n",
    "                                                                          corpus=corpus, \n",
    "                                                                          texts=data_lemmatized, \n",
    "                                                                          start=2, \n",
    "                                                                          limit=40, \n",
    "                                                                          step=4)\n",
    "\n",
    "# Chart broad net of optimal number of topics\n",
    "chart_model_coherence(gs_broad_coherence_values, \n",
    "                      start=2, \n",
    "                      limit=40, \n",
    "                      step=4)"
   ]
  },
  {
   "cell_type": "markdown",
   "metadata": {},
   "source": [
    "When analyzed at 4 topic steps, Gensim LDA model coherence peaks between 6 and 25 topics.  It's not very smooth, so given that 4 topic increments spikes could be obscuring the optimum we narrow our search in that range with 1 topic steps."
   ]
  },
  {
   "cell_type": "code",
   "execution_count": 11,
   "metadata": {},
   "outputs": [
    {
     "data": {
      "image/png": "[encoded data removed]",
      "text/plain": [
       "<Figure size 432x288 with 1 Axes>"
      ]
     },
     "metadata": {
      "needs_background": "light"
     },
     "output_type": "display_data"
    },
    {
     "data": {
      "text/html": [
       "<div>\n",
       "<style scoped>\n",
       "    .dataframe tbody tr th:only-of-type {\n",
       "        vertical-align: middle;\n",
       "    }\n",
       "\n",
       "    .dataframe tbody tr th {\n",
       "        vertical-align: top;\n",
       "    }\n",
       "\n",
       "    .dataframe thead th {\n",
       "        text-align: right;\n",
       "    }\n",
       "</style>\n",
       "<table border=\"1\" class=\"dataframe\">\n",
       "  <thead>\n",
       "    <tr style=\"text-align: right;\">\n",
       "      <th></th>\n",
       "      <th>Num Topics</th>\n",
       "      <th>Coherence Score</th>\n",
       "    </tr>\n",
       "  </thead>\n",
       "  <tbody>\n",
       "    <tr>\n",
       "      <th>0</th>\n",
       "      <td>6</td>\n",
       "      <td>0.396004</td>\n",
       "    </tr>\n",
       "    <tr>\n",
       "      <th>1</th>\n",
       "      <td>7</td>\n",
       "      <td>0.410933</td>\n",
       "    </tr>\n",
       "    <tr>\n",
       "      <th>2</th>\n",
       "      <td>8</td>\n",
       "      <td>0.421290</td>\n",
       "    </tr>\n",
       "    <tr>\n",
       "      <th>3</th>\n",
       "      <td>9</td>\n",
       "      <td>0.439753</td>\n",
       "    </tr>\n",
       "    <tr>\n",
       "      <th>4</th>\n",
       "      <td>10</td>\n",
       "      <td>0.424539</td>\n",
       "    </tr>\n",
       "    <tr>\n",
       "      <th>5</th>\n",
       "      <td>11</td>\n",
       "      <td>0.439331</td>\n",
       "    </tr>\n",
       "    <tr>\n",
       "      <th>6</th>\n",
       "      <td>12</td>\n",
       "      <td>0.433781</td>\n",
       "    </tr>\n",
       "    <tr>\n",
       "      <th>7</th>\n",
       "      <td>13</td>\n",
       "      <td>0.429110</td>\n",
       "    </tr>\n",
       "    <tr>\n",
       "      <th>8</th>\n",
       "      <td>14</td>\n",
       "      <td>0.396019</td>\n",
       "    </tr>\n",
       "    <tr>\n",
       "      <th>9</th>\n",
       "      <td>15</td>\n",
       "      <td>0.422628</td>\n",
       "    </tr>\n",
       "    <tr>\n",
       "      <th>10</th>\n",
       "      <td>16</td>\n",
       "      <td>0.401945</td>\n",
       "    </tr>\n",
       "    <tr>\n",
       "      <th>11</th>\n",
       "      <td>17</td>\n",
       "      <td>0.410020</td>\n",
       "    </tr>\n",
       "    <tr>\n",
       "      <th>12</th>\n",
       "      <td>18</td>\n",
       "      <td>0.407569</td>\n",
       "    </tr>\n",
       "    <tr>\n",
       "      <th>13</th>\n",
       "      <td>19</td>\n",
       "      <td>0.417346</td>\n",
       "    </tr>\n",
       "    <tr>\n",
       "      <th>14</th>\n",
       "      <td>20</td>\n",
       "      <td>0.421720</td>\n",
       "    </tr>\n",
       "    <tr>\n",
       "      <th>15</th>\n",
       "      <td>21</td>\n",
       "      <td>0.420357</td>\n",
       "    </tr>\n",
       "    <tr>\n",
       "      <th>16</th>\n",
       "      <td>22</td>\n",
       "      <td>0.425183</td>\n",
       "    </tr>\n",
       "    <tr>\n",
       "      <th>17</th>\n",
       "      <td>23</td>\n",
       "      <td>0.420237</td>\n",
       "    </tr>\n",
       "    <tr>\n",
       "      <th>18</th>\n",
       "      <td>24</td>\n",
       "      <td>0.418104</td>\n",
       "    </tr>\n",
       "  </tbody>\n",
       "</table>\n",
       "</div>"
      ],
      "text/plain": [
       "    Num Topics  Coherence Score\n",
       "0            6         0.396004\n",
       "1            7         0.410933\n",
       "2            8         0.421290\n",
       "3            9         0.439753\n",
       "4           10         0.424539\n",
       "5           11         0.439331\n",
       "6           12         0.433781\n",
       "7           13         0.429110\n",
       "8           14         0.396019\n",
       "9           15         0.422628\n",
       "10          16         0.401945\n",
       "11          17         0.410020\n",
       "12          18         0.407569\n",
       "13          19         0.417346\n",
       "14          20         0.421720\n",
       "15          21         0.420357\n",
       "16          22         0.425183\n",
       "17          23         0.420237\n",
       "18          24         0.418104"
      ]
     },
     "execution_count": 11,
     "metadata": {},
     "output_type": "execute_result"
    }
   ],
   "source": [
    "# Cast narrower net in range of 6 to 25 in single steps to smooth and find optimum in number of topics\n",
    "gs_narrow_model_list, gs_narrow_coherence_values = compute_coherence_values(model_type='LdaModel',\n",
    "                                                                            dictionary=id2word, \n",
    "                                                                            corpus=corpus, \n",
    "                                                                            texts=data_lemmatized, \n",
    "                                                                            start=6, \n",
    "                                                                            limit=25, \n",
    "                                                                            step=1)\n",
    "\n",
    "# Chart narrower net of optimal number of topics\n",
    "gs_narrow_coherence = chart_model_coherence(gs_narrow_coherence_values, \n",
    "                      start=6, \n",
    "                      limit=25, \n",
    "                      step=1)     \n",
    "gs_narrow_coherence"
   ]
  },
  {
   "cell_type": "markdown",
   "metadata": {},
   "source": [
    "#### Optimized Gensim Model"
   ]
  },
  {
   "cell_type": "markdown",
   "metadata": {},
   "source": [
    "9 topics yield the highest coherence score so we select that model. Here is a snapshot of top words for each of the 9 topics in this model."
   ]
  },
  {
   "cell_type": "code",
   "execution_count": 14,
   "metadata": {},
   "outputs": [
    {
     "name": "stdout",
     "output_type": "stream",
     "text": [
      "\n",
      "Gensim LDA model perplexity:  -7.095693898256886\n",
      "\n",
      "Gensim LDA model coherence score:  0.43975307826479676 \n",
      "\n",
      "0: say year rate rise quarter expect growth first earning increase\n",
      "1: price say oil raise crude trader barrel today dlrs rate\n",
      "2: say crop year deficit soybean estimate last trade surplus program\n",
      "3: say company share offer would buy stock group also sell\n",
      "4: say bank market rise dollar rate dealer money yen currency\n",
      "5: loss net ct profit dlrs sale year say include note\n",
      "6: say trade would export official government import country year japanese\n",
      "7: share ct say dividend stock record split dlrs may pay\n",
      "8: say year oil price production last would rise market export\n"
     ]
    }
   ],
   "source": [
    "# Optimal Gensim model\n",
    "# gs_optimal_model = gs_narrow_model_list[int(gs_narrow_coherence.loc[gs_narrow_coherence['Coherence Score'].idxmax()]['Num Topics'])]\n",
    "gs_optimal_model = gensim_ldamodel(corpus=corpus, num_topics=9)\n",
    "\n",
    "# Compute model perplexity and coherence score\n",
    "print('\\nGensim LDA model perplexity: ', gs_optimal_model.log_perplexity(corpus))\n",
    "# print('\\nGensim LDA model coherence score: ', gs_narrow_coherence.loc[gs_narrow_coherence['Coherence Score'].idxmax()]['Coherence Score'])\n",
    "print('\\nGensim LDA model coherence score: ', CoherenceModel(model=gs_optimal_model, texts=texts).get_coherence(), '\\n')\n",
    "\n",
    "# Here is a quick look at the the top words by topic for the optimal Gensim model\n",
    "for topic_id in range(gs_optimal_model.num_topics):\n",
    "    top_k = gs_optimal_model.show_topic(topic_id, 10)\n",
    "    top_k_words = [w for w, _ in top_k]\n",
    "    \n",
    "    print('{}: {}'.format(topic_id, ' '.join(top_k_words)))"
   ]
  },
  {
   "cell_type": "markdown",
   "metadata": {},
   "source": [
    "### MALLET LDA model"
   ]
  },
  {
   "cell_type": "markdown",
   "metadata": {},
   "source": [
    "We replicate the steps from above to the MALLET topic model. As mentioned, the MALLET is computationally heavy yet we expect to have more coherent topics as a compromise. We start by sweeping the number of topics as a parameter from 2 to 20 and build all the intermediate models. From there we can focus on the are of the coherence plot below which has the high coherence and narrow in further to identify the optimal number of topics for this model on this corpus. "
   ]
  },
  {
   "cell_type": "markdown",
   "metadata": {},
   "source": [
    "#### Tuning Number of Topics"
   ]
  },
  {
   "cell_type": "code",
   "execution_count": 22,
   "metadata": {},
   "outputs": [
    {
     "data": {
      "image/png": "[encoded data removed]",
      "text/plain": [
       "<Figure size 432x288 with 1 Axes>"
      ]
     },
     "metadata": {
      "needs_background": "light"
     },
     "output_type": "display_data"
    },
    {
     "data": {
      "text/html": [
       "<div>\n",
       "<style scoped>\n",
       "    .dataframe tbody tr th:only-of-type {\n",
       "        vertical-align: middle;\n",
       "    }\n",
       "\n",
       "    .dataframe tbody tr th {\n",
       "        vertical-align: top;\n",
       "    }\n",
       "\n",
       "    .dataframe thead th {\n",
       "        text-align: right;\n",
       "    }\n",
       "</style>\n",
       "<table border=\"1\" class=\"dataframe\">\n",
       "  <thead>\n",
       "    <tr style=\"text-align: right;\">\n",
       "      <th></th>\n",
       "      <th>Num Topics</th>\n",
       "      <th>Coherence Score</th>\n",
       "    </tr>\n",
       "  </thead>\n",
       "  <tbody>\n",
       "    <tr>\n",
       "      <th>0</th>\n",
       "      <td>2</td>\n",
       "      <td>0.371488</td>\n",
       "    </tr>\n",
       "    <tr>\n",
       "      <th>1</th>\n",
       "      <td>6</td>\n",
       "      <td>0.508364</td>\n",
       "    </tr>\n",
       "    <tr>\n",
       "      <th>2</th>\n",
       "      <td>10</td>\n",
       "      <td>0.497556</td>\n",
       "    </tr>\n",
       "    <tr>\n",
       "      <th>3</th>\n",
       "      <td>14</td>\n",
       "      <td>0.527151</td>\n",
       "    </tr>\n",
       "    <tr>\n",
       "      <th>4</th>\n",
       "      <td>18</td>\n",
       "      <td>0.503495</td>\n",
       "    </tr>\n",
       "  </tbody>\n",
       "</table>\n",
       "</div>"
      ],
      "text/plain": [
       "   Num Topics  Coherence Score\n",
       "0           2         0.371488\n",
       "1           6         0.508364\n",
       "2          10         0.497556\n",
       "3          14         0.527151\n",
       "4          18         0.503495"
      ]
     },
     "execution_count": 22,
     "metadata": {},
     "output_type": "execute_result"
    }
   ],
   "source": [
    "# Cast broad net to find neighborhood of optimal number of topics in range of 2 to 40 in steps of 4\n",
    "mlt_broad_model_list, mlt_broad_coherence_values = compute_coherence_values(model_type='LdaMallet',\n",
    "                                                                          dictionary=id2word, \n",
    "                                                                          corpus=corpus, \n",
    "                                                                          texts=data_lemmatized, \n",
    "                                                                          start=2, \n",
    "                                                                          limit=20, \n",
    "                                                                          step=4)\n",
    "\n",
    "# Chart broad net of optimal number of topics\n",
    "chart_model_coherence(mlt_broad_coherence_values, \n",
    "                      start=2, \n",
    "                      limit=20, \n",
    "                      step=4)"
   ]
  },
  {
   "cell_type": "code",
   "execution_count": 23,
   "metadata": {},
   "outputs": [
    {
     "data": {
      "image/png": "[encoded data removed]",
      "text/plain": [
       "<Figure size 432x288 with 1 Axes>"
      ]
     },
     "metadata": {
      "needs_background": "light"
     },
     "output_type": "display_data"
    },
    {
     "data": {
      "text/html": [
       "<div>\n",
       "<style scoped>\n",
       "    .dataframe tbody tr th:only-of-type {\n",
       "        vertical-align: middle;\n",
       "    }\n",
       "\n",
       "    .dataframe tbody tr th {\n",
       "        vertical-align: top;\n",
       "    }\n",
       "\n",
       "    .dataframe thead th {\n",
       "        text-align: right;\n",
       "    }\n",
       "</style>\n",
       "<table border=\"1\" class=\"dataframe\">\n",
       "  <thead>\n",
       "    <tr style=\"text-align: right;\">\n",
       "      <th></th>\n",
       "      <th>Num Topics</th>\n",
       "      <th>Coherence Score</th>\n",
       "    </tr>\n",
       "  </thead>\n",
       "  <tbody>\n",
       "    <tr>\n",
       "      <th>0</th>\n",
       "      <td>12</td>\n",
       "      <td>0.503529</td>\n",
       "    </tr>\n",
       "    <tr>\n",
       "      <th>1</th>\n",
       "      <td>13</td>\n",
       "      <td>0.510041</td>\n",
       "    </tr>\n",
       "    <tr>\n",
       "      <th>2</th>\n",
       "      <td>14</td>\n",
       "      <td>0.527151</td>\n",
       "    </tr>\n",
       "    <tr>\n",
       "      <th>3</th>\n",
       "      <td>15</td>\n",
       "      <td>0.507292</td>\n",
       "    </tr>\n",
       "  </tbody>\n",
       "</table>\n",
       "</div>"
      ],
      "text/plain": [
       "   Num Topics  Coherence Score\n",
       "0          12         0.503529\n",
       "1          13         0.510041\n",
       "2          14         0.527151\n",
       "3          15         0.507292"
      ]
     },
     "execution_count": 23,
     "metadata": {},
     "output_type": "execute_result"
    }
   ],
   "source": [
    "# Cast narrower net in range of 12 to 16 in single steps to smooth and find optimum in number of topics\n",
    "mlt_narrow_model_list, mlt_narrow_coherence_values = compute_coherence_values(model_type='LdaMallet',\n",
    "                                                                            dictionary=id2word, \n",
    "                                                                            corpus=corpus, \n",
    "                                                                            texts=data_lemmatized, \n",
    "                                                                            start=12, \n",
    "                                                                            limit=16, \n",
    "                                                                            step=1)\n",
    "\n",
    "# Chart narrower net of optimal number of topics\n",
    "mlt_narrow_coherence = chart_model_coherence(mlt_narrow_coherence_values, \n",
    "                      start=12, \n",
    "                      limit=16, \n",
    "                      step=1)     \n",
    "mlt_narrow_coherence"
   ]
  },
  {
   "cell_type": "markdown",
   "metadata": {},
   "source": [
    "#### Optimized MALLET Model"
   ]
  },
  {
   "cell_type": "markdown",
   "metadata": {},
   "source": [
    "From the sweep optimization above, we were able to determine that the optimal number of topics for this model is 14. We save this model as a variable for future use and take a look at the keyword distribution of the topics."
   ]
  },
  {
   "cell_type": "code",
   "execution_count": 24,
   "metadata": {},
   "outputs": [
    {
     "name": "stdout",
     "output_type": "stream",
     "text": [
      "\n",
      "Mallet LDA model perplexity:  -7.095664176983087\n",
      "\n",
      "Mallet LDA model coherence score:  0.5271508282605067 \n",
      "\n",
      "0: price agreement meeting producer market talk agree member coffee set\n",
      "1: sale company unit earning business quarter result operation sell complete\n",
      "2: year dlrs end expect report early total month period week\n",
      "3: ct loss net profit dlrs note include mln gain sale\n",
      "4: rise fall year growth increase deficit show figure decline month\n",
      "5: oil price production crude increase industry barrel contract raise gold\n",
      "6: tonne export wheat import grain crop program corn estimate production\n",
      "7: bank interest tax debt loan payment credit capital increase issue\n",
      "8: offer company make plan group merger bid tender propose proposal\n",
      "9: spokesman state today official source government ship strike work day\n",
      "10: share stock company common dividend acquire record shareholder cash pay\n",
      "11: trade official government japanese country import foreign industry economic policy\n",
      "12: buy analyst firm market investment sell give make base add\n",
      "13: rate market dollar bank exchange currency cut money yen dealer\n"
     ]
    }
   ],
   "source": [
    "# Optimal MALLET model\n",
    "mlt_optimal_model = mallet_ldamodel(corpus=corpus, num_topics=14)\n",
    "\n",
    "# Compute model perplexity and coherence score\n",
    "print('\\nMallet LDA model perplexity: ', gs_optimal_model.log_perplexity(corpus))\n",
    "print('\\nMallet LDA model coherence score: ', CoherenceModel(model=mlt_optimal_model, texts=texts).get_coherence(), '\\n')\n",
    "\n",
    "# Here is a quick look at the the top words by topic for the optimal MALLET model\n",
    "for topic_id in range(mlt_optimal_model.num_topics):\n",
    "    top_k = mlt_optimal_model.show_topic(topic_id, 10)\n",
    "    top_k_words = [w for w, _ in top_k]\n",
    "    \n",
    "    print('{}: {}'.format(topic_id, ' '.join(top_k_words)))"
   ]
  },
  {
   "cell_type": "markdown",
   "metadata": {},
   "source": [
    "One could look at these keywords and derive a description based on their human knowledge. For example, topic 6 is clearly about agriculture and grain/wheat exports. Topic 5 is clearly about oil. \n",
    "\n",
    "There is enough diversity in these keywords for new labels to be assigned based on further analysis."
   ]
  },
  {
   "cell_type": "markdown",
   "metadata": {},
   "source": [
    "## Topic Model Analysis & Visualization"
   ]
  },
  {
   "cell_type": "markdown",
   "metadata": {},
   "source": [
    "### Most Dominant Topics"
   ]
  },
  {
   "cell_type": "markdown",
   "metadata": {},
   "source": [
    "The most dominant topics in each article are extracted using both optimal models. These will be used in a comparison against the known labels of the Reuters corpus. Along with the dominant topics, we also extract the keywords associated with the topics and the measure of how likely the dominant topic was.\n",
    "\n",
    "The function below is used to obtain the proportion of articles that have been assigned a particular topic by the model. "
   ]
  },
  {
   "cell_type": "code",
   "execution_count": 25,
   "metadata": {},
   "outputs": [],
   "source": [
    "# Returns a dataframe of the proportion of articles having a particular topic\n",
    "def get_topic_distribution(best_topics_df):\n",
    "    \n",
    "    topic_count = best_topics_df.groupby(['Best Topic','Keywords'])['Article'].count()\n",
    "    topic_prop = pd.DataFrame(topic_count/len(best_topics_df)*100)\n",
    "    topic_prop = topic_prop.reset_index()\n",
    "    topic_prop.columns = ['Best Topic', 'Keywords', 'Proportion']\n",
    "    topic_prop['Proportion'] = topic_prop['Proportion'].apply(lambda x: round(x,2)) # Look into truncating digits\n",
    "    \n",
    "    return topic_prop"
   ]
  },
  {
   "cell_type": "markdown",
   "metadata": {},
   "source": [
    "#### Best Gensim Topics"
   ]
  },
  {
   "cell_type": "code",
   "execution_count": 26,
   "metadata": {},
   "outputs": [],
   "source": [
    "# Function to extract best topic for each article along with associate keywords and likelyhood\n",
    "def get_best_gensim_topics(lda_model, corpus):\n",
    "    \n",
    "    lda_model_corpus = lda_model[corpus]\n",
    "    art_topic_keywords = pd.DataFrame(columns = ['Article','Best Topic','Likelihood','Keywords'])\n",
    "    \n",
    "    # Loop through articles to get each article's main topic\n",
    "    for i, article in enumerate(lda_model[corpus]):\n",
    "        for article in enumerate(article): \n",
    "            if article[0] == 0:\n",
    "                #print(article)\n",
    "                wp = lda_model.show_topic(article[1][0][0])\n",
    "                topic_keywords = ', '.join([word for word, prop in wp])\n",
    "                \n",
    "                best_topic = int(article[1][0][0])\n",
    "                max_likelihood = round(article[1][0][1],4)\n",
    "                \n",
    "                d = {'Article': i, 'Best Topic': best_topic,'Likelihood': max_likelihood,'Keywords': topic_keywords}\n",
    "                art_topic_keywords = art_topic_keywords.append(d, ignore_index=True)\n",
    "\n",
    "    return art_topic_keywords"
   ]
  },
  {
   "cell_type": "code",
   "execution_count": 43,
   "metadata": {},
   "outputs": [
    {
     "data": {
      "text/html": [
       "<style  type=\"text/css\" >\n",
       "</style><table id=\"T_84b8e166_ca3c_11ea_b6b7_784f434fb9dc\" ><thead>    <tr>        <th class=\"col_heading level0 col0\" >Article</th>        <th class=\"col_heading level0 col1\" >Best Topic</th>        <th class=\"col_heading level0 col2\" >Likelihood</th>        <th class=\"col_heading level0 col3\" >Keywords</th>    </tr></thead><tbody>\n",
       "                <tr>\n",
       "                                <td id=\"T_84b8e166_ca3c_11ea_b6b7_784f434fb9dcrow0_col0\" class=\"data row0 col0\" >0</td>\n",
       "                        <td id=\"T_84b8e166_ca3c_11ea_b6b7_784f434fb9dcrow0_col1\" class=\"data row0 col1\" >0</td>\n",
       "                        <td id=\"T_84b8e166_ca3c_11ea_b6b7_784f434fb9dcrow0_col2\" class=\"data row0 col2\" >0.077400</td>\n",
       "                        <td id=\"T_84b8e166_ca3c_11ea_b6b7_784f434fb9dcrow0_col3\" class=\"data row0 col3\" >say, year, rate, rise, quarter, expect, growth, first, earning, increase</td>\n",
       "            </tr>\n",
       "            <tr>\n",
       "                                <td id=\"T_84b8e166_ca3c_11ea_b6b7_784f434fb9dcrow1_col0\" class=\"data row1 col0\" >1</td>\n",
       "                        <td id=\"T_84b8e166_ca3c_11ea_b6b7_784f434fb9dcrow1_col1\" class=\"data row1 col1\" >2</td>\n",
       "                        <td id=\"T_84b8e166_ca3c_11ea_b6b7_784f434fb9dcrow1_col2\" class=\"data row1 col2\" >0.073000</td>\n",
       "                        <td id=\"T_84b8e166_ca3c_11ea_b6b7_784f434fb9dcrow1_col3\" class=\"data row1 col3\" >say, crop, year, deficit, soybean, estimate, last, trade, surplus, program</td>\n",
       "            </tr>\n",
       "            <tr>\n",
       "                                <td id=\"T_84b8e166_ca3c_11ea_b6b7_784f434fb9dcrow2_col0\" class=\"data row2 col0\" >2</td>\n",
       "                        <td id=\"T_84b8e166_ca3c_11ea_b6b7_784f434fb9dcrow2_col1\" class=\"data row2 col1\" >8</td>\n",
       "                        <td id=\"T_84b8e166_ca3c_11ea_b6b7_784f434fb9dcrow2_col2\" class=\"data row2 col2\" >0.988400</td>\n",
       "                        <td id=\"T_84b8e166_ca3c_11ea_b6b7_784f434fb9dcrow2_col3\" class=\"data row2 col3\" >say, year, oil, price, production, last, would, rise, market, export</td>\n",
       "            </tr>\n",
       "            <tr>\n",
       "                                <td id=\"T_84b8e166_ca3c_11ea_b6b7_784f434fb9dcrow3_col0\" class=\"data row3 col0\" >3</td>\n",
       "                        <td id=\"T_84b8e166_ca3c_11ea_b6b7_784f434fb9dcrow3_col1\" class=\"data row3 col1\" >0</td>\n",
       "                        <td id=\"T_84b8e166_ca3c_11ea_b6b7_784f434fb9dcrow3_col2\" class=\"data row3 col2\" >0.634600</td>\n",
       "                        <td id=\"T_84b8e166_ca3c_11ea_b6b7_784f434fb9dcrow3_col3\" class=\"data row3 col3\" >say, year, rate, rise, quarter, expect, growth, first, earning, increase</td>\n",
       "            </tr>\n",
       "            <tr>\n",
       "                                <td id=\"T_84b8e166_ca3c_11ea_b6b7_784f434fb9dcrow4_col0\" class=\"data row4 col0\" >4</td>\n",
       "                        <td id=\"T_84b8e166_ca3c_11ea_b6b7_784f434fb9dcrow4_col1\" class=\"data row4 col1\" >6</td>\n",
       "                        <td id=\"T_84b8e166_ca3c_11ea_b6b7_784f434fb9dcrow4_col2\" class=\"data row4 col2\" >0.048400</td>\n",
       "                        <td id=\"T_84b8e166_ca3c_11ea_b6b7_784f434fb9dcrow4_col3\" class=\"data row4 col3\" >say, trade, would, export, official, government, import, country, year, japanese</td>\n",
       "            </tr>\n",
       "            <tr>\n",
       "                                <td id=\"T_84b8e166_ca3c_11ea_b6b7_784f434fb9dcrow5_col0\" class=\"data row5 col0\" >5</td>\n",
       "                        <td id=\"T_84b8e166_ca3c_11ea_b6b7_784f434fb9dcrow5_col1\" class=\"data row5 col1\" >6</td>\n",
       "                        <td id=\"T_84b8e166_ca3c_11ea_b6b7_784f434fb9dcrow5_col2\" class=\"data row5 col2\" >0.990400</td>\n",
       "                        <td id=\"T_84b8e166_ca3c_11ea_b6b7_784f434fb9dcrow5_col3\" class=\"data row5 col3\" >say, trade, would, export, official, government, import, country, year, japanese</td>\n",
       "            </tr>\n",
       "            <tr>\n",
       "                                <td id=\"T_84b8e166_ca3c_11ea_b6b7_784f434fb9dcrow6_col0\" class=\"data row6 col0\" >6</td>\n",
       "                        <td id=\"T_84b8e166_ca3c_11ea_b6b7_784f434fb9dcrow6_col1\" class=\"data row6 col1\" >2</td>\n",
       "                        <td id=\"T_84b8e166_ca3c_11ea_b6b7_784f434fb9dcrow6_col2\" class=\"data row6 col2\" >0.074200</td>\n",
       "                        <td id=\"T_84b8e166_ca3c_11ea_b6b7_784f434fb9dcrow6_col3\" class=\"data row6 col3\" >say, crop, year, deficit, soybean, estimate, last, trade, surplus, program</td>\n",
       "            </tr>\n",
       "            <tr>\n",
       "                                <td id=\"T_84b8e166_ca3c_11ea_b6b7_784f434fb9dcrow7_col0\" class=\"data row7 col0\" >7</td>\n",
       "                        <td id=\"T_84b8e166_ca3c_11ea_b6b7_784f434fb9dcrow7_col1\" class=\"data row7 col1\" >2</td>\n",
       "                        <td id=\"T_84b8e166_ca3c_11ea_b6b7_784f434fb9dcrow7_col2\" class=\"data row7 col2\" >0.618400</td>\n",
       "                        <td id=\"T_84b8e166_ca3c_11ea_b6b7_784f434fb9dcrow7_col3\" class=\"data row7 col3\" >say, crop, year, deficit, soybean, estimate, last, trade, surplus, program</td>\n",
       "            </tr>\n",
       "            <tr>\n",
       "                                <td id=\"T_84b8e166_ca3c_11ea_b6b7_784f434fb9dcrow8_col0\" class=\"data row8 col0\" >8</td>\n",
       "                        <td id=\"T_84b8e166_ca3c_11ea_b6b7_784f434fb9dcrow8_col1\" class=\"data row8 col1\" >8</td>\n",
       "                        <td id=\"T_84b8e166_ca3c_11ea_b6b7_784f434fb9dcrow8_col2\" class=\"data row8 col2\" >0.977200</td>\n",
       "                        <td id=\"T_84b8e166_ca3c_11ea_b6b7_784f434fb9dcrow8_col3\" class=\"data row8 col3\" >say, year, oil, price, production, last, would, rise, market, export</td>\n",
       "            </tr>\n",
       "            <tr>\n",
       "                                <td id=\"T_84b8e166_ca3c_11ea_b6b7_784f434fb9dcrow9_col0\" class=\"data row9 col0\" >9</td>\n",
       "                        <td id=\"T_84b8e166_ca3c_11ea_b6b7_784f434fb9dcrow9_col1\" class=\"data row9 col1\" >0</td>\n",
       "                        <td id=\"T_84b8e166_ca3c_11ea_b6b7_784f434fb9dcrow9_col2\" class=\"data row9 col2\" >0.172700</td>\n",
       "                        <td id=\"T_84b8e166_ca3c_11ea_b6b7_784f434fb9dcrow9_col3\" class=\"data row9 col3\" >say, year, rate, rise, quarter, expect, growth, first, earning, increase</td>\n",
       "            </tr>\n",
       "    </tbody></table>"
      ],
      "text/plain": [
       "<pandas.io.formats.style.Styler at 0x1303e1f90>"
      ]
     },
     "execution_count": 43,
     "metadata": {},
     "output_type": "execute_result"
    }
   ],
   "source": [
    "gensim_topic_df = get_best_gensim_topics(gs_optimal_model, corpus)\n",
    "\n",
    "gensim_topic_df.head(10).style.hide_index()"
   ]
  },
  {
   "cell_type": "markdown",
   "metadata": {},
   "source": [
    "The dataframe above displays the most likely topic along with the likelihood of that topic. The keywords that describe the topics are also shown. When aggregated in the data frame below, topic 0 emerges as the most common topic with 45% of the articles classified as such. Topics 3 and 5 round out the top 3 of topics represent in more than 10% of the articles.\n",
    "\n",
    "Interestingly, the word 'say' is repeated in a lot of these topics. This is an anomaly to keep in mind."
   ]
  },
  {
   "cell_type": "code",
   "execution_count": 29,
   "metadata": {},
   "outputs": [
    {
     "data": {
      "text/html": [
       "<style  type=\"text/css\" >\n",
       "    #T_9bffb0fe_ca35_11ea_b6b7_784f434fb9dcrow0_col2 {\n",
       "            background-color:  #08306b;\n",
       "            color:  #f1f1f1;\n",
       "        }    #T_9bffb0fe_ca35_11ea_b6b7_784f434fb9dcrow1_col2 {\n",
       "            background-color:  #dbe9f6;\n",
       "            color:  #000000;\n",
       "        }    #T_9bffb0fe_ca35_11ea_b6b7_784f434fb9dcrow2_col2 {\n",
       "            background-color:  #dce9f6;\n",
       "            color:  #000000;\n",
       "        }    #T_9bffb0fe_ca35_11ea_b6b7_784f434fb9dcrow3_col2 {\n",
       "            background-color:  #94c4df;\n",
       "            color:  #000000;\n",
       "        }    #T_9bffb0fe_ca35_11ea_b6b7_784f434fb9dcrow4_col2 {\n",
       "            background-color:  #eaf2fb;\n",
       "            color:  #000000;\n",
       "        }    #T_9bffb0fe_ca35_11ea_b6b7_784f434fb9dcrow5_col2 {\n",
       "            background-color:  #ccdff1;\n",
       "            color:  #000000;\n",
       "        }    #T_9bffb0fe_ca35_11ea_b6b7_784f434fb9dcrow6_col2 {\n",
       "            background-color:  #f2f8fd;\n",
       "            color:  #000000;\n",
       "        }    #T_9bffb0fe_ca35_11ea_b6b7_784f434fb9dcrow7_col2 {\n",
       "            background-color:  #f7fbff;\n",
       "            color:  #000000;\n",
       "        }    #T_9bffb0fe_ca35_11ea_b6b7_784f434fb9dcrow8_col2 {\n",
       "            background-color:  #f7fbff;\n",
       "            color:  #000000;\n",
       "        }</style><table id=\"T_9bffb0fe_ca35_11ea_b6b7_784f434fb9dc\" ><thead>    <tr>        <th class=\"col_heading level0 col0\" >Best Topic</th>        <th class=\"col_heading level0 col1\" >Keywords</th>        <th class=\"col_heading level0 col2\" >Proportion</th>    </tr></thead><tbody>\n",
       "                <tr>\n",
       "                                <td id=\"T_9bffb0fe_ca35_11ea_b6b7_784f434fb9dcrow0_col0\" class=\"data row0 col0\" >0</td>\n",
       "                        <td id=\"T_9bffb0fe_ca35_11ea_b6b7_784f434fb9dcrow0_col1\" class=\"data row0 col1\" >say, year, rate, rise, quarter, expect, growth, first, earning, increase</td>\n",
       "                        <td id=\"T_9bffb0fe_ca35_11ea_b6b7_784f434fb9dcrow0_col2\" class=\"data row0 col2\" >45.570000</td>\n",
       "            </tr>\n",
       "            <tr>\n",
       "                                <td id=\"T_9bffb0fe_ca35_11ea_b6b7_784f434fb9dcrow1_col0\" class=\"data row1 col0\" >1</td>\n",
       "                        <td id=\"T_9bffb0fe_ca35_11ea_b6b7_784f434fb9dcrow1_col1\" class=\"data row1 col1\" >price, say, oil, raise, crude, trader, barrel, today, dlrs, rate</td>\n",
       "                        <td id=\"T_9bffb0fe_ca35_11ea_b6b7_784f434fb9dcrow1_col2\" class=\"data row1 col2\" >7.650000</td>\n",
       "            </tr>\n",
       "            <tr>\n",
       "                                <td id=\"T_9bffb0fe_ca35_11ea_b6b7_784f434fb9dcrow2_col0\" class=\"data row2 col0\" >2</td>\n",
       "                        <td id=\"T_9bffb0fe_ca35_11ea_b6b7_784f434fb9dcrow2_col1\" class=\"data row2 col1\" >say, crop, year, deficit, soybean, estimate, last, trade, surplus, program</td>\n",
       "                        <td id=\"T_9bffb0fe_ca35_11ea_b6b7_784f434fb9dcrow2_col2\" class=\"data row2 col2\" >7.430000</td>\n",
       "            </tr>\n",
       "            <tr>\n",
       "                                <td id=\"T_9bffb0fe_ca35_11ea_b6b7_784f434fb9dcrow3_col0\" class=\"data row3 col0\" >3</td>\n",
       "                        <td id=\"T_9bffb0fe_ca35_11ea_b6b7_784f434fb9dcrow3_col1\" class=\"data row3 col1\" >say, company, share, offer, would, buy, stock, group, also, sell</td>\n",
       "                        <td id=\"T_9bffb0fe_ca35_11ea_b6b7_784f434fb9dcrow3_col2\" class=\"data row3 col2\" >19.070000</td>\n",
       "            </tr>\n",
       "            <tr>\n",
       "                                <td id=\"T_9bffb0fe_ca35_11ea_b6b7_784f434fb9dcrow4_col0\" class=\"data row4 col0\" >4</td>\n",
       "                        <td id=\"T_9bffb0fe_ca35_11ea_b6b7_784f434fb9dcrow4_col1\" class=\"data row4 col1\" >say, bank, market, rise, dollar, rate, dealer, money, yen, currency</td>\n",
       "                        <td id=\"T_9bffb0fe_ca35_11ea_b6b7_784f434fb9dcrow4_col2\" class=\"data row4 col2\" >4.250000</td>\n",
       "            </tr>\n",
       "            <tr>\n",
       "                                <td id=\"T_9bffb0fe_ca35_11ea_b6b7_784f434fb9dcrow5_col0\" class=\"data row5 col0\" >5</td>\n",
       "                        <td id=\"T_9bffb0fe_ca35_11ea_b6b7_784f434fb9dcrow5_col1\" class=\"data row5 col1\" >loss, net, ct, profit, dlrs, sale, year, say, include, note</td>\n",
       "                        <td id=\"T_9bffb0fe_ca35_11ea_b6b7_784f434fb9dcrow5_col2\" class=\"data row5 col2\" >11.080000</td>\n",
       "            </tr>\n",
       "            <tr>\n",
       "                                <td id=\"T_9bffb0fe_ca35_11ea_b6b7_784f434fb9dcrow6_col0\" class=\"data row6 col0\" >6</td>\n",
       "                        <td id=\"T_9bffb0fe_ca35_11ea_b6b7_784f434fb9dcrow6_col1\" class=\"data row6 col1\" >say, trade, would, export, official, government, import, country, year, japanese</td>\n",
       "                        <td id=\"T_9bffb0fe_ca35_11ea_b6b7_784f434fb9dcrow6_col2\" class=\"data row6 col2\" >2.410000</td>\n",
       "            </tr>\n",
       "            <tr>\n",
       "                                <td id=\"T_9bffb0fe_ca35_11ea_b6b7_784f434fb9dcrow7_col0\" class=\"data row7 col0\" >7</td>\n",
       "                        <td id=\"T_9bffb0fe_ca35_11ea_b6b7_784f434fb9dcrow7_col1\" class=\"data row7 col1\" >share, ct, say, dividend, stock, record, split, dlrs, may, pay</td>\n",
       "                        <td id=\"T_9bffb0fe_ca35_11ea_b6b7_784f434fb9dcrow7_col2\" class=\"data row7 col2\" >1.260000</td>\n",
       "            </tr>\n",
       "            <tr>\n",
       "                                <td id=\"T_9bffb0fe_ca35_11ea_b6b7_784f434fb9dcrow8_col0\" class=\"data row8 col0\" >8</td>\n",
       "                        <td id=\"T_9bffb0fe_ca35_11ea_b6b7_784f434fb9dcrow8_col1\" class=\"data row8 col1\" >say, year, oil, price, production, last, would, rise, market, export</td>\n",
       "                        <td id=\"T_9bffb0fe_ca35_11ea_b6b7_784f434fb9dcrow8_col2\" class=\"data row8 col2\" >1.290000</td>\n",
       "            </tr>\n",
       "    </tbody></table>"
      ],
      "text/plain": [
       "<pandas.io.formats.style.Styler at 0x130e26d90>"
      ]
     },
     "execution_count": 29,
     "metadata": {},
     "output_type": "execute_result"
    }
   ],
   "source": [
    "gs_topic_prop = get_topic_distribution(gensim_topic_df)\n",
    "gs_topic_prop.style.hide_index().background_gradient(subset='Proportion',cmap='Blues')"
   ]
  },
  {
   "cell_type": "markdown",
   "metadata": {},
   "source": [
    "#### Best Mallet Topics"
   ]
  },
  {
   "cell_type": "code",
   "execution_count": 30,
   "metadata": {},
   "outputs": [],
   "source": [
    "# Function to extract best topic for each article along with associate keywords and likelyhood\n",
    "def get_best_mallet_topics(lda_model, corpus):\n",
    "    \n",
    "    lda_model_corpus = lda_model[corpus]\n",
    "    art_topic_keywords = pd.DataFrame(columns = ['Article','Best Topic','Likelihood','Keywords'])\n",
    "    \n",
    "    for i in range(len(lda_model_corpus)):\n",
    "        # Get article topic model distribution\n",
    "        article = lda_model_corpus[i]\n",
    "\n",
    "        # Find the max likelihood index and select the corresponding topic\n",
    "        likelihood = [likelyhood for topic,likelyhood in article]\n",
    "        max_likelihood = max(likelihood)\n",
    "        best_topic = likelihood.index(max_likelihood)\n",
    "        \n",
    "        # Get keywords for best topcis\n",
    "        wp = lda_model.show_topic(best_topic)\n",
    "        topic_keywords = ', '.join([word for word, prop in wp])\n",
    "        \n",
    "        # Assemble and append information to dataframe\n",
    "        d = {'Article': i, 'Best Topic': best_topic,'Likelihood': max_likelihood,'Keywords': topic_keywords}\n",
    "        art_topic_keywords = art_topic_keywords.append(d, ignore_index=True)\n",
    "        \n",
    "    return art_topic_keywords\n",
    "    "
   ]
  },
  {
   "cell_type": "code",
   "execution_count": 31,
   "metadata": {},
   "outputs": [
    {
     "data": {
      "text/html": [
       "<div>\n",
       "<style scoped>\n",
       "    .dataframe tbody tr th:only-of-type {\n",
       "        vertical-align: middle;\n",
       "    }\n",
       "\n",
       "    .dataframe tbody tr th {\n",
       "        vertical-align: top;\n",
       "    }\n",
       "\n",
       "    .dataframe thead th {\n",
       "        text-align: right;\n",
       "    }\n",
       "</style>\n",
       "<table border=\"1\" class=\"dataframe\">\n",
       "  <thead>\n",
       "    <tr style=\"text-align: right;\">\n",
       "      <th></th>\n",
       "      <th>Article</th>\n",
       "      <th>Best Topic</th>\n",
       "      <th>Likelihood</th>\n",
       "      <th>Keywords</th>\n",
       "    </tr>\n",
       "  </thead>\n",
       "  <tbody>\n",
       "    <tr>\n",
       "      <th>0</th>\n",
       "      <td>0</td>\n",
       "      <td>11</td>\n",
       "      <td>0.470864</td>\n",
       "      <td>trade, official, government, japanese, country...</td>\n",
       "    </tr>\n",
       "    <tr>\n",
       "      <th>1</th>\n",
       "      <td>1</td>\n",
       "      <td>6</td>\n",
       "      <td>0.167488</td>\n",
       "      <td>tonne, export, wheat, import, grain, crop, pro...</td>\n",
       "    </tr>\n",
       "    <tr>\n",
       "      <th>2</th>\n",
       "      <td>2</td>\n",
       "      <td>5</td>\n",
       "      <td>0.265873</td>\n",
       "      <td>oil, price, production, crude, increase, indus...</td>\n",
       "    </tr>\n",
       "    <tr>\n",
       "      <th>3</th>\n",
       "      <td>3</td>\n",
       "      <td>4</td>\n",
       "      <td>0.258730</td>\n",
       "      <td>rise, fall, year, growth, increase, deficit, s...</td>\n",
       "    </tr>\n",
       "    <tr>\n",
       "      <th>4</th>\n",
       "      <td>4</td>\n",
       "      <td>6</td>\n",
       "      <td>0.249664</td>\n",
       "      <td>tonne, export, wheat, import, grain, crop, pro...</td>\n",
       "    </tr>\n",
       "    <tr>\n",
       "      <th>...</th>\n",
       "      <td>...</td>\n",
       "      <td>...</td>\n",
       "      <td>...</td>\n",
       "      <td>...</td>\n",
       "    </tr>\n",
       "    <tr>\n",
       "      <th>10783</th>\n",
       "      <td>10783</td>\n",
       "      <td>13</td>\n",
       "      <td>0.107672</td>\n",
       "      <td>rate, market, dollar, bank, exchange, currency...</td>\n",
       "    </tr>\n",
       "    <tr>\n",
       "      <th>10784</th>\n",
       "      <td>10784</td>\n",
       "      <td>3</td>\n",
       "      <td>0.105121</td>\n",
       "      <td>ct, loss, net, profit, dlrs, note, include, ml...</td>\n",
       "    </tr>\n",
       "    <tr>\n",
       "      <th>10785</th>\n",
       "      <td>10785</td>\n",
       "      <td>3</td>\n",
       "      <td>0.105121</td>\n",
       "      <td>ct, loss, net, profit, dlrs, note, include, ml...</td>\n",
       "    </tr>\n",
       "    <tr>\n",
       "      <th>10786</th>\n",
       "      <td>10786</td>\n",
       "      <td>3</td>\n",
       "      <td>0.289449</td>\n",
       "      <td>ct, loss, net, profit, dlrs, note, include, ml...</td>\n",
       "    </tr>\n",
       "    <tr>\n",
       "      <th>10787</th>\n",
       "      <td>10787</td>\n",
       "      <td>0</td>\n",
       "      <td>0.071429</td>\n",
       "      <td>price, agreement, meeting, producer, market, t...</td>\n",
       "    </tr>\n",
       "  </tbody>\n",
       "</table>\n",
       "<p>10788 rows × 4 columns</p>\n",
       "</div>"
      ],
      "text/plain": [
       "      Article Best Topic  Likelihood  \\\n",
       "0           0         11    0.470864   \n",
       "1           1          6    0.167488   \n",
       "2           2          5    0.265873   \n",
       "3           3          4    0.258730   \n",
       "4           4          6    0.249664   \n",
       "...       ...        ...         ...   \n",
       "10783   10783         13    0.107672   \n",
       "10784   10784          3    0.105121   \n",
       "10785   10785          3    0.105121   \n",
       "10786   10786          3    0.289449   \n",
       "10787   10787          0    0.071429   \n",
       "\n",
       "                                                Keywords  \n",
       "0      trade, official, government, japanese, country...  \n",
       "1      tonne, export, wheat, import, grain, crop, pro...  \n",
       "2      oil, price, production, crude, increase, indus...  \n",
       "3      rise, fall, year, growth, increase, deficit, s...  \n",
       "4      tonne, export, wheat, import, grain, crop, pro...  \n",
       "...                                                  ...  \n",
       "10783  rate, market, dollar, bank, exchange, currency...  \n",
       "10784  ct, loss, net, profit, dlrs, note, include, ml...  \n",
       "10785  ct, loss, net, profit, dlrs, note, include, ml...  \n",
       "10786  ct, loss, net, profit, dlrs, note, include, ml...  \n",
       "10787  price, agreement, meeting, producer, market, t...  \n",
       "\n",
       "[10788 rows x 4 columns]"
      ]
     },
     "execution_count": 31,
     "metadata": {},
     "output_type": "execute_result"
    }
   ],
   "source": [
    "mallet_topic_df = get_best_mallet_topics(mlt_optimal_model, corpus)\n",
    "\n",
    "mallet_topic_df"
   ]
  },
  {
   "cell_type": "markdown",
   "metadata": {},
   "source": [
    "When using the MALLET model, the porportions are a lot more diversified which makes sense given the increased number of topics (from 9 to 14).\n",
    "\n",
    "Topic 3 makes up for 21% of the articles with keywords like: 'ct', 'loss', 'net', 'profit', 'dlrs', 'note', 'include', 'mln', 'gain', and 'sale'. We can recognize these as words from financial reports. \n",
    "\n",
    "Topic 10 with 12% is the second most represented with keywords: 'share', 'stock', 'company', 'common', 'dividend', 'acquire', 'record', 'shareholder', 'cash', and 'pay'. Interestingly, while there is no overlap in the words, the theme of company and financial report are very similar. Topic 10 seems more related to earnings report with keywords like 'shareholder' and 'dividend'."
   ]
  },
  {
   "cell_type": "code",
   "execution_count": 32,
   "metadata": {},
   "outputs": [
    {
     "data": {
      "text/html": [
       "<style  type=\"text/css\" >\n",
       "    #T_c6a7029e_ca35_11ea_b6b7_784f434fb9dcrow0_col2 {\n",
       "            background-color:  #eaf2fb;\n",
       "            color:  #000000;\n",
       "        }    #T_c6a7029e_ca35_11ea_b6b7_784f434fb9dcrow1_col2 {\n",
       "            background-color:  #a9cfe5;\n",
       "            color:  #000000;\n",
       "        }    #T_c6a7029e_ca35_11ea_b6b7_784f434fb9dcrow2_col2 {\n",
       "            background-color:  #f7fbff;\n",
       "            color:  #000000;\n",
       "        }    #T_c6a7029e_ca35_11ea_b6b7_784f434fb9dcrow3_col2 {\n",
       "            background-color:  #08306b;\n",
       "            color:  #f1f1f1;\n",
       "        }    #T_c6a7029e_ca35_11ea_b6b7_784f434fb9dcrow4_col2 {\n",
       "            background-color:  #d6e6f4;\n",
       "            color:  #000000;\n",
       "        }    #T_c6a7029e_ca35_11ea_b6b7_784f434fb9dcrow5_col2 {\n",
       "            background-color:  #d0e2f2;\n",
       "            color:  #000000;\n",
       "        }    #T_c6a7029e_ca35_11ea_b6b7_784f434fb9dcrow6_col2 {\n",
       "            background-color:  #caddf0;\n",
       "            color:  #000000;\n",
       "        }    #T_c6a7029e_ca35_11ea_b6b7_784f434fb9dcrow7_col2 {\n",
       "            background-color:  #f3f8fe;\n",
       "            color:  #000000;\n",
       "        }    #T_c6a7029e_ca35_11ea_b6b7_784f434fb9dcrow8_col2 {\n",
       "            background-color:  #d0e2f2;\n",
       "            color:  #000000;\n",
       "        }    #T_c6a7029e_ca35_11ea_b6b7_784f434fb9dcrow9_col2 {\n",
       "            background-color:  #f2f8fd;\n",
       "            color:  #000000;\n",
       "        }    #T_c6a7029e_ca35_11ea_b6b7_784f434fb9dcrow10_col2 {\n",
       "            background-color:  #6dafd7;\n",
       "            color:  #000000;\n",
       "        }    #T_c6a7029e_ca35_11ea_b6b7_784f434fb9dcrow11_col2 {\n",
       "            background-color:  #e5eff9;\n",
       "            color:  #000000;\n",
       "        }    #T_c6a7029e_ca35_11ea_b6b7_784f434fb9dcrow12_col2 {\n",
       "            background-color:  #f3f8fe;\n",
       "            color:  #000000;\n",
       "        }    #T_c6a7029e_ca35_11ea_b6b7_784f434fb9dcrow13_col2 {\n",
       "            background-color:  #cddff1;\n",
       "            color:  #000000;\n",
       "        }</style><table id=\"T_c6a7029e_ca35_11ea_b6b7_784f434fb9dc\" ><thead>    <tr>        <th class=\"col_heading level0 col0\" >Best Topic</th>        <th class=\"col_heading level0 col1\" >Keywords</th>        <th class=\"col_heading level0 col2\" >Proportion</th>    </tr></thead><tbody>\n",
       "                <tr>\n",
       "                                <td id=\"T_c6a7029e_ca35_11ea_b6b7_784f434fb9dcrow0_col0\" class=\"data row0 col0\" >0</td>\n",
       "                        <td id=\"T_c6a7029e_ca35_11ea_b6b7_784f434fb9dcrow0_col1\" class=\"data row0 col1\" >price, agreement, meeting, producer, market, talk, agree, member, coffee, set</td>\n",
       "                        <td id=\"T_c6a7029e_ca35_11ea_b6b7_784f434fb9dcrow0_col2\" class=\"data row0 col2\" >4.410000</td>\n",
       "            </tr>\n",
       "            <tr>\n",
       "                                <td id=\"T_c6a7029e_ca35_11ea_b6b7_784f434fb9dcrow1_col0\" class=\"data row1 col0\" >1</td>\n",
       "                        <td id=\"T_c6a7029e_ca35_11ea_b6b7_784f434fb9dcrow1_col1\" class=\"data row1 col1\" >sale, company, unit, earning, business, quarter, result, operation, sell, complete</td>\n",
       "                        <td id=\"T_c6a7029e_ca35_11ea_b6b7_784f434fb9dcrow1_col2\" class=\"data row1 col2\" >9.380000</td>\n",
       "            </tr>\n",
       "            <tr>\n",
       "                                <td id=\"T_c6a7029e_ca35_11ea_b6b7_784f434fb9dcrow2_col0\" class=\"data row2 col0\" >2</td>\n",
       "                        <td id=\"T_c6a7029e_ca35_11ea_b6b7_784f434fb9dcrow2_col1\" class=\"data row2 col1\" >year, dlrs, end, expect, report, early, total, month, period, week</td>\n",
       "                        <td id=\"T_c6a7029e_ca35_11ea_b6b7_784f434fb9dcrow2_col2\" class=\"data row2 col2\" >3.190000</td>\n",
       "            </tr>\n",
       "            <tr>\n",
       "                                <td id=\"T_c6a7029e_ca35_11ea_b6b7_784f434fb9dcrow3_col0\" class=\"data row3 col0\" >3</td>\n",
       "                        <td id=\"T_c6a7029e_ca35_11ea_b6b7_784f434fb9dcrow3_col1\" class=\"data row3 col1\" >ct, loss, net, profit, dlrs, note, include, mln, gain, sale</td>\n",
       "                        <td id=\"T_c6a7029e_ca35_11ea_b6b7_784f434fb9dcrow3_col2\" class=\"data row3 col2\" >21.210000</td>\n",
       "            </tr>\n",
       "            <tr>\n",
       "                                <td id=\"T_c6a7029e_ca35_11ea_b6b7_784f434fb9dcrow4_col0\" class=\"data row4 col0\" >4</td>\n",
       "                        <td id=\"T_c6a7029e_ca35_11ea_b6b7_784f434fb9dcrow4_col1\" class=\"data row4 col1\" >rise, fall, year, growth, increase, deficit, show, figure, decline, month</td>\n",
       "                        <td id=\"T_c6a7029e_ca35_11ea_b6b7_784f434fb9dcrow4_col2\" class=\"data row4 col2\" >6.150000</td>\n",
       "            </tr>\n",
       "            <tr>\n",
       "                                <td id=\"T_c6a7029e_ca35_11ea_b6b7_784f434fb9dcrow5_col0\" class=\"data row5 col0\" >5</td>\n",
       "                        <td id=\"T_c6a7029e_ca35_11ea_b6b7_784f434fb9dcrow5_col1\" class=\"data row5 col1\" >oil, price, production, crude, increase, industry, barrel, contract, raise, gold</td>\n",
       "                        <td id=\"T_c6a7029e_ca35_11ea_b6b7_784f434fb9dcrow5_col2\" class=\"data row5 col2\" >6.730000</td>\n",
       "            </tr>\n",
       "            <tr>\n",
       "                                <td id=\"T_c6a7029e_ca35_11ea_b6b7_784f434fb9dcrow6_col0\" class=\"data row6 col0\" >6</td>\n",
       "                        <td id=\"T_c6a7029e_ca35_11ea_b6b7_784f434fb9dcrow6_col1\" class=\"data row6 col1\" >tonne, export, wheat, import, grain, crop, program, corn, estimate, production</td>\n",
       "                        <td id=\"T_c6a7029e_ca35_11ea_b6b7_784f434fb9dcrow6_col2\" class=\"data row6 col2\" >7.370000</td>\n",
       "            </tr>\n",
       "            <tr>\n",
       "                                <td id=\"T_c6a7029e_ca35_11ea_b6b7_784f434fb9dcrow7_col0\" class=\"data row7 col0\" >7</td>\n",
       "                        <td id=\"T_c6a7029e_ca35_11ea_b6b7_784f434fb9dcrow7_col1\" class=\"data row7 col1\" >bank, interest, tax, debt, loan, payment, credit, capital, increase, issue</td>\n",
       "                        <td id=\"T_c6a7029e_ca35_11ea_b6b7_784f434fb9dcrow7_col2\" class=\"data row7 col2\" >3.550000</td>\n",
       "            </tr>\n",
       "            <tr>\n",
       "                                <td id=\"T_c6a7029e_ca35_11ea_b6b7_784f434fb9dcrow8_col0\" class=\"data row8 col0\" >8</td>\n",
       "                        <td id=\"T_c6a7029e_ca35_11ea_b6b7_784f434fb9dcrow8_col1\" class=\"data row8 col1\" >offer, company, make, plan, group, merger, bid, tender, propose, proposal</td>\n",
       "                        <td id=\"T_c6a7029e_ca35_11ea_b6b7_784f434fb9dcrow8_col2\" class=\"data row8 col2\" >6.720000</td>\n",
       "            </tr>\n",
       "            <tr>\n",
       "                                <td id=\"T_c6a7029e_ca35_11ea_b6b7_784f434fb9dcrow9_col0\" class=\"data row9 col0\" >9</td>\n",
       "                        <td id=\"T_c6a7029e_ca35_11ea_b6b7_784f434fb9dcrow9_col1\" class=\"data row9 col1\" >spokesman, state, today, official, source, government, ship, strike, work, day</td>\n",
       "                        <td id=\"T_c6a7029e_ca35_11ea_b6b7_784f434fb9dcrow9_col2\" class=\"data row9 col2\" >3.650000</td>\n",
       "            </tr>\n",
       "            <tr>\n",
       "                                <td id=\"T_c6a7029e_ca35_11ea_b6b7_784f434fb9dcrow10_col0\" class=\"data row10 col0\" >10</td>\n",
       "                        <td id=\"T_c6a7029e_ca35_11ea_b6b7_784f434fb9dcrow10_col1\" class=\"data row10 col1\" >share, stock, company, common, dividend, acquire, record, shareholder, cash, pay</td>\n",
       "                        <td id=\"T_c6a7029e_ca35_11ea_b6b7_784f434fb9dcrow10_col2\" class=\"data row10 col2\" >12.090000</td>\n",
       "            </tr>\n",
       "            <tr>\n",
       "                                <td id=\"T_c6a7029e_ca35_11ea_b6b7_784f434fb9dcrow11_col0\" class=\"data row11 col0\" >11</td>\n",
       "                        <td id=\"T_c6a7029e_ca35_11ea_b6b7_784f434fb9dcrow11_col1\" class=\"data row11 col1\" >trade, official, government, japanese, country, import, foreign, industry, economic, policy</td>\n",
       "                        <td id=\"T_c6a7029e_ca35_11ea_b6b7_784f434fb9dcrow11_col2\" class=\"data row11 col2\" >4.830000</td>\n",
       "            </tr>\n",
       "            <tr>\n",
       "                                <td id=\"T_c6a7029e_ca35_11ea_b6b7_784f434fb9dcrow12_col0\" class=\"data row12 col0\" >12</td>\n",
       "                        <td id=\"T_c6a7029e_ca35_11ea_b6b7_784f434fb9dcrow12_col1\" class=\"data row12 col1\" >buy, analyst, firm, market, investment, sell, give, make, base, add</td>\n",
       "                        <td id=\"T_c6a7029e_ca35_11ea_b6b7_784f434fb9dcrow12_col2\" class=\"data row12 col2\" >3.610000</td>\n",
       "            </tr>\n",
       "            <tr>\n",
       "                                <td id=\"T_c6a7029e_ca35_11ea_b6b7_784f434fb9dcrow13_col0\" class=\"data row13 col0\" >13</td>\n",
       "                        <td id=\"T_c6a7029e_ca35_11ea_b6b7_784f434fb9dcrow13_col1\" class=\"data row13 col1\" >rate, market, dollar, bank, exchange, currency, cut, money, yen, dealer</td>\n",
       "                        <td id=\"T_c6a7029e_ca35_11ea_b6b7_784f434fb9dcrow13_col2\" class=\"data row13 col2\" >7.120000</td>\n",
       "            </tr>\n",
       "    </tbody></table>"
      ],
      "text/plain": [
       "<pandas.io.formats.style.Styler at 0x130e93710>"
      ]
     },
     "execution_count": 32,
     "metadata": {},
     "output_type": "execute_result"
    }
   ],
   "source": [
    "mallet_topic_prop = get_topic_distribution(mallet_topic_df)\n",
    "mallet_topic_prop.style.hide_index().background_gradient(subset='Proportion',cmap='Blues')"
   ]
  },
  {
   "cell_type": "markdown",
   "metadata": {},
   "source": [
    "## Topic Comparison"
   ]
  },
  {
   "cell_type": "markdown",
   "metadata": {},
   "source": [
    "#### Verification"
   ]
  },
  {
   "cell_type": "markdown",
   "metadata": {},
   "source": [
    "We can verify the relevance of the keywords generated from our topic models and the known labels against the actual text. For example, with the first text of the corpus labeled with the `trade` category the related topic keywords for the topic models are:\n",
    "\n",
    "- Gensim: 'say', 'year', 'rate', 'rise', 'quarter', 'expect', 'growth', 'first', 'earning', 'increase' (topic 0: 45% of articles are related)\n",
    "- MALLET: 'trade', 'official', 'government', 'japanese', 'country', 'import', 'foreign', 'industry', 'economic', 'policy' (topic 11: 4.8% of articles are related)\n",
    "\n",
    "This tells us that the MALLET model is able to discern topics particularly related to japanese trade. In the case of the article below, this is spot on as is evident from the first couple of sentences. On the other hand, the Gensim model groups this article in a topic not specific to Japan.\n",
    "\n",
    "Across Gensim topics, there is a notable repetition of the word 'say'. This is likely the result of articles quoting sources or referencing others; however, given it does not contribute specific information to each topic and is common across them it should have been filtered out by the topic model."
   ]
  },
  {
   "cell_type": "code",
   "execution_count": 37,
   "metadata": {},
   "outputs": [],
   "source": [
    "# Create summary dataframe with keywords from each model vs known categories\n",
    "summary_df = pd.concat([df['Category'], gensim_topic_df['Keywords'], mallet_topic_df['Keywords']], axis=1, sort=False)\n",
    "summary_df.columns = ['Reuters categories','Gensim keywords','MALLET keywords']"
   ]
  },
  {
   "cell_type": "code",
   "execution_count": 38,
   "metadata": {
    "scrolled": true
   },
   "outputs": [
    {
     "data": {
      "text/html": [
       "<div>\n",
       "<style scoped>\n",
       "    .dataframe tbody tr th:only-of-type {\n",
       "        vertical-align: middle;\n",
       "    }\n",
       "\n",
       "    .dataframe tbody tr th {\n",
       "        vertical-align: top;\n",
       "    }\n",
       "\n",
       "    .dataframe thead th {\n",
       "        text-align: right;\n",
       "    }\n",
       "</style>\n",
       "<table border=\"1\" class=\"dataframe\">\n",
       "  <thead>\n",
       "    <tr style=\"text-align: right;\">\n",
       "      <th></th>\n",
       "      <th>Reuters categories</th>\n",
       "      <th>Gensim keywords</th>\n",
       "      <th>MALLET keywords</th>\n",
       "    </tr>\n",
       "  </thead>\n",
       "  <tbody>\n",
       "    <tr>\n",
       "      <th>0</th>\n",
       "      <td>[trade]</td>\n",
       "      <td>say, year, rate, rise, quarter, expect, growth...</td>\n",
       "      <td>trade, official, government, japanese, country...</td>\n",
       "    </tr>\n",
       "    <tr>\n",
       "      <th>1</th>\n",
       "      <td>[grain]</td>\n",
       "      <td>say, crop, year, deficit, soybean, estimate, l...</td>\n",
       "      <td>tonne, export, wheat, import, grain, crop, pro...</td>\n",
       "    </tr>\n",
       "    <tr>\n",
       "      <th>2</th>\n",
       "      <td>[crude, nat-gas]</td>\n",
       "      <td>say, year, oil, price, production, last, would...</td>\n",
       "      <td>oil, price, production, crude, increase, indus...</td>\n",
       "    </tr>\n",
       "    <tr>\n",
       "      <th>3</th>\n",
       "      <td>[corn, grain, rice, rubber, sugar, tin, trade]</td>\n",
       "      <td>say, year, rate, rise, quarter, expect, growth...</td>\n",
       "      <td>rise, fall, year, growth, increase, deficit, s...</td>\n",
       "    </tr>\n",
       "    <tr>\n",
       "      <th>4</th>\n",
       "      <td>[palm-oil, veg-oil]</td>\n",
       "      <td>say, trade, would, export, official, governmen...</td>\n",
       "      <td>tonne, export, wheat, import, grain, crop, pro...</td>\n",
       "    </tr>\n",
       "    <tr>\n",
       "      <th>...</th>\n",
       "      <td>...</td>\n",
       "      <td>...</td>\n",
       "      <td>...</td>\n",
       "    </tr>\n",
       "    <tr>\n",
       "      <th>10783</th>\n",
       "      <td>[interest, money-fx]</td>\n",
       "      <td>say, bank, market, rise, dollar, rate, dealer,...</td>\n",
       "      <td>rate, market, dollar, bank, exchange, currency...</td>\n",
       "    </tr>\n",
       "    <tr>\n",
       "      <th>10784</th>\n",
       "      <td>[earn]</td>\n",
       "      <td>say, year, rate, rise, quarter, expect, growth...</td>\n",
       "      <td>ct, loss, net, profit, dlrs, note, include, ml...</td>\n",
       "    </tr>\n",
       "    <tr>\n",
       "      <th>10785</th>\n",
       "      <td>[earn]</td>\n",
       "      <td>say, year, rate, rise, quarter, expect, growth...</td>\n",
       "      <td>ct, loss, net, profit, dlrs, note, include, ml...</td>\n",
       "    </tr>\n",
       "    <tr>\n",
       "      <th>10786</th>\n",
       "      <td>[earn]</td>\n",
       "      <td>say, company, share, offer, would, buy, stock,...</td>\n",
       "      <td>ct, loss, net, profit, dlrs, note, include, ml...</td>\n",
       "    </tr>\n",
       "    <tr>\n",
       "      <th>10787</th>\n",
       "      <td>[earn]</td>\n",
       "      <td>say, year, rate, rise, quarter, expect, growth...</td>\n",
       "      <td>price, agreement, meeting, producer, market, t...</td>\n",
       "    </tr>\n",
       "  </tbody>\n",
       "</table>\n",
       "<p>10788 rows × 3 columns</p>\n",
       "</div>"
      ],
      "text/plain": [
       "                                   Reuters categories  \\\n",
       "0                                             [trade]   \n",
       "1                                             [grain]   \n",
       "2                                    [crude, nat-gas]   \n",
       "3      [corn, grain, rice, rubber, sugar, tin, trade]   \n",
       "4                                 [palm-oil, veg-oil]   \n",
       "...                                               ...   \n",
       "10783                            [interest, money-fx]   \n",
       "10784                                          [earn]   \n",
       "10785                                          [earn]   \n",
       "10786                                          [earn]   \n",
       "10787                                          [earn]   \n",
       "\n",
       "                                         Gensim keywords  \\\n",
       "0      say, year, rate, rise, quarter, expect, growth...   \n",
       "1      say, crop, year, deficit, soybean, estimate, l...   \n",
       "2      say, year, oil, price, production, last, would...   \n",
       "3      say, year, rate, rise, quarter, expect, growth...   \n",
       "4      say, trade, would, export, official, governmen...   \n",
       "...                                                  ...   \n",
       "10783  say, bank, market, rise, dollar, rate, dealer,...   \n",
       "10784  say, year, rate, rise, quarter, expect, growth...   \n",
       "10785  say, year, rate, rise, quarter, expect, growth...   \n",
       "10786  say, company, share, offer, would, buy, stock,...   \n",
       "10787  say, year, rate, rise, quarter, expect, growth...   \n",
       "\n",
       "                                         MALLET keywords  \n",
       "0      trade, official, government, japanese, country...  \n",
       "1      tonne, export, wheat, import, grain, crop, pro...  \n",
       "2      oil, price, production, crude, increase, indus...  \n",
       "3      rise, fall, year, growth, increase, deficit, s...  \n",
       "4      tonne, export, wheat, import, grain, crop, pro...  \n",
       "...                                                  ...  \n",
       "10783  rate, market, dollar, bank, exchange, currency...  \n",
       "10784  ct, loss, net, profit, dlrs, note, include, ml...  \n",
       "10785  ct, loss, net, profit, dlrs, note, include, ml...  \n",
       "10786  ct, loss, net, profit, dlrs, note, include, ml...  \n",
       "10787  price, agreement, meeting, producer, market, t...  \n",
       "\n",
       "[10788 rows x 3 columns]"
      ]
     },
     "execution_count": 38,
     "metadata": {},
     "output_type": "execute_result"
    }
   ],
   "source": [
    "summary_df"
   ]
  },
  {
   "cell_type": "code",
   "execution_count": 40,
   "metadata": {},
   "outputs": [
    {
     "name": "stdout",
     "output_type": "stream",
     "text": [
      "ASIAN EXPORTERS FEAR DAMAGE FROM U.S.-JAPAN RIFT\n",
      "  Mounting trade friction between the\n",
      "  U.S. And Japan has raised fears among many of Asia's exporting\n",
      "  nations that the row could inflict far-reaching economic\n",
      "  damage, businessmen and officials said.\n",
      "      They told Reuter correspondents in Asian capitals a U.S.\n",
      "  Move against Japan might boost protectionist sentiment in the\n",
      "  U.S. And lead to curbs on American imports of their products.\n",
      "      But some exporters said that while the conflict would hurt\n",
      "  them in the long-run, in the short-term Tokyo's loss might be\n",
      "  their gain.\n",
      "      The U.S. Has said it will impose 300 mln dlrs of tariffs on\n",
      "  imports of Japanese electronics goods on April 17, in\n",
      "  retaliation for Japan's alleged failure to stick to a pact not\n",
      "  to sell semiconductors on world markets at below cost.\n",
      "      Unofficial Japanese estimates put the impact of the tariffs\n",
      "  at 10 billion dlrs and spokesmen for major electronics firms\n",
      "  said they would virtually halt exports\n"
     ]
    }
   ],
   "source": [
    "print(df.iloc[0,3][:1000])"
   ]
  },
  {
   "cell_type": "markdown",
   "metadata": {},
   "source": [
    "#### Best Model"
   ]
  },
  {
   "cell_type": "markdown",
   "metadata": {},
   "source": [
    "Based on the maximum coherence achieved of 0.527, we select the optimal MALLET model for further use in network analysis in the following section. The occurrence of the word 'say' across most Gensim topic keywords make us suspicious of its power of discernment and further justifies our choice of the MALLET model."
   ]
  },
  {
   "cell_type": "code",
   "execution_count": 41,
   "metadata": {},
   "outputs": [],
   "source": [
    "# Print chosen dataframe to csv file\n",
    "mallet_topic_df.to_csv('mallet_df.csv', index=False) "
   ]
  },
  {
   "cell_type": "markdown",
   "metadata": {},
   "source": [
    "## Network Analysis"
   ]
  },
  {
   "cell_type": "markdown",
   "metadata": {},
   "source": [
    "- Expecting a disconnected graph with num_topics central nodes with edges to articles. \n",
    "- Get the top 5 largest subgraphs which represent the most common topics (degree centrality)\n",
    "- From the most popular topics, suggest next 5 articles to read by looking at edge weight (likelyhood)."
   ]
  },
  {
   "cell_type": "code",
   "execution_count": null,
   "metadata": {},
   "outputs": [],
   "source": [
    "# Read dataframe from csv file and build a graph from it."
   ]
  },
  {
   "cell_type": "code",
   "execution_count": null,
   "metadata": {},
   "outputs": [],
   "source": [
    "import networkx as nx\n",
    "import networkx.algorithms.bipartite as bipartite\n",
    "import matplotlib.pyplot as plt\n",
    "import matplotlib.colors as colors"
   ]
  },
  {
   "cell_type": "code",
   "execution_count": null,
   "metadata": {},
   "outputs": [],
   "source": [
    "G_full = nx.from_pandas_edgelist(art_topic_keywords,'Article','Best Topic')\n",
    "G_full.graph['name'] = 'Full bipartite graph'\n",
    "print(nx.info(G_full))"
   ]
  },
  {
   "cell_type": "code",
   "execution_count": null,
   "metadata": {},
   "outputs": [],
   "source": [
    "s = 'Graph is bipartite: {} \\nGraph is connected: {} \\nNumber of connected components {}'\n",
    "print(s.format(nx.is_bipartite(G_full), nx.is_connected(G_full), nx.number_connected_components(G_full)))"
   ]
  },
  {
   "cell_type": "code",
   "execution_count": null,
   "metadata": {},
   "outputs": [],
   "source": [
    "# Identify connected components with greater than five nodes\n",
    "sorted([len(c) for c in nx.connected_components(G_full) if len(c) > 5], reverse=True)"
   ]
  },
  {
   "cell_type": "code",
   "execution_count": null,
   "metadata": {},
   "outputs": [],
   "source": [
    "# Function to extract subgraphs\n",
    "def get_subgraphs(graph):\n",
    "    \n",
    "    subgraphs = [(graph.subgraph(c),len(c)) for c in nx.connected_components(graph) if len(c) > 5] # networkx 2.4\n",
    "    return sorted(subgraphs, key = lambda x: x[1], reverse=True)\n",
    "\n",
    "# Create connected subgraphs and confirm\n",
    "subgraphs = get_subgraphs(G_full)\n",
    "print(*subgraphs[:5], '\\n', sep='\\n')\n",
    "\n",
    "# Isolate the largest subgraph\n",
    "largest_subg = subgraphs[0][0]\n",
    "largest_subg.graph['name'] = 'Main bipartite subgraph'\n",
    "print(nx.info(largest_subg), \"\\n\")\n",
    "\n",
    "# Verify largest subgraph is bipartite\n",
    "G = largest_subg\n",
    "print('Graph is bipartite: {} \\nGraph is connected: {} \\n'.format(nx.is_bipartite(G), nx.is_connected(G)))"
   ]
  },
  {
   "cell_type": "code",
   "execution_count": null,
   "metadata": {},
   "outputs": [],
   "source": [
    "# Source node labels\n",
    "graph = G\n",
    "articles, topics = nx.bipartite.sets(graph)\n",
    "\n",
    "# Plot graph by node type\n",
    "# Apply plot settings\n",
    "plt.rcParams.update({'font.size': 18})\n",
    "plt.rcParams['figure.figsize'] = (24,12)\n",
    "plt.axis('off')\n",
    "pos = nx.spring_layout(graph)\n",
    "nx.draw_networkx_nodes(graph, pos, nodelist=articles, node_color='red', alpha = 0.4)\n",
    "nx.draw_networkx_nodes(graph, pos, nodelist=topics, node_color='blue', alpha = 0.4, node_size = 1000)\n",
    "nx.draw_networkx_edges(graph, pos, alpha = 0.4)\n",
    "nx.draw_networkx_labels(graph, pos);"
   ]
  },
  {
   "cell_type": "markdown",
   "metadata": {},
   "source": [
    "## Conclusion"
   ]
  },
  {
   "cell_type": "markdown",
   "metadata": {},
   "source": [
    "### Summary\n",
    "\n",
    "In this project we combined techniques from topic modeling to identify the topics of nearly 11,000 articles in the Reuters news corpus, and analyzed those topics to see how articles are thematically related to one another.\n",
    "\n",
    "We used NLTK, Spacy, Gensim, and MALLET to generate and tuned two unsupervised models, optimizing the number of topics - a key hyperparameter - in our models based on topic coherence (Gensim: 9 topics, .44 coherence / MALLET: 14 topics, .537 coherence).\n",
    "\n",
    "We compared the topics generated by the Gensim and MALLET models - with each other, and against the 90 labeled categories included in the Reuters corpus. MALLET's topics offered more precise and relevant keywords and were observably more thematically coherent. They also did not lead to the long tail of category classification, in which 28 topics comprised less than .1% of the corpus.\n",
    "\n",
    "We chose the MALLET model over Gensim model given its higher coherence and tighter, more interpretable topics. Employing MALLET was a stretch goal for this project, and the extra proved worth it.\n",
    "\n",
    "(Vanita to edit based on her findings) We used graph visualization and degree centrality to identify the most dominant topic in the entire corpus. From the weighted edges of the graph, we selected the top five most similar articles as ranked by their likelihood distribution.\n",
    "\n",
    "### Additional Findings\n",
    "\n",
    "Like other machine learning models, topic models can be evaluted based on hold-out likelihood - in this case, the models' ability to predict words in a given unseen text based on topics. However, the predictive power of a metric like perplexity can prioritize model complexity over interpretability. (['Applications of Topic Models'](https://mimno.infosci.cornell.edu/papers/2017_fntir_tm_applications.pdf)). \n",
    "\n",
    "Interpretation is a key requirement for many topic models use cases. The concept of topic coherence is premised on the idea that word co-occurence statistics demonstrate relationships between words, and that this signals thematic coherence of a topic (['Interpretable Machine Learning: Lessons from Topic Modeling'](https://cmci.colorado.edu/~mpaul/files/chi16hcml_interpretable.pdf). In this project, our qualitative preference for MALLET over Gensim keywords corresponds to a higher measure of coherence.\n",
    "\n",
    "While we used coherence to tune the model, the literature suggests that human evaluation and feedback can also be important, and that crowdsouced consensus can be used to calibrate model performance. (['In Search of Coherence and Consensus: Measuring the Interpretability of Staistical Topics'](http://www.jmlr.org/papers/volume18/17-069/17-069.pdf)). We can envision validating whether an LDA-generated topic or a labeled category is preferable to identify the theme of an article by testing with human subjects.\n",
    "\n",
    "### Potential Future Avenues\n",
    "\n",
    "- Improve the performance of topic modeling using provided labeling article topic labels using an supervised implementation supporting multiple labels ([LLDA](http://www.mimno.org/articles/labelsandpatterns/))\n",
    "- Consider implementing an HDP model to use posterior inference to guide the number of topics. ([Hierarchical Dirichlect Process (HDP)](https://medium.com/square-corner-blog/topic-modeling-optimizing-for-human-interpretability-48a81f6ce0ed))\n",
    "- Alternatively, to perform network analysis of the relationships between authors and topics, consider replacing the Reuters corpus with another source of news articles with authorship labels\n",
    "- Consider implementing a community detection approach to topic modeling like Hierarchical Stochastic Block Modeling ([hSBM](https://advances.sciencemag.org/content/4/7/eaaq1360))"
   ]
  },
  {
   "cell_type": "markdown",
   "metadata": {},
   "source": [
    "## YouTube"
   ]
  },
  {
   "cell_type": "markdown",
   "metadata": {},
   "source": [
    "First presenter (Jeremy O'Brien):"
   ]
  },
  {
   "cell_type": "code",
   "execution_count": 2,
   "metadata": {},
   "outputs": [
    {
     "data": {
      "text/html": [
       "\n",
       "        <iframe\n",
       "            width=\"400\"\n",
       "            height=\"300\"\n",
       "            src=\"https://www.youtube.com/embed//66il-Xy0CNw\"\n",
       "            frameborder=\"0\"\n",
       "            allowfullscreen\n",
       "        ></iframe>\n",
       "        "
      ],
      "text/plain": [
       "<IPython.lib.display.YouTubeVideo at 0x2734b810988>"
      ]
     },
     "execution_count": 2,
     "metadata": {},
     "output_type": "execute_result"
    }
   ],
   "source": [
    "YouTubeVideo('/66il-Xy0CNw')"
   ]
  },
  {
   "cell_type": "markdown",
   "metadata": {},
   "source": [
    "Second presenter (Mael Illien):"
   ]
  },
  {
   "cell_type": "code",
   "execution_count": 3,
   "metadata": {},
   "outputs": [
    {
     "data": {
      "image/jpeg": "[encoded data removed]",
      "text/html": [
       "\n",
       "        <iframe\n",
       "            width=\"400\"\n",
       "            height=\"300\"\n",
       "            src=\"https://www.youtube.com/embed/Yh7Tex2Im9s\"\n",
       "            frameborder=\"0\"\n",
       "            allowfullscreen\n",
       "        ></iframe>\n",
       "        "
      ],
      "text/plain": [
       "<IPython.lib.display.YouTubeVideo at 0x273530fdc48>"
      ]
     },
     "execution_count": 3,
     "metadata": {},
     "output_type": "execute_result"
    }
   ],
   "source": [
    "YouTubeVideo('Yh7Tex2Im9s')"
   ]
  },
  {
   "cell_type": "markdown",
   "metadata": {},
   "source": [
    "Third presenter (Vanita Thompson):"
   ]
  },
  {
   "cell_type": "code",
   "execution_count": null,
   "metadata": {},
   "outputs": [],
   "source": [
    "YouTubeVideo('')"
   ]
  },
  {
   "cell_type": "markdown",
   "metadata": {},
   "source": [
    "## Appendix"
   ]
  },
  {
   "cell_type": "markdown",
   "metadata": {},
   "source": [
    "### pyLDAvis Topic Prevalence and Distribution \n",
    "\n",
    "In this visualization, we can analyze saliency (how much the term tells you about the topic), relevance (a weighted average of the probability of the word given the topic and the word given the topic normalized by the probability of the topic). The size of the bubble indicates the importance of the topics, relative to the data.\n",
    "\n",
    "Unfortunately, this visualization only works on the gensim model but it is a great tool for exploration of the topic model. "
   ]
  },
  {
   "cell_type": "code",
   "execution_count": 42,
   "metadata": {},
   "outputs": [
    {
     "ename": "NameError",
     "evalue": "name 'gensim_optimal_model' is not defined",
     "output_type": "error",
     "traceback": [
      "\u001b[0;31m---------------------------------------------------------------------------\u001b[0m",
      "\u001b[0;31mNameError\u001b[0m                                 Traceback (most recent call last)",
      "\u001b[0;32m<ipython-input-42-082f47e74569>\u001b[0m in \u001b[0;36m<module>\u001b[0;34m\u001b[0m\n\u001b[1;32m      1\u001b[0m \u001b[0;31m# Visualize the topics\u001b[0m\u001b[0;34m\u001b[0m\u001b[0;34m\u001b[0m\u001b[0;34m\u001b[0m\u001b[0m\n\u001b[1;32m      2\u001b[0m \u001b[0mpyLDAvis\u001b[0m\u001b[0;34m.\u001b[0m\u001b[0menable_notebook\u001b[0m\u001b[0;34m(\u001b[0m\u001b[0;34m)\u001b[0m\u001b[0;34m\u001b[0m\u001b[0;34m\u001b[0m\u001b[0m\n\u001b[0;32m----> 3\u001b[0;31m \u001b[0mvis\u001b[0m \u001b[0;34m=\u001b[0m \u001b[0mpyLDAvis\u001b[0m\u001b[0;34m.\u001b[0m\u001b[0mgensim\u001b[0m\u001b[0;34m.\u001b[0m\u001b[0mprepare\u001b[0m\u001b[0;34m(\u001b[0m\u001b[0mgensim_optimal_model\u001b[0m\u001b[0;34m,\u001b[0m \u001b[0mcorpus\u001b[0m\u001b[0;34m,\u001b[0m \u001b[0mid2word\u001b[0m\u001b[0;34m)\u001b[0m\u001b[0;34m\u001b[0m\u001b[0;34m\u001b[0m\u001b[0m\n\u001b[0m\u001b[1;32m      4\u001b[0m \u001b[0mvis\u001b[0m\u001b[0;34m\u001b[0m\u001b[0;34m\u001b[0m\u001b[0m\n",
      "\u001b[0;31mNameError\u001b[0m: name 'gensim_optimal_model' is not defined"
     ]
    }
   ],
   "source": [
    "# Visualize the topics\n",
    "pyLDAvis.enable_notebook()\n",
    "vis = pyLDAvis.gensim.prepare(gs_optimal_model, corpus, id2word)\n",
    "vis"
   ]
  },
  {
   "cell_type": "markdown",
   "metadata": {},
   "source": [
    "## References"
   ]
  },
  {
   "cell_type": "markdown",
   "metadata": {},
   "source": [
    "### Topic Modeling\n",
    "\n",
    "- Definition: https://en.wikipedia.org/wiki/Topic_mode\n",
    "- Gibbs EM (paper): http://dirichlet.net/pdf/wallach06topic.pdf \n",
    "- Tutorial (R): https://cfss.uchicago.edu/notes/topic-modeling/\n",
    "- Bioinformatic applications: https://springerplus.springeropen.com/articles/10.1186/s40064-016-3252-8\n",
    "- Applications: https://mimno.infosci.cornell.edu/papers/2017_fntir_tm_applications.pdf\n",
    "- Phrase and topic discovery for IR (paper): https://people.cs.umass.edu/~mccallum/papers/tng-icdm07.pdf\n",
    "- Example: https://hookedondata.org/topic-modeling-the-new-york-times-and-trump/\n",
    "\n",
    "### LDA (Latent Dirichlet Allocation)\n",
    "\n",
    "- Defintiion: https://en.wikipedia.org/wiki/Latent_Dirichlet_allocation\n",
    "- Definition: https://en.wikipedia.org/wiki/Dirichlet_distribution\n",
    "- Tutorial: https://medium.com/@lettier/how-does-lda-work-ill-explain-using-emoji-108abf40fa7d\n",
    "- Tutorial: https://towardsdatascience.com/light-on-math-machine-learning-intuitive-guide-to-latent-dirichlet-allocation-437c81220158\n",
    "- Tutorial with pyLDAviz: https://medium.com/@soorajsubrahmannian/extracting-hidden-topics-in-a-corpus-55b2214fc17d\n",
    "- Training: https://markroxor.github.io/gensim/static/notebooks/lda_training_tips.html\n",
    "- Tuning: https://www.thoughtvector.io/blog/lda-alpha-and-beta-parameters-the-intuition/\n",
    "- Tuning: https://towardsdatascience.com/evaluate-topic-model-in-python-latent-dirichlet-allocation-lda-7d57484bb5d0\n",
    "- Importance of priors (paper): http://dirichlet.net/pdf/wallach09rethinking.pdf\n",
    "\n",
    "### Perplexity, Coherence, Interpretability\n",
    "\n",
    "- Definition: https://en.wikipedia.org/wiki/Perplexity \n",
    "- Perplexity math: http://qpleple.com/perplexity-to-evaluate-topic-models/\n",
    "- Optimizing perplexity: https://cfss.uchicago.edu/notes/topic-modeling/ \n",
    "- Coherence, intrinsic / extrinsic measures and math: http://qpleple.com/topic-coherence-to-evaluate-topic-models/ \n",
    "- Automatic coherence evaluation (paper): https://mimno.infosci.cornell.edu/info6150/readings/N10-1012.pdf (automatic topic coherence evaluation)\n",
    "- Interpretability: https://cmci.colorado.edu/~mpaul/files/chi16hcml_interpretable.pdf (interpretability)\n",
    "- Interpretability: https://www.researchgate.net/publication/327888131_Four_Keys_to_Topic_Interpretability_in_Topic_Modeling_7th_International_Conference_AINL_2018_St_Petersburg_Russia_October_17-19_2018_Proceedings\n",
    "- Optimizing interpretability: https://medium.com/square-corner-blog/topic-modeling-optimizing-for-human-interpretability-48a81f6ce0ed\n",
    "- Interpretability (paper): https://papers.nips.cc/paper/3700-reading-tea-leaves-how-humans-interpret-topic-models.pdf\n",
    "- Consensus (paper): http://www.jmlr.org/papers/volume18/17-069/17-069.pdf\n",
    "- Gensim cohernece function: https://radimrehurek.com/gensim/models/coherencemodel.html\n",
    "\n",
    "### Gensim (Generate Similar)\n",
    "\n",
    "- Gensim overview: https://radimrehurek.com/gensim/about.html\n",
    "- LDA model: https://radimrehurek.com/gensim/models/ldamodel.html\n",
    "- Tutorial: https://stackabuse.com/python-for-nlp-working-with-the-gensim-library-part-2/\n",
    "- Tutorial: https://www.machinelearningplus.com/nlp/topic-modeling-gensim-python/\n",
    "- Tutorial https://www.machinelearningplus.com/nlp/topic-modeling-visualization-how-to-present-results-lda-models/\n",
    "- Tutorial: https://www.thinkinfi.com/2019/08/LDA-Gensim-Python.html\n",
    "- Tutorial: https://towardsdatascience.com/topic-modelling-in-python-with-nltk-and-gensim-4ef03213cd21\n",
    "\n",
    "### Spacy\n",
    "\n",
    "- Overview: https://spacy.io/\n",
    "- Code repository: https://github.com/explosion/spacy-models\n",
    "- Tutorial: https://stackabuse.com/python-for-nlp-tokenization-stemming-and-lemmatization-with-spacy-library/\n",
    "- Tutorial: https://medium.com/@AravindR07/nlp-using-spacy-and-topic-modeling-using-gensim-python-42c4574830d\n",
    "- Tutorial: https://towardsdatascience.com/building-a-topic-modeling-pipeline-with-spacy-and-gensim-c5dc03ffc619\n",
    "\n",
    "### MALLET (MAchine Learning for LanguagE Toolkit\n",
    "\n",
    "- Overview: http://mallet.cs.umass.edu/topics.php\n",
    "- Gensim wrapper: https://radimrehurek.com/gensim/models/wrappers/ldamallet.html\n",
    "- Code repository: https://github.com/ANRChapitres/topic_modelling_mallet\n",
    "- Tutorial: https://www.machinelearningplus.com/nlp/topic-modeling-visualization-how-to-present-results-lda-models/\n",
    "\n",
    "\n",
    "### Text Network Analysis\n",
    "\n",
    "- Topic model network approach (paper): https://advances.sciencemag.org/content/4/7/eaaq1360\n",
    "- Text network analysis (paper): https://noduslabs.com/wp-content/uploads/2019/06/InfraNodus-Paranyushkin-WWW19-Conference.pdf\n",
    "- Community detection code repository: https://github.com/michal-pikusa/text-network-analysis\n",
    "- hSBM code repository: https://github.com/martingerlach/hSB_Topicmodel/blob/master/TopSBM-tutorial.ipynb\n",
    "\n",
    "### Other Methods\n",
    "\n",
    "- Labelled LDA (LLDA): http://www.mimno.org/articles/labelsandpatterns/\n",
    "- Hierarchical Dirichlet Process (HDP): http://mlg.eng.cam.ac.uk/tutorials/07/ywt.pdf\n",
    "- Hierarchical Stochastic Block Models (hSBM): https://github.com/martingerlach/hSBM_Topicmodel"
   ]
  },
  {
   "cell_type": "code",
   "execution_count": null,
   "metadata": {},
   "outputs": [],
   "source": [
    "\n"
   ]
  }
 ],
 "metadata": {
  "kernelspec": {
   "display_name": "Python 3",
   "language": "python",
   "name": "python3"
  },
  "language_info": {
   "codemirror_mode": {
    "name": "ipython",
    "version": 3
   },
   "file_extension": ".py",
   "mimetype": "text/x-python",
   "name": "python",
   "nbconvert_exporter": "python",
   "pygments_lexer": "ipython3",
   "version": "3.7.7"
  }
 },
 "nbformat": 4,
 "nbformat_minor": 4
}
