{
 "cells": [
  {
   "cell_type": "markdown",
   "metadata": {},
   "source": [
    "# DATA 620 - Final Project Proposal\n",
    "\n",
    "Jeremy OBrien, Mael Illien, Vanita Thompson"
   ]
  },
  {
   "cell_type": "markdown",
   "metadata": {},
   "source": [
    "* Your proposal should describe at a high level what you’re seeking to accomplish, and your motivation for performing this analysis. A guiding question or hypothesis to test is one good way to start. If you are going to work in a small group (encouraged!), you should also list your partners’ names. \n",
    "* You should briefly describe your data sources, plan for doing the work, and up front concerns. If you are working in a group, please describe the roles and responsibilities of each group member.\n",
    "* We’ll treat this proposal as a planning document, not a blue print containing “firm, fixed requirements.”"
   ]
  },
  {
   "cell_type": "markdown",
   "metadata": {},
   "source": [
    "### Some Resources (for us)\n",
    "- https://noduslabs.com/cases/tutorial-lda-text-mining-network-analysis/\n",
    "- https://github.com/michal-pikusa/text-network-analysis\n",
    "- https://github.com/martingerlach/hSBM_Topicmodel/blob/master/TopSBM-tutorial.ipynb\n",
    "- https://advances.sciencemag.org/content/4/7/eaaq1360.full"
   ]
  },
  {
   "cell_type": "code",
   "execution_count": null,
   "metadata": {},
   "outputs": [],
   "source": []
  }
 ],
 "metadata": {
  "kernelspec": {
   "display_name": "Python 3",
   "language": "python",
   "name": "python3"
  },
  "language_info": {
   "codemirror_mode": {
    "name": "ipython",
    "version": 3
   },
   "file_extension": ".py",
   "mimetype": "text/x-python",
   "name": "python",
   "nbconvert_exporter": "python",
   "pygments_lexer": "ipython3",
   "version": "3.7.7"
  }
 },
 "nbformat": 4,
 "nbformat_minor": 4
}
