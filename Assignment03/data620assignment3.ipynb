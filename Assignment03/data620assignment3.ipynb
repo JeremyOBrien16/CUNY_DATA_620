{
 "cells": [
  {
   "cell_type": "markdown",
   "metadata": {},
   "source": [
    "# DATA 620 - Assignment 3"
   ]
  },
  {
   "cell_type": "code",
   "execution_count": null,
   "metadata": {},
   "outputs": [],
   "source": []
  },
  {
   "cell_type": "code",
   "execution_count": 2,
   "metadata": {},
   "outputs": [
    {
     "name": "stdout",
     "output_type": "stream",
     "text": [
      "Requirement already satisfied: neo4j in /usr/local/lib/python3.7/site-packages (1.7.6)\n",
      "Requirement already satisfied: neobolt~=1.7.15 in /usr/local/lib/python3.7/site-packages (from neo4j) (1.7.17)\n",
      "Requirement already satisfied: neotime~=1.7.1 in /usr/local/lib/python3.7/site-packages (from neo4j) (1.7.4)\n",
      "Requirement already satisfied: pytz in /usr/local/lib/python3.7/site-packages (from neotime~=1.7.1->neo4j) (2019.3)\n",
      "Requirement already satisfied: six in /usr/local/lib/python3.7/site-packages (from neotime~=1.7.1->neo4j) (1.10.0)\n"
     ]
    }
   ],
   "source": [
    "!pip install neo4j"
   ]
  },
  {
   "cell_type": "code",
   "execution_count": 7,
   "metadata": {},
   "outputs": [],
   "source": [
    "from neo4j import GraphDatabase\n",
    "from neo4jconfig import neo4j_auth"
   ]
  },
  {
   "cell_type": "code",
   "execution_count": 8,
   "metadata": {},
   "outputs": [],
   "source": [
    "gdb = GraphDatabase.driver(uri=neo4j_auth['uri'],auth=(neo4j_auth['user'],neo4j_auth['password']), encrypted=False)\n",
    "session = gdb.session()"
   ]
  },
  {
   "cell_type": "code",
   "execution_count": 9,
   "metadata": {},
   "outputs": [
    {
     "name": "stdout",
     "output_type": "stream",
     "text": [
      "<Record x=<Node id=0 labels={'Movie'} properties={'title': 'The Matrix', 'tagline': 'Welcome to the Real World', 'released': 1999}>>\n",
      "<Record x=<Node id=1 labels={'Person'} properties={'name': 'Keanu Reeves', 'born': 1964}>>\n",
      "<Record x=<Node id=2 labels={'Person'} properties={'name': 'Carrie-Anne Moss', 'born': 1967}>>\n",
      "<Record x=<Node id=3 labels={'Person'} properties={'name': 'Laurence Fishburne', 'born': 1961}>>\n",
      "<Record x=<Node id=4 labels={'Person'} properties={'name': 'Hugo Weaving', 'born': 1960}>>\n",
      "<Record x=<Node id=5 labels={'Person'} properties={'name': 'Andy Wachowski', 'born': 1967}>>\n",
      "<Record x=<Node id=6 labels={'Person'} properties={'name': 'Lana Wachowski', 'born': 1965}>>\n",
      "<Record x=<Node id=7 labels={'Person'} properties={'name': 'Joel Silver', 'born': 1952}>>\n",
      "<Record x=<Node id=8 labels={'Person'} properties={'name': 'Emil Eifrem', 'born': 1978}>>\n",
      "<Record x=<Node id=9 labels={'Movie'} properties={'title': 'The Matrix Reloaded', 'tagline': 'Free your mind', 'released': 2003}>>\n"
     ]
    }
   ],
   "source": [
    "q1 = \"MATCH (x) return (x) LIMIT 10\"\n",
    "nodes = session.run(q1)\n",
    "\n",
    "for node in nodes:\n",
    "    print(node)"
   ]
  },
  {
   "cell_type": "code",
   "execution_count": null,
   "metadata": {},
   "outputs": [],
   "source": []
  }
 ],
 "metadata": {
  "kernelspec": {
   "display_name": "Python 3",
   "language": "python",
   "name": "python3"
  },
  "language_info": {
   "codemirror_mode": {
    "name": "ipython",
    "version": 3
   },
   "file_extension": ".py",
   "mimetype": "text/x-python",
   "name": "python",
   "nbconvert_exporter": "python",
   "pygments_lexer": "ipython3",
   "version": "3.7.7"
  }
 },
 "nbformat": 4,
 "nbformat_minor": 4
}
