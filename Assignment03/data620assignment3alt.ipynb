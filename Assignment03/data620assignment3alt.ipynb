{
 "cells": [
  {
   "cell_type": "markdown",
   "metadata": {},
   "source": [
    "# DATA 620 - Assignment 3 Alt"
   ]
  },
  {
   "cell_type": "markdown",
   "metadata": {},
   "source": [
    "by: Jeremy OBrien and Mael Illien"
   ]
  },
  {
   "cell_type": "markdown",
   "metadata": {},
   "source": [
    "Load a graph database of your choosing from a text file or other source. If you take a large network dataset from the web (such as from Stanford Large Network Dataset Collection (https://snap.stanford.edu/data/)), please feel free at this point to load just a small subset of the nodes and edges.\n",
    "\n",
    "Create basic analysis on the graph, including the graph’s diameter, and at least one other metric of your choosing. You may either code the functions by hand (to build your intuition and insight), or use functions in an existing package.\n",
    "\n",
    "Use a visualization tool of your choice (Neo4j, Gephi, etc.) to display information. Please record a short video (~ 5 minutes), and submit a link to the video in advance of our meet-up."
   ]
  },
  {
   "cell_type": "code",
   "execution_count": null,
   "metadata": {},
   "outputs": [],
   "source": [
    "import os\n",
    "import random\n",
    "import numpy as np\n",
    "import pandas as pd\n",
    "import networkx as nx\n",
    "import matplotlib.pyplot as plt"
   ]
  },
  {
   "cell_type": "markdown",
   "metadata": {},
   "source": [
    "Data sourced from: https://snap.stanford.edu/data/soc-sign-bitcoin-otc.html"
   ]
  },
  {
   "cell_type": "code",
   "execution_count": null,
   "metadata": {},
   "outputs": [],
   "source": [
    "# Import data\n",
    "url = 'https://raw.githubusercontent.com/JeremyOBrien16/CUNY_DATA_620/master/Assignment03/soc-sign-bitcoinotc.csv'\n",
    "ratings = pd.read_csv(url, names=['SOURCE','TARGET','RATING','TIMESTAMP'] )\n",
    "ratings"
   ]
  },
  {
   "cell_type": "markdown",
   "metadata": {},
   "source": [
    "#### Load data into a graph"
   ]
  },
  {
   "cell_type": "code",
   "execution_count": 20,
   "metadata": {},
   "outputs": [],
   "source": [
    "data = open('soc-sign-bitcoinotc.csv', 'r')\n",
    "graphtype = nx.DiGraph()\n",
    "graph = nx.parse_edgelist(data, \n",
    "                      delimiter=',', \n",
    "                      create_using=graphtype,\n",
    "                      nodetype=int, \n",
    "                      data=(('weight', float),('time', float)))"
   ]
  },
  {
   "cell_type": "code",
   "execution_count": 21,
   "metadata": {},
   "outputs": [
    {
     "data": {
      "text/plain": "5881"
     },
     "execution_count": 21,
     "metadata": {},
     "output_type": "execute_result"
    }
   ],
   "source": [
    "len(graph.nodes)"
   ]
  },
  {
   "cell_type": "code",
   "execution_count": 22,
   "metadata": {},
   "outputs": [
    {
     "data": {
      "text/plain": "35592"
     },
     "execution_count": 22,
     "metadata": {},
     "output_type": "execute_result"
    }
   ],
   "source": [
    "len(graph.edges)"
   ]
  },
  {
   "cell_type": "code",
   "execution_count": 6,
   "metadata": {},
   "outputs": [],
   "source": [
    "# Expand on this graph as needed"
   ]
  },
  {
   "cell_type": "code",
   "execution_count": 6,
   "metadata": {},
   "outputs": [],
   "source": []
  },
  {
   "cell_type": "code",
   "execution_count": 6,
   "metadata": {},
   "outputs": [],
   "source": []
  },
  {
   "cell_type": "markdown",
   "metadata": {},
   "source": [
    "### Cypher Query Generation "
   ]
  },
  {
   "cell_type": "code",
   "execution_count": 23,
   "metadata": {},
   "outputs": [],
   "source": [
    "# Randomly sample 10 users\n",
    "unique_users = set(ratings['SOURCE']) # Identify unique users\n",
    "random.seed(620)\n",
    "ratings_subset = ratings[ratings['SOURCE'].isin(random.sample(unique_users, 10))]\n",
    "\n",
    "source_nodes = list(set(ratings_subset['SOURCE']))\n",
    "target_nodes = list(set(ratings_subset['TARGET']))\n",
    "all_nodes = source_nodes + target_nodes"
   ]
  },
  {
   "cell_type": "code",
   "execution_count": 24,
   "metadata": {},
   "outputs": [
    {
     "name": "stdout",
     "output_type": "stream",
     "text": [
      "10 29 39\n"
     ]
    }
   ],
   "source": [
    "print(len(source_nodes),len(target_nodes),len(all_nodes))"
   ]
  },
  {
   "cell_type": "code",
   "execution_count": 8,
   "metadata": {},
   "outputs": [],
   "source": []
  },
  {
   "cell_type": "code",
   "execution_count": 25,
   "metadata": {},
   "outputs": [
    {
     "data": {
      "text/plain": "       SOURCE  TARGET  RATING     TIMESTAMP\n1938      524     359       1  1.305165e+09\n3232      792     202       1  1.306982e+09\n3761      792       7       1  1.307310e+09\n5836     1331     882       4  1.310536e+09\n8912     1852    1771       1  1.331348e+09\n10158    1331    2072       5  1.337048e+09\n10162    2053    2073       2  1.337098e+09\n10249    2053      57       3  1.337532e+09\n10781    2053    1948       1  1.339424e+09\n10947    2053    1352       2  1.339965e+09\n10950    2053     545       2  1.339983e+09\n11673    2053    1719     -10  1.342287e+09\n11674    2053      61     -10  1.342287e+09\n13220    2053    1383     -10  1.346890e+09\n14310    2727    2028       2  1.349189e+09\n14606    2053    1331      -5  1.349874e+09\n18342    2053    1846     -10  1.360116e+09\n20273     792    2642       5  1.364520e+09\n21036    2053    3977       1  1.365544e+09\n21894    4141    2647       9  1.366725e+09\n24231    4485    4402       1  1.372390e+09\n25489    4638    4515       3  1.375474e+09\n25500    4638    1018       1  1.375485e+09\n25502    4638    2067       1  1.375485e+09\n25536    4638    4400       1  1.375582e+09\n27979    4886    4197       1  1.380654e+09\n29190    4886    3452       1  1.385195e+09\n29197    4886    4635       1  1.385230e+09\n29388    4886    5013       1  1.385621e+09",
      "text/html": "<div>\n<style scoped>\n    .dataframe tbody tr th:only-of-type {\n        vertical-align: middle;\n    }\n\n    .dataframe tbody tr th {\n        vertical-align: top;\n    }\n\n    .dataframe thead th {\n        text-align: right;\n    }\n</style>\n<table border=\"1\" class=\"dataframe\">\n  <thead>\n    <tr style=\"text-align: right;\">\n      <th></th>\n      <th>SOURCE</th>\n      <th>TARGET</th>\n      <th>RATING</th>\n      <th>TIMESTAMP</th>\n    </tr>\n  </thead>\n  <tbody>\n    <tr>\n      <th>1938</th>\n      <td>524</td>\n      <td>359</td>\n      <td>1</td>\n      <td>1.305165e+09</td>\n    </tr>\n    <tr>\n      <th>3232</th>\n      <td>792</td>\n      <td>202</td>\n      <td>1</td>\n      <td>1.306982e+09</td>\n    </tr>\n    <tr>\n      <th>3761</th>\n      <td>792</td>\n      <td>7</td>\n      <td>1</td>\n      <td>1.307310e+09</td>\n    </tr>\n    <tr>\n      <th>5836</th>\n      <td>1331</td>\n      <td>882</td>\n      <td>4</td>\n      <td>1.310536e+09</td>\n    </tr>\n    <tr>\n      <th>8912</th>\n      <td>1852</td>\n      <td>1771</td>\n      <td>1</td>\n      <td>1.331348e+09</td>\n    </tr>\n    <tr>\n      <th>10158</th>\n      <td>1331</td>\n      <td>2072</td>\n      <td>5</td>\n      <td>1.337048e+09</td>\n    </tr>\n    <tr>\n      <th>10162</th>\n      <td>2053</td>\n      <td>2073</td>\n      <td>2</td>\n      <td>1.337098e+09</td>\n    </tr>\n    <tr>\n      <th>10249</th>\n      <td>2053</td>\n      <td>57</td>\n      <td>3</td>\n      <td>1.337532e+09</td>\n    </tr>\n    <tr>\n      <th>10781</th>\n      <td>2053</td>\n      <td>1948</td>\n      <td>1</td>\n      <td>1.339424e+09</td>\n    </tr>\n    <tr>\n      <th>10947</th>\n      <td>2053</td>\n      <td>1352</td>\n      <td>2</td>\n      <td>1.339965e+09</td>\n    </tr>\n    <tr>\n      <th>10950</th>\n      <td>2053</td>\n      <td>545</td>\n      <td>2</td>\n      <td>1.339983e+09</td>\n    </tr>\n    <tr>\n      <th>11673</th>\n      <td>2053</td>\n      <td>1719</td>\n      <td>-10</td>\n      <td>1.342287e+09</td>\n    </tr>\n    <tr>\n      <th>11674</th>\n      <td>2053</td>\n      <td>61</td>\n      <td>-10</td>\n      <td>1.342287e+09</td>\n    </tr>\n    <tr>\n      <th>13220</th>\n      <td>2053</td>\n      <td>1383</td>\n      <td>-10</td>\n      <td>1.346890e+09</td>\n    </tr>\n    <tr>\n      <th>14310</th>\n      <td>2727</td>\n      <td>2028</td>\n      <td>2</td>\n      <td>1.349189e+09</td>\n    </tr>\n    <tr>\n      <th>14606</th>\n      <td>2053</td>\n      <td>1331</td>\n      <td>-5</td>\n      <td>1.349874e+09</td>\n    </tr>\n    <tr>\n      <th>18342</th>\n      <td>2053</td>\n      <td>1846</td>\n      <td>-10</td>\n      <td>1.360116e+09</td>\n    </tr>\n    <tr>\n      <th>20273</th>\n      <td>792</td>\n      <td>2642</td>\n      <td>5</td>\n      <td>1.364520e+09</td>\n    </tr>\n    <tr>\n      <th>21036</th>\n      <td>2053</td>\n      <td>3977</td>\n      <td>1</td>\n      <td>1.365544e+09</td>\n    </tr>\n    <tr>\n      <th>21894</th>\n      <td>4141</td>\n      <td>2647</td>\n      <td>9</td>\n      <td>1.366725e+09</td>\n    </tr>\n    <tr>\n      <th>24231</th>\n      <td>4485</td>\n      <td>4402</td>\n      <td>1</td>\n      <td>1.372390e+09</td>\n    </tr>\n    <tr>\n      <th>25489</th>\n      <td>4638</td>\n      <td>4515</td>\n      <td>3</td>\n      <td>1.375474e+09</td>\n    </tr>\n    <tr>\n      <th>25500</th>\n      <td>4638</td>\n      <td>1018</td>\n      <td>1</td>\n      <td>1.375485e+09</td>\n    </tr>\n    <tr>\n      <th>25502</th>\n      <td>4638</td>\n      <td>2067</td>\n      <td>1</td>\n      <td>1.375485e+09</td>\n    </tr>\n    <tr>\n      <th>25536</th>\n      <td>4638</td>\n      <td>4400</td>\n      <td>1</td>\n      <td>1.375582e+09</td>\n    </tr>\n    <tr>\n      <th>27979</th>\n      <td>4886</td>\n      <td>4197</td>\n      <td>1</td>\n      <td>1.380654e+09</td>\n    </tr>\n    <tr>\n      <th>29190</th>\n      <td>4886</td>\n      <td>3452</td>\n      <td>1</td>\n      <td>1.385195e+09</td>\n    </tr>\n    <tr>\n      <th>29197</th>\n      <td>4886</td>\n      <td>4635</td>\n      <td>1</td>\n      <td>1.385230e+09</td>\n    </tr>\n    <tr>\n      <th>29388</th>\n      <td>4886</td>\n      <td>5013</td>\n      <td>1</td>\n      <td>1.385621e+09</td>\n    </tr>\n  </tbody>\n</table>\n</div>"
     },
     "execution_count": 25,
     "metadata": {},
     "output_type": "execute_result"
    }
   ],
   "source": [
    "ratings_subset"
   ]
  },
  {
   "cell_type": "code",
   "execution_count": 26,
   "metadata": {},
   "outputs": [],
   "source": [
    "ratings_subset = ratings_subset.reset_index()"
   ]
  },
  {
   "cell_type": "code",
   "execution_count": 11,
   "metadata": {},
   "outputs": [
    {
     "data": {
      "text/plain": "    index  SOURCE  TARGET  RATING     TIMESTAMP\n0    1938     524     359       1  1.305165e+09\n1    3232     792     202       1  1.306982e+09\n2    3761     792       7       1  1.307310e+09\n3    5836    1331     882       4  1.310536e+09\n4    8912    1852    1771       1  1.331348e+09\n5   10158    1331    2072       5  1.337048e+09\n6   10162    2053    2073       2  1.337098e+09\n7   10249    2053      57       3  1.337532e+09\n8   10781    2053    1948       1  1.339424e+09\n9   10947    2053    1352       2  1.339965e+09\n10  10950    2053     545       2  1.339983e+09\n11  11673    2053    1719     -10  1.342287e+09\n12  11674    2053      61     -10  1.342287e+09\n13  13220    2053    1383     -10  1.346890e+09\n14  14310    2727    2028       2  1.349189e+09\n15  14606    2053    1331      -5  1.349874e+09\n16  18342    2053    1846     -10  1.360116e+09\n17  20273     792    2642       5  1.364520e+09\n18  21036    2053    3977       1  1.365544e+09\n19  21894    4141    2647       9  1.366725e+09\n20  24231    4485    4402       1  1.372390e+09\n21  25489    4638    4515       3  1.375474e+09\n22  25500    4638    1018       1  1.375485e+09\n23  25502    4638    2067       1  1.375485e+09\n24  25536    4638    4400       1  1.375582e+09\n25  27979    4886    4197       1  1.380654e+09\n26  29190    4886    3452       1  1.385195e+09\n27  29197    4886    4635       1  1.385230e+09\n28  29388    4886    5013       1  1.385621e+09",
      "text/html": "<div>\n<style scoped>\n    .dataframe tbody tr th:only-of-type {\n        vertical-align: middle;\n    }\n\n    .dataframe tbody tr th {\n        vertical-align: top;\n    }\n\n    .dataframe thead th {\n        text-align: right;\n    }\n</style>\n<table border=\"1\" class=\"dataframe\">\n  <thead>\n    <tr style=\"text-align: right;\">\n      <th></th>\n      <th>index</th>\n      <th>SOURCE</th>\n      <th>TARGET</th>\n      <th>RATING</th>\n      <th>TIMESTAMP</th>\n    </tr>\n  </thead>\n  <tbody>\n    <tr>\n      <th>0</th>\n      <td>1938</td>\n      <td>524</td>\n      <td>359</td>\n      <td>1</td>\n      <td>1.305165e+09</td>\n    </tr>\n    <tr>\n      <th>1</th>\n      <td>3232</td>\n      <td>792</td>\n      <td>202</td>\n      <td>1</td>\n      <td>1.306982e+09</td>\n    </tr>\n    <tr>\n      <th>2</th>\n      <td>3761</td>\n      <td>792</td>\n      <td>7</td>\n      <td>1</td>\n      <td>1.307310e+09</td>\n    </tr>\n    <tr>\n      <th>3</th>\n      <td>5836</td>\n      <td>1331</td>\n      <td>882</td>\n      <td>4</td>\n      <td>1.310536e+09</td>\n    </tr>\n    <tr>\n      <th>4</th>\n      <td>8912</td>\n      <td>1852</td>\n      <td>1771</td>\n      <td>1</td>\n      <td>1.331348e+09</td>\n    </tr>\n    <tr>\n      <th>5</th>\n      <td>10158</td>\n      <td>1331</td>\n      <td>2072</td>\n      <td>5</td>\n      <td>1.337048e+09</td>\n    </tr>\n    <tr>\n      <th>6</th>\n      <td>10162</td>\n      <td>2053</td>\n      <td>2073</td>\n      <td>2</td>\n      <td>1.337098e+09</td>\n    </tr>\n    <tr>\n      <th>7</th>\n      <td>10249</td>\n      <td>2053</td>\n      <td>57</td>\n      <td>3</td>\n      <td>1.337532e+09</td>\n    </tr>\n    <tr>\n      <th>8</th>\n      <td>10781</td>\n      <td>2053</td>\n      <td>1948</td>\n      <td>1</td>\n      <td>1.339424e+09</td>\n    </tr>\n    <tr>\n      <th>9</th>\n      <td>10947</td>\n      <td>2053</td>\n      <td>1352</td>\n      <td>2</td>\n      <td>1.339965e+09</td>\n    </tr>\n    <tr>\n      <th>10</th>\n      <td>10950</td>\n      <td>2053</td>\n      <td>545</td>\n      <td>2</td>\n      <td>1.339983e+09</td>\n    </tr>\n    <tr>\n      <th>11</th>\n      <td>11673</td>\n      <td>2053</td>\n      <td>1719</td>\n      <td>-10</td>\n      <td>1.342287e+09</td>\n    </tr>\n    <tr>\n      <th>12</th>\n      <td>11674</td>\n      <td>2053</td>\n      <td>61</td>\n      <td>-10</td>\n      <td>1.342287e+09</td>\n    </tr>\n    <tr>\n      <th>13</th>\n      <td>13220</td>\n      <td>2053</td>\n      <td>1383</td>\n      <td>-10</td>\n      <td>1.346890e+09</td>\n    </tr>\n    <tr>\n      <th>14</th>\n      <td>14310</td>\n      <td>2727</td>\n      <td>2028</td>\n      <td>2</td>\n      <td>1.349189e+09</td>\n    </tr>\n    <tr>\n      <th>15</th>\n      <td>14606</td>\n      <td>2053</td>\n      <td>1331</td>\n      <td>-5</td>\n      <td>1.349874e+09</td>\n    </tr>\n    <tr>\n      <th>16</th>\n      <td>18342</td>\n      <td>2053</td>\n      <td>1846</td>\n      <td>-10</td>\n      <td>1.360116e+09</td>\n    </tr>\n    <tr>\n      <th>17</th>\n      <td>20273</td>\n      <td>792</td>\n      <td>2642</td>\n      <td>5</td>\n      <td>1.364520e+09</td>\n    </tr>\n    <tr>\n      <th>18</th>\n      <td>21036</td>\n      <td>2053</td>\n      <td>3977</td>\n      <td>1</td>\n      <td>1.365544e+09</td>\n    </tr>\n    <tr>\n      <th>19</th>\n      <td>21894</td>\n      <td>4141</td>\n      <td>2647</td>\n      <td>9</td>\n      <td>1.366725e+09</td>\n    </tr>\n    <tr>\n      <th>20</th>\n      <td>24231</td>\n      <td>4485</td>\n      <td>4402</td>\n      <td>1</td>\n      <td>1.372390e+09</td>\n    </tr>\n    <tr>\n      <th>21</th>\n      <td>25489</td>\n      <td>4638</td>\n      <td>4515</td>\n      <td>3</td>\n      <td>1.375474e+09</td>\n    </tr>\n    <tr>\n      <th>22</th>\n      <td>25500</td>\n      <td>4638</td>\n      <td>1018</td>\n      <td>1</td>\n      <td>1.375485e+09</td>\n    </tr>\n    <tr>\n      <th>23</th>\n      <td>25502</td>\n      <td>4638</td>\n      <td>2067</td>\n      <td>1</td>\n      <td>1.375485e+09</td>\n    </tr>\n    <tr>\n      <th>24</th>\n      <td>25536</td>\n      <td>4638</td>\n      <td>4400</td>\n      <td>1</td>\n      <td>1.375582e+09</td>\n    </tr>\n    <tr>\n      <th>25</th>\n      <td>27979</td>\n      <td>4886</td>\n      <td>4197</td>\n      <td>1</td>\n      <td>1.380654e+09</td>\n    </tr>\n    <tr>\n      <th>26</th>\n      <td>29190</td>\n      <td>4886</td>\n      <td>3452</td>\n      <td>1</td>\n      <td>1.385195e+09</td>\n    </tr>\n    <tr>\n      <th>27</th>\n      <td>29197</td>\n      <td>4886</td>\n      <td>4635</td>\n      <td>1</td>\n      <td>1.385230e+09</td>\n    </tr>\n    <tr>\n      <th>28</th>\n      <td>29388</td>\n      <td>4886</td>\n      <td>5013</td>\n      <td>1</td>\n      <td>1.385621e+09</td>\n    </tr>\n  </tbody>\n</table>\n</div>"
     },
     "execution_count": 11,
     "metadata": {},
     "output_type": "execute_result"
    }
   ],
   "source": [
    "ratings_subset"
   ]
  },
  {
   "cell_type": "markdown",
   "metadata": {},
   "source": [
    "### Sample Cypher Queries:"
   ]
  },
  {
   "cell_type": "code",
   "execution_count": 12,
   "metadata": {},
   "outputs": [
    {
     "data": {
      "text/plain": "'MATCH (n) RETURN n'"
     },
     "execution_count": 12,
     "metadata": {},
     "output_type": "execute_result"
    }
   ],
   "source": [
    "# Return all the nodes\n",
    "\"MATCH (n) RETURN n\""
   ]
  },
  {
   "cell_type": "code",
   "execution_count": 13,
   "metadata": {},
   "outputs": [
    {
     "data": {
      "text/plain": "'MATCH (n) DETACH DELETE n'"
     },
     "execution_count": 13,
     "metadata": {},
     "output_type": "execute_result"
    }
   ],
   "source": [
    "# Delete everything\n",
    "\"MATCH (n) DETACH DELETE n\""
   ]
  },
  {
   "cell_type": "markdown",
   "metadata": {},
   "source": [
    "### Write node and relationship data to csv"
   ]
  },
  {
   "cell_type": "code",
   "execution_count": 14,
   "metadata": {},
   "outputs": [],
   "source": [
    "# Nodes\n",
    "df = pd.DataFrame(all_nodes)\n",
    "df.columns = ['id']\n",
    "#df\n",
    "df.to_csv('nodes.csv')"
   ]
  },
  {
   "cell_type": "code",
   "execution_count": 41,
   "metadata": {},
   "outputs": [
    {
     "data": {
      "text/plain": "         0     1\n0        5     7\n1        7    34\n2        6     7\n3        7    29\n4        7    13\n...    ...   ...\n2523  1018  5569\n2524   905  1018\n2525  1639  2067\n2526  2045  2067\n2527  1018  2124\n\n[2477 rows x 2 columns]",
      "text/html": "<div>\n<style scoped>\n    .dataframe tbody tr th:only-of-type {\n        vertical-align: middle;\n    }\n\n    .dataframe tbody tr th {\n        vertical-align: top;\n    }\n\n    .dataframe thead th {\n        text-align: right;\n    }\n</style>\n<table border=\"1\" class=\"dataframe\">\n  <thead>\n    <tr style=\"text-align: right;\">\n      <th></th>\n      <th>0</th>\n      <th>1</th>\n    </tr>\n  </thead>\n  <tbody>\n    <tr>\n      <th>0</th>\n      <td>5</td>\n      <td>7</td>\n    </tr>\n    <tr>\n      <th>1</th>\n      <td>7</td>\n      <td>34</td>\n    </tr>\n    <tr>\n      <th>2</th>\n      <td>6</td>\n      <td>7</td>\n    </tr>\n    <tr>\n      <th>3</th>\n      <td>7</td>\n      <td>29</td>\n    </tr>\n    <tr>\n      <th>4</th>\n      <td>7</td>\n      <td>13</td>\n    </tr>\n    <tr>\n      <th>...</th>\n      <td>...</td>\n      <td>...</td>\n    </tr>\n    <tr>\n      <th>2523</th>\n      <td>1018</td>\n      <td>5569</td>\n    </tr>\n    <tr>\n      <th>2524</th>\n      <td>905</td>\n      <td>1018</td>\n    </tr>\n    <tr>\n      <th>2525</th>\n      <td>1639</td>\n      <td>2067</td>\n    </tr>\n    <tr>\n      <th>2526</th>\n      <td>2045</td>\n      <td>2067</td>\n    </tr>\n    <tr>\n      <th>2527</th>\n      <td>1018</td>\n      <td>2124</td>\n    </tr>\n  </tbody>\n</table>\n<p>2477 rows × 2 columns</p>\n</div>"
     },
     "execution_count": 41,
     "metadata": {},
     "output_type": "execute_result"
    }
   ],
   "source": [
    "df = ratings[ratings['SOURCE'].isin(list(all_nodes))]\n",
    "df = df[['SOURCE','TARGET','RATING']]\n",
    "df1 = pd.DataFrame(np.sort(df[['SOURCE','TARGET']], axis=1))\n",
    "df1.reset_index()\n",
    "\n",
    "#df1.duplicated()\n",
    "df1[~df1.duplicated()]\n"
   ]
  },
  {
   "cell_type": "code",
   "execution_count": 44,
   "metadata": {},
   "outputs": [],
   "source": [
    "# Edges\n",
    "df = ratings[ratings['SOURCE'].isin(list(all_nodes))]\n",
    "df = df[['SOURCE','TARGET','RATING']]\n",
    "df1 = pd.DataFrame(np.sort(df[['SOURCE','TARGET']], axis=1))\n",
    "df1.reset_index()\n",
    "df1[~df1.duplicated()]\n",
    "#df1\n",
    "df1.to_csv('edges.csv')"
   ]
  },
  {
   "cell_type": "markdown",
   "metadata": {},
   "source": [
    "### Cypher data import queries"
   ]
  },
  {
   "cell_type": "code",
   "execution_count": 16,
   "metadata": {},
   "outputs": [
    {
     "data": {
      "text/plain": "'LOAD CSV WITH HEADERS FROM \"https://raw.githubusercontent.com/JeremyOBrien16/CUNY_DATA_620/master/Assignment03/nodes.csv\" AS csvLine\\nCREATE (u:User {id: (csvLine.id)})'"
     },
     "execution_count": 16,
     "metadata": {},
     "output_type": "execute_result"
    }
   ],
   "source": [
    "# Create nodes\n",
    "\"\"\"LOAD CSV WITH HEADERS FROM \"https://raw.githubusercontent.com/JeremyOBrien16/CUNY_DATA_620/master/Assignment03/nodes.csv\" AS csvLine\n",
    "CREATE (u:User {id: (csvLine.id)})\"\"\""
   ]
  },
  {
   "cell_type": "code",
   "execution_count": 17,
   "metadata": {},
   "outputs": [
    {
     "data": {
      "text/plain": "'LOAD CSV WITH HEADERS FROM \"https://raw.githubusercontent.com/JeremyOBrien16/CUNY_DATA_620/master/Assignment03/edges.csv\" AS csvLine\\nMATCH (u1:User {id: csvLine.SOURCE})\\nMATCH (u2:User {id: csvLine.TARGET})\\nCREATE (u1)-[:TRUSTS {rating: csvLine.RATING}]->(u2)'"
     },
     "execution_count": 17,
     "metadata": {},
     "output_type": "execute_result"
    }
   ],
   "source": [
    "# Create relationships\n",
    "\"\"\"LOAD CSV WITH HEADERS FROM \"https://raw.githubusercontent.com/JeremyOBrien16/CUNY_DATA_620/master/Assignment03/edges.csv\" AS csvLine\n",
    "MATCH (u1:User {id: csvLine.SOURCE})\n",
    "MATCH (u2:User {id: csvLine.TARGET})\n",
    "CREATE (u1)-[:TRUSTS {rating: csvLine.RATING}]->(u2)\"\"\""
   ]
  },
  {
   "cell_type": "markdown",
   "metadata": {},
   "source": [
    "Resulting graph:"
   ]
  },
  {
   "cell_type": "markdown",
   "metadata": {},
   "source": [
    "![Neo4j Graph](https://raw.githubusercontent.com/JeremyOBrien16/CUNY_DATA_620/master/Assignment03/graph.png)"
   ]
  },
  {
   "cell_type": "markdown",
   "metadata": {},
   "source": [
    "### Import from Neo4j into networkx"
   ]
  },
  {
   "cell_type": "code",
   "execution_count": 18,
   "metadata": {},
   "outputs": [],
   "source": [
    "from neo4j import GraphDatabase\n",
    "from neo4jconfig import neo4j_auth\n",
    "%matplotlib inline"
   ]
  },
  {
   "cell_type": "code",
   "execution_count": 19,
   "metadata": {},
   "outputs": [
    {
     "ename": "ServiceUnavailable",
     "evalue": "Failed to establish connection to ('127.0.0.1', 7687) (reason [Errno 61] Connection refused)",
     "output_type": "error",
     "traceback": [
      "\u001B[0;31m---------------------------------------------------------------------------\u001B[0m",
      "\u001B[0;31mConnectionRefusedError\u001B[0m                    Traceback (most recent call last)",
      "\u001B[0;32m/usr/local/lib/python3.7/site-packages/neobolt/direct.py\u001B[0m in \u001B[0;36m_connect\u001B[0;34m(resolved_address, **config)\u001B[0m\n\u001B[1;32m    830\u001B[0m         \u001B[0mlog_debug\u001B[0m\u001B[0;34m(\u001B[0m\u001B[0;34m\"[#0000]  C: <OPEN> %s\"\u001B[0m\u001B[0;34m,\u001B[0m \u001B[0mresolved_address\u001B[0m\u001B[0;34m)\u001B[0m\u001B[0;34m\u001B[0m\u001B[0;34m\u001B[0m\u001B[0m\n\u001B[0;32m--> 831\u001B[0;31m         \u001B[0ms\u001B[0m\u001B[0;34m.\u001B[0m\u001B[0mconnect\u001B[0m\u001B[0;34m(\u001B[0m\u001B[0mresolved_address\u001B[0m\u001B[0;34m)\u001B[0m\u001B[0;34m\u001B[0m\u001B[0;34m\u001B[0m\u001B[0m\n\u001B[0m\u001B[1;32m    832\u001B[0m         \u001B[0ms\u001B[0m\u001B[0;34m.\u001B[0m\u001B[0msettimeout\u001B[0m\u001B[0;34m(\u001B[0m\u001B[0mt\u001B[0m\u001B[0;34m)\u001B[0m\u001B[0;34m\u001B[0m\u001B[0;34m\u001B[0m\u001B[0m\n",
      "\u001B[0;31mConnectionRefusedError\u001B[0m: [Errno 61] Connection refused",
      "\nDuring handling of the above exception, another exception occurred:\n",
      "\u001B[0;31mServiceUnavailable\u001B[0m                        Traceback (most recent call last)",
      "\u001B[0;32m<ipython-input-19-05940a5892ab>\u001B[0m in \u001B[0;36m<module>\u001B[0;34m\u001B[0m\n\u001B[0;32m----> 1\u001B[0;31m \u001B[0mgdb\u001B[0m \u001B[0;34m=\u001B[0m \u001B[0mGraphDatabase\u001B[0m\u001B[0;34m.\u001B[0m\u001B[0mdriver\u001B[0m\u001B[0;34m(\u001B[0m\u001B[0muri\u001B[0m\u001B[0;34m=\u001B[0m\u001B[0mneo4j_auth\u001B[0m\u001B[0;34m[\u001B[0m\u001B[0;34m'uri'\u001B[0m\u001B[0;34m]\u001B[0m\u001B[0;34m,\u001B[0m\u001B[0mauth\u001B[0m\u001B[0;34m=\u001B[0m\u001B[0;34m(\u001B[0m\u001B[0mneo4j_auth\u001B[0m\u001B[0;34m[\u001B[0m\u001B[0;34m'user'\u001B[0m\u001B[0;34m]\u001B[0m\u001B[0;34m,\u001B[0m\u001B[0mneo4j_auth\u001B[0m\u001B[0;34m[\u001B[0m\u001B[0;34m'password'\u001B[0m\u001B[0;34m]\u001B[0m\u001B[0;34m)\u001B[0m\u001B[0;34m,\u001B[0m \u001B[0mencrypted\u001B[0m\u001B[0;34m=\u001B[0m\u001B[0;32mFalse\u001B[0m\u001B[0;34m)\u001B[0m\u001B[0;34m\u001B[0m\u001B[0;34m\u001B[0m\u001B[0m\n\u001B[0m\u001B[1;32m      2\u001B[0m \u001B[0msession\u001B[0m \u001B[0;34m=\u001B[0m \u001B[0mgdb\u001B[0m\u001B[0;34m.\u001B[0m\u001B[0msession\u001B[0m\u001B[0;34m(\u001B[0m\u001B[0;34m)\u001B[0m\u001B[0;34m\u001B[0m\u001B[0;34m\u001B[0m\u001B[0m\n\u001B[1;32m      3\u001B[0m \u001B[0;34m\u001B[0m\u001B[0m\n",
      "\u001B[0;32m/usr/local/lib/python3.7/site-packages/neo4j/__init__.py\u001B[0m in \u001B[0;36mdriver\u001B[0;34m(cls, uri, **config)\u001B[0m\n\u001B[1;32m    118\u001B[0m         \u001B[0;34m:\u001B[0m\u001B[0;32mclass\u001B[0m\u001B[0;34m:\u001B[0m\u001B[0;31m`\u001B[0m\u001B[0;34m.\u001B[0m\u001B[0mDriver\u001B[0m\u001B[0;31m`\u001B[0m \u001B[0msubclass\u001B[0m \u001B[0minstance\u001B[0m \u001B[0mdirectly\u001B[0m\u001B[0;34m.\u001B[0m\u001B[0;34m\u001B[0m\u001B[0;34m\u001B[0m\u001B[0m\n\u001B[1;32m    119\u001B[0m         \"\"\"\n\u001B[0;32m--> 120\u001B[0;31m         \u001B[0;32mreturn\u001B[0m \u001B[0mDriver\u001B[0m\u001B[0;34m(\u001B[0m\u001B[0muri\u001B[0m\u001B[0;34m,\u001B[0m \u001B[0;34m**\u001B[0m\u001B[0mconfig\u001B[0m\u001B[0;34m)\u001B[0m\u001B[0;34m\u001B[0m\u001B[0;34m\u001B[0m\u001B[0m\n\u001B[0m\u001B[1;32m    121\u001B[0m \u001B[0;34m\u001B[0m\u001B[0m\n\u001B[1;32m    122\u001B[0m \u001B[0;34m\u001B[0m\u001B[0m\n",
      "\u001B[0;32m/usr/local/lib/python3.7/site-packages/neo4j/__init__.py\u001B[0m in \u001B[0;36m__new__\u001B[0;34m(cls, uri, **config)\u001B[0m\n\u001B[1;32m    159\u001B[0m         \u001B[0;32mfor\u001B[0m \u001B[0msubclass\u001B[0m \u001B[0;32min\u001B[0m \u001B[0mDriver\u001B[0m\u001B[0;34m.\u001B[0m\u001B[0m__subclasses__\u001B[0m\u001B[0;34m(\u001B[0m\u001B[0;34m)\u001B[0m\u001B[0;34m:\u001B[0m\u001B[0;34m\u001B[0m\u001B[0;34m\u001B[0m\u001B[0m\n\u001B[1;32m    160\u001B[0m             \u001B[0;32mif\u001B[0m \u001B[0mparsed_scheme\u001B[0m \u001B[0;32min\u001B[0m \u001B[0msubclass\u001B[0m\u001B[0;34m.\u001B[0m\u001B[0muri_schemes\u001B[0m\u001B[0;34m:\u001B[0m\u001B[0;34m\u001B[0m\u001B[0;34m\u001B[0m\u001B[0m\n\u001B[0;32m--> 161\u001B[0;31m                 \u001B[0;32mreturn\u001B[0m \u001B[0msubclass\u001B[0m\u001B[0;34m(\u001B[0m\u001B[0muri\u001B[0m\u001B[0;34m,\u001B[0m \u001B[0;34m**\u001B[0m\u001B[0mconfig\u001B[0m\u001B[0;34m)\u001B[0m\u001B[0;34m\u001B[0m\u001B[0;34m\u001B[0m\u001B[0m\n\u001B[0m\u001B[1;32m    162\u001B[0m         \u001B[0;32mraise\u001B[0m \u001B[0mValueError\u001B[0m\u001B[0;34m(\u001B[0m\u001B[0;34m\"URI scheme %r not supported\"\u001B[0m \u001B[0;34m%\u001B[0m \u001B[0mparsed\u001B[0m\u001B[0;34m.\u001B[0m\u001B[0mscheme\u001B[0m\u001B[0;34m)\u001B[0m\u001B[0;34m\u001B[0m\u001B[0;34m\u001B[0m\u001B[0m\n\u001B[1;32m    163\u001B[0m \u001B[0;34m\u001B[0m\u001B[0m\n",
      "\u001B[0;32m/usr/local/lib/python3.7/site-packages/neo4j/__init__.py\u001B[0m in \u001B[0;36m__new__\u001B[0;34m(cls, uri, **config)\u001B[0m\n\u001B[1;32m    233\u001B[0m \u001B[0;34m\u001B[0m\u001B[0m\n\u001B[1;32m    234\u001B[0m         \u001B[0mpool\u001B[0m \u001B[0;34m=\u001B[0m \u001B[0mConnectionPool\u001B[0m\u001B[0;34m(\u001B[0m\u001B[0mconnector\u001B[0m\u001B[0;34m,\u001B[0m \u001B[0minstance\u001B[0m\u001B[0;34m.\u001B[0m\u001B[0maddress\u001B[0m\u001B[0;34m,\u001B[0m \u001B[0;34m**\u001B[0m\u001B[0mconfig\u001B[0m\u001B[0;34m)\u001B[0m\u001B[0;34m\u001B[0m\u001B[0;34m\u001B[0m\u001B[0m\n\u001B[0;32m--> 235\u001B[0;31m         \u001B[0mpool\u001B[0m\u001B[0;34m.\u001B[0m\u001B[0mrelease\u001B[0m\u001B[0;34m(\u001B[0m\u001B[0mpool\u001B[0m\u001B[0;34m.\u001B[0m\u001B[0macquire\u001B[0m\u001B[0;34m(\u001B[0m\u001B[0;34m)\u001B[0m\u001B[0;34m)\u001B[0m\u001B[0;34m\u001B[0m\u001B[0;34m\u001B[0m\u001B[0m\n\u001B[0m\u001B[1;32m    236\u001B[0m         \u001B[0minstance\u001B[0m\u001B[0;34m.\u001B[0m\u001B[0m_pool\u001B[0m \u001B[0;34m=\u001B[0m \u001B[0mpool\u001B[0m\u001B[0;34m\u001B[0m\u001B[0;34m\u001B[0m\u001B[0m\n\u001B[1;32m    237\u001B[0m         \u001B[0minstance\u001B[0m\u001B[0;34m.\u001B[0m\u001B[0m_max_retry_time\u001B[0m \u001B[0;34m=\u001B[0m \u001B[0mconfig\u001B[0m\u001B[0;34m.\u001B[0m\u001B[0mget\u001B[0m\u001B[0;34m(\u001B[0m\u001B[0;34m\"max_retry_time\"\u001B[0m\u001B[0;34m,\u001B[0m \u001B[0mdefault_config\u001B[0m\u001B[0;34m[\u001B[0m\u001B[0;34m\"max_retry_time\"\u001B[0m\u001B[0;34m]\u001B[0m\u001B[0;34m)\u001B[0m\u001B[0;34m\u001B[0m\u001B[0;34m\u001B[0m\u001B[0m\n",
      "\u001B[0;32m/usr/local/lib/python3.7/site-packages/neobolt/direct.py\u001B[0m in \u001B[0;36macquire\u001B[0;34m(self, access_mode)\u001B[0m\n\u001B[1;32m    713\u001B[0m \u001B[0;34m\u001B[0m\u001B[0m\n\u001B[1;32m    714\u001B[0m     \u001B[0;32mdef\u001B[0m \u001B[0macquire\u001B[0m\u001B[0;34m(\u001B[0m\u001B[0mself\u001B[0m\u001B[0;34m,\u001B[0m \u001B[0maccess_mode\u001B[0m\u001B[0;34m=\u001B[0m\u001B[0;32mNone\u001B[0m\u001B[0;34m)\u001B[0m\u001B[0;34m:\u001B[0m\u001B[0;34m\u001B[0m\u001B[0;34m\u001B[0m\u001B[0m\n\u001B[0;32m--> 715\u001B[0;31m         \u001B[0;32mreturn\u001B[0m \u001B[0mself\u001B[0m\u001B[0;34m.\u001B[0m\u001B[0macquire_direct\u001B[0m\u001B[0;34m(\u001B[0m\u001B[0mself\u001B[0m\u001B[0;34m.\u001B[0m\u001B[0maddress\u001B[0m\u001B[0;34m)\u001B[0m\u001B[0;34m\u001B[0m\u001B[0;34m\u001B[0m\u001B[0m\n\u001B[0m\u001B[1;32m    716\u001B[0m \u001B[0;34m\u001B[0m\u001B[0m\n\u001B[1;32m    717\u001B[0m \u001B[0;34m\u001B[0m\u001B[0m\n",
      "\u001B[0;32m/usr/local/lib/python3.7/site-packages/neobolt/direct.py\u001B[0m in \u001B[0;36macquire_direct\u001B[0;34m(self, address)\u001B[0m\n\u001B[1;32m    606\u001B[0m                 \u001B[0;32mif\u001B[0m \u001B[0mcan_create_new_connection\u001B[0m\u001B[0;34m:\u001B[0m\u001B[0;34m\u001B[0m\u001B[0;34m\u001B[0m\u001B[0m\n\u001B[1;32m    607\u001B[0m                     \u001B[0;32mtry\u001B[0m\u001B[0;34m:\u001B[0m\u001B[0;34m\u001B[0m\u001B[0;34m\u001B[0m\u001B[0m\n\u001B[0;32m--> 608\u001B[0;31m                         \u001B[0mconnection\u001B[0m \u001B[0;34m=\u001B[0m \u001B[0mself\u001B[0m\u001B[0;34m.\u001B[0m\u001B[0mconnector\u001B[0m\u001B[0;34m(\u001B[0m\u001B[0maddress\u001B[0m\u001B[0;34m,\u001B[0m \u001B[0merror_handler\u001B[0m\u001B[0;34m=\u001B[0m\u001B[0mself\u001B[0m\u001B[0;34m.\u001B[0m\u001B[0mconnection_error_handler\u001B[0m\u001B[0;34m)\u001B[0m\u001B[0;34m\u001B[0m\u001B[0;34m\u001B[0m\u001B[0m\n\u001B[0m\u001B[1;32m    609\u001B[0m                     \u001B[0;32mexcept\u001B[0m \u001B[0mServiceUnavailable\u001B[0m\u001B[0;34m:\u001B[0m\u001B[0;34m\u001B[0m\u001B[0;34m\u001B[0m\u001B[0m\n\u001B[1;32m    610\u001B[0m                         \u001B[0mself\u001B[0m\u001B[0;34m.\u001B[0m\u001B[0mremove\u001B[0m\u001B[0;34m(\u001B[0m\u001B[0maddress\u001B[0m\u001B[0;34m)\u001B[0m\u001B[0;34m\u001B[0m\u001B[0;34m\u001B[0m\u001B[0m\n",
      "\u001B[0;32m/usr/local/lib/python3.7/site-packages/neo4j/__init__.py\u001B[0m in \u001B[0;36mconnector\u001B[0;34m(address, **kwargs)\u001B[0m\n\u001B[1;32m    230\u001B[0m \u001B[0;34m\u001B[0m\u001B[0m\n\u001B[1;32m    231\u001B[0m         \u001B[0;32mdef\u001B[0m \u001B[0mconnector\u001B[0m\u001B[0;34m(\u001B[0m\u001B[0maddress\u001B[0m\u001B[0;34m,\u001B[0m \u001B[0;34m**\u001B[0m\u001B[0mkwargs\u001B[0m\u001B[0;34m)\u001B[0m\u001B[0;34m:\u001B[0m\u001B[0;34m\u001B[0m\u001B[0;34m\u001B[0m\u001B[0m\n\u001B[0;32m--> 232\u001B[0;31m             \u001B[0;32mreturn\u001B[0m \u001B[0mconnect\u001B[0m\u001B[0;34m(\u001B[0m\u001B[0maddress\u001B[0m\u001B[0;34m,\u001B[0m \u001B[0;34m**\u001B[0m\u001B[0mdict\u001B[0m\u001B[0;34m(\u001B[0m\u001B[0mconfig\u001B[0m\u001B[0;34m,\u001B[0m \u001B[0;34m**\u001B[0m\u001B[0mkwargs\u001B[0m\u001B[0;34m)\u001B[0m\u001B[0;34m)\u001B[0m\u001B[0;34m\u001B[0m\u001B[0;34m\u001B[0m\u001B[0m\n\u001B[0m\u001B[1;32m    233\u001B[0m \u001B[0;34m\u001B[0m\u001B[0m\n\u001B[1;32m    234\u001B[0m         \u001B[0mpool\u001B[0m \u001B[0;34m=\u001B[0m \u001B[0mConnectionPool\u001B[0m\u001B[0;34m(\u001B[0m\u001B[0mconnector\u001B[0m\u001B[0;34m,\u001B[0m \u001B[0minstance\u001B[0m\u001B[0;34m.\u001B[0m\u001B[0maddress\u001B[0m\u001B[0;34m,\u001B[0m \u001B[0;34m**\u001B[0m\u001B[0mconfig\u001B[0m\u001B[0;34m)\u001B[0m\u001B[0;34m\u001B[0m\u001B[0;34m\u001B[0m\u001B[0m\n",
      "\u001B[0;32m/usr/local/lib/python3.7/site-packages/neobolt/direct.py\u001B[0m in \u001B[0;36mconnect\u001B[0;34m(address, **config)\u001B[0m\n\u001B[1;32m    970\u001B[0m         \u001B[0;32mraise\u001B[0m \u001B[0mServiceUnavailable\u001B[0m\u001B[0;34m(\u001B[0m\u001B[0;34m\"Failed to resolve addresses for %s\"\u001B[0m \u001B[0;34m%\u001B[0m \u001B[0maddress\u001B[0m\u001B[0;34m)\u001B[0m\u001B[0;34m\u001B[0m\u001B[0;34m\u001B[0m\u001B[0m\n\u001B[1;32m    971\u001B[0m     \u001B[0;32melse\u001B[0m\u001B[0;34m:\u001B[0m\u001B[0;34m\u001B[0m\u001B[0;34m\u001B[0m\u001B[0m\n\u001B[0;32m--> 972\u001B[0;31m         \u001B[0;32mraise\u001B[0m \u001B[0mlast_error\u001B[0m\u001B[0;34m\u001B[0m\u001B[0;34m\u001B[0m\u001B[0m\n\u001B[0m",
      "\u001B[0;32m/usr/local/lib/python3.7/site-packages/neobolt/direct.py\u001B[0m in \u001B[0;36mconnect\u001B[0;34m(address, **config)\u001B[0m\n\u001B[1;32m    960\u001B[0m         \u001B[0;32mtry\u001B[0m\u001B[0;34m:\u001B[0m\u001B[0;34m\u001B[0m\u001B[0;34m\u001B[0m\u001B[0m\n\u001B[1;32m    961\u001B[0m             \u001B[0mhost\u001B[0m \u001B[0;34m=\u001B[0m \u001B[0maddress\u001B[0m\u001B[0;34m[\u001B[0m\u001B[0;36m0\u001B[0m\u001B[0;34m]\u001B[0m\u001B[0;34m\u001B[0m\u001B[0;34m\u001B[0m\u001B[0m\n\u001B[0;32m--> 962\u001B[0;31m             \u001B[0ms\u001B[0m \u001B[0;34m=\u001B[0m \u001B[0m_connect\u001B[0m\u001B[0;34m(\u001B[0m\u001B[0mresolved_address\u001B[0m\u001B[0;34m,\u001B[0m \u001B[0;34m**\u001B[0m\u001B[0mconfig\u001B[0m\u001B[0;34m)\u001B[0m\u001B[0;34m\u001B[0m\u001B[0;34m\u001B[0m\u001B[0m\n\u001B[0m\u001B[1;32m    963\u001B[0m             \u001B[0ms\u001B[0m\u001B[0;34m,\u001B[0m \u001B[0mder_encoded_server_certificate\u001B[0m \u001B[0;34m=\u001B[0m \u001B[0m_secure\u001B[0m\u001B[0;34m(\u001B[0m\u001B[0ms\u001B[0m\u001B[0;34m,\u001B[0m \u001B[0mhost\u001B[0m\u001B[0;34m,\u001B[0m \u001B[0msecurity_plan\u001B[0m\u001B[0;34m.\u001B[0m\u001B[0mssl_context\u001B[0m\u001B[0;34m,\u001B[0m \u001B[0;34m**\u001B[0m\u001B[0mconfig\u001B[0m\u001B[0;34m)\u001B[0m\u001B[0;34m\u001B[0m\u001B[0;34m\u001B[0m\u001B[0m\n\u001B[1;32m    964\u001B[0m             \u001B[0mconnection\u001B[0m \u001B[0;34m=\u001B[0m \u001B[0m_handshake\u001B[0m\u001B[0;34m(\u001B[0m\u001B[0ms\u001B[0m\u001B[0;34m,\u001B[0m \u001B[0maddress\u001B[0m\u001B[0;34m,\u001B[0m \u001B[0mder_encoded_server_certificate\u001B[0m\u001B[0;34m,\u001B[0m \u001B[0;34m**\u001B[0m\u001B[0mconfig\u001B[0m\u001B[0;34m)\u001B[0m\u001B[0;34m\u001B[0m\u001B[0;34m\u001B[0m\u001B[0m\n",
      "\u001B[0;32m/usr/local/lib/python3.7/site-packages/neobolt/direct.py\u001B[0m in \u001B[0;36m_connect\u001B[0;34m(resolved_address, **config)\u001B[0m\n\u001B[1;32m    841\u001B[0m         \u001B[0mlog_debug\u001B[0m\u001B[0;34m(\u001B[0m\u001B[0;34m\"[#0000]  C: <CLOSE> %s\"\u001B[0m\u001B[0;34m,\u001B[0m \u001B[0mresolved_address\u001B[0m\u001B[0;34m)\u001B[0m\u001B[0;34m\u001B[0m\u001B[0;34m\u001B[0m\u001B[0m\n\u001B[1;32m    842\u001B[0m         \u001B[0ms\u001B[0m\u001B[0;34m.\u001B[0m\u001B[0mclose\u001B[0m\u001B[0;34m(\u001B[0m\u001B[0;34m)\u001B[0m\u001B[0;34m\u001B[0m\u001B[0;34m\u001B[0m\u001B[0m\n\u001B[0;32m--> 843\u001B[0;31m         \u001B[0;32mraise\u001B[0m \u001B[0mServiceUnavailable\u001B[0m\u001B[0;34m(\u001B[0m\u001B[0;34m\"Failed to establish connection to {!r} (reason {})\"\u001B[0m\u001B[0;34m.\u001B[0m\u001B[0mformat\u001B[0m\u001B[0;34m(\u001B[0m\u001B[0mresolved_address\u001B[0m\u001B[0;34m,\u001B[0m \u001B[0merror\u001B[0m\u001B[0;34m)\u001B[0m\u001B[0;34m)\u001B[0m\u001B[0;34m\u001B[0m\u001B[0;34m\u001B[0m\u001B[0m\n\u001B[0m\u001B[1;32m    844\u001B[0m     \u001B[0;32melse\u001B[0m\u001B[0;34m:\u001B[0m\u001B[0;34m\u001B[0m\u001B[0;34m\u001B[0m\u001B[0m\n\u001B[1;32m    845\u001B[0m         \u001B[0;32mreturn\u001B[0m \u001B[0ms\u001B[0m\u001B[0;34m\u001B[0m\u001B[0;34m\u001B[0m\u001B[0m\n",
      "\u001B[0;31mServiceUnavailable\u001B[0m: Failed to establish connection to ('127.0.0.1', 7687) (reason [Errno 61] Connection refused)"
     ]
    }
   ],
   "source": [
    "gdb = GraphDatabase.driver(uri=neo4j_auth['uri'],auth=(neo4j_auth['user'],neo4j_auth['password']), encrypted=False)\n",
    "session = gdb.session()"
   ]
  },
  {
   "cell_type": "code",
   "execution_count": null,
   "metadata": {},
   "outputs": [],
   "source": [
    "# Return all nodes\n",
    "records = session.run(\"MATCH (n) OPTIONAL MATCH (n)-[r]->() RETURN n, r\")\n",
    "for r in records:\n",
    "    #print(r['n'])\n",
    "    print(r['n']['id'])"
   ]
  },
  {
   "cell_type": "code",
   "execution_count": null,
   "metadata": {},
   "outputs": [],
   "source": [
    "# Return all relationships\n",
    "records = session.run(\"MATCH (n) OPTIONAL MATCH (n)-[r]->() RETURN n, r\")\n",
    "for r in records:\n",
    "    rel = r['r']\n",
    "    if rel is not None:\n",
    "        #print(rel)\n",
    "        print(rel.start_node['id'], rel.end_node['id'], rel['rating'])"
   ]
  },
  {
   "cell_type": "code",
   "execution_count": null,
   "metadata": {},
   "outputs": [],
   "source": [
    "result = session.run(\"MATCH (u1:User {id: '2296'})-[r:TRUSTS]->(u2) RETURN u1, u2, r.rating AS rating\")\n",
    "for r in result:\n",
    "    print(r)\n",
    "    #print(r['u1'], r['u2'].id, r['rating'])\n",
    "    #print(r['u1'].id, r['u2'].id, r['rating'])\n",
    "    \n",
    "#ratings = [(record[\"rating\"] for record in result]\n",
    "#ratings"
   ]
  },
  {
   "cell_type": "code",
   "execution_count": null,
   "metadata": {},
   "outputs": [],
   "source": []
  },
  {
   "cell_type": "code",
   "execution_count": null,
   "metadata": {},
   "outputs": [],
   "source": [
    "# Return all nodes\n",
    "result = session.run(\"MATCH (u:User) RETURN u.id AS id\")\n",
    "labels = [] # Used in graphing\n",
    "node_ids = [record[\"id\"] for record in result]\n",
    "node_ids = np.array(node_ids).astype(np.int)"
   ]
  },
  {
   "cell_type": "code",
   "execution_count": null,
   "metadata": {},
   "outputs": [],
   "source": [
    "def rec2graph(rs):\n",
    "    graph = nx.MultiDiGraph()\n",
    "    \n",
    "    for n_id in node_ids:\n",
    "        #print(type(n_id))\n",
    "        nx_properties = {}\n",
    "        graph.add_node(n_id, **nx_properties)\n",
    "        labels.append(n_id)\n",
    "    \n",
    "    for record in rs:\n",
    "        rel = record['r']\n",
    "        #print(rel)\n",
    "        if rel is not None:\n",
    "                graph.add_edge(rel.start_node['id'], rel.end_node['id'], weight=rel['rating'])\n",
    "            \n",
    "    return graph"
   ]
  },
  {
   "cell_type": "code",
   "execution_count": null,
   "metadata": {},
   "outputs": [],
   "source": [
    "records = session.run(\"MATCH (n) OPTIONAL MATCH (n)-[r]->() RETURN n, r\")\n",
    "g = rec2graph(records)\n",
    "print(nx.info(g))"
   ]
  },
  {
   "cell_type": "code",
   "execution_count": null,
   "metadata": {},
   "outputs": [],
   "source": [
    "plt.rcParams['figure.figsize'] = [20, 10]"
   ]
  },
  {
   "cell_type": "code",
   "execution_count": null,
   "metadata": {},
   "outputs": [],
   "source": [
    "# Simple graph\n",
    "nx.draw(g, with_labels=True)"
   ]
  },
  {
   "cell_type": "code",
   "execution_count": null,
   "metadata": {},
   "outputs": [],
   "source": [
    "graph_pos = nx.spring_layout(g)\n",
    "labels = dict(zip(node_ids,labels))"
   ]
  },
  {
   "cell_type": "code",
   "execution_count": null,
   "metadata": {},
   "outputs": [],
   "source": [
    "fig = nx.draw_networkx_nodes(g, graph_pos, alpha=.5, node_color='blue')\n",
    "fig = nx.draw_networkx_edges(g, graph_pos, width=1, alpha=.3, edge_color='blue')\n",
    "fig = nx.draw_networkx_labels(g, graph_pos, labels=labels, font_size=10, font_family='Arial')"
   ]
  },
  {
   "cell_type": "code",
   "execution_count": null,
   "metadata": {},
   "outputs": [],
   "source": [
    "df = pd.DataFrame(index=ids)\n",
    "pagerank = nx.pagerank(g, alpha=.9)\n",
    "df['pagerank'] = [pagerank[n] for n in ids]\n",
    "\n",
    "betweenness = nx.betweenness_centrality(g)\n",
    "df['betweenness'] = [betweenness[n] for n in ids]"
   ]
  },
  {
   "cell_type": "code",
   "execution_count": null,
   "metadata": {},
   "outputs": [],
   "source": [
    "nx.diameter(g)"
   ]
  },
  {
   "cell_type": "code",
   "execution_count": null,
   "metadata": {},
   "outputs": [],
   "source": []
  }
 ],
 "metadata": {
  "kernelspec": {
   "display_name": "Python 3",
   "language": "python",
   "name": "python3"
  },
  "language_info": {
   "codemirror_mode": {
    "name": "ipython",
    "version": 3
   },
   "file_extension": ".py",
   "mimetype": "text/x-python",
   "name": "python",
   "nbconvert_exporter": "python",
   "pygments_lexer": "ipython3",
   "version": "3.7.7"
  }
 },
 "nbformat": 4,
 "nbformat_minor": 4
}