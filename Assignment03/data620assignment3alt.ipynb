{
 "cells": [
  {
   "cell_type": "markdown",
   "metadata": {},
   "source": [
    "# DATA 620 - Assignment 3 Alt"
   ]
  },
  {
   "cell_type": "markdown",
   "metadata": {},
   "source": [
    "by: Jeremy OBrien and Mael Illien"
   ]
  },
  {
   "cell_type": "markdown",
   "metadata": {},
   "source": [
    "Load a graph database of your choosing from a text file or other source. If you take a large network dataset from the web (such as from Stanford Large Network Dataset Collection (https://snap.stanford.edu/data/)), please feel free at this point to load just a small subset of the nodes and edges.\n",
    "\n",
    "Create basic analysis on the graph, including the graph’s diameter, and at least one other metric of your choosing. You may either code the functions by hand (to build your intuition and insight), or use functions in an existing package.\n",
    "\n",
    "Use a visualization tool of your choice (Neo4j, Gephi, etc.) to display information. Please record a short video (~ 5 minutes), and submit a link to the video in advance of our meet-up."
   ]
  },
  {
   "cell_type": "code",
   "execution_count": 113,
   "metadata": {},
   "outputs": [],
   "source": [
    "import os\n",
    "import random\n",
    "import pandas as pd\n",
    "import networkx as nx"
   ]
  },
  {
   "cell_type": "markdown",
   "metadata": {},
   "source": [
    "Data sourced from: https://snap.stanford.edu/data/soc-sign-bitcoin-otc.html"
   ]
  },
  {
   "cell_type": "code",
   "execution_count": 104,
   "metadata": {},
   "outputs": [
    {
     "data": {
      "text/html": [
       "<div>\n",
       "<style scoped>\n",
       "    .dataframe tbody tr th:only-of-type {\n",
       "        vertical-align: middle;\n",
       "    }\n",
       "\n",
       "    .dataframe tbody tr th {\n",
       "        vertical-align: top;\n",
       "    }\n",
       "\n",
       "    .dataframe thead th {\n",
       "        text-align: right;\n",
       "    }\n",
       "</style>\n",
       "<table border=\"1\" class=\"dataframe\">\n",
       "  <thead>\n",
       "    <tr style=\"text-align: right;\">\n",
       "      <th></th>\n",
       "      <th>SOURCE</th>\n",
       "      <th>TARGET</th>\n",
       "      <th>RATING</th>\n",
       "      <th>TIMESTAMP</th>\n",
       "    </tr>\n",
       "  </thead>\n",
       "  <tbody>\n",
       "    <tr>\n",
       "      <th>0</th>\n",
       "      <td>6</td>\n",
       "      <td>2</td>\n",
       "      <td>4</td>\n",
       "      <td>1.289242e+09</td>\n",
       "    </tr>\n",
       "    <tr>\n",
       "      <th>1</th>\n",
       "      <td>6</td>\n",
       "      <td>5</td>\n",
       "      <td>2</td>\n",
       "      <td>1.289242e+09</td>\n",
       "    </tr>\n",
       "    <tr>\n",
       "      <th>2</th>\n",
       "      <td>1</td>\n",
       "      <td>15</td>\n",
       "      <td>1</td>\n",
       "      <td>1.289243e+09</td>\n",
       "    </tr>\n",
       "    <tr>\n",
       "      <th>3</th>\n",
       "      <td>4</td>\n",
       "      <td>3</td>\n",
       "      <td>7</td>\n",
       "      <td>1.289245e+09</td>\n",
       "    </tr>\n",
       "    <tr>\n",
       "      <th>4</th>\n",
       "      <td>13</td>\n",
       "      <td>16</td>\n",
       "      <td>8</td>\n",
       "      <td>1.289254e+09</td>\n",
       "    </tr>\n",
       "    <tr>\n",
       "      <th>...</th>\n",
       "      <td>...</td>\n",
       "      <td>...</td>\n",
       "      <td>...</td>\n",
       "      <td>...</td>\n",
       "    </tr>\n",
       "    <tr>\n",
       "      <th>35587</th>\n",
       "      <td>4499</td>\n",
       "      <td>1810</td>\n",
       "      <td>1</td>\n",
       "      <td>1.453612e+09</td>\n",
       "    </tr>\n",
       "    <tr>\n",
       "      <th>35588</th>\n",
       "      <td>2731</td>\n",
       "      <td>3901</td>\n",
       "      <td>5</td>\n",
       "      <td>1.453679e+09</td>\n",
       "    </tr>\n",
       "    <tr>\n",
       "      <th>35589</th>\n",
       "      <td>2731</td>\n",
       "      <td>4897</td>\n",
       "      <td>5</td>\n",
       "      <td>1.453679e+09</td>\n",
       "    </tr>\n",
       "    <tr>\n",
       "      <th>35590</th>\n",
       "      <td>13</td>\n",
       "      <td>1128</td>\n",
       "      <td>1</td>\n",
       "      <td>1.453680e+09</td>\n",
       "    </tr>\n",
       "    <tr>\n",
       "      <th>35591</th>\n",
       "      <td>1128</td>\n",
       "      <td>13</td>\n",
       "      <td>2</td>\n",
       "      <td>1.453684e+09</td>\n",
       "    </tr>\n",
       "  </tbody>\n",
       "</table>\n",
       "<p>35592 rows × 4 columns</p>\n",
       "</div>"
      ],
      "text/plain": [
       "       SOURCE  TARGET  RATING     TIMESTAMP\n",
       "0           6       2       4  1.289242e+09\n",
       "1           6       5       2  1.289242e+09\n",
       "2           1      15       1  1.289243e+09\n",
       "3           4       3       7  1.289245e+09\n",
       "4          13      16       8  1.289254e+09\n",
       "...       ...     ...     ...           ...\n",
       "35587    4499    1810       1  1.453612e+09\n",
       "35588    2731    3901       5  1.453679e+09\n",
       "35589    2731    4897       5  1.453679e+09\n",
       "35590      13    1128       1  1.453680e+09\n",
       "35591    1128      13       2  1.453684e+09\n",
       "\n",
       "[35592 rows x 4 columns]"
      ]
     },
     "execution_count": 104,
     "metadata": {},
     "output_type": "execute_result"
    }
   ],
   "source": [
    "# Import data\n",
    "url = 'https://raw.githubusercontent.com/JeremyOBrien16/CUNY_DATA_620/master/Assignment03/soc-sign-bitcoinotc.csv'\n",
    "ratings = pd.read_csv(url, names=['SOURCE','TARGET','RATING','TIMESTAMP'] )\n",
    "ratings"
   ]
  },
  {
   "cell_type": "code",
   "execution_count": null,
   "metadata": {},
   "outputs": [],
   "source": []
  },
  {
   "cell_type": "code",
   "execution_count": 36,
   "metadata": {},
   "outputs": [],
   "source": [
    "data = open('soc-sign-bitcoinotc.csv', 'r')\n",
    "graphtype = nx.DiGraph()\n",
    "graph = nx.parse_edgelist(data, \n",
    "                      delimiter=',', \n",
    "                      create_using=graphtype,\n",
    "                      nodetype=int, \n",
    "                      data=(('weight', float),('time', float)))"
   ]
  },
  {
   "cell_type": "code",
   "execution_count": 37,
   "metadata": {},
   "outputs": [
    {
     "data": {
      "text/plain": [
       "<networkx.classes.digraph.DiGraph at 0x117c608d0>"
      ]
     },
     "execution_count": 37,
     "metadata": {},
     "output_type": "execute_result"
    }
   ],
   "source": [
    "graph"
   ]
  },
  {
   "cell_type": "code",
   "execution_count": null,
   "metadata": {},
   "outputs": [],
   "source": []
  },
  {
   "cell_type": "code",
   "execution_count": 141,
   "metadata": {},
   "outputs": [
    {
     "data": {
      "text/plain": [
       "5881"
      ]
     },
     "execution_count": 141,
     "metadata": {},
     "output_type": "execute_result"
    }
   ],
   "source": [
    "len(graph.nodes)"
   ]
  },
  {
   "cell_type": "code",
   "execution_count": 140,
   "metadata": {},
   "outputs": [
    {
     "data": {
      "text/plain": [
       "35592"
      ]
     },
     "execution_count": 140,
     "metadata": {},
     "output_type": "execute_result"
    }
   ],
   "source": [
    "len(graph.edges)"
   ]
  },
  {
   "cell_type": "code",
   "execution_count": null,
   "metadata": {},
   "outputs": [],
   "source": []
  },
  {
   "cell_type": "code",
   "execution_count": 173,
   "metadata": {},
   "outputs": [
    {
     "data": {
      "text/plain": [
       "\"CREATE (:User {id: '6', target: '5'})\""
      ]
     },
     "execution_count": 173,
     "metadata": {},
     "output_type": "execute_result"
    }
   ],
   "source": [
    "# Query format for node creation\n",
    "\"CREATE (:User {id: '6', target: '5'})\""
   ]
  },
  {
   "cell_type": "code",
   "execution_count": 180,
   "metadata": {},
   "outputs": [
    {
     "data": {
      "text/html": [
       "<div>\n",
       "<style scoped>\n",
       "    .dataframe tbody tr th:only-of-type {\n",
       "        vertical-align: middle;\n",
       "    }\n",
       "\n",
       "    .dataframe tbody tr th {\n",
       "        vertical-align: top;\n",
       "    }\n",
       "\n",
       "    .dataframe thead th {\n",
       "        text-align: right;\n",
       "    }\n",
       "</style>\n",
       "<table border=\"1\" class=\"dataframe\">\n",
       "  <thead>\n",
       "    <tr style=\"text-align: right;\">\n",
       "      <th></th>\n",
       "      <th>SOURCE</th>\n",
       "      <th>TARGET</th>\n",
       "      <th>RATING</th>\n",
       "      <th>TIMESTAMP</th>\n",
       "    </tr>\n",
       "  </thead>\n",
       "  <tbody>\n",
       "    <tr>\n",
       "      <th>190</th>\n",
       "      <td>88</td>\n",
       "      <td>7</td>\n",
       "      <td>3</td>\n",
       "      <td>1.294974e+09</td>\n",
       "    </tr>\n",
       "    <tr>\n",
       "      <th>356</th>\n",
       "      <td>93</td>\n",
       "      <td>81</td>\n",
       "      <td>2</td>\n",
       "      <td>1.297844e+09</td>\n",
       "    </tr>\n",
       "    <tr>\n",
       "      <th>462</th>\n",
       "      <td>177</td>\n",
       "      <td>161</td>\n",
       "      <td>1</td>\n",
       "      <td>1.298778e+09</td>\n",
       "    </tr>\n",
       "    <tr>\n",
       "      <th>777</th>\n",
       "      <td>88</td>\n",
       "      <td>60</td>\n",
       "      <td>4</td>\n",
       "      <td>1.302280e+09</td>\n",
       "    </tr>\n",
       "    <tr>\n",
       "      <th>778</th>\n",
       "      <td>88</td>\n",
       "      <td>104</td>\n",
       "      <td>3</td>\n",
       "      <td>1.302280e+09</td>\n",
       "    </tr>\n",
       "    <tr>\n",
       "      <th>...</th>\n",
       "      <td>...</td>\n",
       "      <td>...</td>\n",
       "      <td>...</td>\n",
       "      <td>...</td>\n",
       "    </tr>\n",
       "    <tr>\n",
       "      <th>34762</th>\n",
       "      <td>5852</td>\n",
       "      <td>5906</td>\n",
       "      <td>1</td>\n",
       "      <td>1.424049e+09</td>\n",
       "    </tr>\n",
       "    <tr>\n",
       "      <th>34763</th>\n",
       "      <td>5852</td>\n",
       "      <td>5909</td>\n",
       "      <td>1</td>\n",
       "      <td>1.424049e+09</td>\n",
       "    </tr>\n",
       "    <tr>\n",
       "      <th>34764</th>\n",
       "      <td>5852</td>\n",
       "      <td>5910</td>\n",
       "      <td>1</td>\n",
       "      <td>1.424049e+09</td>\n",
       "    </tr>\n",
       "    <tr>\n",
       "      <th>34765</th>\n",
       "      <td>5852</td>\n",
       "      <td>2851</td>\n",
       "      <td>1</td>\n",
       "      <td>1.424049e+09</td>\n",
       "    </tr>\n",
       "    <tr>\n",
       "      <th>35205</th>\n",
       "      <td>5966</td>\n",
       "      <td>5227</td>\n",
       "      <td>1</td>\n",
       "      <td>1.434548e+09</td>\n",
       "    </tr>\n",
       "  </tbody>\n",
       "</table>\n",
       "<p>661 rows × 4 columns</p>\n",
       "</div>"
      ],
      "text/plain": [
       "       SOURCE  TARGET  RATING     TIMESTAMP\n",
       "190        88       7       3  1.294974e+09\n",
       "356        93      81       2  1.297844e+09\n",
       "462       177     161       1  1.298778e+09\n",
       "777        88      60       4  1.302280e+09\n",
       "778        88     104       3  1.302280e+09\n",
       "...       ...     ...     ...           ...\n",
       "34762    5852    5906       1  1.424049e+09\n",
       "34763    5852    5909       1  1.424049e+09\n",
       "34764    5852    5910       1  1.424049e+09\n",
       "34765    5852    2851       1  1.424049e+09\n",
       "35205    5966    5227       1  1.434548e+09\n",
       "\n",
       "[661 rows x 4 columns]"
      ]
     },
     "execution_count": 180,
     "metadata": {},
     "output_type": "execute_result"
    }
   ],
   "source": [
    "ratings[ratings['SOURCE'].isin(random.sample(users, 100))]"
   ]
  },
  {
   "cell_type": "code",
   "execution_count": 186,
   "metadata": {},
   "outputs": [],
   "source": [
    "# Randomly sample 100 users\n",
    "users = set(ratings['SOURCE']) # Identify unique users\n",
    "\n",
    "#user_subset = ratings[ratings['SOURCE'].isin(random.sample(users, 100))]\n",
    "user_subset = random.sample(users,100)\n",
    "                      \n",
    "# Delete the file if it already exists\n",
    "if os.path.exists(\"create_nodes.txt\"):\n",
    "      os.remove(\"create_nodes.txt\")\n",
    "\n",
    "# Write the queries to file\n",
    "with open(\"create_nodes.txt\", \"a\") as f:     \n",
    "   \n",
    "    for node in user_subset:\n",
    "        query = \"CREATE (:User {id: '%d'}) \\n\" % (node)\n",
    "        f.write(query)"
   ]
  },
  {
   "cell_type": "code",
   "execution_count": 188,
   "metadata": {},
   "outputs": [
    {
     "data": {
      "text/plain": [
       "\"MATCH (u1:User {id: '6'}),(u2:User {id: '2'}) CREATE (u1)-[:TRUSTS {rating: 4}]->(u2) \""
      ]
     },
     "execution_count": 188,
     "metadata": {},
     "output_type": "execute_result"
    }
   ],
   "source": [
    "# Query format for relationship creation\n",
    "#CREATE (:User {id: '112'})-[:TRUSTS {rating: 2}]->(:User {id: '64'})\n",
    "\n",
    "\"MATCH (u1:User {id: '6'}),(u2:User {id: '2'}) CREATE (u1)-[:TRUSTS {rating: 4}]->(u2) \""
   ]
  },
  {
   "cell_type": "code",
   "execution_count": 189,
   "metadata": {},
   "outputs": [
    {
     "data": {
      "text/plain": [
       "Int64Index([   25,    26,    27,   210,   221,   353,   370,   372,   427,\n",
       "              483,\n",
       "            ...\n",
       "            35165, 35166, 35204, 35248, 35350, 35365, 35426, 35507, 35523,\n",
       "            35541],\n",
       "           dtype='int64', length=522)"
      ]
     },
     "execution_count": 189,
     "metadata": {},
     "output_type": "execute_result"
    }
   ],
   "source": [
    "edges_subset = ratings[ratings['SOURCE'].isin(user_subset)]\n",
    "edges_subset.index"
   ]
  },
  {
   "cell_type": "code",
   "execution_count": 190,
   "metadata": {},
   "outputs": [],
   "source": [
    "# Obtain the dataframe rows containing relationships of the user subset\n",
    "edges_subset = ratings[ratings['SOURCE'].isin(user_subset)]\n",
    "\n",
    "# Delete the file if it already exists\n",
    "import os\n",
    "if os.path.exists(\"create_relationships.txt\"):\n",
    "      os.remove(\"create_relationships.txt\")\n",
    "\n",
    "# Write the queries to file\n",
    "with open(\"create_relationships.txt\", \"a\") as f: \n",
    "    for i in edges_subset.index:\n",
    "        src = edges_subset['SOURCE'][i]\n",
    "        tar = edges_subset['TARGET'][i]\n",
    "        rating = edges_subset['RATING'][i]\n",
    "        query1 = \"MATCH (u1:User {id: '%s'}),(u2:User {id: '%s'}) WITH u1,u2 CREATE (u1)-[:TRUSTS {rating: %s}]->(u2) \\n\" % (src, tar, rating) \n",
    "        query2 = \"CREATE (:User {id: '%s'})-[:TRUSTS {rating: %s}]->(:User {id: '%s'}) \\n\" % (src, tar, rating)\n",
    "        query3 = \"MATCH (u1:User),(u2:User) WHERE u1.id = '%s' AND u2.id = '%s' CREATE (u1)-[:TRUSTS {rating: %s}]->(u2) \\n\"  % (src, tar, rating)\n",
    "        f.write(query3)\n",
    "        "
   ]
  },
  {
   "cell_type": "code",
   "execution_count": 149,
   "metadata": {},
   "outputs": [
    {
     "ename": "SyntaxError",
     "evalue": "invalid syntax (<ipython-input-149-71f2640acb6e>, line 2)",
     "output_type": "error",
     "traceback": [
      "\u001b[0;36m  File \u001b[0;32m\"<ipython-input-149-71f2640acb6e>\"\u001b[0;36m, line \u001b[0;32m2\u001b[0m\n\u001b[0;31m    LOAD CSV WITH HEADERS FROM \"https://raw.githubusercontent.com/JeremyOBrien16/CUNY_DATA_620/master/Assignment03/soc-sign-bitcoinotc.csv\" AS row\u001b[0m\n\u001b[0m           ^\u001b[0m\n\u001b[0;31mSyntaxError\u001b[0m\u001b[0;31m:\u001b[0m invalid syntax\n"
     ]
    }
   ],
   "source": [
    "# Easy load csv query from github?\n",
    "#LOAD CSV WITH HEADERS FROM \"https://raw.githubusercontent.com/JeremyOBrien16/CUNY_DATA_620/master/Assignment03/soc-sign-bitcoinotc.csv\" AS row\n",
    "#CREATE (n:Category)\n",
    "#SET n = row"
   ]
  },
  {
   "cell_type": "code",
   "execution_count": null,
   "metadata": {},
   "outputs": [],
   "source": [
    "MATCH (u1:User {id: '1'}) WITH u1 MATCH (u1:User {id: '5'}) CREATE (u1)-[:TRUSTS]->(u2)"
   ]
  },
  {
   "cell_type": "code",
   "execution_count": null,
   "metadata": {},
   "outputs": [],
   "source": [
    "MATCH (a:Person),(b:Person)\n",
    "WHERE a.name = 'A' AND b.name = 'B'\n",
    "CREATE (a)-[r:RELTYPE]->(b)\n",
    "RETURN type(r)"
   ]
  },
  {
   "cell_type": "code",
   "execution_count": null,
   "metadata": {},
   "outputs": [],
   "source": [
    "MATCH (u1:User)\n",
    "WITH u1\n",
    "MATCH (u2:User) \n",
    "WHERE g.chromosomeID = c.chromosomeID\n",
    "CREATE (g)-[:PART_OF]->(c);"
   ]
  }
 ],
 "metadata": {
  "kernelspec": {
   "display_name": "Python 3",
   "language": "python",
   "name": "python3"
  },
  "language_info": {
   "codemirror_mode": {
    "name": "ipython",
    "version": 3
   },
   "file_extension": ".py",
   "mimetype": "text/x-python",
   "name": "python",
   "nbconvert_exporter": "python",
   "pygments_lexer": "ipython3",
   "version": "3.7.7"
  }
 },
 "nbformat": 4,
 "nbformat_minor": 4
}
