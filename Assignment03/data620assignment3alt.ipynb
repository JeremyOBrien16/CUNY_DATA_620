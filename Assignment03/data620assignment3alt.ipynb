{
 "cells": [
  {
   "cell_type": "markdown",
   "metadata": {},
   "source": [
    "# DATA 620 - Assignment 3 Alt"
   ]
  },
  {
   "cell_type": "markdown",
   "metadata": {},
   "source": [
    "by: Jeremy OBrien and Mael Illien"
   ]
  },
  {
   "cell_type": "markdown",
   "metadata": {},
   "source": [
    "Load a graph database of your choosing from a text file or other source. If you take a large network dataset from the web (such as from Stanford Large Network Dataset Collection (https://snap.stanford.edu/data/)), please feel free at this point to load just a small subset of the nodes and edges.\n",
    "\n",
    "Create basic analysis on the graph, including the graph’s diameter, and at least one other metric of your choosing. You may either code the functions by hand (to build your intuition and insight), or use functions in an existing package.\n",
    "\n",
    "Use a visualization tool of your choice (Neo4j, Gephi, etc.) to display information. Please record a short video (~ 5 minutes), and submit a link to the video in advance of our meet-up."
   ]
  },
  {
   "cell_type": "code",
   "execution_count": 1,
   "metadata": {},
   "outputs": [],
   "source": [
    "import os\n",
    "import random\n",
    "import pandas as pd\n",
    "import networkx as nx"
   ]
  },
  {
   "cell_type": "markdown",
   "metadata": {},
   "source": [
    "Data sourced from: https://snap.stanford.edu/data/soc-sign-bitcoin-otc.html"
   ]
  },
  {
   "cell_type": "code",
   "execution_count": 2,
   "metadata": {},
   "outputs": [
    {
     "data": {
      "text/html": [
       "<div>\n",
       "<style scoped>\n",
       "    .dataframe tbody tr th:only-of-type {\n",
       "        vertical-align: middle;\n",
       "    }\n",
       "\n",
       "    .dataframe tbody tr th {\n",
       "        vertical-align: top;\n",
       "    }\n",
       "\n",
       "    .dataframe thead th {\n",
       "        text-align: right;\n",
       "    }\n",
       "</style>\n",
       "<table border=\"1\" class=\"dataframe\">\n",
       "  <thead>\n",
       "    <tr style=\"text-align: right;\">\n",
       "      <th></th>\n",
       "      <th>SOURCE</th>\n",
       "      <th>TARGET</th>\n",
       "      <th>RATING</th>\n",
       "      <th>TIMESTAMP</th>\n",
       "    </tr>\n",
       "  </thead>\n",
       "  <tbody>\n",
       "    <tr>\n",
       "      <th>0</th>\n",
       "      <td>6</td>\n",
       "      <td>2</td>\n",
       "      <td>4</td>\n",
       "      <td>1.289242e+09</td>\n",
       "    </tr>\n",
       "    <tr>\n",
       "      <th>1</th>\n",
       "      <td>6</td>\n",
       "      <td>5</td>\n",
       "      <td>2</td>\n",
       "      <td>1.289242e+09</td>\n",
       "    </tr>\n",
       "    <tr>\n",
       "      <th>2</th>\n",
       "      <td>1</td>\n",
       "      <td>15</td>\n",
       "      <td>1</td>\n",
       "      <td>1.289243e+09</td>\n",
       "    </tr>\n",
       "    <tr>\n",
       "      <th>3</th>\n",
       "      <td>4</td>\n",
       "      <td>3</td>\n",
       "      <td>7</td>\n",
       "      <td>1.289245e+09</td>\n",
       "    </tr>\n",
       "    <tr>\n",
       "      <th>4</th>\n",
       "      <td>13</td>\n",
       "      <td>16</td>\n",
       "      <td>8</td>\n",
       "      <td>1.289254e+09</td>\n",
       "    </tr>\n",
       "    <tr>\n",
       "      <th>...</th>\n",
       "      <td>...</td>\n",
       "      <td>...</td>\n",
       "      <td>...</td>\n",
       "      <td>...</td>\n",
       "    </tr>\n",
       "    <tr>\n",
       "      <th>35587</th>\n",
       "      <td>4499</td>\n",
       "      <td>1810</td>\n",
       "      <td>1</td>\n",
       "      <td>1.453612e+09</td>\n",
       "    </tr>\n",
       "    <tr>\n",
       "      <th>35588</th>\n",
       "      <td>2731</td>\n",
       "      <td>3901</td>\n",
       "      <td>5</td>\n",
       "      <td>1.453679e+09</td>\n",
       "    </tr>\n",
       "    <tr>\n",
       "      <th>35589</th>\n",
       "      <td>2731</td>\n",
       "      <td>4897</td>\n",
       "      <td>5</td>\n",
       "      <td>1.453679e+09</td>\n",
       "    </tr>\n",
       "    <tr>\n",
       "      <th>35590</th>\n",
       "      <td>13</td>\n",
       "      <td>1128</td>\n",
       "      <td>1</td>\n",
       "      <td>1.453680e+09</td>\n",
       "    </tr>\n",
       "    <tr>\n",
       "      <th>35591</th>\n",
       "      <td>1128</td>\n",
       "      <td>13</td>\n",
       "      <td>2</td>\n",
       "      <td>1.453684e+09</td>\n",
       "    </tr>\n",
       "  </tbody>\n",
       "</table>\n",
       "<p>35592 rows × 4 columns</p>\n",
       "</div>"
      ],
      "text/plain": [
       "       SOURCE  TARGET  RATING     TIMESTAMP\n",
       "0           6       2       4  1.289242e+09\n",
       "1           6       5       2  1.289242e+09\n",
       "2           1      15       1  1.289243e+09\n",
       "3           4       3       7  1.289245e+09\n",
       "4          13      16       8  1.289254e+09\n",
       "...       ...     ...     ...           ...\n",
       "35587    4499    1810       1  1.453612e+09\n",
       "35588    2731    3901       5  1.453679e+09\n",
       "35589    2731    4897       5  1.453679e+09\n",
       "35590      13    1128       1  1.453680e+09\n",
       "35591    1128      13       2  1.453684e+09\n",
       "\n",
       "[35592 rows x 4 columns]"
      ]
     },
     "execution_count": 2,
     "metadata": {},
     "output_type": "execute_result"
    }
   ],
   "source": [
    "# Import data\n",
    "url = 'https://raw.githubusercontent.com/JeremyOBrien16/CUNY_DATA_620/master/Assignment03/soc-sign-bitcoinotc.csv'\n",
    "ratings = pd.read_csv(url, names=['SOURCE','TARGET','RATING','TIMESTAMP'] )\n",
    "ratings"
   ]
  },
  {
   "cell_type": "markdown",
   "metadata": {},
   "source": [
    "#### Load data into a graph"
   ]
  },
  {
   "cell_type": "code",
   "execution_count": 3,
   "metadata": {},
   "outputs": [],
   "source": [
    "data = open('soc-sign-bitcoinotc.csv', 'r')\n",
    "graphtype = nx.DiGraph()\n",
    "graph = nx.parse_edgelist(data, \n",
    "                      delimiter=',', \n",
    "                      create_using=graphtype,\n",
    "                      nodetype=int, \n",
    "                      data=(('weight', float),('time', float)))"
   ]
  },
  {
   "cell_type": "code",
   "execution_count": 4,
   "metadata": {},
   "outputs": [
    {
     "data": {
      "text/plain": [
       "5881"
      ]
     },
     "execution_count": 4,
     "metadata": {},
     "output_type": "execute_result"
    }
   ],
   "source": [
    "len(graph.nodes)"
   ]
  },
  {
   "cell_type": "code",
   "execution_count": 5,
   "metadata": {},
   "outputs": [
    {
     "data": {
      "text/plain": [
       "35592"
      ]
     },
     "execution_count": 5,
     "metadata": {},
     "output_type": "execute_result"
    }
   ],
   "source": [
    "len(graph.edges)"
   ]
  },
  {
   "cell_type": "code",
   "execution_count": null,
   "metadata": {},
   "outputs": [],
   "source": [
    "# Expand on this graph as needed"
   ]
  },
  {
   "cell_type": "code",
   "execution_count": null,
   "metadata": {},
   "outputs": [],
   "source": []
  },
  {
   "cell_type": "code",
   "execution_count": null,
   "metadata": {},
   "outputs": [],
   "source": []
  },
  {
   "cell_type": "markdown",
   "metadata": {},
   "source": [
    "### Cypher Query Generation "
   ]
  },
  {
   "cell_type": "code",
   "execution_count": 6,
   "metadata": {},
   "outputs": [],
   "source": [
    "# Randomly sample 100 users\n",
    "unique_users = set(ratings['SOURCE']) # Identify unique users\n",
    "random.seed(620)\n",
    "ratings_subset = ratings[ratings['SOURCE'].isin(random.sample(unique_users, 50))]\n",
    "\n",
    "source_nodes = set(ratings_subset['SOURCE'])\n",
    "target_nodes = set(ratings_subset['TARGET'])\n",
    "all_nodes = source_nodes.union(target_nodes) \n",
    "\n"
   ]
  },
  {
   "cell_type": "markdown",
   "metadata": {},
   "source": [
    "### Method 1: Write queries to file and copy and paste into Neo4j. Inefficient"
   ]
  },
  {
   "cell_type": "code",
   "execution_count": null,
   "metadata": {},
   "outputs": [],
   "source": [
    "# Create nodes file\n",
    "\n",
    "# Delete the file if it already exists\n",
    "if os.path.exists(\"create_nodes.txt\"):\n",
    "      os.remove(\"create_nodes.txt\")\n",
    "\n",
    "# Write the queries to file\n",
    "with open(\"create_nodes.txt\", \"a\") as f:     \n",
    "   \n",
    "    # Query format for node creation: \"CREATE (:User {id: '6'})\"\n",
    "    for node in all_nodes:\n",
    "        query = \"CREATE (:User {id: '%d'}); \\n\" % (node)\n",
    "        f.write(query)"
   ]
  },
  {
   "cell_type": "code",
   "execution_count": 7,
   "metadata": {},
   "outputs": [
    {
     "data": {
      "text/plain": [
       "523"
      ]
     },
     "execution_count": 7,
     "metadata": {},
     "output_type": "execute_result"
    }
   ],
   "source": [
    "len(all_nodes)"
   ]
  },
  {
   "cell_type": "code",
   "execution_count": 8,
   "metadata": {},
   "outputs": [
    {
     "data": {
      "text/html": [
       "<div>\n",
       "<style scoped>\n",
       "    .dataframe tbody tr th:only-of-type {\n",
       "        vertical-align: middle;\n",
       "    }\n",
       "\n",
       "    .dataframe tbody tr th {\n",
       "        vertical-align: top;\n",
       "    }\n",
       "\n",
       "    .dataframe thead th {\n",
       "        text-align: right;\n",
       "    }\n",
       "</style>\n",
       "<table border=\"1\" class=\"dataframe\">\n",
       "  <thead>\n",
       "    <tr style=\"text-align: right;\">\n",
       "      <th></th>\n",
       "      <th>SOURCE</th>\n",
       "      <th>TARGET</th>\n",
       "      <th>RATING</th>\n",
       "      <th>TIMESTAMP</th>\n",
       "    </tr>\n",
       "  </thead>\n",
       "  <tbody>\n",
       "    <tr>\n",
       "      <th>90</th>\n",
       "      <td>41</td>\n",
       "      <td>36</td>\n",
       "      <td>2</td>\n",
       "      <td>1.292206e+09</td>\n",
       "    </tr>\n",
       "    <tr>\n",
       "      <th>127</th>\n",
       "      <td>41</td>\n",
       "      <td>75</td>\n",
       "      <td>1</td>\n",
       "      <td>1.293584e+09</td>\n",
       "    </tr>\n",
       "    <tr>\n",
       "      <th>139</th>\n",
       "      <td>41</td>\n",
       "      <td>60</td>\n",
       "      <td>1</td>\n",
       "      <td>1.293820e+09</td>\n",
       "    </tr>\n",
       "    <tr>\n",
       "      <th>148</th>\n",
       "      <td>41</td>\n",
       "      <td>4</td>\n",
       "      <td>1</td>\n",
       "      <td>1.294081e+09</td>\n",
       "    </tr>\n",
       "    <tr>\n",
       "      <th>159</th>\n",
       "      <td>41</td>\n",
       "      <td>83</td>\n",
       "      <td>1</td>\n",
       "      <td>1.294263e+09</td>\n",
       "    </tr>\n",
       "    <tr>\n",
       "      <th>...</th>\n",
       "      <td>...</td>\n",
       "      <td>...</td>\n",
       "      <td>...</td>\n",
       "      <td>...</td>\n",
       "    </tr>\n",
       "    <tr>\n",
       "      <th>35291</th>\n",
       "      <td>5972</td>\n",
       "      <td>13</td>\n",
       "      <td>1</td>\n",
       "      <td>1.437803e+09</td>\n",
       "    </tr>\n",
       "    <tr>\n",
       "      <th>35304</th>\n",
       "      <td>41</td>\n",
       "      <td>5974</td>\n",
       "      <td>2</td>\n",
       "      <td>1.438383e+09</td>\n",
       "    </tr>\n",
       "    <tr>\n",
       "      <th>35432</th>\n",
       "      <td>3719</td>\n",
       "      <td>1272</td>\n",
       "      <td>-10</td>\n",
       "      <td>1.442418e+09</td>\n",
       "    </tr>\n",
       "    <tr>\n",
       "      <th>35433</th>\n",
       "      <td>41</td>\n",
       "      <td>4291</td>\n",
       "      <td>2</td>\n",
       "      <td>1.442787e+09</td>\n",
       "    </tr>\n",
       "    <tr>\n",
       "      <th>35580</th>\n",
       "      <td>41</td>\n",
       "      <td>1052</td>\n",
       "      <td>1</td>\n",
       "      <td>1.453312e+09</td>\n",
       "    </tr>\n",
       "  </tbody>\n",
       "</table>\n",
       "<p>586 rows × 4 columns</p>\n",
       "</div>"
      ],
      "text/plain": [
       "       SOURCE  TARGET  RATING     TIMESTAMP\n",
       "90         41      36       2  1.292206e+09\n",
       "127        41      75       1  1.293584e+09\n",
       "139        41      60       1  1.293820e+09\n",
       "148        41       4       1  1.294081e+09\n",
       "159        41      83       1  1.294263e+09\n",
       "...       ...     ...     ...           ...\n",
       "35291    5972      13       1  1.437803e+09\n",
       "35304      41    5974       2  1.438383e+09\n",
       "35432    3719    1272     -10  1.442418e+09\n",
       "35433      41    4291       2  1.442787e+09\n",
       "35580      41    1052       1  1.453312e+09\n",
       "\n",
       "[586 rows x 4 columns]"
      ]
     },
     "execution_count": 8,
     "metadata": {},
     "output_type": "execute_result"
    }
   ],
   "source": [
    "ratings_subset"
   ]
  },
  {
   "cell_type": "code",
   "execution_count": 9,
   "metadata": {},
   "outputs": [],
   "source": [
    "ratings_subset = ratings_subset.reset_index()"
   ]
  },
  {
   "cell_type": "code",
   "execution_count": 10,
   "metadata": {},
   "outputs": [
    {
     "data": {
      "text/html": [
       "<div>\n",
       "<style scoped>\n",
       "    .dataframe tbody tr th:only-of-type {\n",
       "        vertical-align: middle;\n",
       "    }\n",
       "\n",
       "    .dataframe tbody tr th {\n",
       "        vertical-align: top;\n",
       "    }\n",
       "\n",
       "    .dataframe thead th {\n",
       "        text-align: right;\n",
       "    }\n",
       "</style>\n",
       "<table border=\"1\" class=\"dataframe\">\n",
       "  <thead>\n",
       "    <tr style=\"text-align: right;\">\n",
       "      <th></th>\n",
       "      <th>index</th>\n",
       "      <th>SOURCE</th>\n",
       "      <th>TARGET</th>\n",
       "      <th>RATING</th>\n",
       "      <th>TIMESTAMP</th>\n",
       "    </tr>\n",
       "  </thead>\n",
       "  <tbody>\n",
       "    <tr>\n",
       "      <th>0</th>\n",
       "      <td>90</td>\n",
       "      <td>41</td>\n",
       "      <td>36</td>\n",
       "      <td>2</td>\n",
       "      <td>1.292206e+09</td>\n",
       "    </tr>\n",
       "    <tr>\n",
       "      <th>1</th>\n",
       "      <td>127</td>\n",
       "      <td>41</td>\n",
       "      <td>75</td>\n",
       "      <td>1</td>\n",
       "      <td>1.293584e+09</td>\n",
       "    </tr>\n",
       "    <tr>\n",
       "      <th>2</th>\n",
       "      <td>139</td>\n",
       "      <td>41</td>\n",
       "      <td>60</td>\n",
       "      <td>1</td>\n",
       "      <td>1.293820e+09</td>\n",
       "    </tr>\n",
       "    <tr>\n",
       "      <th>3</th>\n",
       "      <td>148</td>\n",
       "      <td>41</td>\n",
       "      <td>4</td>\n",
       "      <td>1</td>\n",
       "      <td>1.294081e+09</td>\n",
       "    </tr>\n",
       "    <tr>\n",
       "      <th>4</th>\n",
       "      <td>159</td>\n",
       "      <td>41</td>\n",
       "      <td>83</td>\n",
       "      <td>1</td>\n",
       "      <td>1.294263e+09</td>\n",
       "    </tr>\n",
       "    <tr>\n",
       "      <th>...</th>\n",
       "      <td>...</td>\n",
       "      <td>...</td>\n",
       "      <td>...</td>\n",
       "      <td>...</td>\n",
       "      <td>...</td>\n",
       "    </tr>\n",
       "    <tr>\n",
       "      <th>581</th>\n",
       "      <td>35291</td>\n",
       "      <td>5972</td>\n",
       "      <td>13</td>\n",
       "      <td>1</td>\n",
       "      <td>1.437803e+09</td>\n",
       "    </tr>\n",
       "    <tr>\n",
       "      <th>582</th>\n",
       "      <td>35304</td>\n",
       "      <td>41</td>\n",
       "      <td>5974</td>\n",
       "      <td>2</td>\n",
       "      <td>1.438383e+09</td>\n",
       "    </tr>\n",
       "    <tr>\n",
       "      <th>583</th>\n",
       "      <td>35432</td>\n",
       "      <td>3719</td>\n",
       "      <td>1272</td>\n",
       "      <td>-10</td>\n",
       "      <td>1.442418e+09</td>\n",
       "    </tr>\n",
       "    <tr>\n",
       "      <th>584</th>\n",
       "      <td>35433</td>\n",
       "      <td>41</td>\n",
       "      <td>4291</td>\n",
       "      <td>2</td>\n",
       "      <td>1.442787e+09</td>\n",
       "    </tr>\n",
       "    <tr>\n",
       "      <th>585</th>\n",
       "      <td>35580</td>\n",
       "      <td>41</td>\n",
       "      <td>1052</td>\n",
       "      <td>1</td>\n",
       "      <td>1.453312e+09</td>\n",
       "    </tr>\n",
       "  </tbody>\n",
       "</table>\n",
       "<p>586 rows × 5 columns</p>\n",
       "</div>"
      ],
      "text/plain": [
       "     index  SOURCE  TARGET  RATING     TIMESTAMP\n",
       "0       90      41      36       2  1.292206e+09\n",
       "1      127      41      75       1  1.293584e+09\n",
       "2      139      41      60       1  1.293820e+09\n",
       "3      148      41       4       1  1.294081e+09\n",
       "4      159      41      83       1  1.294263e+09\n",
       "..     ...     ...     ...     ...           ...\n",
       "581  35291    5972      13       1  1.437803e+09\n",
       "582  35304      41    5974       2  1.438383e+09\n",
       "583  35432    3719    1272     -10  1.442418e+09\n",
       "584  35433      41    4291       2  1.442787e+09\n",
       "585  35580      41    1052       1  1.453312e+09\n",
       "\n",
       "[586 rows x 5 columns]"
      ]
     },
     "execution_count": 10,
     "metadata": {},
     "output_type": "execute_result"
    }
   ],
   "source": [
    "ratings_subset"
   ]
  },
  {
   "cell_type": "code",
   "execution_count": 12,
   "metadata": {},
   "outputs": [],
   "source": [
    "# Create relationships query file\n",
    "\n",
    "# Delete the file if it already exists\n",
    "import os\n",
    "if os.path.exists(\"create_relationships.txt\"):\n",
    "      os.remove(\"create_relationships.txt\")\n",
    "\n",
    "# Query format for relationship creation\n",
    "# \"MATCH (u1:User {id: '6'}),(u2:User {id: '2'}) WITH u1,u2 CREATE (u1)-[:TRUSTS {rating: 4}]->(u2) \"\n",
    "        \n",
    "# Write the queries to file\n",
    "with open(\"create_relationships.txt\", \"a\") as f: \n",
    "    for i in ratings_subset.index:\n",
    "        src = ratings_subset['SOURCE'][i]\n",
    "        tar = ratings_subset['TARGET'][i]\n",
    "        rating = ratings_subset['RATING'][i]\n",
    "        query = \"MATCH (u1:User {id: '%s'}),(u2:User {id: '%s'}) WITH u1,u2 CREATE (u1)-[:TRUSTS {rating: %s}]->(u2) ; \\n\" % (src, tar, rating) \n",
    "        f.write(query)\n",
    "        "
   ]
  },
  {
   "cell_type": "markdown",
   "metadata": {},
   "source": [
    "Once the queries are written to write, they can be imported in Neo4j Browser via copy and paste. But this is not an efficient way to load."
   ]
  },
  {
   "cell_type": "markdown",
   "metadata": {},
   "source": [
    "### Sample Queries:"
   ]
  },
  {
   "cell_type": "code",
   "execution_count": 14,
   "metadata": {},
   "outputs": [
    {
     "data": {
      "text/plain": [
       "'MATCH (n) RETURN n'"
      ]
     },
     "execution_count": 14,
     "metadata": {},
     "output_type": "execute_result"
    }
   ],
   "source": [
    "# Return all the nodes\n",
    "\"MATCH (n) RETURN n\""
   ]
  },
  {
   "cell_type": "code",
   "execution_count": 15,
   "metadata": {},
   "outputs": [
    {
     "data": {
      "text/plain": [
       "'MATCH (n) DETACH DELETE n'"
      ]
     },
     "execution_count": 15,
     "metadata": {},
     "output_type": "execute_result"
    }
   ],
   "source": [
    "# Delete everything\n",
    "\"MATCH (n) DETACH DELETE n\""
   ]
  },
  {
   "cell_type": "markdown",
   "metadata": {},
   "source": [
    "#### Method 2: Write the dataframe to csv and parse csv into Neo4j"
   ]
  },
  {
   "cell_type": "code",
   "execution_count": 16,
   "metadata": {},
   "outputs": [],
   "source": [
    "df = pd.DataFrame(all_nodes)\n",
    "df.columns = ['id']\n",
    "df.to_csv('nodes.csv')"
   ]
  },
  {
   "cell_type": "code",
   "execution_count": 17,
   "metadata": {},
   "outputs": [],
   "source": [
    "df = ratings_subset[['SOURCE','TARGET','RATING']]\n",
    "df.to_csv('edges.csv')"
   ]
  },
  {
   "cell_type": "code",
   "execution_count": 18,
   "metadata": {},
   "outputs": [
    {
     "data": {
      "text/plain": [
       "'LOAD CSV WITH HEADERS FROM \"https://raw.githubusercontent.com/JeremyOBrien16/CUNY_DATA_620/master/Assignment03/nodes.csv\" AS csvLine\\nCREATE (u:User {id: (csvLine.id)})'"
      ]
     },
     "execution_count": 18,
     "metadata": {},
     "output_type": "execute_result"
    }
   ],
   "source": [
    "# Create nodes\n",
    "\"\"\"LOAD CSV WITH HEADERS FROM \"https://raw.githubusercontent.com/JeremyOBrien16/CUNY_DATA_620/master/Assignment03/nodes.csv\" AS csvLine\n",
    "CREATE (u:User {id: (csvLine.id)})\"\"\""
   ]
  },
  {
   "cell_type": "code",
   "execution_count": 19,
   "metadata": {},
   "outputs": [
    {
     "data": {
      "text/plain": [
       "'LOAD CSV WITH HEADERS FROM \"https://raw.githubusercontent.com/JeremyOBrien16/CUNY_DATA_620/master/Assignment03/edges.csv\" AS csvLine\\nMATCH (u1:User {id: csvLine.SOURCE})\\nMATCH (u2:User {id: csvLine.TARGET})\\nCREATE (u1)-[:TRUSTS {rating: csvLine.RATING}]->(u2)'"
      ]
     },
     "execution_count": 19,
     "metadata": {},
     "output_type": "execute_result"
    }
   ],
   "source": [
    "# Create relationships\n",
    "\"\"\"LOAD CSV WITH HEADERS FROM \"https://raw.githubusercontent.com/JeremyOBrien16/CUNY_DATA_620/master/Assignment03/edges.csv\" AS csvLine\n",
    "MATCH (u1:User {id: csvLine.SOURCE})\n",
    "MATCH (u2:User {id: csvLine.TARGET})\n",
    "CREATE (u1)-[:TRUSTS {rating: csvLine.RATING}]->(u2)\"\"\""
   ]
  },
  {
   "cell_type": "code",
   "execution_count": null,
   "metadata": {},
   "outputs": [],
   "source": []
  }
 ],
 "metadata": {
  "kernelspec": {
   "display_name": "Python 3",
   "language": "python",
   "name": "python3"
  },
  "language_info": {
   "codemirror_mode": {
    "name": "ipython",
    "version": 3
   },
   "file_extension": ".py",
   "mimetype": "text/x-python",
   "name": "python",
   "nbconvert_exporter": "python",
   "pygments_lexer": "ipython3",
   "version": "3.7.7"
  }
 },
 "nbformat": 4,
 "nbformat_minor": 4
}
