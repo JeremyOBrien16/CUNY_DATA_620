{
 "cells": [
  {
   "cell_type": "markdown",
   "metadata": {},
   "source": [
    "# DATA 620 - Assignment 3 Alt"
   ]
  },
  {
   "cell_type": "markdown",
   "metadata": {},
   "source": [
    "by: Jeremy OBrien and Mael Illien"
   ]
  },
  {
   "cell_type": "markdown",
   "metadata": {},
   "source": [
    "Load a graph database of your choosing from a text file or other source. If you take a large network dataset from the web (such as from Stanford Large Network Dataset Collection (https://snap.stanford.edu/data/)), please feel free at this point to load just a small subset of the nodes and edges.\n",
    "\n",
    "Create basic analysis on the graph, including the graph’s diameter, and at least one other metric of your choosing. You may either code the functions by hand (to build your intuition and insight), or use functions in an existing package.\n",
    "\n",
    "Use a visualization tool of your choice (Neo4j, Gephi, etc.) to display information. Please record a short video (~ 5 minutes), and submit a link to the video in advance of our meet-up."
   ]
  },
  {
   "cell_type": "code",
   "execution_count": 1,
   "metadata": {},
   "outputs": [],
   "source": [
    "import os\n",
    "import random\n",
    "import numpy as np\n",
    "import pandas as pd\n",
    "import networkx as nx\n",
    "import matplotlib.pyplot as plt"
   ]
  },
  {
   "cell_type": "markdown",
   "metadata": {},
   "source": [
    "Data sourced from: https://snap.stanford.edu/data/soc-sign-bitcoin-otc.html"
   ]
  },
  {
   "cell_type": "code",
   "execution_count": 2,
   "metadata": {},
   "outputs": [
    {
     "data": {
      "text/plain": "       SOURCE  TARGET  RATING     TIMESTAMP\n0           6       2       4  1.289242e+09\n1           6       5       2  1.289242e+09\n2           1      15       1  1.289243e+09\n3           4       3       7  1.289245e+09\n4          13      16       8  1.289254e+09\n...       ...     ...     ...           ...\n35587    4499    1810       1  1.453612e+09\n35588    2731    3901       5  1.453679e+09\n35589    2731    4897       5  1.453679e+09\n35590      13    1128       1  1.453680e+09\n35591    1128      13       2  1.453684e+09\n\n[35592 rows x 4 columns]",
      "text/html": "<div>\n<style scoped>\n    .dataframe tbody tr th:only-of-type {\n        vertical-align: middle;\n    }\n\n    .dataframe tbody tr th {\n        vertical-align: top;\n    }\n\n    .dataframe thead th {\n        text-align: right;\n    }\n</style>\n<table border=\"1\" class=\"dataframe\">\n  <thead>\n    <tr style=\"text-align: right;\">\n      <th></th>\n      <th>SOURCE</th>\n      <th>TARGET</th>\n      <th>RATING</th>\n      <th>TIMESTAMP</th>\n    </tr>\n  </thead>\n  <tbody>\n    <tr>\n      <th>0</th>\n      <td>6</td>\n      <td>2</td>\n      <td>4</td>\n      <td>1.289242e+09</td>\n    </tr>\n    <tr>\n      <th>1</th>\n      <td>6</td>\n      <td>5</td>\n      <td>2</td>\n      <td>1.289242e+09</td>\n    </tr>\n    <tr>\n      <th>2</th>\n      <td>1</td>\n      <td>15</td>\n      <td>1</td>\n      <td>1.289243e+09</td>\n    </tr>\n    <tr>\n      <th>3</th>\n      <td>4</td>\n      <td>3</td>\n      <td>7</td>\n      <td>1.289245e+09</td>\n    </tr>\n    <tr>\n      <th>4</th>\n      <td>13</td>\n      <td>16</td>\n      <td>8</td>\n      <td>1.289254e+09</td>\n    </tr>\n    <tr>\n      <th>...</th>\n      <td>...</td>\n      <td>...</td>\n      <td>...</td>\n      <td>...</td>\n    </tr>\n    <tr>\n      <th>35587</th>\n      <td>4499</td>\n      <td>1810</td>\n      <td>1</td>\n      <td>1.453612e+09</td>\n    </tr>\n    <tr>\n      <th>35588</th>\n      <td>2731</td>\n      <td>3901</td>\n      <td>5</td>\n      <td>1.453679e+09</td>\n    </tr>\n    <tr>\n      <th>35589</th>\n      <td>2731</td>\n      <td>4897</td>\n      <td>5</td>\n      <td>1.453679e+09</td>\n    </tr>\n    <tr>\n      <th>35590</th>\n      <td>13</td>\n      <td>1128</td>\n      <td>1</td>\n      <td>1.453680e+09</td>\n    </tr>\n    <tr>\n      <th>35591</th>\n      <td>1128</td>\n      <td>13</td>\n      <td>2</td>\n      <td>1.453684e+09</td>\n    </tr>\n  </tbody>\n</table>\n<p>35592 rows × 4 columns</p>\n</div>"
     },
     "execution_count": 2,
     "metadata": {},
     "output_type": "execute_result"
    }
   ],
   "source": [
    "# Import data\n",
    "url = 'https://raw.githubusercontent.com/JeremyOBrien16/CUNY_DATA_620/master/Assignment03/soc-sign-bitcoinotc.csv'\n",
    "ratings = pd.read_csv(url, names=['SOURCE','TARGET','RATING','TIMESTAMP'] )\n",
    "ratings"
   ]
  },
  {
   "cell_type": "markdown",
   "metadata": {},
   "source": [
    "#### Load data into a graph"
   ]
  },
  {
   "cell_type": "code",
   "execution_count": 20,
   "metadata": {},
   "outputs": [],
   "source": [
    "data = open('soc-sign-bitcoinotc.csv', 'r')\n",
    "graphtype = nx.DiGraph()\n",
    "graph = nx.parse_edgelist(data, \n",
    "                      delimiter=',', \n",
    "                      create_using=graphtype,\n",
    "                      nodetype=int, \n",
    "                      data=(('weight', float),('time', float)))"
   ]
  },
  {
   "cell_type": "code",
   "execution_count": 21,
   "metadata": {},
   "outputs": [
    {
     "data": {
      "text/plain": "5881"
     },
     "execution_count": 21,
     "metadata": {},
     "output_type": "execute_result"
    }
   ],
   "source": [
    "len(graph.nodes)"
   ]
  },
  {
   "cell_type": "code",
   "execution_count": 22,
   "metadata": {},
   "outputs": [
    {
     "data": {
      "text/plain": "35592"
     },
     "execution_count": 22,
     "metadata": {},
     "output_type": "execute_result"
    }
   ],
   "source": [
    "len(graph.edges)"
   ]
  },
  {
   "cell_type": "code",
   "execution_count": 6,
   "metadata": {},
   "outputs": [],
   "source": [
    "# Expand on this graph as needed"
   ]
  },
  {
   "cell_type": "code",
   "execution_count": 6,
   "metadata": {},
   "outputs": [],
   "source": []
  },
  {
   "cell_type": "code",
   "execution_count": 6,
   "metadata": {},
   "outputs": [],
   "source": []
  },
  {
   "cell_type": "markdown",
   "metadata": {},
   "source": [
    "### Cypher Query Generation "
   ]
  },
  {
   "cell_type": "code",
   "execution_count": 3,
   "metadata": {},
   "outputs": [],
   "source": [
    "# Randomly sample 50 users\n",
    "unique_users = set(ratings['SOURCE']) # Identify unique users\n",
    "random.seed(620)\n",
    "ratings_subset = ratings[ratings['SOURCE'].isin(random.sample(unique_users, 50))]\n",
    "\n",
    "source_nodes = list(set(ratings_subset['SOURCE']))\n",
    "target_nodes = list(set(ratings_subset['TARGET']))\n",
    "all_nodes = source_nodes + target_nodes"
   ]
  },
  {
   "cell_type": "code",
   "execution_count": 4,
   "metadata": {},
   "outputs": [
    {
     "name": "stdout",
     "output_type": "stream",
     "text": [
      "50 475 525\n"
     ]
    }
   ],
   "source": [
    "print(len(source_nodes),len(target_nodes),len(all_nodes))"
   ]
  },
  {
   "cell_type": "code",
   "execution_count": 9,
   "metadata": {},
   "outputs": [],
   "source": []
  },
  {
   "cell_type": "code",
   "execution_count": 5,
   "metadata": {},
   "outputs": [
    {
     "data": {
      "text/plain": "       SOURCE  TARGET  RATING     TIMESTAMP\n90         41      36       2  1.292206e+09\n127        41      75       1  1.293584e+09\n139        41      60       1  1.293820e+09\n148        41       4       1  1.294081e+09\n159        41      83       1  1.294263e+09\n...       ...     ...     ...           ...\n35291    5972      13       1  1.437803e+09\n35304      41    5974       2  1.438383e+09\n35432    3719    1272     -10  1.442418e+09\n35433      41    4291       2  1.442787e+09\n35580      41    1052       1  1.453312e+09\n\n[586 rows x 4 columns]",
      "text/html": "<div>\n<style scoped>\n    .dataframe tbody tr th:only-of-type {\n        vertical-align: middle;\n    }\n\n    .dataframe tbody tr th {\n        vertical-align: top;\n    }\n\n    .dataframe thead th {\n        text-align: right;\n    }\n</style>\n<table border=\"1\" class=\"dataframe\">\n  <thead>\n    <tr style=\"text-align: right;\">\n      <th></th>\n      <th>SOURCE</th>\n      <th>TARGET</th>\n      <th>RATING</th>\n      <th>TIMESTAMP</th>\n    </tr>\n  </thead>\n  <tbody>\n    <tr>\n      <th>90</th>\n      <td>41</td>\n      <td>36</td>\n      <td>2</td>\n      <td>1.292206e+09</td>\n    </tr>\n    <tr>\n      <th>127</th>\n      <td>41</td>\n      <td>75</td>\n      <td>1</td>\n      <td>1.293584e+09</td>\n    </tr>\n    <tr>\n      <th>139</th>\n      <td>41</td>\n      <td>60</td>\n      <td>1</td>\n      <td>1.293820e+09</td>\n    </tr>\n    <tr>\n      <th>148</th>\n      <td>41</td>\n      <td>4</td>\n      <td>1</td>\n      <td>1.294081e+09</td>\n    </tr>\n    <tr>\n      <th>159</th>\n      <td>41</td>\n      <td>83</td>\n      <td>1</td>\n      <td>1.294263e+09</td>\n    </tr>\n    <tr>\n      <th>...</th>\n      <td>...</td>\n      <td>...</td>\n      <td>...</td>\n      <td>...</td>\n    </tr>\n    <tr>\n      <th>35291</th>\n      <td>5972</td>\n      <td>13</td>\n      <td>1</td>\n      <td>1.437803e+09</td>\n    </tr>\n    <tr>\n      <th>35304</th>\n      <td>41</td>\n      <td>5974</td>\n      <td>2</td>\n      <td>1.438383e+09</td>\n    </tr>\n    <tr>\n      <th>35432</th>\n      <td>3719</td>\n      <td>1272</td>\n      <td>-10</td>\n      <td>1.442418e+09</td>\n    </tr>\n    <tr>\n      <th>35433</th>\n      <td>41</td>\n      <td>4291</td>\n      <td>2</td>\n      <td>1.442787e+09</td>\n    </tr>\n    <tr>\n      <th>35580</th>\n      <td>41</td>\n      <td>1052</td>\n      <td>1</td>\n      <td>1.453312e+09</td>\n    </tr>\n  </tbody>\n</table>\n<p>586 rows × 4 columns</p>\n</div>"
     },
     "execution_count": 5,
     "metadata": {},
     "output_type": "execute_result"
    }
   ],
   "source": [
    "ratings_subset"
   ]
  },
  {
   "cell_type": "code",
   "execution_count": 6,
   "metadata": {},
   "outputs": [],
   "source": [
    "ratings_subset = ratings_subset.reset_index()"
   ]
  },
  {
   "cell_type": "code",
   "execution_count": 7,
   "metadata": {},
   "outputs": [
    {
     "data": {
      "text/plain": "     index  SOURCE  TARGET  RATING     TIMESTAMP\n0       90      41      36       2  1.292206e+09\n1      127      41      75       1  1.293584e+09\n2      139      41      60       1  1.293820e+09\n3      148      41       4       1  1.294081e+09\n4      159      41      83       1  1.294263e+09\n..     ...     ...     ...     ...           ...\n581  35291    5972      13       1  1.437803e+09\n582  35304      41    5974       2  1.438383e+09\n583  35432    3719    1272     -10  1.442418e+09\n584  35433      41    4291       2  1.442787e+09\n585  35580      41    1052       1  1.453312e+09\n\n[586 rows x 5 columns]",
      "text/html": "<div>\n<style scoped>\n    .dataframe tbody tr th:only-of-type {\n        vertical-align: middle;\n    }\n\n    .dataframe tbody tr th {\n        vertical-align: top;\n    }\n\n    .dataframe thead th {\n        text-align: right;\n    }\n</style>\n<table border=\"1\" class=\"dataframe\">\n  <thead>\n    <tr style=\"text-align: right;\">\n      <th></th>\n      <th>index</th>\n      <th>SOURCE</th>\n      <th>TARGET</th>\n      <th>RATING</th>\n      <th>TIMESTAMP</th>\n    </tr>\n  </thead>\n  <tbody>\n    <tr>\n      <th>0</th>\n      <td>90</td>\n      <td>41</td>\n      <td>36</td>\n      <td>2</td>\n      <td>1.292206e+09</td>\n    </tr>\n    <tr>\n      <th>1</th>\n      <td>127</td>\n      <td>41</td>\n      <td>75</td>\n      <td>1</td>\n      <td>1.293584e+09</td>\n    </tr>\n    <tr>\n      <th>2</th>\n      <td>139</td>\n      <td>41</td>\n      <td>60</td>\n      <td>1</td>\n      <td>1.293820e+09</td>\n    </tr>\n    <tr>\n      <th>3</th>\n      <td>148</td>\n      <td>41</td>\n      <td>4</td>\n      <td>1</td>\n      <td>1.294081e+09</td>\n    </tr>\n    <tr>\n      <th>4</th>\n      <td>159</td>\n      <td>41</td>\n      <td>83</td>\n      <td>1</td>\n      <td>1.294263e+09</td>\n    </tr>\n    <tr>\n      <th>...</th>\n      <td>...</td>\n      <td>...</td>\n      <td>...</td>\n      <td>...</td>\n      <td>...</td>\n    </tr>\n    <tr>\n      <th>581</th>\n      <td>35291</td>\n      <td>5972</td>\n      <td>13</td>\n      <td>1</td>\n      <td>1.437803e+09</td>\n    </tr>\n    <tr>\n      <th>582</th>\n      <td>35304</td>\n      <td>41</td>\n      <td>5974</td>\n      <td>2</td>\n      <td>1.438383e+09</td>\n    </tr>\n    <tr>\n      <th>583</th>\n      <td>35432</td>\n      <td>3719</td>\n      <td>1272</td>\n      <td>-10</td>\n      <td>1.442418e+09</td>\n    </tr>\n    <tr>\n      <th>584</th>\n      <td>35433</td>\n      <td>41</td>\n      <td>4291</td>\n      <td>2</td>\n      <td>1.442787e+09</td>\n    </tr>\n    <tr>\n      <th>585</th>\n      <td>35580</td>\n      <td>41</td>\n      <td>1052</td>\n      <td>1</td>\n      <td>1.453312e+09</td>\n    </tr>\n  </tbody>\n</table>\n<p>586 rows × 5 columns</p>\n</div>"
     },
     "execution_count": 7,
     "metadata": {},
     "output_type": "execute_result"
    }
   ],
   "source": [
    "ratings_subset"
   ]
  },
  {
   "cell_type": "markdown",
   "metadata": {},
   "source": [
    "### Sample Cypher Queries:"
   ]
  },
  {
   "cell_type": "code",
   "execution_count": 12,
   "metadata": {},
   "outputs": [
    {
     "data": {
      "text/plain": "'MATCH (n) RETURN n'"
     },
     "execution_count": 12,
     "metadata": {},
     "output_type": "execute_result"
    }
   ],
   "source": [
    "# Return all the nodes\n",
    "\"MATCH (n) RETURN n\""
   ]
  },
  {
   "cell_type": "code",
   "execution_count": 13,
   "metadata": {},
   "outputs": [
    {
     "data": {
      "text/plain": "'MATCH (n) DETACH DELETE n'"
     },
     "execution_count": 13,
     "metadata": {},
     "output_type": "execute_result"
    }
   ],
   "source": [
    "# Delete everything\n",
    "\"MATCH (n) DETACH DELETE n\""
   ]
  },
  {
   "cell_type": "markdown",
   "metadata": {},
   "source": [
    "### Write node and relationship data to csv"
   ]
  },
  {
   "cell_type": "code",
   "execution_count": 8,
   "metadata": {},
   "outputs": [],
   "source": [
    "# Nodes\n",
    "df = pd.DataFrame(all_nodes)\n",
    "df.columns = ['id']\n",
    "#df\n",
    "df.to_csv('nodes.csv')"
   ]
  },
  {
   "cell_type": "code",
   "execution_count": 16,
   "metadata": {},
   "outputs": [],
   "source": []
  },
  {
   "cell_type": "code",
   "execution_count": 9,
   "metadata": {},
   "outputs": [],
   "source": [
    "# Edges\n",
    "df = ratings[ratings['SOURCE'].isin(list(source_nodes))]\n",
    "df = df[['SOURCE','TARGET','RATING']]\n",
    "#df\n",
    "df.to_csv('edges.csv')"
   ]
  },
  {
   "cell_type": "markdown",
   "metadata": {},
   "source": [
    "### Cypher data import queries"
   ]
  },
  {
   "cell_type": "code",
   "execution_count": 16,
   "metadata": {},
   "outputs": [
    {
     "data": {
      "text/plain": "'LOAD CSV WITH HEADERS FROM \"https://raw.githubusercontent.com/JeremyOBrien16/CUNY_DATA_620/master/Assignment03/nodes.csv\" AS csvLine\\nCREATE (u:User {id: (csvLine.id)})'"
     },
     "execution_count": 16,
     "metadata": {},
     "output_type": "execute_result"
    }
   ],
   "source": [
    "# Create nodes\n",
    "\"\"\"LOAD CSV WITH HEADERS FROM \"https://raw.githubusercontent.com/JeremyOBrien16/CUNY_DATA_620/master/Assignment03/nodes.csv\" AS csvLine\n",
    "CREATE (u:User {id: (csvLine.id)})\"\"\""
   ]
  },
  {
   "cell_type": "code",
   "execution_count": 17,
   "metadata": {},
   "outputs": [
    {
     "data": {
      "text/plain": "'LOAD CSV WITH HEADERS FROM \"https://raw.githubusercontent.com/JeremyOBrien16/CUNY_DATA_620/master/Assignment03/edges.csv\" AS csvLine\\nMATCH (u1:User {id: csvLine.SOURCE})\\nMATCH (u2:User {id: csvLine.TARGET})\\nCREATE (u1)-[:TRUSTS {rating: csvLine.RATING}]->(u2)'"
     },
     "execution_count": 17,
     "metadata": {},
     "output_type": "execute_result"
    }
   ],
   "source": [
    "# Create relationships\n",
    "\"\"\"LOAD CSV WITH HEADERS FROM \"https://raw.githubusercontent.com/JeremyOBrien16/CUNY_DATA_620/mael-a3/Assignment03/edges.csv\" AS csvLine\n",
    "MATCH (u1:User {id: csvLine.SOURCE})\n",
    "MATCH (u2:User {id: csvLine.TARGET})\n",
    "CREATE (u1)-[:TRUSTS {rating: csvLine.RATING}]->(u2)\"\"\""
   ]
  },
  {
   "cell_type": "markdown",
   "metadata": {},
   "source": [
    "Resulting graph:"
   ]
  },
  {
   "cell_type": "markdown",
   "metadata": {},
   "source": [
    "![Neo4j Graph](https://raw.githubusercontent.com/JeremyOBrien16/CUNY_DATA_620/master/Assignment03/graph.png)"
   ]
  },
  {
   "cell_type": "markdown",
   "metadata": {},
   "source": [
    "### Import from Neo4j into networkx"
   ]
  },
  {
   "cell_type": "code",
   "execution_count": 18,
   "metadata": {},
   "outputs": [],
   "source": [
    "from neo4j import GraphDatabase\n",
    "from neo4jconfig import neo4j_auth\n",
    "%matplotlib inline"
   ]
  },
  {
   "cell_type": "code",
   "execution_count": 19,
   "metadata": {},
   "outputs": [
    {
     "ename": "ServiceUnavailable",
     "evalue": "Failed to establish connection to ('127.0.0.1', 7687) (reason [Errno 61] Connection refused)",
     "output_type": "error",
     "traceback": [
      "\u001B[0;31m---------------------------------------------------------------------------\u001B[0m",
      "\u001B[0;31mConnectionRefusedError\u001B[0m                    Traceback (most recent call last)",
      "\u001B[0;32m/usr/local/lib/python3.7/site-packages/neobolt/direct.py\u001B[0m in \u001B[0;36m_connect\u001B[0;34m(resolved_address, **config)\u001B[0m\n\u001B[1;32m    830\u001B[0m         \u001B[0mlog_debug\u001B[0m\u001B[0;34m(\u001B[0m\u001B[0;34m\"[#0000]  C: <OPEN> %s\"\u001B[0m\u001B[0;34m,\u001B[0m \u001B[0mresolved_address\u001B[0m\u001B[0;34m)\u001B[0m\u001B[0;34m\u001B[0m\u001B[0;34m\u001B[0m\u001B[0m\n\u001B[0;32m--> 831\u001B[0;31m         \u001B[0ms\u001B[0m\u001B[0;34m.\u001B[0m\u001B[0mconnect\u001B[0m\u001B[0;34m(\u001B[0m\u001B[0mresolved_address\u001B[0m\u001B[0;34m)\u001B[0m\u001B[0;34m\u001B[0m\u001B[0;34m\u001B[0m\u001B[0m\n\u001B[0m\u001B[1;32m    832\u001B[0m         \u001B[0ms\u001B[0m\u001B[0;34m.\u001B[0m\u001B[0msettimeout\u001B[0m\u001B[0;34m(\u001B[0m\u001B[0mt\u001B[0m\u001B[0;34m)\u001B[0m\u001B[0;34m\u001B[0m\u001B[0;34m\u001B[0m\u001B[0m\n",
      "\u001B[0;31mConnectionRefusedError\u001B[0m: [Errno 61] Connection refused",
      "\nDuring handling of the above exception, another exception occurred:\n",
      "\u001B[0;31mServiceUnavailable\u001B[0m                        Traceback (most recent call last)",
      "\u001B[0;32m<ipython-input-19-05940a5892ab>\u001B[0m in \u001B[0;36m<module>\u001B[0;34m\u001B[0m\n\u001B[0;32m----> 1\u001B[0;31m \u001B[0mgdb\u001B[0m \u001B[0;34m=\u001B[0m \u001B[0mGraphDatabase\u001B[0m\u001B[0;34m.\u001B[0m\u001B[0mdriver\u001B[0m\u001B[0;34m(\u001B[0m\u001B[0muri\u001B[0m\u001B[0;34m=\u001B[0m\u001B[0mneo4j_auth\u001B[0m\u001B[0;34m[\u001B[0m\u001B[0;34m'uri'\u001B[0m\u001B[0;34m]\u001B[0m\u001B[0;34m,\u001B[0m\u001B[0mauth\u001B[0m\u001B[0;34m=\u001B[0m\u001B[0;34m(\u001B[0m\u001B[0mneo4j_auth\u001B[0m\u001B[0;34m[\u001B[0m\u001B[0;34m'user'\u001B[0m\u001B[0;34m]\u001B[0m\u001B[0;34m,\u001B[0m\u001B[0mneo4j_auth\u001B[0m\u001B[0;34m[\u001B[0m\u001B[0;34m'password'\u001B[0m\u001B[0;34m]\u001B[0m\u001B[0;34m)\u001B[0m\u001B[0;34m,\u001B[0m \u001B[0mencrypted\u001B[0m\u001B[0;34m=\u001B[0m\u001B[0;32mFalse\u001B[0m\u001B[0;34m)\u001B[0m\u001B[0;34m\u001B[0m\u001B[0;34m\u001B[0m\u001B[0m\n\u001B[0m\u001B[1;32m      2\u001B[0m \u001B[0msession\u001B[0m \u001B[0;34m=\u001B[0m \u001B[0mgdb\u001B[0m\u001B[0;34m.\u001B[0m\u001B[0msession\u001B[0m\u001B[0;34m(\u001B[0m\u001B[0;34m)\u001B[0m\u001B[0;34m\u001B[0m\u001B[0;34m\u001B[0m\u001B[0m\n\u001B[1;32m      3\u001B[0m \u001B[0;34m\u001B[0m\u001B[0m\n",
      "\u001B[0;32m/usr/local/lib/python3.7/site-packages/neo4j/__init__.py\u001B[0m in \u001B[0;36mdriver\u001B[0;34m(cls, uri, **config)\u001B[0m\n\u001B[1;32m    118\u001B[0m         \u001B[0;34m:\u001B[0m\u001B[0;32mclass\u001B[0m\u001B[0;34m:\u001B[0m\u001B[0;31m`\u001B[0m\u001B[0;34m.\u001B[0m\u001B[0mDriver\u001B[0m\u001B[0;31m`\u001B[0m \u001B[0msubclass\u001B[0m \u001B[0minstance\u001B[0m \u001B[0mdirectly\u001B[0m\u001B[0;34m.\u001B[0m\u001B[0;34m\u001B[0m\u001B[0;34m\u001B[0m\u001B[0m\n\u001B[1;32m    119\u001B[0m         \"\"\"\n\u001B[0;32m--> 120\u001B[0;31m         \u001B[0;32mreturn\u001B[0m \u001B[0mDriver\u001B[0m\u001B[0;34m(\u001B[0m\u001B[0muri\u001B[0m\u001B[0;34m,\u001B[0m \u001B[0;34m**\u001B[0m\u001B[0mconfig\u001B[0m\u001B[0;34m)\u001B[0m\u001B[0;34m\u001B[0m\u001B[0;34m\u001B[0m\u001B[0m\n\u001B[0m\u001B[1;32m    121\u001B[0m \u001B[0;34m\u001B[0m\u001B[0m\n\u001B[1;32m    122\u001B[0m \u001B[0;34m\u001B[0m\u001B[0m\n",
      "\u001B[0;32m/usr/local/lib/python3.7/site-packages/neo4j/__init__.py\u001B[0m in \u001B[0;36m__new__\u001B[0;34m(cls, uri, **config)\u001B[0m\n\u001B[1;32m    159\u001B[0m         \u001B[0;32mfor\u001B[0m \u001B[0msubclass\u001B[0m \u001B[0;32min\u001B[0m \u001B[0mDriver\u001B[0m\u001B[0;34m.\u001B[0m\u001B[0m__subclasses__\u001B[0m\u001B[0;34m(\u001B[0m\u001B[0;34m)\u001B[0m\u001B[0;34m:\u001B[0m\u001B[0;34m\u001B[0m\u001B[0;34m\u001B[0m\u001B[0m\n\u001B[1;32m    160\u001B[0m             \u001B[0;32mif\u001B[0m \u001B[0mparsed_scheme\u001B[0m \u001B[0;32min\u001B[0m \u001B[0msubclass\u001B[0m\u001B[0;34m.\u001B[0m\u001B[0muri_schemes\u001B[0m\u001B[0;34m:\u001B[0m\u001B[0;34m\u001B[0m\u001B[0;34m\u001B[0m\u001B[0m\n\u001B[0;32m--> 161\u001B[0;31m                 \u001B[0;32mreturn\u001B[0m \u001B[0msubclass\u001B[0m\u001B[0;34m(\u001B[0m\u001B[0muri\u001B[0m\u001B[0;34m,\u001B[0m \u001B[0;34m**\u001B[0m\u001B[0mconfig\u001B[0m\u001B[0;34m)\u001B[0m\u001B[0;34m\u001B[0m\u001B[0;34m\u001B[0m\u001B[0m\n\u001B[0m\u001B[1;32m    162\u001B[0m         \u001B[0;32mraise\u001B[0m \u001B[0mValueError\u001B[0m\u001B[0;34m(\u001B[0m\u001B[0;34m\"URI scheme %r not supported\"\u001B[0m \u001B[0;34m%\u001B[0m \u001B[0mparsed\u001B[0m\u001B[0;34m.\u001B[0m\u001B[0mscheme\u001B[0m\u001B[0;34m)\u001B[0m\u001B[0;34m\u001B[0m\u001B[0;34m\u001B[0m\u001B[0m\n\u001B[1;32m    163\u001B[0m \u001B[0;34m\u001B[0m\u001B[0m\n",
      "\u001B[0;32m/usr/local/lib/python3.7/site-packages/neo4j/__init__.py\u001B[0m in \u001B[0;36m__new__\u001B[0;34m(cls, uri, **config)\u001B[0m\n\u001B[1;32m    233\u001B[0m \u001B[0;34m\u001B[0m\u001B[0m\n\u001B[1;32m    234\u001B[0m         \u001B[0mpool\u001B[0m \u001B[0;34m=\u001B[0m \u001B[0mConnectionPool\u001B[0m\u001B[0;34m(\u001B[0m\u001B[0mconnector\u001B[0m\u001B[0;34m,\u001B[0m \u001B[0minstance\u001B[0m\u001B[0;34m.\u001B[0m\u001B[0maddress\u001B[0m\u001B[0;34m,\u001B[0m \u001B[0;34m**\u001B[0m\u001B[0mconfig\u001B[0m\u001B[0;34m)\u001B[0m\u001B[0;34m\u001B[0m\u001B[0;34m\u001B[0m\u001B[0m\n\u001B[0;32m--> 235\u001B[0;31m         \u001B[0mpool\u001B[0m\u001B[0;34m.\u001B[0m\u001B[0mrelease\u001B[0m\u001B[0;34m(\u001B[0m\u001B[0mpool\u001B[0m\u001B[0;34m.\u001B[0m\u001B[0macquire\u001B[0m\u001B[0;34m(\u001B[0m\u001B[0;34m)\u001B[0m\u001B[0;34m)\u001B[0m\u001B[0;34m\u001B[0m\u001B[0;34m\u001B[0m\u001B[0m\n\u001B[0m\u001B[1;32m    236\u001B[0m         \u001B[0minstance\u001B[0m\u001B[0;34m.\u001B[0m\u001B[0m_pool\u001B[0m \u001B[0;34m=\u001B[0m \u001B[0mpool\u001B[0m\u001B[0;34m\u001B[0m\u001B[0;34m\u001B[0m\u001B[0m\n\u001B[1;32m    237\u001B[0m         \u001B[0minstance\u001B[0m\u001B[0;34m.\u001B[0m\u001B[0m_max_retry_time\u001B[0m \u001B[0;34m=\u001B[0m \u001B[0mconfig\u001B[0m\u001B[0;34m.\u001B[0m\u001B[0mget\u001B[0m\u001B[0;34m(\u001B[0m\u001B[0;34m\"max_retry_time\"\u001B[0m\u001B[0;34m,\u001B[0m \u001B[0mdefault_config\u001B[0m\u001B[0;34m[\u001B[0m\u001B[0;34m\"max_retry_time\"\u001B[0m\u001B[0;34m]\u001B[0m\u001B[0;34m)\u001B[0m\u001B[0;34m\u001B[0m\u001B[0;34m\u001B[0m\u001B[0m\n",
      "\u001B[0;32m/usr/local/lib/python3.7/site-packages/neobolt/direct.py\u001B[0m in \u001B[0;36macquire\u001B[0;34m(self, access_mode)\u001B[0m\n\u001B[1;32m    713\u001B[0m \u001B[0;34m\u001B[0m\u001B[0m\n\u001B[1;32m    714\u001B[0m     \u001B[0;32mdef\u001B[0m \u001B[0macquire\u001B[0m\u001B[0;34m(\u001B[0m\u001B[0mself\u001B[0m\u001B[0;34m,\u001B[0m \u001B[0maccess_mode\u001B[0m\u001B[0;34m=\u001B[0m\u001B[0;32mNone\u001B[0m\u001B[0;34m)\u001B[0m\u001B[0;34m:\u001B[0m\u001B[0;34m\u001B[0m\u001B[0;34m\u001B[0m\u001B[0m\n\u001B[0;32m--> 715\u001B[0;31m         \u001B[0;32mreturn\u001B[0m \u001B[0mself\u001B[0m\u001B[0;34m.\u001B[0m\u001B[0macquire_direct\u001B[0m\u001B[0;34m(\u001B[0m\u001B[0mself\u001B[0m\u001B[0;34m.\u001B[0m\u001B[0maddress\u001B[0m\u001B[0;34m)\u001B[0m\u001B[0;34m\u001B[0m\u001B[0;34m\u001B[0m\u001B[0m\n\u001B[0m\u001B[1;32m    716\u001B[0m \u001B[0;34m\u001B[0m\u001B[0m\n\u001B[1;32m    717\u001B[0m \u001B[0;34m\u001B[0m\u001B[0m\n",
      "\u001B[0;32m/usr/local/lib/python3.7/site-packages/neobolt/direct.py\u001B[0m in \u001B[0;36macquire_direct\u001B[0;34m(self, address)\u001B[0m\n\u001B[1;32m    606\u001B[0m                 \u001B[0;32mif\u001B[0m \u001B[0mcan_create_new_connection\u001B[0m\u001B[0;34m:\u001B[0m\u001B[0;34m\u001B[0m\u001B[0;34m\u001B[0m\u001B[0m\n\u001B[1;32m    607\u001B[0m                     \u001B[0;32mtry\u001B[0m\u001B[0;34m:\u001B[0m\u001B[0;34m\u001B[0m\u001B[0;34m\u001B[0m\u001B[0m\n\u001B[0;32m--> 608\u001B[0;31m                         \u001B[0mconnection\u001B[0m \u001B[0;34m=\u001B[0m \u001B[0mself\u001B[0m\u001B[0;34m.\u001B[0m\u001B[0mconnector\u001B[0m\u001B[0;34m(\u001B[0m\u001B[0maddress\u001B[0m\u001B[0;34m,\u001B[0m \u001B[0merror_handler\u001B[0m\u001B[0;34m=\u001B[0m\u001B[0mself\u001B[0m\u001B[0;34m.\u001B[0m\u001B[0mconnection_error_handler\u001B[0m\u001B[0;34m)\u001B[0m\u001B[0;34m\u001B[0m\u001B[0;34m\u001B[0m\u001B[0m\n\u001B[0m\u001B[1;32m    609\u001B[0m                     \u001B[0;32mexcept\u001B[0m \u001B[0mServiceUnavailable\u001B[0m\u001B[0;34m:\u001B[0m\u001B[0;34m\u001B[0m\u001B[0;34m\u001B[0m\u001B[0m\n\u001B[1;32m    610\u001B[0m                         \u001B[0mself\u001B[0m\u001B[0;34m.\u001B[0m\u001B[0mremove\u001B[0m\u001B[0;34m(\u001B[0m\u001B[0maddress\u001B[0m\u001B[0;34m)\u001B[0m\u001B[0;34m\u001B[0m\u001B[0;34m\u001B[0m\u001B[0m\n",
      "\u001B[0;32m/usr/local/lib/python3.7/site-packages/neo4j/__init__.py\u001B[0m in \u001B[0;36mconnector\u001B[0;34m(address, **kwargs)\u001B[0m\n\u001B[1;32m    230\u001B[0m \u001B[0;34m\u001B[0m\u001B[0m\n\u001B[1;32m    231\u001B[0m         \u001B[0;32mdef\u001B[0m \u001B[0mconnector\u001B[0m\u001B[0;34m(\u001B[0m\u001B[0maddress\u001B[0m\u001B[0;34m,\u001B[0m \u001B[0;34m**\u001B[0m\u001B[0mkwargs\u001B[0m\u001B[0;34m)\u001B[0m\u001B[0;34m:\u001B[0m\u001B[0;34m\u001B[0m\u001B[0;34m\u001B[0m\u001B[0m\n\u001B[0;32m--> 232\u001B[0;31m             \u001B[0;32mreturn\u001B[0m \u001B[0mconnect\u001B[0m\u001B[0;34m(\u001B[0m\u001B[0maddress\u001B[0m\u001B[0;34m,\u001B[0m \u001B[0;34m**\u001B[0m\u001B[0mdict\u001B[0m\u001B[0;34m(\u001B[0m\u001B[0mconfig\u001B[0m\u001B[0;34m,\u001B[0m \u001B[0;34m**\u001B[0m\u001B[0mkwargs\u001B[0m\u001B[0;34m)\u001B[0m\u001B[0;34m)\u001B[0m\u001B[0;34m\u001B[0m\u001B[0;34m\u001B[0m\u001B[0m\n\u001B[0m\u001B[1;32m    233\u001B[0m \u001B[0;34m\u001B[0m\u001B[0m\n\u001B[1;32m    234\u001B[0m         \u001B[0mpool\u001B[0m \u001B[0;34m=\u001B[0m \u001B[0mConnectionPool\u001B[0m\u001B[0;34m(\u001B[0m\u001B[0mconnector\u001B[0m\u001B[0;34m,\u001B[0m \u001B[0minstance\u001B[0m\u001B[0;34m.\u001B[0m\u001B[0maddress\u001B[0m\u001B[0;34m,\u001B[0m \u001B[0;34m**\u001B[0m\u001B[0mconfig\u001B[0m\u001B[0;34m)\u001B[0m\u001B[0;34m\u001B[0m\u001B[0;34m\u001B[0m\u001B[0m\n",
      "\u001B[0;32m/usr/local/lib/python3.7/site-packages/neobolt/direct.py\u001B[0m in \u001B[0;36mconnect\u001B[0;34m(address, **config)\u001B[0m\n\u001B[1;32m    970\u001B[0m         \u001B[0;32mraise\u001B[0m \u001B[0mServiceUnavailable\u001B[0m\u001B[0;34m(\u001B[0m\u001B[0;34m\"Failed to resolve addresses for %s\"\u001B[0m \u001B[0;34m%\u001B[0m \u001B[0maddress\u001B[0m\u001B[0;34m)\u001B[0m\u001B[0;34m\u001B[0m\u001B[0;34m\u001B[0m\u001B[0m\n\u001B[1;32m    971\u001B[0m     \u001B[0;32melse\u001B[0m\u001B[0;34m:\u001B[0m\u001B[0;34m\u001B[0m\u001B[0;34m\u001B[0m\u001B[0m\n\u001B[0;32m--> 972\u001B[0;31m         \u001B[0;32mraise\u001B[0m \u001B[0mlast_error\u001B[0m\u001B[0;34m\u001B[0m\u001B[0;34m\u001B[0m\u001B[0m\n\u001B[0m",
      "\u001B[0;32m/usr/local/lib/python3.7/site-packages/neobolt/direct.py\u001B[0m in \u001B[0;36mconnect\u001B[0;34m(address, **config)\u001B[0m\n\u001B[1;32m    960\u001B[0m         \u001B[0;32mtry\u001B[0m\u001B[0;34m:\u001B[0m\u001B[0;34m\u001B[0m\u001B[0;34m\u001B[0m\u001B[0m\n\u001B[1;32m    961\u001B[0m             \u001B[0mhost\u001B[0m \u001B[0;34m=\u001B[0m \u001B[0maddress\u001B[0m\u001B[0;34m[\u001B[0m\u001B[0;36m0\u001B[0m\u001B[0;34m]\u001B[0m\u001B[0;34m\u001B[0m\u001B[0;34m\u001B[0m\u001B[0m\n\u001B[0;32m--> 962\u001B[0;31m             \u001B[0ms\u001B[0m \u001B[0;34m=\u001B[0m \u001B[0m_connect\u001B[0m\u001B[0;34m(\u001B[0m\u001B[0mresolved_address\u001B[0m\u001B[0;34m,\u001B[0m \u001B[0;34m**\u001B[0m\u001B[0mconfig\u001B[0m\u001B[0;34m)\u001B[0m\u001B[0;34m\u001B[0m\u001B[0;34m\u001B[0m\u001B[0m\n\u001B[0m\u001B[1;32m    963\u001B[0m             \u001B[0ms\u001B[0m\u001B[0;34m,\u001B[0m \u001B[0mder_encoded_server_certificate\u001B[0m \u001B[0;34m=\u001B[0m \u001B[0m_secure\u001B[0m\u001B[0;34m(\u001B[0m\u001B[0ms\u001B[0m\u001B[0;34m,\u001B[0m \u001B[0mhost\u001B[0m\u001B[0;34m,\u001B[0m \u001B[0msecurity_plan\u001B[0m\u001B[0;34m.\u001B[0m\u001B[0mssl_context\u001B[0m\u001B[0;34m,\u001B[0m \u001B[0;34m**\u001B[0m\u001B[0mconfig\u001B[0m\u001B[0;34m)\u001B[0m\u001B[0;34m\u001B[0m\u001B[0;34m\u001B[0m\u001B[0m\n\u001B[1;32m    964\u001B[0m             \u001B[0mconnection\u001B[0m \u001B[0;34m=\u001B[0m \u001B[0m_handshake\u001B[0m\u001B[0;34m(\u001B[0m\u001B[0ms\u001B[0m\u001B[0;34m,\u001B[0m \u001B[0maddress\u001B[0m\u001B[0;34m,\u001B[0m \u001B[0mder_encoded_server_certificate\u001B[0m\u001B[0;34m,\u001B[0m \u001B[0;34m**\u001B[0m\u001B[0mconfig\u001B[0m\u001B[0;34m)\u001B[0m\u001B[0;34m\u001B[0m\u001B[0;34m\u001B[0m\u001B[0m\n",
      "\u001B[0;32m/usr/local/lib/python3.7/site-packages/neobolt/direct.py\u001B[0m in \u001B[0;36m_connect\u001B[0;34m(resolved_address, **config)\u001B[0m\n\u001B[1;32m    841\u001B[0m         \u001B[0mlog_debug\u001B[0m\u001B[0;34m(\u001B[0m\u001B[0;34m\"[#0000]  C: <CLOSE> %s\"\u001B[0m\u001B[0;34m,\u001B[0m \u001B[0mresolved_address\u001B[0m\u001B[0;34m)\u001B[0m\u001B[0;34m\u001B[0m\u001B[0;34m\u001B[0m\u001B[0m\n\u001B[1;32m    842\u001B[0m         \u001B[0ms\u001B[0m\u001B[0;34m.\u001B[0m\u001B[0mclose\u001B[0m\u001B[0;34m(\u001B[0m\u001B[0;34m)\u001B[0m\u001B[0;34m\u001B[0m\u001B[0;34m\u001B[0m\u001B[0m\n\u001B[0;32m--> 843\u001B[0;31m         \u001B[0;32mraise\u001B[0m \u001B[0mServiceUnavailable\u001B[0m\u001B[0;34m(\u001B[0m\u001B[0;34m\"Failed to establish connection to {!r} (reason {})\"\u001B[0m\u001B[0;34m.\u001B[0m\u001B[0mformat\u001B[0m\u001B[0;34m(\u001B[0m\u001B[0mresolved_address\u001B[0m\u001B[0;34m,\u001B[0m \u001B[0merror\u001B[0m\u001B[0;34m)\u001B[0m\u001B[0;34m)\u001B[0m\u001B[0;34m\u001B[0m\u001B[0;34m\u001B[0m\u001B[0m\n\u001B[0m\u001B[1;32m    844\u001B[0m     \u001B[0;32melse\u001B[0m\u001B[0;34m:\u001B[0m\u001B[0;34m\u001B[0m\u001B[0;34m\u001B[0m\u001B[0m\n\u001B[1;32m    845\u001B[0m         \u001B[0;32mreturn\u001B[0m \u001B[0ms\u001B[0m\u001B[0;34m\u001B[0m\u001B[0;34m\u001B[0m\u001B[0m\n",
      "\u001B[0;31mServiceUnavailable\u001B[0m: Failed to establish connection to ('127.0.0.1', 7687) (reason [Errno 61] Connection refused)"
     ]
    }
   ],
   "source": [
    "gdb = GraphDatabase.driver(uri=neo4j_auth['uri'],auth=(neo4j_auth['user'],neo4j_auth['password']), encrypted=False)\n",
    "session = gdb.session()"
   ]
  },
  {
   "cell_type": "code",
   "execution_count": null,
   "metadata": {},
   "outputs": [],
   "source": [
    "# Return all nodes\n",
    "records = session.run(\"MATCH (n) OPTIONAL MATCH (n)-[r]->() RETURN n, r\")\n",
    "for r in records:\n",
    "    #print(r['n'])\n",
    "    print(r['n']['id'])"
   ]
  },
  {
   "cell_type": "code",
   "execution_count": null,
   "metadata": {},
   "outputs": [],
   "source": [
    "# Return all relationships\n",
    "records = session.run(\"MATCH (n) OPTIONAL MATCH (n)-[r]->() RETURN n, r\")\n",
    "for r in records:\n",
    "    rel = r['r']\n",
    "    if rel is not None:\n",
    "        #print(rel)\n",
    "        print(rel.start_node['id'], rel.end_node['id'], rel['rating'])"
   ]
  },
  {
   "cell_type": "code",
   "execution_count": null,
   "metadata": {},
   "outputs": [],
   "source": [
    "result = session.run(\"MATCH (u1:User {id: '2296'})-[r:TRUSTS]->(u2) RETURN u1, u2, r.rating AS rating\")\n",
    "for r in result:\n",
    "    print(r)\n",
    "    #print(r['u1'], r['u2'].id, r['rating'])\n",
    "    #print(r['u1'].id, r['u2'].id, r['rating'])\n",
    "    \n",
    "#ratings = [(record[\"rating\"] for record in result]\n",
    "#ratings"
   ]
  },
  {
   "cell_type": "code",
   "execution_count": null,
   "metadata": {},
   "outputs": [],
   "source": []
  },
  {
   "cell_type": "code",
   "execution_count": null,
   "metadata": {},
   "outputs": [],
   "source": [
    "# Return all nodes\n",
    "result = session.run(\"MATCH (u:User) RETURN u.id AS id\")\n",
    "labels = [] # Used in graphing\n",
    "node_ids = [record[\"id\"] for record in result]\n",
    "node_ids = np.array(node_ids).astype(np.int)"
   ]
  },
  {
   "cell_type": "code",
   "execution_count": null,
   "metadata": {},
   "outputs": [],
   "source": [
    "def rec2graph(rs):\n",
    "    graph = nx.MultiDiGraph()\n",
    "    \n",
    "    for n_id in node_ids:\n",
    "        #print(type(n_id))\n",
    "        nx_properties = {}\n",
    "        graph.add_node(n_id, **nx_properties)\n",
    "        labels.append(n_id)\n",
    "    \n",
    "    for record in rs:\n",
    "        rel = record['r']\n",
    "        #print(rel)\n",
    "        if rel is not None:\n",
    "                graph.add_edge(rel.start_node['id'], rel.end_node['id'], weight=rel['rating'])\n",
    "            \n",
    "    return graph"
   ]
  },
  {
   "cell_type": "code",
   "execution_count": null,
   "metadata": {},
   "outputs": [],
   "source": [
    "records = session.run(\"MATCH (n) OPTIONAL MATCH (n)-[r]->() RETURN n, r\")\n",
    "g = rec2graph(records)\n",
    "print(nx.info(g))"
   ]
  },
  {
   "cell_type": "code",
   "execution_count": null,
   "metadata": {},
   "outputs": [],
   "source": [
    "plt.rcParams['figure.figsize'] = [20, 10]"
   ]
  },
  {
   "cell_type": "code",
   "execution_count": null,
   "metadata": {},
   "outputs": [],
   "source": [
    "# Simple graph\n",
    "nx.draw(g, with_labels=True)"
   ]
  },
  {
   "cell_type": "code",
   "execution_count": null,
   "metadata": {},
   "outputs": [],
   "source": [
    "graph_pos = nx.spring_layout(g)\n",
    "labels = dict(zip(node_ids,labels))"
   ]
  },
  {
   "cell_type": "code",
   "execution_count": null,
   "metadata": {},
   "outputs": [],
   "source": [
    "fig = nx.draw_networkx_nodes(g, graph_pos, alpha=.5, node_color='blue')\n",
    "fig = nx.draw_networkx_edges(g, graph_pos, width=1, alpha=.3, edge_color='blue')\n",
    "fig = nx.draw_networkx_labels(g, graph_pos, labels=labels, font_size=10, font_family='Arial')"
   ]
  },
  {
   "cell_type": "code",
   "execution_count": null,
   "metadata": {},
   "outputs": [],
   "source": [
    "df = pd.DataFrame(index=ids)\n",
    "pagerank = nx.pagerank(g, alpha=.9)\n",
    "df['pagerank'] = [pagerank[n] for n in ids]\n",
    "\n",
    "betweenness = nx.betweenness_centrality(g)\n",
    "df['betweenness'] = [betweenness[n] for n in ids]"
   ]
  },
  {
   "cell_type": "code",
   "execution_count": null,
   "metadata": {},
   "outputs": [],
   "source": [
    "nx.diameter(g)"
   ]
  },
  {
   "cell_type": "code",
   "execution_count": null,
   "metadata": {},
   "outputs": [],
   "source": []
  }
 ],
 "metadata": {
  "kernelspec": {
   "display_name": "Python 3",
   "language": "python",
   "name": "python3"
  },
  "language_info": {
   "codemirror_mode": {
    "name": "ipython",
    "version": 3
   },
   "file_extension": ".py",
   "mimetype": "text/x-python",
   "name": "python",
   "nbconvert_exporter": "python",
   "pygments_lexer": "ipython3",
   "version": "3.7.7"
  }
 },
 "nbformat": 4,
 "nbformat_minor": 4
}