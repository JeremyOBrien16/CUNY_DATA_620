{
 "cells": [
  {
   "cell_type": "markdown",
   "metadata": {},
   "source": [
    "# DATA 620 - Assignment 6\n",
    "\n",
    "Jeremy OBrien, Mael Illien, Vanita Thompson"
   ]
  },
  {
   "cell_type": "markdown",
   "metadata": {},
   "source": [
    "## Document Classification\n",
    "\n",
    "* It can be useful to be able to classify new \"test\" documents using already classified \"training\" documents. A common example is using a corpus of labeled spam and ham (non-spam) e-mails to predict whether or not a new document is spam. Here is one example of such data:  UCI Machine Learning Repository: Spambase Data Set (http://archive.ics.uci.edu/ml/datasets/Spambase)\n",
    "* For this project, you can either use the above dataset to predict the class of new documents (either withheld from the training dataset or from another source such as your own spam folder).\n",
    "* For more adventurous students, you are welcome (encouraged!) to come up a different set of documents (including scraped web pages!?) that have already been classified (e.g. tagged), then analyze these documents to predict how new documents should be classified.\n",
    "\n",
    "\n",
    "Resources:\n",
    "\n",
    "- http://www.cs.ucf.edu/courses/cap5636/fall2011/nltk.pdf\n",
    "- https://bbengfort.github.io/tutorials/2016/05/19/text-classification-nltk-sckit-learn.html\n",
    "- https://www.cs.bgu.ac.il/~elhadad/nlp16/spam_classifier.html"
   ]
  },
  {
   "cell_type": "markdown",
   "metadata": {},
   "source": [
    "## Setup"
   ]
  },
  {
   "cell_type": "markdown",
   "metadata": {},
   "source": [
    "From spambase documentation:\n",
    "\n",
    "Number of Instances: 4601 (1813 Spam = 39.4%)\n",
    "    \n",
    "Number of Attributes: 58 (57 continuous, 1 nominal class label)"
   ]
  },
  {
   "cell_type": "code",
   "execution_count": 1,
   "metadata": {},
   "outputs": [],
   "source": [
    "import csv\n",
    "import numpy as np\n",
    "from sklearn.naive_bayes import GaussianNB\n",
    "from sklearn.naive_bayes import BernoulliNB\n",
    "from sklearn.metrics import confusion_matrix\n",
    "from sklearn.metrics import classification_report\n",
    "from sklearn.model_selection import train_test_split"
   ]
  },
  {
   "cell_type": "markdown",
   "metadata": {},
   "source": [
    "## Data Import"
   ]
  },
  {
   "cell_type": "code",
   "execution_count": 2,
   "metadata": {},
   "outputs": [],
   "source": [
    "# Read csv data\n",
    "data = []\n",
    "\n",
    "with open('./spambase/spambase.data') as f:\n",
    "    reader = csv.reader(f)\n",
    "    for row in reader:\n",
    "        data.append(row)"
   ]
  },
  {
   "cell_type": "code",
   "execution_count": 3,
   "metadata": {},
   "outputs": [
    {
     "data": {
      "text/plain": [
       "4601"
      ]
     },
     "execution_count": 3,
     "metadata": {},
     "output_type": "execute_result"
    }
   ],
   "source": [
    "len(data)"
   ]
  },
  {
   "cell_type": "code",
   "execution_count": 4,
   "metadata": {},
   "outputs": [],
   "source": [
    "# The last items of each row list contains the label of the row\n",
    "X = np.array([x[:-1] for x in data]).astype(np.float)\n",
    "y = np.array([x[-1] for x in data]).astype(np.float)"
   ]
  },
  {
   "cell_type": "markdown",
   "metadata": {},
   "source": [
    "## Data Import (Alt)"
   ]
  },
  {
   "cell_type": "code",
   "execution_count": 44,
   "metadata": {},
   "outputs": [],
   "source": [
    "#import os\n",
    "import re\n",
    "from os import listdir"
   ]
  },
  {
   "cell_type": "code",
   "execution_count": 50,
   "metadata": {},
   "outputs": [],
   "source": [
    "def get_emails(path, label):\n",
    "    emails = []\n",
    "    files = [path + f for f in listdir(path) if f != 'cmds']\n",
    "\n",
    "    for file in files:\n",
    "        with open(file, encoding=\"latin-1\") as f:\n",
    "            emails.append((f.read(), label)) \n",
    "    return emails"
   ]
  },
  {
   "cell_type": "code",
   "execution_count": 59,
   "metadata": {},
   "outputs": [
    {
     "data": {
      "text/plain": [
       "2501"
      ]
     },
     "execution_count": 59,
     "metadata": {},
     "output_type": "execute_result"
    }
   ],
   "source": [
    "easy_ham = get_emails('./easy_ham/', 'ham')\n",
    "len(easy_ham)"
   ]
  },
  {
   "cell_type": "code",
   "execution_count": 60,
   "metadata": {},
   "outputs": [
    {
     "data": {
      "text/plain": [
       "500"
      ]
     },
     "execution_count": 60,
     "metadata": {},
     "output_type": "execute_result"
    }
   ],
   "source": [
    "spam = get_emails('./spam/', 'spam')\n",
    "len(spam)"
   ]
  },
  {
   "cell_type": "code",
   "execution_count": 82,
   "metadata": {},
   "outputs": [
    {
     "data": {
      "text/plain": [
       "'From rpm-list-admin@freshrpms.net  Mon Sep  9 18:00:21 2002\\nReturn-Path: <rpm-zzzlist-admin@freshrpms.net>\\nDelivered-To: yyyy@localhost.spamassassin.taint.org\\nReceived: from localhost (jalapeno [127.0.0.1])\\n\\tby jmason.org (Postfix) with ESMTP id 9D98A16EFC\\n\\tfor <jm@localhost>; Mon,  9 Sep 2002 18:00:20 +0100 (IST)\\nReceived: from jalapeno [127.0.0.1]\\n\\tby localhost with IMAP (fetchmail-5.9.0)\\n\\tfor jm@localhost (single-drop); Mon, 09 Sep 2002 18:00:20 +0100 (IST)\\nReceived: from auth02.nl.egwn.net (auth02.nl.egwn.net [193.172.5.4]) by\\n    dogma.slashnull.org (8.11.6/8.11.6) with ESMTP id g11MGS812405 for\\n    <jm-rpm@jmason.org>; Fri, 1 Feb 2002 22:16:28 GMT\\nReceived: from auth02.nl.egwn.net (localhost [127.0.0.1]) by\\n    auth02.nl.egwn.net (8.11.6/8.11.6/EGWN) with ESMTP id g11MF0308879;\\n    Fri, 1 Feb 2002 23:15:00 +0100\\nReceived: from drone4.qsi.net.nz (drone4-svc-skyt.qsi.net.nz\\n    [202.89.128.4]) by auth02.nl.egwn.net (8.11.6/8.11.6/EGWN) with SMTP id\\n    g11MEh308869 for <rpm-list@freshrpms.net>; Fri, 1 Feb 2002 23:14:43 +0100\\nReceived: (qmail 95088 invoked by uid 0); 1 Feb 2002 22:15:02 -0000\\nReceived: from unknown (HELO se7en.org) ([202.89.145.8]) (envelope-sender\\n    <mark@talios.com>) by 0 (qmail-ldap-1.03) with SMTP for\\n    <rpm-list@freshrpms.net>; 1 Feb 2002 22:15:02 -0000\\nReceived: from spawn.se7en.org ([10.0.0.3]) by se7en.org with esmtp (Exim\\n    3.12 #1 (Debian)) id 16WnZF-00036C-00 for <rpm-list@freshrpms.net>;\\n    Sat, 02 Feb 2002 12:58:05 +1300\\nFrom: Mark Derricutt <mark@talios.com>\\nTo: rpm-zzzlist@freshrpms.net\\nSubject: problems with apt update\\nMessage-Id: <14220000.1012602017@spawn.se7en.org>\\nX-Mailer: Mulberry/2.1.2 (Linux/x86)\\nMIME-Version: 1.0\\nContent-Type: text/plain; charset=us-ascii; format=flowed\\nContent-Transfer-Encoding: 7bit\\nContent-Disposition: inline\\nSender: rpm-zzzlist-admin@freshrpms.net\\nErrors-To: rpm-zzzlist-admin@freshrpms.net\\nX-Beenthere: rpm-zzzlist@freshrpms.net\\nX-Mailman-Version: 2.0.1\\nPrecedence: bulk\\nReply-To: rpm-zzzlist@freshrpms.net\\nList-Help: <mailto:rpm-zzzlist-request@freshrpms.net?subject=help>\\nList-Post: <mailto:rpm-zzzlist@freshrpms.net>\\nList-Subscribe: <http://lists.freshrpms.net/mailman/listinfo/rpm-zzzlist>,\\n    <mailto:rpm-list-request@freshrpms.net?subject=subscribe>\\nList-Id: Freshrpms RPM discussion list <rpm-zzzlist.freshrpms.net>\\nList-Unsubscribe: <http://lists.freshrpms.net/mailman/listinfo/rpm-zzzlist>,\\n    <mailto:rpm-list-request@freshrpms.net?subject=unsubscribe>\\nList-Archive: <http://lists.freshrpms.net/pipermail/rpm-zzzlist/>\\nX-Original-Date: Sat, 02 Feb 2002 11:20:17 +1300\\nDate: Sat, 02 Feb 2002 11:20:17 +1300\\n\\nHiya, I always seem to get errors when I do an \"apt update\", is this a \\nproblem on the repository itself, or on my end, or possibly a timeout in \\nthe connection due to my connection being a crappy modem?\\n\\n[root@spawn root]# apt-get update\\nHit http://apt.nixia.no redhat/7.2/i386/base/pkglist.gnomehide\\nHit http://apt.freshrpms.net redhat/7.2/i386/base/pkglist.os\\nIgn http://apt.freshrpms.net redhat/7.2/i386 release.os\\nErr http://apt.freshrpms.net redhat/7.2/i386/base/pkglist.updates\\n  Bad header line\\nHit http://apt.freshrpms.net redhat/7.2/i386 release.updates\\nErr http://apt.freshrpms.net redhat/7.2/i386/base/pkglist.freshrpms\\n  400 Bad Request\\nErr http://apt.freshrpms.net redhat/7.2/i386 release.freshrpms\\n  Bad header line\\nHit http://apt.freshrpms.net redhat/7.2/i386/base/srclist.freshrpms\\nIgn http://apt.nixia.no redhat/7.2/i386 release.gnomehide\\nIgn http://apt.nixia.no redhat/7.2/i386/base/mirrors\\nHit http://apt.freshrpms.net redhat/7.2/i386 release.freshrpms\\nIgn http://apt.freshrpms.net redhat/7.2/i386/base/mirrors\\nIgn http://apt.freshrpms.net redhat/7.2/i386/base/mirrors\\nIgn http://apt.freshrpms.net redhat/7.2/i386/base/mirrors\\nIgn http://apt.freshrpms.net redhat/7.2/i386/base/mirrors\\nFailed to fetch \\nhttp://apt.freshrpms.net/redhat/7.2/i386/base/pkglist.updates\\n  Bad header line\\nFailed to fetch \\nhttp://apt.freshrpms.net/redhat/7.2/i386/base/pkglist.freshrpms\\n  400 Bad Request\\nFailed to fetch \\nhttp://apt.freshrpms.net/redhat/7.2/i386/base/release.freshrpms\\n  Bad header line\\n\\n                                    -- \\\\m/ --\\n  \"...if I seem super human I have been misunderstood.\" (c) Dream Theater\\n         mark@talios.com - ICQ: 1934853 JID: talios@myjabber.net\\n\\n\\n_______________________________________________\\nRPM-List mailing list <RPM-List@freshrpms.net>\\nhttp://lists.freshrpms.net/mailman/listinfo/rpm-list\\n\\n'"
      ]
     },
     "execution_count": 82,
     "metadata": {},
     "output_type": "execute_result"
    }
   ],
   "source": [
    "# emails contain the full html content, including title sender etc.\n",
    "# the body of the email is only a portion of the content\n",
    "easy_ham[1][0]"
   ]
  },
  {
   "cell_type": "code",
   "execution_count": 95,
   "metadata": {},
   "outputs": [],
   "source": [
    "def get_email_body(email):\n",
    "    # Looking for the last occurence of Date: Sat, 02 Feb 2002 11:20:17 +1300\\n\n",
    "    iter = re.finditer(r\"Date: .*\\n\", email)\n",
    "    indices = [m.span() for m in iter]\n",
    "    body_start = indices[-1][1]\n",
    "    return email[body_start:]"
   ]
  },
  {
   "cell_type": "code",
   "execution_count": 99,
   "metadata": {},
   "outputs": [
    {
     "data": {
      "text/plain": [
       "\"\\n\\nIn a message dated 9/24/2002 11:24:58 AM, jamesr@best.com writes:\\n\\n>This situation wouldn't have happened in the first place if California\\n>didn't have economically insane regulations.  They created a regulatory\\n>climate that facilitated this.  So yes, it is the product of\\n>over-regulation.\\n>\\n\\nWhich is to say, if you reduce the argument to absurdity, that law causes \\ncrime. \\n\\n(Yes, I agree that badly written law can make life so frustrating that people \\nhave little choice but to subvery it if they want to get anything done. This \\nis also true of corporate policies, and all other attempts to regulate \\nconduct by rules. Rules just don't work well when situations are fluid or \\nambiguous. But I don't think that the misbehavior of energy companies in \\nCalifornia can properly be called well-intentioned lawbreaking by parties who \\nwere trying to do the right thing but could do so only by falling afoul of \\nsome technicality.)\\n\\nIf you want to get to root causes, we should probably go to the slaying of \\nAbel by Cain. Perhaps we can figure out what went wrong then, and roll our \\nlearning forward through history and create a FoRKtopia.\\n\\nNonpartisanly, which is to say casting stones on all houses, whether \\nbicameral or unicameral, built on sand or on rock, to the left of them or to \\nthe right of them, of glass or brick or twig or straw, \\n\\nTom\\n\\n\\n\""
      ]
     },
     "execution_count": 99,
     "metadata": {},
     "output_type": "execute_result"
    }
   ],
   "source": [
    "get_email_body(easy_ham[0][0])"
   ]
  },
  {
   "cell_type": "markdown",
   "metadata": {},
   "source": [
    "## Data Transformation"
   ]
  },
  {
   "cell_type": "markdown",
   "metadata": {},
   "source": [
    "### Train Test Split"
   ]
  },
  {
   "cell_type": "code",
   "execution_count": 5,
   "metadata": {},
   "outputs": [],
   "source": [
    "X_train, X_test, y_train, y_test = train_test_split(X, y, test_size=0.3, random_state=21)\n",
    "#X_train, X_test, y_train, y_test = train_test_split(X, y, test_size=0.3, random_state=21, stratify=y)"
   ]
  },
  {
   "cell_type": "markdown",
   "metadata": {},
   "source": [
    "### Naive Bayes - Gaussian"
   ]
  },
  {
   "cell_type": "code",
   "execution_count": 6,
   "metadata": {},
   "outputs": [],
   "source": [
    "# Instantiate and train Gaussian Naive Bayes model\n",
    "gnb = GaussianNB()\n",
    "gnb.fit(X_train, y_train)\n",
    "# Predict on test set\n",
    "y_pred = gnb.predict(X_test)"
   ]
  },
  {
   "cell_type": "code",
   "execution_count": 7,
   "metadata": {},
   "outputs": [
    {
     "data": {
      "text/plain": [
       "0.818944099378882"
      ]
     },
     "execution_count": 7,
     "metadata": {},
     "output_type": "execute_result"
    }
   ],
   "source": [
    "gnb.score(X_train,y_train)"
   ]
  },
  {
   "cell_type": "code",
   "execution_count": 8,
   "metadata": {},
   "outputs": [
    {
     "data": {
      "text/plain": [
       "0.8276611151339609"
      ]
     },
     "execution_count": 8,
     "metadata": {},
     "output_type": "execute_result"
    }
   ],
   "source": [
    "gnb.score(X_test, y_test)"
   ]
  },
  {
   "cell_type": "code",
   "execution_count": 9,
   "metadata": {},
   "outputs": [
    {
     "name": "stdout",
     "output_type": "stream",
     "text": [
      "[[628 218]\n",
      " [ 20 515]]\n",
      "              precision    recall  f1-score   support\n",
      "\n",
      "         0.0       0.97      0.74      0.84       846\n",
      "         1.0       0.70      0.96      0.81       535\n",
      "\n",
      "    accuracy                           0.83      1381\n",
      "   macro avg       0.84      0.85      0.83      1381\n",
      "weighted avg       0.87      0.83      0.83      1381\n",
      "\n"
     ]
    }
   ],
   "source": [
    "print(confusion_matrix(y_test, y_pred))\n",
    "print(classification_report(y_test, y_pred))"
   ]
  },
  {
   "cell_type": "markdown",
   "metadata": {},
   "source": [
    "### Naive Bayes - Bernoulli"
   ]
  },
  {
   "cell_type": "code",
   "execution_count": 10,
   "metadata": {},
   "outputs": [],
   "source": [
    "# Instantiate and train Gaussian Naive Bayes model\n",
    "bnb = BernoulliNB()\n",
    "bnb.fit(X_train, y_train)\n",
    "# Predict on test set\n",
    "y_pred = bnb.predict(X_test)"
   ]
  },
  {
   "cell_type": "code",
   "execution_count": 11,
   "metadata": {},
   "outputs": [
    {
     "data": {
      "text/plain": [
       "0.8891304347826087"
      ]
     },
     "execution_count": 11,
     "metadata": {},
     "output_type": "execute_result"
    }
   ],
   "source": [
    "bnb.score(X_train,y_train)"
   ]
  },
  {
   "cell_type": "code",
   "execution_count": 12,
   "metadata": {},
   "outputs": [
    {
     "data": {
      "text/plain": [
       "0.8812454742939899"
      ]
     },
     "execution_count": 12,
     "metadata": {},
     "output_type": "execute_result"
    }
   ],
   "source": [
    "bnb.score(X_test, y_test)"
   ]
  },
  {
   "cell_type": "code",
   "execution_count": 13,
   "metadata": {},
   "outputs": [
    {
     "name": "stdout",
     "output_type": "stream",
     "text": [
      "[[775  71]\n",
      " [ 93 442]]\n",
      "              precision    recall  f1-score   support\n",
      "\n",
      "         0.0       0.89      0.92      0.90       846\n",
      "         1.0       0.86      0.83      0.84       535\n",
      "\n",
      "    accuracy                           0.88      1381\n",
      "   macro avg       0.88      0.87      0.87      1381\n",
      "weighted avg       0.88      0.88      0.88      1381\n",
      "\n"
     ]
    }
   ],
   "source": [
    "print(confusion_matrix(y_test, y_pred))\n",
    "print(classification_report(y_test, y_pred))"
   ]
  },
  {
   "cell_type": "markdown",
   "metadata": {},
   "source": [
    "## Conclusion"
   ]
  },
  {
   "cell_type": "markdown",
   "metadata": {},
   "source": [
    "## Youtube"
   ]
  },
  {
   "cell_type": "code",
   "execution_count": null,
   "metadata": {},
   "outputs": [],
   "source": []
  }
 ],
 "metadata": {
  "kernelspec": {
   "display_name": "Python 3",
   "language": "python",
   "name": "python3"
  },
  "language_info": {
   "codemirror_mode": {
    "name": "ipython",
    "version": 3
   },
   "file_extension": ".py",
   "mimetype": "text/x-python",
   "name": "python",
   "nbconvert_exporter": "python",
   "pygments_lexer": "ipython3",
   "version": "3.7.7"
  }
 },
 "nbformat": 4,
 "nbformat_minor": 4
}
