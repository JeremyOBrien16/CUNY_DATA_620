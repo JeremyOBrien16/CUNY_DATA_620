{
 "cells": [
  {
   "cell_type": "markdown",
   "metadata": {},
   "source": [
    "# DATA 620 - Project 3\n",
    "\n",
    "Jeremy OBrien, Mael Illien, Vanita Thompson"
   ]
  },
  {
   "cell_type": "markdown",
   "metadata": {},
   "source": [
    "* Using any of the three classifiers described in chapter 6 of Natural Language Processing with Python, and any features you can think of, build the best name gender classifier you can. \n",
    "* Begin by splitting the Names Corpus into three subsets: 500 words for the test set, 500 words for the dev-test set, and the remaining 6900 words for the training set. \n",
    "* Then, starting with the example name gender classifier, make incremental improvements. Use the dev-test set to check your progress. \n",
    "* Once you are satisfied with your classifier, check its final performance on the test set. \n",
    "* How does the performance on the test set compare to the performance on the dev-test set? Is this what you'd expect?\n",
    "* Source: Natural Language Processing with Python, exercise 6.10.2.\n",
    "\n",
    "The three classifiers from Chapter 6: NaiveBayes, DecisionTree, MaxEntropy"
   ]
  },
  {
   "cell_type": "markdown",
   "metadata": {},
   "source": [
    "## Setup"
   ]
  },
  {
   "cell_type": "code",
   "execution_count": 27,
   "metadata": {},
   "outputs": [],
   "source": [
    "import nltk, re, pprint\n",
    "from nltk.corpus import names\n",
    "from nltk.classify import apply_features"
   ]
  },
  {
   "cell_type": "markdown",
   "metadata": {},
   "source": [
    "## Data Import & Transformation"
   ]
  },
  {
   "cell_type": "code",
   "execution_count": 43,
   "metadata": {},
   "outputs": [
    {
     "data": {
      "text/plain": [
       "[('Aamir', 'male'),\n",
       " ('Aaron', 'male'),\n",
       " ('Abbey', 'male'),\n",
       " ('Abbie', 'male'),\n",
       " ('Abbot', 'male'),\n",
       " ('Abbott', 'male'),\n",
       " ('Abby', 'male'),\n",
       " ('Abdel', 'male'),\n",
       " ('Abdul', 'male'),\n",
       " ('Abdulkarim', 'male')]"
      ]
     },
     "execution_count": 43,
     "metadata": {},
     "output_type": "execute_result"
    }
   ],
   "source": [
    "names = ([(name, 'male') for name in names.words('male.txt')] + \n",
    "         [(name, 'female') for name in names.words('female.txt')])\n",
    "\n",
    "names[:10]"
   ]
  },
  {
   "cell_type": "markdown",
   "metadata": {},
   "source": [
    "### Train Test Split"
   ]
  },
  {
   "cell_type": "code",
   "execution_count": 45,
   "metadata": {},
   "outputs": [],
   "source": [
    "train_names = names[:500]\n",
    "devtest_names = names[500:1000]\n",
    "test_names = names[1000:]"
   ]
  },
  {
   "cell_type": "code",
   "execution_count": 46,
   "metadata": {},
   "outputs": [],
   "source": [
    "train_set = [(gender_features(n), gender) for (n, gender) in train_names]\n",
    "devtest_set = [(gender_features(n), gender) for (n, gender) in devtest_names]\n",
    "test_set = [(gender_features(n), gender) for (n, gender) in test_names]"
   ]
  },
  {
   "cell_type": "markdown",
   "metadata": {},
   "source": [
    "## Feature Engineering"
   ]
  },
  {
   "cell_type": "markdown",
   "metadata": {},
   "source": [
    "### Basic Example"
   ]
  },
  {
   "cell_type": "code",
   "execution_count": 33,
   "metadata": {},
   "outputs": [],
   "source": [
    "def gender_features(word):\n",
    "    return {'last_letter': word[-1]}"
   ]
  },
  {
   "cell_type": "code",
   "execution_count": 37,
   "metadata": {},
   "outputs": [
    {
     "data": {
      "text/plain": [
       "{'last_letter': 'n'}"
      ]
     },
     "execution_count": 37,
     "metadata": {},
     "output_type": "execute_result"
    }
   ],
   "source": [
    "gender_features('John')"
   ]
  },
  {
   "cell_type": "code",
   "execution_count": 4,
   "metadata": {},
   "outputs": [],
   "source": [
    "featuresets = [(gender_features(n), g) for (n,g) in names]\n",
    "train_set, test_set = featuresets[500:], featuresets[:500]\n",
    "classifier = nltk.NaiveBayesClassifier.train(train_set)"
   ]
  },
  {
   "cell_type": "code",
   "execution_count": 5,
   "metadata": {},
   "outputs": [
    {
     "data": {
      "text/plain": [
       "'male'"
      ]
     },
     "execution_count": 5,
     "metadata": {},
     "output_type": "execute_result"
    }
   ],
   "source": [
    "classifier.classify(gender_features('Neo'))"
   ]
  },
  {
   "cell_type": "code",
   "execution_count": 6,
   "metadata": {},
   "outputs": [
    {
     "data": {
      "text/plain": [
       "'female'"
      ]
     },
     "execution_count": 6,
     "metadata": {},
     "output_type": "execute_result"
    }
   ],
   "source": [
    "classifier.classify(gender_features('Trinity'))"
   ]
  },
  {
   "cell_type": "code",
   "execution_count": 7,
   "metadata": {},
   "outputs": [
    {
     "data": {
      "text/plain": [
       "'female'"
      ]
     },
     "execution_count": 7,
     "metadata": {},
     "output_type": "execute_result"
    }
   ],
   "source": [
    "classifier.classify(gender_features('Mael'))"
   ]
  },
  {
   "cell_type": "code",
   "execution_count": 8,
   "metadata": {},
   "outputs": [
    {
     "name": "stdout",
     "output_type": "stream",
     "text": [
      "0.602\n"
     ]
    }
   ],
   "source": [
    "print(nltk.classify.accuracy(classifier, test_set))"
   ]
  },
  {
   "cell_type": "code",
   "execution_count": 9,
   "metadata": {},
   "outputs": [
    {
     "name": "stdout",
     "output_type": "stream",
     "text": [
      "Most Informative Features\n",
      "             last_letter = 'a'            female : male   =     35.5 : 1.0\n",
      "             last_letter = 'k'              male : female =     34.1 : 1.0\n",
      "             last_letter = 'f'              male : female =     15.9 : 1.0\n",
      "             last_letter = 'p'              male : female =     13.5 : 1.0\n",
      "             last_letter = 'v'              male : female =     12.7 : 1.0\n"
     ]
    }
   ],
   "source": [
    "classifier.show_most_informative_features(5)"
   ]
  },
  {
   "cell_type": "markdown",
   "metadata": {},
   "source": [
    "### Example 2"
   ]
  },
  {
   "cell_type": "code",
   "execution_count": 47,
   "metadata": {},
   "outputs": [],
   "source": [
    "def gender_features2(name):\n",
    "    features = {}\n",
    "    features[\"firstletter\"] = name[0].lower()\n",
    "    features[\"lastletter\"] = name[-1].lower()\n",
    "    for letter in 'abcdefghijklmnopqrstuvwxyz':\n",
    "        features[\"count(%s)\" % letter] = name.lower().count(letter)\n",
    "        features[\"has(%s)\" % letter] = (letter in name.lower())\n",
    "    return features"
   ]
  },
  {
   "cell_type": "code",
   "execution_count": 36,
   "metadata": {},
   "outputs": [
    {
     "data": {
      "text/plain": [
       "{'firstletter': 'j',\n",
       " 'lastletter': 'n',\n",
       " 'count(a)': 0,\n",
       " 'has(a)': False,\n",
       " 'count(b)': 0,\n",
       " 'has(b)': False,\n",
       " 'count(c)': 0,\n",
       " 'has(c)': False,\n",
       " 'count(d)': 0,\n",
       " 'has(d)': False,\n",
       " 'count(e)': 0,\n",
       " 'has(e)': False,\n",
       " 'count(f)': 0,\n",
       " 'has(f)': False,\n",
       " 'count(g)': 0,\n",
       " 'has(g)': False,\n",
       " 'count(h)': 1,\n",
       " 'has(h)': True,\n",
       " 'count(i)': 0,\n",
       " 'has(i)': False,\n",
       " 'count(j)': 1,\n",
       " 'has(j)': True,\n",
       " 'count(k)': 0,\n",
       " 'has(k)': False,\n",
       " 'count(l)': 0,\n",
       " 'has(l)': False,\n",
       " 'count(m)': 0,\n",
       " 'has(m)': False,\n",
       " 'count(n)': 1,\n",
       " 'has(n)': True,\n",
       " 'count(o)': 1,\n",
       " 'has(o)': True,\n",
       " 'count(p)': 0,\n",
       " 'has(p)': False,\n",
       " 'count(q)': 0,\n",
       " 'has(q)': False,\n",
       " 'count(r)': 0,\n",
       " 'has(r)': False,\n",
       " 'count(s)': 0,\n",
       " 'has(s)': False,\n",
       " 'count(t)': 0,\n",
       " 'has(t)': False,\n",
       " 'count(u)': 0,\n",
       " 'has(u)': False,\n",
       " 'count(v)': 0,\n",
       " 'has(v)': False,\n",
       " 'count(w)': 0,\n",
       " 'has(w)': False,\n",
       " 'count(x)': 0,\n",
       " 'has(x)': False,\n",
       " 'count(y)': 0,\n",
       " 'has(y)': False,\n",
       " 'count(z)': 0,\n",
       " 'has(z)': False}"
      ]
     },
     "execution_count": 36,
     "metadata": {},
     "output_type": "execute_result"
    }
   ],
   "source": [
    "gender_features2('John')"
   ]
  },
  {
   "cell_type": "markdown",
   "metadata": {},
   "source": [
    "### Example 3"
   ]
  },
  {
   "cell_type": "code",
   "execution_count": 38,
   "metadata": {},
   "outputs": [],
   "source": [
    "def gender_features3(word):\n",
    "    return {'suffix1': word[-1:],'suffix2': word[-2:]}"
   ]
  },
  {
   "cell_type": "code",
   "execution_count": 39,
   "metadata": {},
   "outputs": [
    {
     "data": {
      "text/plain": [
       "{'suffix1': 'a', 'suffix2': 'na'}"
      ]
     },
     "execution_count": 39,
     "metadata": {},
     "output_type": "execute_result"
    }
   ],
   "source": [
    "gender_features3('Cristina')"
   ]
  },
  {
   "cell_type": "markdown",
   "metadata": {},
   "source": [
    "## Test Classifier"
   ]
  },
  {
   "cell_type": "code",
   "execution_count": 61,
   "metadata": {},
   "outputs": [],
   "source": [
    "def test_classifier(gender_features_function):\n",
    "#     train_set = apply_features(gender_features, names[:500])\n",
    "#     devtest_set = apply_features(gender_features, names[500:1000])\n",
    "#     test_set = apply_features(gender_features, names[1000:])\n",
    "\n",
    "    train_set = [(gender_features_function(n), gender) for (n, gender) in train_names]\n",
    "    devtest_set = [(gender_features_function(n), gender) for (n, gender) in devtest_names]\n",
    "    test_set = [(gender_features_function(n), gender) for (n, gender) in test_names]\n",
    "    \n",
    "    classifier = nltk.NaiveBayesClassifier.train(train_set)\n",
    "    print(nltk.classify.accuracy(classifier, devtest_set))\n",
    "    print(nltk.classify.accuracy(classifier, test_set))\n",
    "    return classifier\n",
    "    "
   ]
  },
  {
   "cell_type": "code",
   "execution_count": 62,
   "metadata": {},
   "outputs": [
    {
     "name": "stdout",
     "output_type": "stream",
     "text": [
      "1.0\n",
      "0.27980990783410137\n"
     ]
    }
   ],
   "source": [
    "mod1 = test_classifier(gender_features)"
   ]
  },
  {
   "cell_type": "code",
   "execution_count": 63,
   "metadata": {},
   "outputs": [
    {
     "name": "stdout",
     "output_type": "stream",
     "text": [
      "1.0\n",
      "0.27980990783410137\n"
     ]
    }
   ],
   "source": [
    "mod2 = test_classifier(gender_features2)"
   ]
  },
  {
   "cell_type": "code",
   "execution_count": 64,
   "metadata": {},
   "outputs": [
    {
     "name": "stdout",
     "output_type": "stream",
     "text": [
      "1.0\n",
      "0.27980990783410137\n"
     ]
    }
   ],
   "source": [
    "mod3 = test_classifier(gender_features3)"
   ]
  },
  {
   "cell_type": "code",
   "execution_count": 65,
   "metadata": {},
   "outputs": [],
   "source": [
    "errors = []\n",
    "for (name, tag) in devtest_names:\n",
    "    guess = classifier.classify(gender_features(name))\n",
    "    if guess != tag:\n",
    "        errors.append( (tag, guess, name) )"
   ]
  },
  {
   "cell_type": "code",
   "execution_count": 17,
   "metadata": {},
   "outputs": [
    {
     "name": "stdout",
     "output_type": "stream",
     "text": [
      "correct=male     guess=female   name=Clinton                       \n",
      "correct=male     guess=female   name=Clive                         \n",
      "correct=male     guess=female   name=Clyde                         \n",
      "correct=male     guess=female   name=Cob                           \n",
      "correct=male     guess=female   name=Cobb                          \n",
      "correct=male     guess=female   name=Cobbie                        \n",
      "correct=male     guess=female   name=Cobby                         \n",
      "correct=male     guess=female   name=Cody                          \n",
      "correct=male     guess=female   name=Colbert                       \n",
      "correct=male     guess=female   name=Cole                          \n",
      "correct=male     guess=female   name=Coleman                       \n",
      "correct=male     guess=female   name=Colin                         \n",
      "correct=male     guess=female   name=Collin                        \n",
      "correct=male     guess=female   name=Conan                         \n",
      "correct=male     guess=female   name=Connie                        \n",
      "correct=male     guess=female   name=Connolly                      \n",
      "correct=male     guess=female   name=Conroy                        \n",
      "correct=male     guess=female   name=Constantin                    \n",
      "correct=male     guess=female   name=Constantine                   \n",
      "correct=male     guess=female   name=Conway                        \n",
      "correct=male     guess=female   name=Corbin                        \n",
      "correct=male     guess=female   name=Corby                         \n",
      "correct=male     guess=female   name=Corey                         \n",
      "correct=male     guess=female   name=Corky                         \n",
      "correct=male     guess=female   name=Corrie                        \n",
      "correct=male     guess=female   name=Cortese                       \n",
      "correct=male     guess=female   name=Corwin                        \n",
      "correct=male     guess=female   name=Cory                          \n",
      "correct=male     guess=female   name=Costa                         \n",
      "correct=male     guess=female   name=Courtney                      \n",
      "correct=male     guess=female   name=Creighton                     \n",
      "correct=male     guess=female   name=Curt                          \n",
      "correct=male     guess=female   name=Curtice                       \n",
      "correct=male     guess=female   name=Cy                            \n",
      "correct=male     guess=female   name=Cyril                         \n",
      "correct=male     guess=female   name=Cyrill                        \n",
      "correct=male     guess=female   name=Cyrille                       \n",
      "correct=male     guess=female   name=Dabney                        \n",
      "correct=male     guess=female   name=Daffy                         \n",
      "correct=male     guess=female   name=Dale                          \n",
      "correct=male     guess=female   name=Dalton                        \n",
      "correct=male     guess=female   name=Damian                        \n",
      "correct=male     guess=female   name=Damien                        \n",
      "correct=male     guess=female   name=Damon                         \n",
      "correct=male     guess=female   name=Dan                           \n",
      "correct=male     guess=female   name=Dana                          \n",
      "correct=male     guess=female   name=Dane                          \n",
      "correct=male     guess=female   name=Dani                          \n",
      "correct=male     guess=female   name=Danie                         \n",
      "correct=male     guess=female   name=Daniel                        \n",
      "correct=male     guess=female   name=Dannie                        \n",
      "correct=male     guess=female   name=Danny                         \n",
      "correct=male     guess=female   name=Dante                         \n",
      "correct=male     guess=female   name=Darby                         \n",
      "correct=male     guess=female   name=Darcy                         \n",
      "correct=male     guess=female   name=Daren                         \n",
      "correct=male     guess=female   name=Darian                        \n",
      "correct=male     guess=female   name=Darien                        \n",
      "correct=male     guess=female   name=Darin                         \n",
      "correct=male     guess=female   name=Darrel                        \n",
      "correct=male     guess=female   name=Darrell                       \n",
      "correct=male     guess=female   name=Darren                        \n",
      "correct=male     guess=female   name=Darrin                        \n",
      "correct=male     guess=female   name=Darryl                        \n",
      "correct=male     guess=female   name=Darth                         \n",
      "correct=male     guess=female   name=Darwin                        \n",
      "correct=male     guess=female   name=Daryl                         \n",
      "correct=male     guess=female   name=Daryle                        \n",
      "correct=male     guess=female   name=Dave                          \n",
      "correct=male     guess=female   name=Davey                         \n",
      "correct=male     guess=female   name=Davidde                       \n",
      "correct=male     guess=female   name=Davide                        \n",
      "correct=male     guess=female   name=Davidson                      \n",
      "correct=male     guess=female   name=Davie                         \n",
      "correct=male     guess=female   name=Davin                         \n",
      "correct=male     guess=female   name=Davon                         \n",
      "correct=male     guess=female   name=Davy                          \n",
      "correct=male     guess=female   name=Dawson                        \n",
      "correct=male     guess=female   name=Dean                          \n",
      "correct=male     guess=female   name=Deane                         \n",
      "correct=male     guess=female   name=Del                           \n",
      "correct=male     guess=female   name=Delbert                       \n",
      "correct=male     guess=female   name=Dell                          \n",
      "correct=male     guess=female   name=Demetre                       \n",
      "correct=male     guess=female   name=Demetri                       \n",
      "correct=male     guess=female   name=Dennie                        \n",
      "correct=male     guess=female   name=Denny                         \n",
      "correct=male     guess=female   name=Derby                         \n",
      "correct=male     guess=female   name=Derrin                        \n",
      "correct=male     guess=female   name=Derrol                        \n",
      "correct=male     guess=female   name=Derron                        \n",
      "correct=male     guess=female   name=Deryl                         \n",
      "correct=male     guess=female   name=Devin                         \n",
      "correct=male     guess=female   name=Devon                         \n",
      "correct=male     guess=female   name=Dewey                         \n",
      "correct=male     guess=female   name=Dewitt                        \n",
      "correct=male     guess=female   name=Dickey                        \n",
      "correct=male     guess=female   name=Dickie                        \n",
      "correct=male     guess=female   name=Dietrich                      \n",
      "correct=male     guess=female   name=Dillon                        \n",
      "correct=male     guess=female   name=Dimitri                       \n",
      "correct=male     guess=female   name=Dimitrou                      \n",
      "correct=male     guess=female   name=Dimitry                       \n",
      "correct=male     guess=female   name=Dion                          \n",
      "correct=male     guess=female   name=Dmitri                        \n",
      "correct=male     guess=female   name=Dominique                     \n",
      "correct=male     guess=female   name=Don                           \n",
      "correct=male     guess=female   name=Donal                         \n",
      "correct=male     guess=female   name=Donn                          \n",
      "correct=male     guess=female   name=Donnie                        \n",
      "correct=male     guess=female   name=Donny                         \n",
      "correct=male     guess=female   name=Donovan                       \n",
      "correct=male     guess=female   name=Dorian                        \n",
      "correct=male     guess=female   name=Dory                          \n",
      "correct=male     guess=female   name=Douggie                       \n",
      "correct=male     guess=female   name=Dougie                        \n",
      "correct=male     guess=female   name=Doyle                         \n",
      "correct=male     guess=female   name=Drake                         \n",
      "correct=male     guess=female   name=Dru                           \n",
      "correct=male     guess=female   name=Dryke                         \n",
      "correct=male     guess=female   name=Duane                         \n",
      "correct=male     guess=female   name=Dudley                        \n",
      "correct=male     guess=female   name=Duffie                        \n",
      "correct=male     guess=female   name=Duffy                         \n",
      "correct=male     guess=female   name=Dugan                         \n",
      "correct=male     guess=female   name=Duke                          \n",
      "correct=male     guess=female   name=Duncan                        \n",
      "correct=male     guess=female   name=Dunstan                       \n",
      "correct=male     guess=female   name=Durant                        \n",
      "correct=male     guess=female   name=Durante                       \n",
      "correct=male     guess=female   name=Dustin                        \n",
      "correct=male     guess=female   name=Dwain                         \n",
      "correct=male     guess=female   name=Dwaine                        \n",
      "correct=male     guess=female   name=Dwane                         \n",
      "correct=male     guess=female   name=Dwayne                        \n",
      "correct=male     guess=female   name=Dwight                        \n",
      "correct=male     guess=female   name=Dylan                         \n",
      "correct=male     guess=female   name=Dyson                         \n",
      "correct=male     guess=female   name=Earl                          \n",
      "correct=male     guess=female   name=Earle                         \n",
      "correct=male     guess=female   name=Easton                        \n",
      "correct=male     guess=female   name=Eben                          \n",
      "correct=male     guess=female   name=Eddie                         \n",
      "correct=male     guess=female   name=Eddy                          \n",
      "correct=male     guess=female   name=Edie                          \n",
      "correct=male     guess=female   name=Edsel                         \n",
      "correct=male     guess=female   name=Edwin                         \n",
      "correct=male     guess=female   name=Egbert                        \n",
      "correct=male     guess=female   name=Elbert                        \n",
      "correct=male     guess=female   name=Elden                         \n",
      "correct=male     guess=female   name=Eldon                         \n",
      "correct=male     guess=female   name=Eli                           \n",
      "correct=male     guess=female   name=Elihu                         \n",
      "correct=male     guess=female   name=Elijah                        \n",
      "correct=male     guess=female   name=Eliot                         \n",
      "correct=male     guess=female   name=Eliott                        \n",
      "correct=male     guess=female   name=Elisha                        \n",
      "correct=male     guess=female   name=Elliot                        \n",
      "correct=male     guess=female   name=Elliott                       \n",
      "correct=male     guess=female   name=Ellsworth                     \n",
      "correct=male     guess=female   name=Elmore                        \n",
      "correct=male     guess=female   name=Elroy                         \n",
      "correct=male     guess=female   name=Elton                         \n",
      "correct=male     guess=female   name=Elvin                         \n",
      "correct=male     guess=female   name=Elwin                         \n",
      "correct=male     guess=female   name=Elwyn                         \n",
      "correct=male     guess=female   name=Ely                           \n",
      "correct=male     guess=female   name=Emanuel                       \n",
      "correct=male     guess=female   name=Emerson                       \n",
      "correct=male     guess=female   name=Emery                         \n",
      "correct=male     guess=female   name=Emil                          \n",
      "correct=male     guess=female   name=Emile                         \n",
      "correct=male     guess=female   name=Emmanuel                      \n",
      "correct=male     guess=female   name=Emmery                        \n",
      "correct=male     guess=female   name=Emmet                         \n",
      "correct=male     guess=female   name=Emmett                        \n",
      "correct=male     guess=female   name=Emmit                         \n",
      "correct=male     guess=female   name=Emmott                        \n",
      "correct=male     guess=female   name=Emmy                          \n",
      "correct=male     guess=female   name=Emory                         \n",
      "correct=male     guess=female   name=Engelbart                     \n",
      "correct=male     guess=female   name=Engelbert                     \n",
      "correct=male     guess=female   name=Englebart                     \n",
      "correct=male     guess=female   name=Englebert                     \n",
      "correct=male     guess=female   name=Enoch                         \n",
      "correct=male     guess=female   name=Enrique                       \n",
      "correct=male     guess=female   name=Erhart                        \n",
      "correct=male     guess=female   name=Erich                         \n",
      "correct=male     guess=female   name=Erin                          \n",
      "correct=male     guess=female   name=Erl                           \n",
      "correct=male     guess=female   name=Ernest                        \n",
      "correct=male     guess=female   name=Ernie                         \n",
      "correct=male     guess=female   name=Ernst                         \n",
      "correct=male     guess=female   name=Erny                          \n",
      "correct=male     guess=female   name=Errol                         \n",
      "correct=male     guess=female   name=Ervin                         \n",
      "correct=male     guess=female   name=Erwin                         \n",
      "correct=male     guess=female   name=Esau                          \n",
      "correct=male     guess=female   name=Esme                          \n",
      "correct=male     guess=female   name=Esteban                       \n",
      "correct=male     guess=female   name=Ethan                         \n",
      "correct=male     guess=female   name=Ethelbert                     \n",
      "correct=male     guess=female   name=Etienne                       \n",
      "correct=male     guess=female   name=Eugen                         \n",
      "correct=male     guess=female   name=Eugene                        \n",
      "correct=male     guess=female   name=Eustace                       \n",
      "correct=male     guess=female   name=Evan                          \n",
      "correct=male     guess=female   name=Evelyn                        \n",
      "correct=male     guess=female   name=Everett                       \n",
      "correct=male     guess=female   name=Ewan                          \n",
      "correct=male     guess=female   name=Ewart                         \n",
      "correct=male     guess=female   name=Ez                            \n",
      "correct=male     guess=female   name=Ezechiel                      \n",
      "correct=male     guess=female   name=Ezekiel                       \n",
      "correct=male     guess=female   name=Ezra                          \n",
      "correct=male     guess=female   name=Fabian                        \n",
      "correct=male     guess=female   name=Fairfax                       \n",
      "correct=male     guess=female   name=Farley                        \n",
      "correct=male     guess=female   name=Fazeel                        \n",
      "correct=male     guess=female   name=Felice                        \n",
      "correct=male     guess=female   name=Felipe                        \n",
      "correct=male     guess=female   name=Felix                         \n",
      "correct=male     guess=female   name=Ferdie                        \n",
      "correct=male     guess=female   name=Ferdy                         \n",
      "correct=male     guess=female   name=Ferguson                      \n",
      "correct=male     guess=female   name=Fidel                         \n",
      "correct=male     guess=female   name=Filbert                       \n",
      "correct=male     guess=female   name=Filipe                        \n",
      "correct=male     guess=female   name=Filmore                       \n",
      "correct=male     guess=female   name=Finley                        \n",
      "correct=male     guess=female   name=Finn                          \n",
      "correct=male     guess=female   name=Fitz                          \n",
      "correct=male     guess=female   name=Fletch                        \n",
      "correct=male     guess=female   name=Flin                          \n",
      "correct=male     guess=female   name=Flinn                         \n",
      "correct=male     guess=female   name=Flint                         \n",
      "correct=male     guess=female   name=Florian                       \n",
      "correct=male     guess=female   name=Flynn                         \n",
      "correct=male     guess=female   name=Fonsie                        \n",
      "correct=male     guess=female   name=Fonz                          \n",
      "correct=male     guess=female   name=Fonzie                        \n",
      "correct=male     guess=female   name=Forest                        \n",
      "correct=male     guess=female   name=Forrest                       \n",
      "correct=male     guess=female   name=Fox                           \n",
      "correct=male     guess=female   name=Fran                          \n",
      "correct=male     guess=female   name=Frankie                       \n",
      "correct=male     guess=female   name=Franklin                      \n",
      "correct=male     guess=female   name=Franklyn                      \n",
      "correct=male     guess=female   name=Franky                        \n",
      "correct=male     guess=female   name=Franz                         \n",
      "correct=male     guess=female   name=Freddie                       \n",
      "correct=male     guess=female   name=Freddy                        \n",
      "correct=male     guess=female   name=Frederich                     \n",
      "correct=male     guess=female   name=Freeman                       \n",
      "correct=male     guess=female   name=Freemon                       \n",
      "correct=male     guess=female   name=Fremont                       \n",
      "correct=male     guess=female   name=French                        \n",
      "correct=male     guess=female   name=Friedrich                     \n",
      "correct=male     guess=female   name=Fritz                         \n",
      "correct=male     guess=female   name=Fulton                        \n",
      "correct=male     guess=female   name=Gabe                          \n",
      "correct=male     guess=female   name=Gabriel                       \n",
      "correct=male     guess=female   name=Gabriele                      \n",
      "correct=male     guess=female   name=Gabriell                      \n",
      "correct=male     guess=female   name=Gail                          \n",
      "correct=male     guess=female   name=Gale                          \n",
      "correct=male     guess=female   name=Galen                         \n",
      "correct=male     guess=female   name=Gamaliel                      \n",
      "correct=male     guess=female   name=Garcia                        \n",
      "correct=male     guess=female   name=Garcon                        \n",
      "correct=male     guess=female   name=Garey                         \n",
      "correct=male     guess=female   name=Garfinkel                     \n",
      "correct=male     guess=female   name=Garret                        \n",
      "correct=male     guess=female   name=Garrett                       \n",
      "correct=male     guess=female   name=Garrot                        \n",
      "correct=male     guess=female   name=Garrott                       \n",
      "correct=male     guess=female   name=Garry                         \n",
      "correct=male     guess=female   name=Garth                         \n",
      "correct=male     guess=female   name=Garvey                        \n",
      "correct=male     guess=female   name=Garvin                        \n",
      "correct=male     guess=female   name=Garvy                         \n",
      "correct=male     guess=female   name=Garwin                        \n",
      "correct=male     guess=female   name=Gary                          \n",
      "correct=male     guess=female   name=Gaston                        \n",
      "correct=male     guess=female   name=Gaven                         \n",
      "correct=male     guess=female   name=Gavin                         \n",
      "correct=male     guess=female   name=Gavriel                       \n",
      "correct=male     guess=female   name=Gay                           \n",
      "correct=male     guess=female   name=Gayle                         \n",
      "correct=male     guess=female   name=Gene                          \n",
      "correct=male     guess=female   name=Geoffrey                      \n",
      "correct=male     guess=female   name=Geoffry                       \n",
      "correct=male     guess=female   name=George                        \n",
      "correct=male     guess=female   name=Georgia                       \n",
      "correct=male     guess=female   name=Georgie                       \n",
      "correct=male     guess=female   name=Georgy                        \n",
      "correct=male     guess=female   name=Gere                          \n",
      "correct=male     guess=female   name=Gerhardt                      \n",
      "correct=male     guess=female   name=Geri                          \n",
      "correct=male     guess=female   name=Germaine                      \n",
      "correct=male     guess=female   name=Gerome                        \n",
      "correct=male     guess=female   name=Gerri                         \n",
      "correct=male     guess=female   name=Gerrit                        \n",
      "correct=male     guess=female   name=Gerry                         \n",
      "correct=male     guess=female   name=Gershon                       \n",
      "correct=male     guess=female   name=Gian                          \n",
      "correct=male     guess=female   name=Giavani                       \n",
      "correct=male     guess=female   name=Gibb                          \n",
      "correct=male     guess=female   name=Gideon                        \n",
      "correct=male     guess=female   name=Giffie                        \n",
      "correct=male     guess=female   name=Giffy                         \n",
      "correct=male     guess=female   name=Gil                           \n",
      "correct=male     guess=female   name=Gilbert                       \n",
      "correct=male     guess=female   name=Gilburt                       \n",
      "correct=male     guess=female   name=Gill                          \n",
      "correct=male     guess=female   name=Giorgi                        \n",
      "correct=male     guess=female   name=Giovanne                      \n",
      "correct=male     guess=female   name=Giovanni                      \n",
      "correct=male     guess=female   name=Giuseppe                      \n",
      "correct=male     guess=female   name=Glen                          \n",
      "correct=male     guess=female   name=Glenn                         \n",
      "correct=male     guess=female   name=Glynn                         \n",
      "correct=male     guess=female   name=Godart                        \n",
      "correct=male     guess=female   name=Goddart                       \n",
      "correct=male     guess=female   name=Godfree                       \n",
      "correct=male     guess=female   name=Godfrey                       \n",
      "correct=male     guess=female   name=Godfry                        \n",
      "correct=male     guess=female   name=Godwin                        \n",
      "correct=male     guess=female   name=Goose                         \n",
      "correct=male     guess=female   name=Gordan                        \n",
      "correct=male     guess=female   name=Gordie                        \n",
      "correct=male     guess=female   name=Gordon                        \n",
      "correct=male     guess=female   name=Grace                         \n",
      "correct=male     guess=female   name=Grady                         \n",
      "correct=male     guess=female   name=Graehme                       \n",
      "correct=male     guess=female   name=Graeme                        \n",
      "correct=male     guess=female   name=Grant                         \n",
      "correct=male     guess=female   name=Granville                     \n",
      "correct=male     guess=female   name=Greggory                      \n",
      "correct=male     guess=female   name=Gregory                       \n",
      "correct=male     guess=female   name=Gretchen                      \n",
      "correct=male     guess=female   name=Griffin                       \n",
      "correct=male     guess=female   name=Griffith                      \n",
      "correct=male     guess=female   name=Grove                         \n",
      "correct=male     guess=female   name=Guillaume                     \n",
      "correct=male     guess=female   name=Gustave                       \n",
      "correct=male     guess=female   name=Guthrey                       \n",
      "correct=male     guess=female   name=Guthrie                       \n",
      "correct=male     guess=female   name=Guthry                        \n",
      "correct=male     guess=female   name=Guy                           \n",
      "correct=male     guess=female   name=Hadleigh                      \n",
      "correct=male     guess=female   name=Hadley                        \n",
      "correct=male     guess=female   name=Hadrian                       \n",
      "correct=male     guess=female   name=Hagan                         \n",
      "correct=male     guess=female   name=Hagen                         \n",
      "correct=male     guess=female   name=Hailey                        \n",
      "correct=male     guess=female   name=Hal                           \n",
      "correct=male     guess=female   name=Hale                          \n",
      "correct=male     guess=female   name=Haleigh                       \n",
      "correct=male     guess=female   name=Haley                         \n",
      "correct=male     guess=female   name=Hall                          \n",
      "correct=male     guess=female   name=Hamel                         \n",
      "correct=male     guess=female   name=Hamil                         \n",
      "correct=male     guess=female   name=Hamilton                      \n",
      "correct=male     guess=female   name=Hamish                        \n",
      "correct=male     guess=female   name=Hamlen                        \n",
      "correct=male     guess=female   name=Hamlet                        \n",
      "correct=male     guess=female   name=Hamlin                        \n",
      "correct=male     guess=female   name=Hamnet                        \n",
      "correct=male     guess=female   name=Han                           \n",
      "correct=male     guess=female   name=Hanan                         \n",
      "correct=male     guess=female   name=Hannibal                      \n",
      "correct=male     guess=female   name=Hansel                        \n",
      "correct=male     guess=female   name=Hanson                        \n",
      "correct=male     guess=female   name=Harcourt                      \n",
      "correct=male     guess=female   name=Hari                          \n",
      "correct=male     guess=female   name=Harlan                        \n",
      "correct=male     guess=female   name=Harley                        \n",
      "correct=male     guess=female   name=Harlin                        \n",
      "correct=male     guess=female   name=Harman                        \n",
      "correct=male     guess=female   name=Harmon                        \n",
      "correct=male     guess=female   name=Harrison                      \n",
      "correct=male     guess=female   name=Harry                         \n",
      "correct=male     guess=female   name=Hart                          \n",
      "correct=male     guess=female   name=Hartley                       \n",
      "correct=male     guess=female   name=Hartwell                      \n",
      "correct=male     guess=female   name=Harvey                        \n",
      "correct=male     guess=female   name=Harvie                        \n",
      "correct=male     guess=female   name=Harwell                       \n",
      "correct=male     guess=female   name=Haskel                        \n",
      "correct=male     guess=female   name=Haskell                       \n",
      "correct=male     guess=female   name=Hassan                        \n",
      "correct=male     guess=female   name=Hasty                         \n",
      "correct=male     guess=female   name=Haven                         \n",
      "correct=male     guess=female   name=Hayden                        \n",
      "correct=male     guess=female   name=Haydon                        \n",
      "correct=male     guess=female   name=Hazel                         \n",
      "correct=male     guess=female   name=Heath                         \n",
      "correct=male     guess=female   name=Hebert                        \n",
      "correct=male     guess=female   name=Heinrich                      \n",
      "correct=male     guess=female   name=Heinz                         \n",
      "correct=male     guess=female   name=Helmuth                       \n",
      "correct=male     guess=female   name=Henderson                     \n",
      "correct=male     guess=female   name=Henri                         \n",
      "correct=male     guess=female   name=Henrie                        \n",
      "correct=male     guess=female   name=Henrique                      \n",
      "correct=male     guess=female   name=Henry                         \n",
      "correct=male     guess=female   name=Herb                          \n",
      "correct=male     guess=female   name=Herbert                       \n",
      "correct=male     guess=female   name=Herbie                        \n",
      "correct=male     guess=female   name=Herby                         \n",
      "correct=male     guess=female   name=Hercule                       \n",
      "correct=male     guess=female   name=Herculie                      \n",
      "correct=male     guess=female   name=Herman                        \n",
      "correct=male     guess=female   name=Hermann                       \n",
      "correct=male     guess=female   name=Hermon                        \n",
      "correct=male     guess=female   name=Hermy                         \n",
      "correct=male     guess=female   name=Herrmann                      \n",
      "correct=male     guess=female   name=Hersch                        \n",
      "correct=male     guess=female   name=Herschel                      \n",
      "correct=male     guess=female   name=Hersh                         \n",
      "correct=male     guess=female   name=Hershel                       \n",
      "correct=male     guess=female   name=Herve                         \n",
      "correct=male     guess=female   name=Hervey                        \n",
      "correct=male     guess=female   name=Hewe                          \n",
      "correct=male     guess=female   name=Hewet                         \n",
      "correct=male     guess=female   name=Hewett                        \n",
      "correct=male     guess=female   name=Hewie                         \n",
      "correct=male     guess=female   name=Hewitt                        \n",
      "correct=male     guess=female   name=Hezekiah                      \n",
      "correct=male     guess=female   name=Hilary                        \n",
      "correct=male     guess=female   name=Hilbert                       \n",
      "correct=male     guess=female   name=Hill                          \n",
      "correct=male     guess=female   name=Hillary                       \n",
      "correct=male     guess=female   name=Hillel                        \n",
      "correct=male     guess=female   name=Hillery                       \n",
      "correct=male     guess=female   name=Hilton                        \n",
      "correct=male     guess=female   name=Hiralal                       \n",
      "correct=male     guess=female   name=Hirsch                        \n",
      "correct=male     guess=female   name=Hobart                        \n",
      "correct=male     guess=female   name=Hodge                         \n",
      "correct=male     guess=female   name=Hogan                         \n",
      "correct=male     guess=female   name=Holly                         \n",
      "correct=male     guess=female   name=Horace                        \n",
      "correct=male     guess=female   name=Horst                         \n",
      "correct=male     guess=female   name=Howie                         \n",
      "correct=male     guess=female   name=Hoyt                          \n",
      "correct=male     guess=female   name=Hubert                        \n",
      "correct=male     guess=female   name=Hudson                        \n",
      "correct=male     guess=female   name=Huey                          \n",
      "correct=male     guess=female   name=Hugh                          \n",
      "correct=male     guess=female   name=Humbert                       \n",
      "correct=male     guess=female   name=Humphrey                      \n",
      "correct=male     guess=female   name=Hunt                          \n",
      "correct=male     guess=female   name=Huntington                    \n",
      "correct=male     guess=female   name=Huntlee                       \n",
      "correct=male     guess=female   name=Huntley                       \n",
      "correct=male     guess=female   name=Hurley                        \n",
      "correct=male     guess=female   name=Husain                        \n",
      "correct=male     guess=female   name=Husein                        \n",
      "correct=male     guess=female   name=Hussein                       \n",
      "correct=male     guess=female   name=Hy                            \n",
      "correct=male     guess=female   name=Hyatt                         \n",
      "correct=male     guess=female   name=Hyman                         \n",
      "correct=male     guess=female   name=Hymie                         \n",
      "correct=male     guess=female   name=Iain                          \n",
      "correct=male     guess=female   name=Ian                           \n",
      "correct=male     guess=female   name=Iggie                         \n",
      "correct=male     guess=female   name=Iggy                          \n",
      "correct=male     guess=female   name=Ignace                        \n",
      "correct=male     guess=female   name=Ignaz                         \n",
      "correct=male     guess=female   name=Ike                           \n",
      "correct=male     guess=female   name=Ikey                          \n",
      "correct=male     guess=female   name=Immanuel                      \n",
      "correct=male     guess=female   name=Ingelbert                     \n",
      "correct=male     guess=female   name=Inglebert                     \n",
      "correct=male     guess=female   name=Ira                           \n",
      "correct=male     guess=female   name=Irvin                         \n",
      "correct=male     guess=female   name=Irvine                        \n",
      "correct=male     guess=female   name=Irwin                         \n",
      "correct=male     guess=female   name=Isa                           \n",
      "correct=male     guess=female   name=Isadore                       \n",
      "correct=male     guess=female   name=Isaiah                        \n",
      "correct=male     guess=female   name=Ishmael                       \n",
      "correct=male     guess=female   name=Isidore                       \n",
      "correct=male     guess=female   name=Ismail                        \n",
      "correct=male     guess=female   name=Israel                        \n",
      "correct=male     guess=female   name=Istvan                        \n",
      "correct=male     guess=female   name=Ivan                          \n",
      "correct=male     guess=female   name=Izzy                          \n",
      "correct=male     guess=female   name=Jabez                         \n",
      "correct=male     guess=female   name=Jackie                        \n",
      "correct=male     guess=female   name=Jackson                       \n",
      "correct=male     guess=female   name=Jacob                         \n",
      "correct=male     guess=female   name=Jae                           \n",
      "correct=male     guess=female   name=Jaime                         \n",
      "correct=male     guess=female   name=Jake                          \n",
      "correct=male     guess=female   name=Jakob                         \n",
      "correct=male     guess=female   name=Jameson                       \n",
      "correct=male     guess=female   name=Jamey                         \n",
      "correct=male     guess=female   name=Jamie                         \n",
      "correct=male     guess=female   name=Jan                           \n",
      "correct=male     guess=female   name=Jarrett                       \n",
      "correct=male     guess=female   name=Jason                         \n",
      "correct=male     guess=female   name=Jay                           \n",
      "correct=male     guess=female   name=Jean                          \n",
      "correct=male     guess=female   name=Jean-Christophe               \n",
      "correct=male     guess=female   name=Jean-Lou                      \n",
      "correct=male     guess=female   name=Jean-Paul                     \n",
      "correct=male     guess=female   name=Jean-Pierre                   \n",
      "correct=male     guess=female   name=Jeb                           \n",
      "correct=male     guess=female   name=Jedediah                      \n",
      "correct=male     guess=female   name=Jefferey                      \n",
      "correct=male     guess=female   name=Jefferson                     \n",
      "correct=male     guess=female   name=Jeffery                       \n",
      "correct=male     guess=female   name=Jeffie                        \n",
      "correct=male     guess=female   name=Jeffrey                       \n",
      "correct=male     guess=female   name=Jeffry                        \n",
      "correct=male     guess=female   name=Jefry                         \n",
      "correct=male     guess=female   name=Jehu                          \n",
      "correct=male     guess=female   name=Jephthah                      \n",
      "correct=male     guess=female   name=Jeramie                       \n",
      "correct=male     guess=female   name=Jere                          \n",
      "correct=male     guess=female   name=Jereme                        \n",
      "correct=male     guess=female   name=Jeremiah                      \n",
      "correct=male     guess=female   name=Jeremie                       \n",
      "correct=male     guess=female   name=Jeremy                        \n",
      "correct=male     guess=female   name=Jermain                       \n",
      "correct=male     guess=female   name=Jermaine                      \n",
      "correct=male     guess=female   name=Jermayne                      \n",
      "correct=male     guess=female   name=Jerome                        \n",
      "correct=male     guess=female   name=Jeromy                        \n",
      "correct=male     guess=female   name=Jerri                         \n",
      "correct=male     guess=female   name=Jerrie                        \n",
      "correct=male     guess=female   name=Jerrome                       \n",
      "correct=male     guess=female   name=Jerry                         \n",
      "correct=male     guess=female   name=Jerzy                         \n",
      "correct=male     guess=female   name=Jesse                         \n",
      "correct=male     guess=female   name=Jessee                        \n",
      "correct=male     guess=female   name=Jessey                        \n",
      "correct=male     guess=female   name=Jessie                        \n",
      "correct=male     guess=female   name=Jeth                          \n",
      "correct=male     guess=female   name=Jimmie                        \n",
      "correct=male     guess=female   name=Jimmy                         \n",
      "correct=male     guess=female   name=Joab                          \n",
      "correct=male     guess=female   name=Joaquin                       \n",
      "correct=male     guess=female   name=Job                           \n",
      "correct=male     guess=female   name=Jodi                          \n",
      "correct=male     guess=female   name=Jodie                         \n",
      "correct=male     guess=female   name=Jody                          \n",
      "correct=male     guess=female   name=Joe                           \n",
      "correct=male     guess=female   name=Joel                          \n",
      "correct=male     guess=female   name=Joey                          \n",
      "correct=male     guess=female   name=Johan                         \n",
      "correct=male     guess=female   name=Johann                        \n",
      "correct=male     guess=female   name=John                          \n",
      "correct=male     guess=female   name=Johnathan                     \n",
      "correct=male     guess=female   name=Johnathon                     \n",
      "correct=male     guess=female   name=Johnnie                       \n",
      "correct=male     guess=female   name=Johnny                        \n",
      "correct=male     guess=female   name=Johny                         \n",
      "correct=male     guess=female   name=Jon                           \n",
      "correct=male     guess=female   name=Jonah                         \n",
      "correct=male     guess=female   name=Jonathan                      \n",
      "correct=male     guess=female   name=Jonathon                      \n",
      "correct=male     guess=female   name=Jonny                         \n",
      "correct=male     guess=female   name=Jordan                        \n",
      "correct=male     guess=female   name=Jordon                        \n",
      "correct=male     guess=female   name=Jordy                         \n",
      "correct=male     guess=female   name=Jorge                         \n",
      "correct=male     guess=female   name=Jory                          \n",
      "correct=male     guess=female   name=Jose                          \n",
      "correct=male     guess=female   name=Joseph                        \n",
      "correct=male     guess=female   name=Josh                          \n",
      "correct=male     guess=female   name=Joshua                        \n",
      "correct=male     guess=female   name=Joshuah                       \n",
      "correct=male     guess=female   name=Josiah                        \n",
      "correct=male     guess=female   name=Juan                          \n",
      "correct=male     guess=female   name=Juanita                       \n",
      "correct=male     guess=female   name=Judah                         \n",
      "correct=male     guess=female   name=Jude                          \n",
      "correct=male     guess=female   name=Judith                        \n",
      "correct=male     guess=female   name=Judson                        \n",
      "correct=male     guess=female   name=Judy                          \n",
      "correct=male     guess=female   name=Juergen                       \n",
      "correct=male     guess=female   name=Jule                          \n",
      "correct=male     guess=female   name=Julian                        \n",
      "correct=male     guess=female   name=Julie                         \n",
      "correct=male     guess=female   name=Justin                        \n",
      "correct=male     guess=female   name=Kaleb                         \n",
      "correct=male     guess=female   name=Kalil                         \n",
      "correct=male     guess=female   name=Kalle                         \n",
      "correct=male     guess=female   name=Kalman                        \n",
      "correct=male     guess=female   name=Kalvin                        \n",
      "correct=male     guess=female   name=Kane                          \n",
      "correct=male     guess=female   name=Karel                         \n",
      "correct=male     guess=female   name=Karl                          \n",
      "correct=male     guess=female   name=Karsten                       \n",
      "correct=male     guess=female   name=Keefe                         \n",
      "correct=male     guess=female   name=Keenan                        \n",
      "correct=male     guess=female   name=Keene                         \n",
      "correct=male     guess=female   name=Keil                          \n",
      "correct=male     guess=female   name=Keith                         \n",
      "correct=male     guess=female   name=Kellen                        \n",
      "correct=male     guess=female   name=Kelley                        \n",
      "correct=male     guess=female   name=Kelly                         \n",
      "correct=male     guess=female   name=Kelsey                        \n",
      "correct=male     guess=female   name=Kelvin                        \n",
      "correct=male     guess=female   name=Kelwin                        \n",
      "correct=male     guess=female   name=Ken                           \n",
      "correct=male     guess=female   name=Kendal                        \n",
      "correct=male     guess=female   name=Kendall                       \n",
      "correct=male     guess=female   name=Kenn                          \n",
      "correct=male     guess=female   name=Kennedy                       \n",
      "correct=male     guess=female   name=Kenneth                       \n",
      "correct=male     guess=female   name=Kenny                         \n",
      "correct=male     guess=female   name=Kent                          \n",
      "correct=male     guess=female   name=Kenton                        \n",
      "correct=male     guess=female   name=Kenyon                        \n",
      "correct=male     guess=female   name=Kermie                        \n",
      "correct=male     guess=female   name=Kermit                        \n",
      "correct=male     guess=female   name=Kerry                         \n",
      "correct=male     guess=female   name=Kevan                         \n",
      "correct=male     guess=female   name=Kevin                         \n",
      "correct=male     guess=female   name=Kimball                       \n",
      "correct=male     guess=female   name=Kin                           \n",
      "correct=male     guess=female   name=Kingsley                      \n",
      "correct=male     guess=female   name=Kingsly                       \n",
      "correct=male     guess=female   name=Kingston                      \n",
      "correct=male     guess=female   name=Kirby                         \n",
      "correct=male     guess=female   name=Kit                           \n",
      "correct=male     guess=female   name=Klee                          \n",
      "correct=male     guess=female   name=Knox                          \n",
      "correct=male     guess=female   name=Konstantin                    \n",
      "correct=male     guess=female   name=Kory                          \n",
      "correct=male     guess=female   name=Krishna                       \n",
      "correct=male     guess=female   name=Kristian                      \n",
      "correct=male     guess=female   name=Kurt                          \n",
      "correct=male     guess=female   name=Kyle                          \n",
      "correct=male     guess=female   name=Lambert                       \n",
      "correct=male     guess=female   name=Lamont                        \n",
      "correct=male     guess=female   name=Lance                         \n",
      "correct=male     guess=female   name=Lancelot                      \n",
      "correct=male     guess=female   name=Lane                          \n",
      "correct=male     guess=female   name=Langston                      \n",
      "correct=male     guess=female   name=Lanny                         \n",
      "correct=male     guess=female   name=Larry                         \n",
      "correct=male     guess=female   name=Laurance                      \n",
      "correct=male     guess=female   name=Lauren                        \n",
      "correct=male     guess=female   name=Laurence                      \n",
      "correct=male     guess=female   name=Laurent                       \n",
      "correct=male     guess=female   name=Laurie                        \n",
      "correct=male     guess=female   name=Lawerence                     \n"
     ]
    }
   ],
   "source": [
    "for (tag, guess, name) in sorted(errors): \n",
    "    print('correct=%-8s guess=%-8s name=%-30s'%(tag, guess, name))"
   ]
  },
  {
   "cell_type": "markdown",
   "metadata": {},
   "source": [
    "## Naive Bayes"
   ]
  },
  {
   "cell_type": "code",
   "execution_count": null,
   "metadata": {},
   "outputs": [],
   "source": []
  },
  {
   "cell_type": "markdown",
   "metadata": {},
   "source": [
    "## Decision Trees"
   ]
  },
  {
   "cell_type": "code",
   "execution_count": null,
   "metadata": {},
   "outputs": [],
   "source": []
  },
  {
   "cell_type": "markdown",
   "metadata": {},
   "source": [
    "## Max Entropy"
   ]
  },
  {
   "cell_type": "markdown",
   "metadata": {},
   "source": [
    "## Conclusion"
   ]
  },
  {
   "cell_type": "markdown",
   "metadata": {},
   "source": [
    "## Youtube"
   ]
  },
  {
   "cell_type": "code",
   "execution_count": null,
   "metadata": {},
   "outputs": [],
   "source": []
  }
 ],
 "metadata": {
  "kernelspec": {
   "display_name": "Python 3",
   "language": "python",
   "name": "python3"
  },
  "language_info": {
   "codemirror_mode": {
    "name": "ipython",
    "version": 3
   },
   "file_extension": ".py",
   "mimetype": "text/x-python",
   "name": "python",
   "nbconvert_exporter": "python",
   "pygments_lexer": "ipython3",
   "version": "3.7.7"
  }
 },
 "nbformat": 4,
 "nbformat_minor": 4
}
