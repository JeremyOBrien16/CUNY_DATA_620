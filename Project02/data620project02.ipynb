{
 "cells": [
  {
   "cell_type": "markdown",
   "metadata": {},
   "source": [
    "## DATA 620 - Project 1\n",
    "\n",
    "---\n",
    "\n",
    "### Mael Illien, Jeremy OBrien & Vanita Thompson"
   ]
  },
  {
   "cell_type": "markdown",
   "metadata": {},
   "source": [
    "* Identify a large 2-node network dataset—you can start with a dataset in a repository. Your data should meet the criteria that it consists of ties between and not within two (or more) distinct groups.\n",
    "* Reduce the size of the network using a method such as the island method described in chapter 4 of social network analysis.\n",
    "* What can you infer about each of the distinct groups?\n",
    "\n",
    "You may work in a small group on the project.\n",
    "\n",
    "Your code and analysis should be delivered in an IPython Notebook by end of day Sunday."
   ]
  },
  {
   "cell_type": "markdown",
   "metadata": {},
   "source": [
    "## Introduction"
   ]
  },
  {
   "cell_type": "markdown",
   "metadata": {},
   "source": [
    "## Setup"
   ]
  },
  {
   "cell_type": "code",
   "execution_count": 1,
   "metadata": {},
   "outputs": [],
   "source": [
    "import csv\n",
    "import pandas as pd\n",
    "import networkx as nx\n",
    "import matplotlib.pyplot as plt\n",
    "import statsmodels.api as sm\n",
    "from statsmodels.formula.api import ols\n",
    "from IPython.display import display, HTML\n",
    "%matplotlib inline"
   ]
  },
  {
   "cell_type": "markdown",
   "metadata": {},
   "source": [
    "## Data Import"
   ]
  },
  {
   "cell_type": "code",
   "execution_count": 3,
   "metadata": {},
   "outputs": [
    {
     "name": "stdout",
     "output_type": "stream",
     "text": [
      "<class 'pandas.core.frame.DataFrame'>\n",
      "RangeIndex: 47 entries, 0 to 46\n",
      "Data columns (total 21 columns):\n",
      " #   Column                Non-Null Count  Dtype \n",
      "---  ------                --------------  ----- \n",
      " 0   Unnamed: 0            47 non-null     object\n",
      " 1   Nigeria               47 non-null     int64 \n",
      " 2   Northern Mali         47 non-null     int64 \n",
      " 3   Sahara                47 non-null     int64 \n",
      " 4   Algeria               47 non-null     int64 \n",
      " 5   Somalia               47 non-null     int64 \n",
      " 6   Sudan                 47 non-null     int64 \n",
      " 7   Egypt                 47 non-null     int64 \n",
      " 8   Libya                 47 non-null     int64 \n",
      " 9   Tunisia               47 non-null     int64 \n",
      " 10  Palestine             47 non-null     int64 \n",
      " 11  Yemen                 47 non-null     int64 \n",
      " 12  Saudi Arabia          47 non-null     int64 \n",
      " 13  Syria                 47 non-null     int64 \n",
      " 14  Iraq                  47 non-null     int64 \n",
      " 15  Chechnya              47 non-null     int64 \n",
      " 16  Pakistan              47 non-null     int64 \n",
      " 17  Afghanistan Pakistan  47 non-null     int64 \n",
      " 18  Afghanistan           47 non-null     int64 \n",
      " 19  Indonesia             47 non-null     int64 \n",
      " 20  Philippines           47 non-null     int64 \n",
      "dtypes: int64(20), object(1)\n",
      "memory usage: 7.8+ KB\n"
     ]
    }
   ],
   "source": [
    "iss_data = pd.read_csv('IS_ALLEGIANCES_2M.csv')\n",
    "iss_data.info()"
   ]
  },
  {
   "cell_type": "markdown",
   "metadata": {},
   "source": [
    "## Data Processing"
   ]
  },
  {
   "cell_type": "code",
   "execution_count": null,
   "metadata": {},
   "outputs": [],
   "source": []
  }
 ],
 "metadata": {
  "kernelspec": {
   "display_name": "data_620_base",
   "language": "python",
   "name": "data_620_base"
  },
  "language_info": {
   "codemirror_mode": {
    "name": "ipython",
    "version": 3
   },
   "file_extension": ".py",
   "mimetype": "text/x-python",
   "name": "python",
   "nbconvert_exporter": "python",
   "pygments_lexer": "ipython3",
   "version": "3.8.2"
  }
 },
 "nbformat": 4,
 "nbformat_minor": 4
}
