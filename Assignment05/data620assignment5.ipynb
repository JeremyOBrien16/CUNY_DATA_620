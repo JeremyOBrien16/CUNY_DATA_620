{
 "cells": [
  {
   "cell_type": "markdown",
   "metadata": {},
   "source": [
    "# DATA 620 - Assignment 5\n",
    "\n",
    "Jeremy OBrien, Mael Illien, Vanita Thompson"
   ]
  },
  {
   "cell_type": "markdown",
   "metadata": {},
   "source": [
    "* Choose a corpus of interest. \n",
    "* How many total unique words are in the corpus? (Please feel free to define unique words in any interesting, defensible way). \n",
    "* Taking the most common words, how many unique words represent half of the total words in the corpus\n",
    "* Identify the 200 highest frequency words in this corpus. \n",
    "* Create a graph that shows the relative frequency of these 200 words. \n",
    "* Does the observed relative frequency of these words follow Zipf’s law? Explain.  \n",
    "* In what ways do you think the frequency of the words in this corpus differ from “all words in all corpora.”  \n",
    "\n"
   ]
  },
  {
   "cell_type": "markdown",
   "metadata": {},
   "source": [
    "## Setup"
   ]
  },
  {
   "cell_type": "code",
   "execution_count": 1,
   "metadata": {},
   "outputs": [],
   "source": [
    "import pandas as pd\n",
    "import nltk, re, pprint\n",
    "import matplotlib.pyplot as plt\n",
    "from tabulate import tabulate\n",
    "from nltk import word_tokenize\n",
    "from nltk.corpus import stopwords"
   ]
  },
  {
   "cell_type": "markdown",
   "metadata": {},
   "source": [
    "## Data Import"
   ]
  },
  {
   "cell_type": "markdown",
   "metadata": {},
   "source": [
    "We start by importing a corpora built into NLTK - Herman Melville's novel 'Moby Dick' (1851) - and exploring the data. Note that the raw text contains the entire book, including title, author and introductions. We will remove those sections to limit our analysis to the actual content of the book."
   ]
  },
  {
   "cell_type": "code",
   "execution_count": 2,
   "metadata": {},
   "outputs": [],
   "source": [
    "# Load the Moby Dick corpora from NLTK\n",
    "path = nltk.data.find('corpora/gutenberg/melville-moby_dick.txt')\n",
    "raw = open(path, 'r').read()"
   ]
  },
  {
   "cell_type": "code",
   "execution_count": 3,
   "metadata": {},
   "outputs": [
    {
     "data": {
      "text/plain": [
       "'Call me Ishmael.  Some years ago--never mind how long\\nprecisely--having little or no money in my pur'"
      ]
     },
     "execution_count": 3,
     "metadata": {},
     "output_type": "execute_result"
    }
   ],
   "source": [
    "# Sift out prologue pages at beginning of corpora\n",
    "raw_text = raw[21467:]\n",
    "\n",
    "# Confirm starting point\n",
    "raw_text[:100]"
   ]
  },
  {
   "cell_type": "markdown",
   "metadata": {},
   "source": [
    "## Data Exploration and Analysis"
   ]
  },
  {
   "cell_type": "markdown",
   "metadata": {},
   "source": [
    "We break down the raw text into tokens and filter out punctuation in order to focus on the words we'll analyze."
   ]
  },
  {
   "cell_type": "code",
   "execution_count": 4,
   "metadata": {},
   "outputs": [
    {
     "name": "stdout",
     "output_type": "stream",
     "text": [
      "The text contains 250399 tokens.\n"
     ]
    }
   ],
   "source": [
    "# Tokenize the corpus\n",
    "tokens = word_tokenize(raw_text)\n",
    "text = nltk.Text(tokens)\n",
    "print('The text contains {} tokens.'.format(len(tokens)))"
   ]
  },
  {
   "cell_type": "code",
   "execution_count": 5,
   "metadata": {},
   "outputs": [
    {
     "data": {
      "text/plain": [
       "['Call', 'me', 'Ishmael', '.', 'Some', 'years', 'ago', '--', 'never', 'mind']"
      ]
     },
     "execution_count": 5,
     "metadata": {},
     "output_type": "execute_result"
    }
   ],
   "source": [
    "# Confirm tokenization proceeded as expected\n",
    "tokens[:10]"
   ]
  },
  {
   "cell_type": "code",
   "execution_count": 6,
   "metadata": {},
   "outputs": [
    {
     "name": "stdout",
     "output_type": "stream",
     "text": [
      "There are 206791 word tokens. \n"
     ]
    }
   ],
   "source": [
    "# Extract only words and convert each word to lower case to prevent duplication\n",
    "word_tokens = [w.lower() for w in tokens if w.isalpha()] \n",
    "print('There are {} word tokens. '.format(len(word_tokens)))"
   ]
  },
  {
   "cell_type": "code",
   "execution_count": 7,
   "metadata": {},
   "outputs": [
    {
     "data": {
      "text/plain": [
       "['call',\n",
       " 'me',\n",
       " 'ishmael',\n",
       " 'some',\n",
       " 'years',\n",
       " 'ago',\n",
       " 'never',\n",
       " 'mind',\n",
       " 'how',\n",
       " 'long']"
      ]
     },
     "execution_count": 7,
     "metadata": {},
     "output_type": "execute_result"
    }
   ],
   "source": [
    "# Confirm tokenization proceeded as expected\n",
    "word_tokens[:10]"
   ]
  },
  {
   "cell_type": "markdown",
   "metadata": {},
   "source": [
    "### Unique words\n",
    "\n",
    "We define unique words as those with unique spelling irrespective of case (i.e. upper vs. lower case).  Where a words singular and plural form are distinct, this definition treats them as unique, separate words.\n",
    "\n",
    "To identify unique words we deduplicate the list of words which represents the corpus by converting it into a set (in which there are no repeated elements)."
   ]
  },
  {
   "cell_type": "code",
   "execution_count": 8,
   "metadata": {},
   "outputs": [
    {
     "name": "stdout",
     "output_type": "stream",
     "text": [
      "The text contains 16270 unique words.\n"
     ]
    }
   ],
   "source": [
    "# Deduplicate words\n",
    "vocab = sorted(set(word_tokens))\n",
    "print('The text contains {} unique words.'.format(len(vocab)))"
   ]
  },
  {
   "cell_type": "markdown",
   "metadata": {},
   "source": [
    "### Frequency distribution\n",
    "\n",
    "The NLTK function FreqDist returns the most common words in the corpus along with their number of occurences, or frequency. \n",
    "\n",
    "As is typical, the most common words in the corpus are short words like articl and prepositions which are very common in English. These words do not hold any special semantic or moprhological value to our analysis and - as is common practice - we will subsequently discard them."
   ]
  },
  {
   "cell_type": "code",
   "execution_count": 9,
   "metadata": {
    "scrolled": true
   },
   "outputs": [
    {
     "name": "stdout",
     "output_type": "stream",
     "text": [
      "Word      Count\n",
      "------  -------\n",
      "the       14161\n",
      "of         6446\n",
      "and        6309\n",
      "a          4603\n",
      "to         4511\n",
      "in         4068\n",
      "that       3040\n",
      "his        2495\n",
      "it         2482\n",
      "i          2098\n"
     ]
    }
   ],
   "source": [
    "# Calculate frequency distribution of words\n",
    "fdist = nltk.FreqDist(word_tokens)\n",
    "most_common = fdist.most_common(200)\n",
    "print(tabulate(pd.DataFrame(most_common).head(n=10), \n",
    "               headers=['Word', 'Count'], \n",
    "               showindex=False, \n",
    "               tablefmt='pretty')\n",
    "     )"
   ]
  },
  {
   "cell_type": "markdown",
   "metadata": {},
   "source": [
    "### Zipf's Law\n",
    "\n",
    "Zipf's law states that given a large sample of words used, the frequency of any word is inversely proportional to its rank in the frequency table. That is, the nth ranked word has a frequency proportional to 1/n.\n",
    "\n",
    "The chart below shows the weighted frequencies of the words in 'Moby Dick'. We observe that word frequency decreases in an _approximately_ inverse relationship as predicted by Zipf's law (demonstrated by the red line). For example, the most frequently occuring word is 'the', comprising about 11.2% of all utterances in the text.  The next is 'of' at 5.1%, followed by 'and' at 5.0% and 'a' at 3.6%"
   ]
  },
  {
   "cell_type": "code",
   "execution_count": 10,
   "metadata": {},
   "outputs": [
    {
     "data": {
      "image/png": "[encoded data removed]",
      "text/plain": [
       "<Figure size 1440x576 with 1 Axes>"
      ]
     },
     "metadata": {
      "needs_background": "light"
     },
     "output_type": "display_data"
    }
   ],
   "source": [
    "plt.rcParams[\"figure.figsize\"] = (16,8)\n",
    "wrds = [w[0] for w in most_common]\n",
    "freq = [w[1] for w in most_common]\n",
    "weights = [f/sum(freq) for f in freq]\n",
    "zipf = [weights[0]/n for n in range(1,200)]\n",
    "\n",
    "plt.rcParams[\"figure.figsize\"] = (20,8)\n",
    "plt.bar(wrds[:50], \n",
    "        weights[:50], \n",
    "        width=0.5, \n",
    "        color='cornflowerblue')\n",
    "plt.plot(zipf[:50], \n",
    "         color='r', \n",
    "         linewidth=5)\n",
    "plt.xticks(rotation=60)\n",
    "plt.show()"
   ]
  },
  {
   "cell_type": "markdown",
   "metadata": {},
   "source": [
    "### Particularities of the corpus"
   ]
  },
  {
   "cell_type": "markdown",
   "metadata": {},
   "source": [
    "We remove common \"stop words\" in order to examine words that are particular to this text.\n",
    "\n",
    "With a high frequency of nautical words like 'whale' (1018 occurences), 'ship' (458), 'sea' (367), and 'captain' (322), we can clearly discern the nautical theme of 'Moby Dick'."
   ]
  },
  {
   "cell_type": "code",
   "execution_count": 11,
   "metadata": {},
   "outputs": [
    {
     "name": "stdout",
     "output_type": "stream",
     "text": [
      "Word       Frequency\n",
      "-------  -----------\n",
      "whale           1018\n",
      "one              898\n",
      "like             572\n",
      "upon             560\n",
      "ahab             508\n",
      "man              488\n",
      "ship             458\n",
      "old              439\n",
      "ye               433\n",
      "would            429\n",
      "though           380\n",
      "sea              367\n",
      "yet              344\n",
      "time             324\n",
      "captain          322\n",
      "long             316\n",
      "still            312\n",
      "said             299\n",
      "great            289\n",
      "two              283\n"
     ]
    }
   ],
   "source": [
    "# Introduce condition removing stop words\n",
    "stop_words = stopwords.words('english')\n",
    "filtered_words = [w for w in word_tokens if not w in stop_words]\n",
    "\n",
    "# \n",
    "fdist_filtered = nltk.FreqDist(filtered_words)\n",
    "most_common_filtered = fdist_filtered.most_common(200)\n",
    "#most_common_filtered[:20]\n",
    "\n",
    "unzip = [[ i for i, j in most_common_filtered ], \n",
    "       [ j for i, j in most_common_filtered ]] \n",
    "common_words_df = pd.DataFrame({'word': unzip[0], 'frequency': unzip[1]})\n",
    "print(tabulate(common_words_df[:20], \n",
    "               headers=['Word', 'Frequency'], \n",
    "               showindex=False,\n",
    "              tablefmt='pretty'))"
   ]
  },
  {
   "cell_type": "markdown",
   "metadata": {},
   "source": [
    "This word frequency distribution is distinct from other corpora in terms of _stylistics_.  \n",
    "\n",
    "For example, while it was also written in the 19th century, the frequency ranking of non-stop words in Jane Austen's novel 'Emma' (1815) in the table below are not similar to 'Moby Dick', and unsurprisingly, are not obviously related to whaling or sailing."
   ]
  },
  {
   "cell_type": "code",
   "execution_count": 12,
   "metadata": {},
   "outputs": [
    {
     "name": "stdout",
     "output_type": "stream",
     "text": [
      "The text contains 191785 tokens and 157044 word tokens. \n",
      "\n",
      "Word         Frequency\n",
      "---------  -----------\n",
      "emma               855\n",
      "could              836\n",
      "would              818\n",
      "miss               599\n",
      "must               566\n",
      "harriet            496\n",
      "much               484\n",
      "said               483\n",
      "one                447\n",
      "every              435\n",
      "weston             430\n",
      "thing              394\n",
      "think              383\n",
      "well               378\n",
      "elton              378\n",
      "knightley          373\n",
      "little             359\n",
      "never              358\n",
      "know               335\n",
      "might              325\n"
     ]
    }
   ],
   "source": [
    "# Function to calculate non-stop word frequency of corpus\n",
    "def distinctive_words(corpus, language, word_rank_limit=200, list_length=20):\n",
    "    \n",
    "    # Access corpus\n",
    "    path = nltk.data.find('corpora/gutenberg/{}'.format(corpus))\n",
    "    raw_text = open(path, 'r').read()\n",
    "\n",
    "    # Tokenize corpus\n",
    "    tokens = word_tokenize(raw_text)\n",
    "    word_tokens = [w.lower() for w in tokens if w.isalpha()] \n",
    "    print('The text contains {} tokens and {} word tokens. \\n'.format(len(tokens), len(word_tokens)))\n",
    "    \n",
    "    # Remove stop words and calculate word frequency\n",
    "    stop_words = stopwords.words('english')\n",
    "    filtered_words = [w for w in word_tokens if not w in stop_words]\n",
    "    fdist_filtered = nltk.FreqDist(filtered_words)\n",
    "    most_common_filtered = fdist_filtered.most_common(word_rank_limit)\n",
    "\n",
    "    # Print dataframe of words sorted by frequency\n",
    "    unzip = [[ i for i, j in most_common_filtered ], \n",
    "             [ j for i, j in most_common_filtered ]] \n",
    "    common_words_df = pd.DataFrame({'word': unzip[0], 'frequency': unzip[1]})\n",
    "    print(tabulate(common_words_df[:list_length], \n",
    "                   headers=['Word', 'Frequency'], \n",
    "                   showindex=False,\n",
    "                   tablefmt='pretty'))\n",
    "    \n",
    "distinctive_words('austen-emma.txt', 'english')"
   ]
  },
  {
   "cell_type": "markdown",
   "metadata": {},
   "source": [
    "## Youtube"
   ]
  },
  {
   "cell_type": "code",
   "execution_count": null,
   "metadata": {},
   "outputs": [],
   "source": []
  }
 ],
 "metadata": {
  "kernelspec": {
   "display_name": "Python 3",
   "language": "python",
   "name": "python3"
  },
  "language_info": {
   "codemirror_mode": {
    "name": "ipython",
    "version": 3
   },
   "file_extension": ".py",
   "mimetype": "text/x-python",
   "name": "python",
   "nbconvert_exporter": "python",
   "pygments_lexer": "ipython3",
   "version": "3.8.2"
  }
 },
 "nbformat": 4,
 "nbformat_minor": 4
}
