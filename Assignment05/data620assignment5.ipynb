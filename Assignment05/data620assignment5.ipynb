{
 "cells": [
  {
   "cell_type": "markdown",
   "metadata": {},
   "source": [
    "# DATA 620 - Assignment 5\n",
    "\n",
    "Jeremy OBrien, Mael Illien, Vanita Thompson"
   ]
  },
  {
   "cell_type": "markdown",
   "metadata": {},
   "source": [
    "* Choose a corpus of interest. \n",
    "* How many total unique words are in the corpus? (Please feel free to define unique words in any interesting, defensible way). \n",
    "* Taking the most common words, how many unique words represent half of the total words in the corpus\n",
    "* Identify the 200 highest frequency words in this corpus. \n",
    "* Create a graph that shows the relative frequency of these 200 words. \n",
    "* Does the observed relative frequency of these words follow Zipf’s law? Explain.  \n",
    "* In what ways do you think the frequency of the words in this corpus differ from “all words in all corpora.”  \n",
    "\n"
   ]
  },
  {
   "cell_type": "markdown",
   "metadata": {},
   "source": [
    "## Setup"
   ]
  },
  {
   "cell_type": "code",
   "execution_count": 39,
   "metadata": {},
   "outputs": [],
   "source": [
    "import nltk, re, pprint\n",
    "import matplotlib.pyplot as plt\n",
    "from nltk import word_tokenize"
   ]
  },
  {
   "cell_type": "markdown",
   "metadata": {},
   "source": [
    "## Data Import"
   ]
  },
  {
   "cell_type": "code",
   "execution_count": 3,
   "metadata": {},
   "outputs": [],
   "source": [
    "path = nltk.data.find('corpora/gutenberg/melville-moby_dick.txt')\n",
    "raw = open(path, 'r').read()"
   ]
  },
  {
   "cell_type": "markdown",
   "metadata": {},
   "source": [
    "## Data Exploration and Analysis"
   ]
  },
  {
   "cell_type": "code",
   "execution_count": 30,
   "metadata": {},
   "outputs": [],
   "source": [
    "tokens = word_tokenize(raw)\n",
    "len(tokens)\n",
    "text = nltk.Text(tokens)"
   ]
  },
  {
   "cell_type": "code",
   "execution_count": 31,
   "metadata": {},
   "outputs": [
    {
     "name": "stdout",
     "output_type": "stream",
     "text": [
      "255038 tokens\n"
     ]
    }
   ],
   "source": [
    "print('{} tokens'.format(len(tokens)))"
   ]
  },
  {
   "cell_type": "code",
   "execution_count": 32,
   "metadata": {},
   "outputs": [],
   "source": [
    "words = [w.lower() for w in tokens if w.isalpha()]"
   ]
  },
  {
   "cell_type": "code",
   "execution_count": 33,
   "metadata": {},
   "outputs": [
    {
     "name": "stdout",
     "output_type": "stream",
     "text": [
      "16510 unique words\n"
     ]
    }
   ],
   "source": [
    "vocab = sorted(set(words))\n",
    "print('{} unique words'.format(len(vocab)))"
   ]
  },
  {
   "cell_type": "code",
   "execution_count": 36,
   "metadata": {},
   "outputs": [
    {
     "data": {
      "text/plain": [
       "[('the', 14422),\n",
       " ('of', 6586),\n",
       " ('and', 6414),\n",
       " ('a', 4698),\n",
       " ('to', 4597),\n",
       " ('in', 4163),\n",
       " ('that', 3081),\n",
       " ('his', 2530),\n",
       " ('it', 2508),\n",
       " ('i', 2113),\n",
       " ('he', 1890),\n",
       " ('but', 1813),\n",
       " ('is', 1748),\n",
       " ('as', 1741),\n",
       " ('with', 1722),\n",
       " ('was', 1651),\n",
       " ('for', 1616),\n",
       " ('all', 1508),\n",
       " ('this', 1393),\n",
       " ('at', 1318),\n",
       " ('not', 1218),\n",
       " ('by', 1201),\n",
       " ('from', 1088),\n",
       " ('whale', 1086),\n",
       " ('him', 1067),\n",
       " ('on', 1060),\n",
       " ('so', 1059),\n",
       " ('be', 1042),\n",
       " ('one', 912),\n",
       " ('you', 891),\n",
       " ('there', 861),\n",
       " ('now', 784),\n",
       " ('had', 779),\n",
       " ('have', 771),\n",
       " ('or', 713),\n",
       " ('were', 683),\n",
       " ('they', 667),\n",
       " ('which', 648),\n",
       " ('me', 630),\n",
       " ('then', 627),\n",
       " ('their', 620),\n",
       " ('some', 618),\n",
       " ('when', 606),\n",
       " ('what', 603),\n",
       " ('are', 597),\n",
       " ('an', 596),\n",
       " ('my', 588),\n",
       " ('no', 583),\n",
       " ('like', 580),\n",
       " ('upon', 565),\n",
       " ('out', 527),\n",
       " ('into', 522),\n",
       " ('up', 514),\n",
       " ('ahab', 508),\n",
       " ('more', 507),\n",
       " ('man', 490),\n",
       " ('if', 481),\n",
       " ('them', 474),\n",
       " ('ship', 463),\n",
       " ('we', 455),\n",
       " ('old', 443),\n",
       " ('ye', 438),\n",
       " ('would', 435),\n",
       " ('do', 419),\n",
       " ('been', 415),\n",
       " ('other', 413),\n",
       " ('these', 403),\n",
       " ('over', 403),\n",
       " ('will', 387),\n",
       " ('sea', 384),\n",
       " ('though', 383),\n",
       " ('its', 376),\n",
       " ('only', 376),\n",
       " ('such', 370),\n",
       " ('down', 367),\n",
       " ('who', 358),\n",
       " ('yet', 344),\n",
       " ('her', 332),\n",
       " ('any', 327),\n",
       " ('time', 326),\n",
       " ('captain', 324),\n",
       " ('here', 322),\n",
       " ('very', 320),\n",
       " ('long', 318),\n",
       " ('still', 312),\n",
       " ('about', 310),\n",
       " ('than', 309),\n",
       " ('those', 306),\n",
       " ('said', 304),\n",
       " ('great', 303),\n",
       " ('before', 299),\n",
       " ('has', 296),\n",
       " ('two', 288),\n",
       " ('boat', 287),\n",
       " ('did', 286),\n",
       " ('must', 284),\n",
       " ('seemed', 283),\n",
       " ('most', 281),\n",
       " ('head', 277),\n",
       " ('last', 275),\n",
       " ('see', 269),\n",
       " ('thou', 268),\n",
       " ('whales', 267),\n",
       " ('after', 265),\n",
       " ('can', 265),\n",
       " ('way', 264),\n",
       " ('again', 261),\n",
       " ('stubb', 254),\n",
       " ('how', 253),\n",
       " ('queequeg', 252),\n",
       " ('your', 249),\n",
       " ('little', 249),\n",
       " ('white', 248),\n",
       " ('while', 246),\n",
       " ('round', 245),\n",
       " ('say', 241),\n",
       " ('sperm', 240),\n",
       " ('three', 239),\n",
       " ('men', 237),\n",
       " ('may', 237),\n",
       " ('first', 235),\n",
       " ('through', 232),\n",
       " ('every', 232),\n",
       " ('us', 228),\n",
       " ('being', 225),\n",
       " ('much', 223),\n",
       " ('could', 222),\n",
       " ('well', 220),\n",
       " ('where', 216),\n",
       " ('off', 212),\n",
       " ('same', 211),\n",
       " ('our', 206),\n",
       " ('never', 206),\n",
       " ('own', 205),\n",
       " ('himself', 205),\n",
       " ('hand', 203),\n",
       " ('good', 197),\n",
       " ('almost', 195),\n",
       " ('starbuck', 195),\n",
       " ('ever', 193),\n",
       " ('go', 192),\n",
       " ('even', 189),\n",
       " ('side', 189),\n",
       " ('thing', 188),\n",
       " ('too', 183),\n",
       " ('might', 183),\n",
       " ('should', 182),\n",
       " ('look', 182),\n",
       " ('away', 180),\n",
       " ('made', 177),\n",
       " ('come', 177),\n",
       " ('sir', 175),\n",
       " ('chapter', 173),\n",
       " ('water', 170),\n",
       " ('world', 169),\n",
       " ('among', 167),\n",
       " ('many', 166),\n",
       " ('pequod', 165),\n",
       " ('seen', 164),\n",
       " ('deck', 163),\n",
       " ('day', 161),\n",
       " ('far', 159),\n",
       " ('eyes', 156),\n",
       " ('without', 156),\n",
       " ('let', 155),\n",
       " ('cried', 155),\n",
       " ('oh', 153),\n",
       " ('nor', 153),\n",
       " ('sort', 152),\n",
       " ('aye', 151),\n",
       " ('know', 150),\n",
       " ('thought', 149),\n",
       " ('back', 149),\n",
       " ('once', 149),\n",
       " ('part', 148),\n",
       " ('life', 145),\n",
       " ('god', 144),\n",
       " ('boats', 144),\n",
       " ('right', 142),\n",
       " ('air', 140),\n",
       " ('crew', 140),\n",
       " ('whole', 137),\n",
       " ('take', 136),\n",
       " ('against', 134),\n",
       " ('night', 133),\n",
       " ('thus', 133),\n",
       " ('things', 132),\n",
       " ('thee', 131),\n",
       " ('tell', 131),\n",
       " ('came', 130),\n",
       " ('soon', 129),\n",
       " ('hands', 129),\n",
       " ('each', 128),\n",
       " ('feet', 127),\n",
       " ('small', 124),\n",
       " ('both', 124),\n",
       " ('something', 123),\n",
       " ('line', 122),\n",
       " ('till', 121),\n",
       " ('think', 120)]"
      ]
     },
     "execution_count": 36,
     "metadata": {},
     "output_type": "execute_result"
    }
   ],
   "source": [
    "fdist = nltk.FreqDist(words)\n",
    "fdist.most_common(200)\n",
    "# remove stopwords"
   ]
  },
  {
   "cell_type": "code",
   "execution_count": 40,
   "metadata": {},
   "outputs": [
    {
     "data": {
      "image/png": "[encoded data removed]",
      "text/plain": [
       "<Figure size 1152x576 with 1 Axes>"
      ]
     },
     "metadata": {
      "needs_background": "light"
     },
     "output_type": "display_data"
    },
    {
     "data": {
      "text/plain": [
       "<matplotlib.axes._subplots.AxesSubplot at 0x1211ea110>"
      ]
     },
     "execution_count": 40,
     "metadata": {},
     "output_type": "execute_result"
    }
   ],
   "source": [
    "plt.rcParams[\"figure.figsize\"] = (16,8)\n",
    "fdist.plot(200, cumulative=True)"
   ]
  },
  {
   "cell_type": "markdown",
   "metadata": {},
   "source": [
    "Zipf's law states that given a large sample of words used, the frequency of any word is inversely proportional to its rank in the frequency table."
   ]
  },
  {
   "cell_type": "markdown",
   "metadata": {},
   "source": [
    "## Visualization"
   ]
  },
  {
   "cell_type": "markdown",
   "metadata": {},
   "source": [
    "## Conclusion"
   ]
  },
  {
   "cell_type": "markdown",
   "metadata": {},
   "source": [
    "## Youtube"
   ]
  },
  {
   "cell_type": "code",
   "execution_count": null,
   "metadata": {},
   "outputs": [],
   "source": []
  }
 ],
 "metadata": {
  "kernelspec": {
   "display_name": "Python 3",
   "language": "python",
   "name": "python3"
  },
  "language_info": {
   "codemirror_mode": {
    "name": "ipython",
    "version": 3
   },
   "file_extension": ".py",
   "mimetype": "text/x-python",
   "name": "python",
   "nbconvert_exporter": "python",
   "pygments_lexer": "ipython3",
   "version": "3.7.7"
  }
 },
 "nbformat": 4,
 "nbformat_minor": 4
}
