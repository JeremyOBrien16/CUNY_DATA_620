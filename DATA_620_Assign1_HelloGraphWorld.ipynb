{
 "cells": [
  {
   "cell_type": "code",
   "execution_count": 14,
   "metadata": {},
   "outputs": [],
   "source": [
    "import networkx as nx\n",
    "import matplotlib.pyplot as plt\n",
    "%matplotlib inline"
   ]
  },
  {
   "cell_type": "code",
   "execution_count": 18,
   "metadata": {},
   "outputs": [
    {
     "name": "stdout",
     "output_type": "stream",
     "text": [
      "Name: \n",
      "Type: Graph\n",
      "Number of nodes: 7\n",
      "Number of edges: 3\n",
      "Average degree:   0.8571\n"
     ]
    },
    {
     "data": {
      "image/png": "[encoded data removed]",
      "text/plain": [
       "<Figure size 432x288 with 1 Axes>"
      ]
     },
     "metadata": {},
     "output_type": "display_data"
    }
   ],
   "source": [
    "# Practice graph 1\n",
    "G1 = nx.Graph()\n",
    "G1.add_nodes_from(['A','B','C','D','E','F','G'])\n",
    "G1.add_edges_from([('A','B'), ('C','D'), ('C','G')])\n",
    "# pos = nx.spring_layout(G1)\n",
    "# nx.draw_networkx_labels(G1, pos)\n",
    "print(nx.info(G1))\n",
    "nx.draw(G1, with_labels=True)"
   ]
  },
  {
   "cell_type": "code",
   "execution_count": 15,
   "metadata": {},
   "outputs": [
    {
     "data": {
      "text/plain": [
       "NodeView(('A', 'B', 'C', 'D', 'E', 'F', 'G'))"
      ]
     },
     "execution_count": 15,
     "metadata": {},
     "output_type": "execute_result"
    }
   ],
   "source": [
    "# Practice graph 2\n",
    "G2 = nx.Graph()\n",
    "# url = \n",
    "G2_edges = pd.read_csv(url, error_bad_lines=False)\n",
    "G2.add_nodes_from(['A','B','C','D','E','F','G'])\n",
    "G2.add_edges_from([('A','B'), ('C','D'), ('C','G')])\n",
    "G2.nodes()\n",
    "# pos = nx.spring_layout(G2)\n",
    "# nx.draw_networkx_labels(G2, pos)\n",
    "# nx.draw(G2)"
   ]
  },
  {
   "cell_type": "markdown",
   "metadata": {},
   "source": [
    "Directed graph to for structural equation model for ad placement based on https://www.inference.vc/causal-inference-3-counterfactuals/ and http://jmlr.org/papers/volume14/bottou13a/bottou13a.pdf"
   ]
  },
  {
   "cell_type": "code",
   "execution_count": null,
   "metadata": {},
   "outputs": [],
   "source": [
    "adplace = nx.di"
   ]
  }
 ],
 "metadata": {
  "kernelspec": {
   "display_name": "data_620_base",
   "language": "python",
   "name": "data_620_base"
  },
  "language_info": {
   "codemirror_mode": {
    "name": "ipython",
    "version": 3
   },
   "file_extension": ".py",
   "mimetype": "text/x-python",
   "name": "python",
   "nbconvert_exporter": "python",
   "pygments_lexer": "ipython3",
   "version": "3.8.2"
  }
 },
 "nbformat": 4,
 "nbformat_minor": 4
}
