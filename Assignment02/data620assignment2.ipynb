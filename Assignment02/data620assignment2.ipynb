{
 "cells": [
  {
   "cell_type": "markdown",
   "metadata": {},
   "source": [
    "# Assignment 2"
   ]
  },
  {
   "cell_type": "markdown",
   "metadata": {},
   "source": [
    "by: Jeremy OBrien & Mael Illien"
   ]
  },
  {
   "cell_type": "markdown",
   "metadata": {},
   "source": [
    "Your task in this week’s assignment is to identify an interesting set of network data that is available on the web (either through web scraping or web APIs) that could be used for analyzing and comparing centrality measures across nodes. As an additional constraint, there should be at least one categorical variable available for each node (such as “Male” or “Female”; “Republican”, “Democrat,” or “Undecided”, etc.)"
   ]
  },
  {
   "cell_type": "markdown",
   "metadata": {},
   "source": [
    "In addition to identifying your data source, you should create a high level plan that describes how you would load the data for analysis, and describe a hypothetical outcome that could be predicted from comparing degree centrality across categorical groups."
   ]
  },
  {
   "cell_type": "markdown",
   "metadata": {},
   "source": [
    "For this assignment, we will be connecting to the foursquare web API (see endpoint described below) and extracting some information on the venues."
   ]
  },
  {
   "cell_type": "markdown",
   "metadata": {},
   "source": []
  },
  {
   "cell_type": "markdown",
   "metadata": {},
   "source": [
    "**Intro**\n",
    "\n",
    "(If needed)"
   ]
  },
  {
   "cell_type": "markdown",
   "metadata": {},
   "source": [
    "**Background**\n",
    "\n",
    "[Foursquare (4S)](https://en.wikipedia.org/wiki/Foursquare_(company) is a contextual location data company founded in 2009 which owns a number of [apps](https://en.wikipedia.org/wiki/Foursquare_City_Guide) and services.  It offers location search and social networking to users, enables location services for business partners, and sells location data to advertisers and marketers.  It is a major player who has drive consolidation in the locationm data space, and acquired Placed in 2019 and merged with Factual several months ago.\n",
    "\n",
    "4S's dataset reveals connections between venues and the users who visit them.  The company began collecting venue visitation data through user check-ins (encouraged through gamification and social networking), however, for the last decade it has leveraged passive location detection.  It further enriches the venue-visitation data it collects with user ratings and reviews.  \n",
    "\n",
    "Considered at the user population level (to preserve individual user locational privacy), 4S' data can reveal aggregated user movement patterns between venues as directed graphs with visit volume as edge weights.\n",
    "\n",
    "Considered at the individual venue level, the data can reveal information about and relationships between nodes.  This can include venue categories and other attributes, connections (i.e. what is the next venue visited after a given venue), and traversal direction (with edge weights defined by sequentail user visits).\n",
    "\n",
    "Foursquare exposes data via its [Places API](https://developer.foursquare.com/docs/places-api/).  Up to 950 daily API calls are permitted for free with a developer account (also free) and without implemeting User Auth.  Potentially valuable [endpoints](https://developer.foursquare.com/docs/places-api/endpoints/) include venue categories, similar venues, and next venues."
   ]
  },
  {
   "cell_type": "markdown",
   "metadata": {},
   "source": [
    "**Analysis Plan**\n",
    "\n",
    "We will likely draw on previous work when creating our API call:\n",
    "- [How to create a location graph from the Foursquare API](http://beautifuldata.net/2014/05/how-to-create-a-location-graph-from-the-foursquare-api/)\n",
    "- [Building a Foursquare Location Graph](https://nbviewer.jupyter.org/github/furukama/IPythonNotebooks/blob/master/Building%20a%20Foursquare%20Location%20Graph.ipynb)\n",
    "- [A brief guide to using Foursquare API with a hands-on example in Python](https://medium.com/@aboutiana/a-brief-guide-to-using-foursquare-api-with-a-hands-on-example-on-python-6fc4d5451203)\n",
    "- [Classification of Moscow Metro stations using Foursquare data](https://towardsdatascience.com/classification-of-moscow-metro-stations-using-foursquare-data-fb8aad3e0e4)\n",
    "\n",
    "This API call will be designed to:\n",
    "- walk a directed graph comprised of venues\n",
    "- linked by edges identifying which venues are most often visited next\n",
    "- along with the categories of those venues\n",
    "- for a given seed node (we will use multiple places of interest in NYC)\n",
    "- limited by a designated depth (which we'll trial)\n",
    "- and a geographic constraint (likely the five boroughs)\n",
    "\n",
    "We plan to write the data returned to a Pandas DataFrame.\n",
    "\n",
    "We will compose the graph using NetworkX.\n",
    "\n",
    "We plan to compute the following metrics for the resulting network:\n",
    "- **Outbound degree centrality**: shows how connected the venue is to others\n",
    "- **Closeness centrality**: indicates proximity of different venues to one another, locating them in the network's core or periphery\n",
    "- **Betweenness centrality**: reflects visit throughput in the flow to next venues\n",
    "- **Eigenvector centrality**: ranks venues based on how connected their neighbor venues are to other venues\n",
    "\n",
    "By analyzing the centrality of the network, we might:\n",
    "- identify popular itineraries so others can emulate or avoid them\n",
    "- find hubs that serve as important waypoints on itineraries\n",
    "- find venues that are spatially distant but sequentially proximate to plan  for travel time"
   ]
  }
 ],
 "metadata": {
  "kernelspec": {
   "display_name": "Python 3",
   "language": "python",
   "name": "python3"
  },
  "language_info": {
   "codemirror_mode": {
    "name": "ipython",
    "version": 3
   },
   "file_extension": ".py",
   "mimetype": "text/x-python",
   "name": "python",
   "nbconvert_exporter": "python",
   "pygments_lexer": "ipython3",
   "version": "3.8.2"
  }
 },
 "nbformat": 4,
 "nbformat_minor": 4
}
